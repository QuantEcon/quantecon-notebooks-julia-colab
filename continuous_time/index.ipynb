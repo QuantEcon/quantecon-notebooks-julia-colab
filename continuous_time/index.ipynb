{
 "cells": [
  {
   "cell_type": "markdown",
   "metadata": {},
   "source": [
    "\n",
    "<a id='continuous-time'></a>\n",
    "<div id=\"qe-notebook-header\" style=\"text-align:right;\">\n",
    "        <a href=\"https://quantecon.org/\" title=\"quantecon.org\">\n",
    "                <img style=\"width:250px;display:inline;\" src=\"https://assets.quantecon.org/img/qe-menubar-logo.svg\" alt=\"QuantEcon\">\n",
    "        </a>\n",
    "</div>"
   ]
  },
  {
   "cell_type": "markdown",
   "metadata": {},
   "source": [
    "# Modeling in Continuous Time\n",
    "\n",
    "This section of the course contains foundational mathematical and computational tools for working with continuous time deterministic and stochastic models."
   ]
  },
  {
   "cell_type": "markdown",
   "metadata": {},
   "source": [
    "## Lectures\n",
    "\n",
    "- [Modeling COVID 19 with Differential Equations](seir_model.html)\n",
    "  - [Overview](seir_model.html#overview)\n",
    "  - [The SEIR Model](seir_model.html#the-seir-model)\n",
    "  - [Implementation](seir_model.html#id4)\n",
    "  - [Experiments](seir_model.html#experiments)\n",
    "  - [Ending Lockdown](seir_model.html#ending-lockdown)\n",
    "- [Modeling Shocks in COVID 19 with Stochastic Differential Equations](covid_sde.html)\n",
    "  - [Overview](covid_sde.html#overview)\n",
    "  - [The Basic SIR/SIRD Model](covid_sde.html#the-basic-sir-sird-model)\n",
    "  - [Introduction to SDEs](covid_sde.html#introduction-to-sdes)\n",
    "  - [Ending Lockdown](covid_sde.html#ending-lockdown)\n",
    "  - [Reinfection](covid_sde.html#reinfection)"
   ]
  }
 ],
 "metadata": {
  "date": 1595546525.7022398,
  "download_nb": 1,
  "download_nb_path": "https://julia.quantecon.org/",
  "filename": "index.rst",
  "filename_with_path": "continuous_time/index",
  "kernelspec": {
   "display_name": "Julia 1.4.2",
   "language": "julia",
   "name": "julia-1.4"
  },
  "language_info": {
   "file_extension": ".jl",
   "mimetype": "application/julia",
   "name": "julia",
   "version": "1.4.2"
  },
  "next_doc": {
   "link": "seir_model",
   "title": "Modeling COVID 19 with Differential Equations"
  },
  "prev_doc": {
   "link": "../dynamic_programming/discrete_dp",
   "title": "Discrete State Dynamic Programming"
  },
  "site_title": "Quantitative Economics with Julia",
  "title": "Modeling in Continuous Time"
 },
 "nbformat": 4,
 "nbformat_minor": 2
}
