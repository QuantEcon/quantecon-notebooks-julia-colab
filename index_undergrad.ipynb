{
 "cells": [
  {
   "cell_type": "markdown",
   "metadata": {},
   "source": [
    "<p id=\"numfocus_badge\" style=\"float:right;margin:0 0 0 2rem;\"><a href=\"https://www.numfocus.org/\"><img src=\"/_static/img/powered-by-NumFOCUS-orange.svg\" alt=\"Powered by NumFOCUS logo\"></a></p>"
   ]
  },
  {
   "cell_type": "markdown",
   "metadata": {},
   "source": [
    "# Table of Contents (Undergraduate course)\n",
    "\n",
    "<ul class=\"index-tabs\">\n",
    "    <li><a href=\"/index_toc.html\">All</a></li>\n",
    "    <li class=\"active\"><a href=\"/index_undergrad.html\">Undergraduate course</a></li>\n",
    "    <li><a href=\"/index_postgrad.html\">Graduate course</a></li>\n",
    "</ul>\n",
    "\n",
    "- [About these Lectures](about_lectures.html)\n",
    "- [Getting Started with Julia](getting_started_julia/index.html)\n",
    "  - [Setting up Your Julia Environment](getting_started_julia/getting_started.html)\n",
    "  - [Interacting with Julia](getting_started_julia/julia_environment.html)\n",
    "  - [Introductory Examples](getting_started_julia/julia_by_example.html)\n",
    "  - [Julia Essentials](getting_started_julia/julia_essentials.html)\n",
    "  - [Arrays, Tuples, Ranges, and Other Fundamental Types](getting_started_julia/fundamental_types.html)\n",
    "  - [Introduction to Types and Generic Programming](getting_started_julia/introduction_to_types.html)\n",
    "- [Packages and Software Engineering in Julia](more_julia/index.html)\n",
    "  - [Generic Programming](more_julia/generic_programming.html)\n",
    "  - [General Purpose Packages](more_julia/general_packages.html)\n",
    "  - [Data and Statistics Packages](more_julia/data_statistical_packages.html)\n",
    "  - [Solvers, Optimizers, and Automatic Differentiation](more_julia/optimization_solver_packages.html)\n",
    "  - [Julia Tools and Editors](more_julia/tools_editors.html)\n",
    "  - [Git, GitHub, and Version Control](more_julia/version_control.html)\n",
    "  - [Packages, Testing, and Continuous Integration](more_julia/testing.html)\n",
    "  - [The Need for Speed](more_julia/need_for_speed.html)\n",
    "- [Tools and Techniques](tools_and_techniques/index_undergrad.html)\n",
    "  - [Linear Algebra](tools_and_techniques/linear_algebra.html)\n",
    "  - [LLN and CLT](tools_and_techniques/lln_clt.html)\n",
    "  - [Linear State Space Models](tools_and_techniques/linear_models.html)\n",
    "  - [Finite Markov Chains](tools_and_techniques/finite_markov.html)\n",
    "  - [A First Look at the Kalman Filter](tools_and_techniques/kalman.html)\n",
    "- [Dynamic Programming](dynamic_programming/index_undergrad.html)\n",
    "  - [Shortest Paths](dynamic_programming/short_path.html)\n",
    "  - [Job Search I: The McCall Search Model](dynamic_programming/mccall_model.html)\n",
    "  - [Job Search II: Search and Separation](dynamic_programming/mccall_model_with_separation.html)\n",
    "  - [Optimal Savings I: The Permanent Income Model](dynamic_programming/perm_income.html)\n",
    "  - [Optimal Savings II: LQ Techniques](dynamic_programming/perm_income_cons.html)\n",
    "  - [Consumption and Tax Smoothing with Complete and Incomplete Markets](dynamic_programming/smoothing.html)\n",
    "- [Multiple Agent Models](multi_agent_models/index_undergrad.html)\n",
    "  - [Schelling’s Segregation Model](multi_agent_models/schelling.html)\n",
    "  - [A Lake Model of Employment and Unemployment](multi_agent_models/lake_model.html)\n",
    "  - [Rational Expectations Equilibrium](multi_agent_models/rational_expectations.html)\n",
    "  - [Markov Perfect Equilibrium](multi_agent_models/markov_perf.html)\n",
    "  - [Asset Pricing I: Finite State Models](multi_agent_models/markov_asset.html)\n",
    "- [References](zreferences.html)\n",
    "\n",
    "\n",
    "<img src=\"http://assets.quantecon.org/img/banner.png\" style=\"width:30%;\" align=\"center\">"
   ]
  }
 ],
 "metadata": {
  "date": 1591310622.3554873,
  "download_nb": 1,
  "download_nb_path": "https://julia.quantecon.org/",
  "filename": "index_undergrad.rst",
  "filename_with_path": "index_undergrad",
  "kernelspec": {
   "display_name": "Julia 1.4.2",
   "language": "julia",
   "name": "julia-1.4"
  },
  "language_info": {
   "file_extension": ".jl",
   "mimetype": "application/julia",
   "name": "julia",
   "version": "1.4.2"
  },
  "title": "Table of Contents (Undergraduate course)"
 },
 "nbformat": 4,
 "nbformat_minor": 2
}
