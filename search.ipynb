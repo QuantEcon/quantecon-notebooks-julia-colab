{
 "cells": [
  {
   "cell_type": "markdown",
   "metadata": {},
   "source": [
    "\n",
    "<a id='search'></a>"
   ]
  },
  {
   "cell_type": "markdown",
   "metadata": {},
   "source": [
    "# Search\n",
    "\n",
    "<style type=\"text/css\">.lecture-options{display:none;}</style>\n",
    "<div class=\"search-searchbox\"><div class=\"gcse-searchbox-only\" data-resultsUrl=\"/search.html\" enableAutoComplete=\"true\"></div></div>\n",
    "<div class=\"search-results\"><div class=\"gcse-searchresults-only\"></div></div>"
   ]
  }
 ],
 "metadata": {
  "date": 1590087465.151535,
  "download_nb": 1,
  "download_nb_path": "https://julia.quantecon.org/",
  "filename": "search.rst",
  "filename_with_path": "search",
  "kernelspec": {
   "display_name": "Julia 1.4.1",
   "language": "julia",
   "name": "julia-1.4"
  },
  "language_info": {
   "file_extension": ".jl",
   "mimetype": "application/julia",
   "name": "julia",
   "version": "1.4.1"
  },
  "title": "Search"
 },
 "nbformat": 4,
 "nbformat_minor": 2
}
