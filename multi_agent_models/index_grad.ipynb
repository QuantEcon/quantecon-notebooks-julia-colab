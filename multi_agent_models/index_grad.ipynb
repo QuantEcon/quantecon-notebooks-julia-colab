{
 "cells": [
  {
   "cell_type": "markdown",
   "metadata": {},
   "source": [
    "\n",
    "<a id='multi-agent-models'></a>\n",
    "<div id=\"qe-notebook-header\" style=\"text-align:right;\">\n",
    "        <a href=\"https://quantecon.org/\" title=\"quantecon.org\">\n",
    "                <img style=\"width:250px;display:inline;\" src=\"https://assets.quantecon.org/img/qe-menubar-logo.svg\" alt=\"QuantEcon\">\n",
    "        </a>\n",
    "</div>"
   ]
  },
  {
   "cell_type": "markdown",
   "metadata": {},
   "source": [
    "# Multiple Agent Models\n",
    "\n",
    "These lectures look at important economic models that also illustrate common\n",
    "equilibrium concepts."
   ]
  },
  {
   "cell_type": "markdown",
   "metadata": {},
   "source": [
    "## Colab Instructions\n",
    "\n",
    "Colab does not have direct Julia support, and it must be installed each time you are working on a notebook.  \n",
    "\n",
    "Instructions:\n",
    "\n",
    "1. Ignore any errors about a missing kernel when loading the notebook.  Choose `Run Anyway` when it prompts that the notebook wasn't authored by google.\n",
    "\n",
    "2. Run the cell below this with `Shift+Enter`.\n",
    "    -  It will **5 to 8 minutes** the first time you run it for Julia and key packages to install\n",
    "\n",
    "3. Refresh your browser, and then execute any code as normal.\n",
    "  - Even after installation, there will be more precompiling latency for some packages. "
   ]
  },
  {
   "cell_type": "code",
   "execution_count": null,
   "metadata": {},
   "outputs": [],
   "source": [
    "%%shell\n",
    "if ! command -v julia 3>&1 > /dev/null\n",
    "then\n",
    "    wget 'https://julialang-s3.julialang.org/bin/linux/x64/1.4/julia-1.4.2-linux-x86_64.tar.gz' \\\n",
    "        -O /tmp/julia.tar.gz\n",
    "    tar -x -f /tmp/julia.tar.gz -C /usr/local --strip-components 1\n",
    "    rm /tmp/julia.tar.gz\n",
    "    julia -e 'using Pkg; pkg\"add IJulia InstantiateFromURL; precompile;\"'\n",
    "    julia -e 'using InstantiateFromURL; github_project(\"QuantEcon/quantecon-notebooks-julia\", version = \"0.8.0\", instantiate = true, precompile = false); using Plots, Distributions, Parameters, NLsolve, ForwardDiff, Expectations'\n",
    "    echo 'Done'\n",
    "fi\n"
   ]
  },
  {
   "cell_type": "markdown",
   "metadata": {},
   "source": [
    "## Lectures\n",
    "\n",
    "- [Asset Pricing II: The Lucas Asset Pricing Model](lucas_model.html)\n",
    "  - [Overview](lucas_model.html#overview)\n",
    "  - [The Lucas Model](lucas_model.html#the-lucas-model)\n",
    "  - [Exercises](lucas_model.html#exercises)\n",
    "  - [Solutions](lucas_model.html#solutions)\n",
    "- [Uncertainty Traps](uncertainty_traps.html)\n",
    "  - [Overview](uncertainty_traps.html#overview)\n",
    "  - [The Model](uncertainty_traps.html#the-model)\n",
    "  - [Implementation](uncertainty_traps.html#implementation)\n",
    "  - [Results](uncertainty_traps.html#results)\n",
    "  - [Exercises](uncertainty_traps.html#exercises)\n",
    "  - [Solutions](uncertainty_traps.html#solutions)\n",
    "  - [Exercise 2](uncertainty_traps.html#id6)\n",
    "- [The Aiyagari Model](aiyagari.html)\n",
    "  - [Overview](aiyagari.html#overview)\n",
    "  - [The Economy](aiyagari.html#the-economy)\n",
    "  - [Firms](aiyagari.html#firms)\n",
    "  - [Code](aiyagari.html#code)\n",
    "- [Default Risk and Income Fluctuations](arellano.html)\n",
    "  - [Overview](arellano.html#overview)\n",
    "  - [Structure](arellano.html#structure)\n",
    "  - [Equilibrium](arellano.html#equilibrium)\n",
    "  - [Computation](arellano.html#computation)\n",
    "  - [Results](arellano.html#results)\n",
    "  - [Exercises](arellano.html#exercises)\n",
    "  - [Solutions](arellano.html#solutions)\n",
    "- [Globalization and Cycles](matsuyama.html)\n",
    "  - [Overview](matsuyama.html#overview)\n",
    "  - [Key Ideas](matsuyama.html#key-ideas)\n",
    "  - [Model](matsuyama.html#model)\n",
    "  - [Simulation](matsuyama.html#simulation)\n",
    "  - [Exercises](matsuyama.html#exercises)\n",
    "  - [Solutions](matsuyama.html#solutions)"
   ]
  }
 ],
 "metadata": {
  "date": 1591310624.9482324,
  "download_nb": 1,
  "download_nb_path": "https://julia.quantecon.org/",
  "filename": "index_grad.rst",
  "filename_with_path": "multi_agent_models/index_grad",
  "kernelspec": {
   "display_name": "Julia 1.4.2",
   "language": "julia",
   "name": "julia-1.4"
  },
  "language_info": {
   "file_extension": ".jl",
   "mimetype": "application/julia",
   "name": "julia",
   "version": "1.4.2"
  },
  "title": "Multiple Agent Models"
 },
 "nbformat": 4,
 "nbformat_minor": 2
}
