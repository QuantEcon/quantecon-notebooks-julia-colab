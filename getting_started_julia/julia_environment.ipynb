{
 "cells": [
  {
   "cell_type": "markdown",
   "metadata": {},
   "source": [
    "\n",
    "<a id='julia-environment'></a>\n",
    "<div id=\"qe-notebook-header\" style=\"text-align:right;\">\n",
    "        <a href=\"https://quantecon.org/\" title=\"quantecon.org\">\n",
    "                <img style=\"width:250px;display:inline;\" src=\"https://assets.quantecon.org/img/qe-menubar-logo.svg\" alt=\"QuantEcon\">\n",
    "        </a>\n",
    "</div>"
   ]
  },
  {
   "cell_type": "markdown",
   "metadata": {},
   "source": [
    "# Interacting with Julia"
   ]
  },
  {
   "cell_type": "markdown",
   "metadata": {},
   "source": [
    "## Colab Instructions\n",
    "Colab does not have direct Julia support, and it must be installed each time you are working on a notebook.  Even after installation, there will be more precompiling latency since we do not compile every package used in the notes in the setup step. \n",
    "\n",
    "Instructions:\n",
    "\n",
    "1. Ignore any errors about a missing kernel when loading the notebook.  Choose `Run Anyway` when it prompts that the notebook wasn't authored by google.\n",
    "\n",
    "2. Run the cell below this with `Shift+Enter`.\n",
    "    -  It will **3 to 8 minutes** the first time you run it for Julia and key packages to install\n",
    "    - Afterwards, the colab container associated with the notebook will be activate for some time, but will likely be recycled after 60-90 minutes after closing the notebook, at which point you would need to install again.\n",
    "    - After julia has been installed, you do not need to run the cell again, and errors may be safely ignored\n",
    "3. Refresh your browser, and then execute any code as normal.\n",
    "  - Even after installation, there will be more precompiling latency since we do not compile every package used in the notes in the setup step. \n"
   ]
  },
  {
   "cell_type": "code",
   "execution_count": null,
   "metadata": {},
   "outputs": [],
   "source": [
    "%%shell\n",
    "if ! command -v julia 3>&1 > /dev/null\n",
    "then\n",
    "    wget 'https://julialang-s3.julialang.org/bin/linux/x64/1.4/julia-1.4.1-linux-x86_64.tar.gz' \\\n",
    "        -O /tmp/julia.tar.gz\n",
    "    tar -x -f /tmp/julia.tar.gz -C /usr/local --strip-components 1\n",
    "    rm /tmp/julia.tar.gz\n",
    "    julia -e 'using Pkg; pkg\"add IJulia InstantiateFromURL; precompile;\"'\n",
    "    julia -e 'using InstantiateFromURL; github_project(\"QuantEcon/quantecon-notebooks-julia\", instantiate = true, precompile = false)'\n",
    "    julia -e 'using Plots, Distributions, Parameters, NLsolve, ForwardDiff, Expectations'\n",
    "    echo 'Done'\n",
    "fi\n"
   ]
  },
  {
   "cell_type": "markdown",
   "metadata": {},
   "source": [
    "## Contents\n",
    "\n",
    "- [Interacting with Julia](#Interacting-with-Julia)  \n",
    "  - [Overview](#Overview)  \n",
    "  - [Using Jupyter](#Using-Jupyter)  \n",
    "  - [Using the REPL](#Using-the-REPL)  \n",
    "  - [(Optional) Adding Jupyter to the Path](#(Optional)-Adding-Jupyter-to-the-Path)  "
   ]
  },
  {
   "cell_type": "markdown",
   "metadata": {},
   "source": [
    "## Overview\n",
    "\n",
    "In this lecture we’ll start examining different features of the Julia and Jupyter environments."
   ]
  },
  {
   "cell_type": "markdown",
   "metadata": {},
   "source": [
    "## Using Jupyter\n",
    "\n",
    "\n",
    "<a id='ipython-notebook'></a>"
   ]
  },
  {
   "cell_type": "markdown",
   "metadata": {},
   "source": [
    "### Getting Started\n",
    "\n",
    "Recall that the easiest way to get started with these notebooks is to follow the [cloning instructions](getting_started.ipynb#clone-lectures) earlier.\n",
    "\n",
    "To summarize, if on a desktop you should clone the notebooks repository <https://github.com/quantecon/quantecon-notebooks-julia>, then in a Julia REPL type"
   ]
  },
  {
   "cell_type": "markdown",
   "metadata": {
    "hide-output": false
   },
   "source": [
    "```julia\n",
    "using IJulia; jupyterlab()\n",
    "```\n"
   ]
  },
  {
   "cell_type": "markdown",
   "metadata": {},
   "source": [
    "Hint: Julia will remember the last commands in the REPL, so you can use up-arrow to restart JupyterLab.\n",
    "\n",
    "Alternatively, if you are using an online Jupyter, then you can directly open a new notebook.\n",
    "\n",
    "Finally, if you installed Jupyter separately or have added [added Jupyter to the Path](#add-jupyter-to-path) then `cd` to the folder location in a terminal, and run"
   ]
  },
  {
   "cell_type": "markdown",
   "metadata": {
    "hide-output": false
   },
   "source": [
    "```text\n",
    "jupyter lab\n",
    "```\n"
   ]
  },
  {
   "cell_type": "markdown",
   "metadata": {},
   "source": [
    "Regardless, your web browser should open to a page that looks something like this\n",
    "\n",
    "![_static/figures/starting_nb_julia.png](_static/figures/starting_nb_julia.png)  \n",
    "The page you are looking at is called the “dashboard”.\n",
    "\n",
    "If you click on “Julia 1.x.x” you should have the option to start a Julia notebook.\n",
    "\n",
    "Here’s what your Julia notebook should look like\n",
    "\n",
    "![_static/figures/nb2_julia.png](_static/figures/nb2_julia.png)  \n",
    "The notebook displays an *active cell*, into which you can type Julia commands."
   ]
  },
  {
   "cell_type": "markdown",
   "metadata": {},
   "source": [
    "### Notebook Basics\n",
    "\n",
    "Notice that in the previous figure the cell is surrounded by a blue border.\n",
    "\n",
    "This means that the cell is selected, and double-clicking will place it in edit mode.\n",
    "\n",
    "As a result, you can type in Julia code and it will appear in the cell.\n",
    "\n",
    "When you’re ready to execute these commands, hit `Shift-Enter`\n",
    "\n",
    "![_static/figures/nb3_julia.png](_static/figures/nb3_julia.png)  "
   ]
  },
  {
   "cell_type": "markdown",
   "metadata": {},
   "source": [
    "#### Modal Editing\n",
    "\n",
    "The next thing to understand about the Jupyter notebook is that it uses a *modal* editing system.\n",
    "\n",
    "This means that the effect of typing at the keyboard **depends on which mode you are in**.\n",
    "\n",
    "The two modes are\n",
    "\n",
    "1. Edit mode  \n",
    "  \n",
    "  - Indicated by a green border around one cell, as in the pictures above.  \n",
    "  - Whatever you type appears as is in that cell.  \n",
    "  \n",
    "1. Command mode  \n",
    "  \n",
    "  - The green border is replaced by a blue border.  \n",
    "  - Key strokes are interpreted as commands — for example, typing b adds a new cell below  the current one.  \n",
    "  \n",
    "\n",
    "\n",
    "(To learn about other commands available in command mode, go to “Keyboard Shortcuts” in the “Help” menu)"
   ]
  },
  {
   "cell_type": "markdown",
   "metadata": {},
   "source": [
    "#### Switching modes\n",
    "\n",
    "- To switch to command mode from edit mode, hit the `Esc` key.  \n",
    "- To switch to edit mode from command mode, hit `Enter` or click in a cell.  \n",
    "\n",
    "\n",
    "The modal behavior of the Jupyter notebook is a little tricky at first but very efficient when you get used to it."
   ]
  },
  {
   "cell_type": "markdown",
   "metadata": {},
   "source": [
    "#### Working with Files\n",
    "\n",
    "To run an existing Julia file using the notebook you can copy and paste the contents into a cell in the notebook.\n",
    "\n",
    "If it’s a long file, however, you have the alternative of\n",
    "\n",
    "1. Saving the file in your **present working directory**.  \n",
    "1. Executing `include(\"filename\")` in a cell.  \n",
    "\n",
    "\n",
    "The present working directory can be found by executing the command `pwd()`."
   ]
  },
  {
   "cell_type": "markdown",
   "metadata": {},
   "source": [
    "#### Plots\n",
    "\n",
    "Note that if you’re using a JupyterHub setup, you will need to first run"
   ]
  },
  {
   "cell_type": "code",
   "execution_count": null,
   "metadata": {
    "hide-output": true
   },
   "outputs": [],
   "source": [
    "using InstantiateFromURL\n",
    "github_project(\"QuantEcon/quantecon-notebooks-julia\", version = \"0.6.0\")\n",
    "# uncomment to force package installation and precompilation\n",
    "# github_project(\"QuantEcon/quantecon-notebooks-julia\", version=\"0.6.0\", instantiate=true, precompile = true)"
   ]
  },
  {
   "cell_type": "markdown",
   "metadata": {},
   "source": [
    "in a new cell (i.e., `Shift + Enter`).\n",
    "\n",
    "This might take 15-20 minutes depending on your setup, as it installs a large set of packages for our use.\n",
    "\n",
    "Run the following cell"
   ]
  },
  {
   "cell_type": "code",
   "execution_count": null,
   "metadata": {
    "hide-output": false
   },
   "outputs": [],
   "source": [
    "using Plots\n",
    "gr(fmt=:png);\n",
    "plot(sin, -2π, 2π, label=\"sin(x)\")"
   ]
  },
  {
   "cell_type": "markdown",
   "metadata": {},
   "source": [
    "You’ll see something like this (although the style of plot depends on your\n",
    "installation)\n",
    "\n",
    "![_static/figures/nb4_julia.png](_static/figures/nb4_julia.png)  \n",
    "**Note**: The “time-to-first-plot” in Julia takes a while, since it needs to compile many functions - but is almost instantaneous the second time you run the cell."
   ]
  },
  {
   "cell_type": "markdown",
   "metadata": {},
   "source": [
    "### Working with the Notebook\n",
    "\n",
    "Let’s go over some more Jupyter notebook features — enough so that we can press ahead with programming."
   ]
  },
  {
   "cell_type": "markdown",
   "metadata": {},
   "source": [
    "#### Tab Completion\n",
    "\n",
    "Tab completion in Jupyter makes it easy to find Julia commands and functions available.\n",
    "\n",
    "For example if you type `rep` and hit the tab key you’ll get a list of all\n",
    "commands that start with `rep`\n",
    "\n",
    "![_static/figures/nb5_julia.png](_static/figures/nb5_julia.png)  \n",
    "\n",
    "<a id='gs-help'></a>"
   ]
  },
  {
   "cell_type": "markdown",
   "metadata": {},
   "source": [
    "#### Getting Help\n",
    "\n",
    "To get help on the Julia function such as `repeat`, enter `? repeat`.\n",
    "\n",
    "Documentation should now appear in the browser\n",
    "\n",
    "![_static/figures/repeatexample.png](_static/figures/repeatexample.png)  "
   ]
  },
  {
   "cell_type": "markdown",
   "metadata": {},
   "source": [
    "#### Other Content\n",
    "\n",
    "In addition to executing code, the Jupyter notebook allows you to embed text, equations, figures and even videos in the page.\n",
    "\n",
    "For example, here we enter a mixture of plain text and LaTeX instead of code\n",
    "\n",
    "![_static/figures/nb6_julia.png](_static/figures/nb6_julia.png)  \n",
    "Next we `Esc` to enter command mode and then type `m` to indicate that we\n",
    "are writing [Markdown](http://daringfireball.net/projects/markdown/), a mark-up language similar to (but simpler than) LaTeX.\n",
    "\n",
    "(You can also use your mouse to select `Markdown` from the `Code` drop-down box just below the list of menu items)\n",
    "\n",
    "Now we `Shift + Enter` to produce this\n",
    "\n",
    "![_static/figures/nb7_julia.png](_static/figures/nb7_julia.png)  "
   ]
  },
  {
   "cell_type": "markdown",
   "metadata": {},
   "source": [
    "#### Inserting unicode (e.g. Greek letters)\n",
    "\n",
    "Julia supports the use of [unicode characters](https://docs.julialang.org/en/v1/manual/unicode-input/)\n",
    "such as `α` and `β` in your code.\n",
    "\n",
    "Unicode characters can be typed quickly in Jupyter using the `tab` key.\n",
    "\n",
    "Try creating a new code cell and typing `\\alpha`, then hitting the `tab` key on your keyboard."
   ]
  },
  {
   "cell_type": "markdown",
   "metadata": {},
   "source": [
    "#### Shell Commands\n",
    "\n",
    "You can execute shell commands (system commands) in Jupyter by prepending a semicolon.\n",
    "\n",
    "For example, `; ls` will execute the UNIX style shell command `ls`,\n",
    "which — at least for UNIX style operating systems — lists the\n",
    "contents of the current working directory.\n",
    "\n",
    "These shell commands are handled by your default system shell and hence are platform specific."
   ]
  },
  {
   "cell_type": "markdown",
   "metadata": {},
   "source": [
    "#### Package Operations\n",
    "\n",
    "You can execute package operations in the notebook by prepending a `]`.\n",
    "\n",
    "For example, `] st` will give the status of installed packages in the current environment.\n",
    "\n",
    "**Note**: Cells where you use `;` and `]` must not have any other instructions in them (i.e., they should be one-liners)."
   ]
  },
  {
   "cell_type": "markdown",
   "metadata": {},
   "source": [
    "### Sharing Notebooks\n",
    "\n",
    "Notebook files are just text files structured in [JSON](https://en.wikipedia.org/wiki/JSON) and typically end with `.ipynb`.\n",
    "\n",
    "A notebook can easily be saved and shared between users — you just need to\n",
    "pass around the `ipynb` file.\n",
    "\n",
    "To open an existing `ipynb` file, import it from the dashboard (the first\n",
    "browser page that opens when you start Jupyter notebook) and run the cells or edit as discussed above.\n",
    "\n",
    "The Jupyter organization has a site for sharing notebooks called [nbviewer](http://nbviewer.jupyter.org/)\n",
    "which provides a static HTML representations of notebooks.\n",
    "\n",
    "QuantEcon also hosts the [QuantEcon Notes](http://notes.quantecon.org/) website, where you can upload and share your notebooks with other economists and the QuantEcon community.\n",
    "\n",
    "\n",
    "<a id='julia-repl'></a>"
   ]
  },
  {
   "cell_type": "markdown",
   "metadata": {},
   "source": [
    "## Using the REPL\n",
    "\n",
    "As we saw in the [desktop installation](getting_started.ipynb#intro-repl), the REPL is a Julia specific terminal.\n",
    "\n",
    "It becomes increasingly important as you learn Julia, and you will find it to be a useful tool for interacting with Julia and installing packages.\n",
    "\n",
    "As a reminder, to open the REPL on your desktop, either\n",
    "\n",
    "1. Navigating to Julia through your menus or desktop icons (Windows, Mac), or  \n",
    "1. Opening a terminal and typing `julia` (Linux)  \n",
    "\n",
    "\n",
    "If you are using a JupyterHub installation, you can start the REPL in JupyterLab by choosing\n",
    "\n",
    "1. Choose “New Launcher”  \n",
    "1. Choose a `Julia` Console  \n",
    "\n",
    "\n",
    "We examine the REPL and its different modes in more detail in the [tools and editors](../more_julia/tools_editors.ipynb#repl-main) lecture.\n",
    "\n",
    "\n",
    "<a id='add-jupyter-to-path'></a>"
   ]
  },
  {
   "cell_type": "markdown",
   "metadata": {},
   "source": [
    "## (Optional) Adding Jupyter to the Path\n",
    "\n",
    "If you [installed Jupyter using Julia](getting_started.ipynb#jupyter-installation), then you may find it convenient to add it to your system path\n",
    "in order to launch JupyterLab without running a Julia terminal.\n",
    "\n",
    "The default location for the Jupyter binaries is relative to the `.julia` folder (e.g., `\"C:\\Users\\USERNAME\\.julia\\conda\\3\\Scripts` on Windows).\n",
    "\n",
    "You can find the directory in a Julia REPL using by executing"
   ]
  },
  {
   "cell_type": "markdown",
   "metadata": {
    "hide-output": false
   },
   "source": [
    "```julia\n",
    "] add Conda\n",
    "using Conda\n",
    "Conda.SCRIPTDIR\n",
    "```\n"
   ]
  },
  {
   "cell_type": "markdown",
   "metadata": {},
   "source": [
    "On Linux/OSX, you could add that path to your `.bashrc`.\n",
    "\n",
    "On Windows, to add directly to the path, type `;` to enter shell mode and then execute"
   ]
  },
  {
   "cell_type": "markdown",
   "metadata": {
    "hide-output": false
   },
   "source": [
    "```julia\n",
    "setx PATH \"$(Conda.SCRIPTDIR);%PATH%\"\n",
    "```\n"
   ]
  }
 ],
 "metadata": {
  "date": 1589582535.083168,
  "filename": "julia_environment.rst",
  "kernelspec": {
   "display_name": "Julia 1.4.1",
   "language": "julia",
   "name": "julia-1.4"
  },
  "title": "Interacting with Julia"
 },
 "nbformat": 4,
 "nbformat_minor": 4
}
