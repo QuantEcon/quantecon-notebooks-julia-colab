{
 "cells": [
  {
   "cell_type": "markdown",
   "metadata": {},
   "source": [
    "\n",
    "<a id='learning-julia'></a>\n",
    "<div id=\"qe-notebook-header\" style=\"text-align:right;\">\n",
    "        <a href=\"https://quantecon.org/\" title=\"quantecon.org\">\n",
    "                <img style=\"width:250px;display:inline;\" src=\"https://assets.quantecon.org/img/qe-menubar-logo.svg\" alt=\"QuantEcon\">\n",
    "        </a>\n",
    "</div>"
   ]
  },
  {
   "cell_type": "markdown",
   "metadata": {},
   "source": [
    "# Getting Started with Julia\n",
    "\n",
    "This first part of the course provides a relatively fast-paced introduction to enough of the Julia programming language to understand the lectures."
   ]
  },
  {
   "cell_type": "markdown",
   "metadata": {},
   "source": [
    "## Colab Instructions\n",
    "Colab does not have direct Julia support, and it must be installed each time you are working on a notebook.  Even after installation, there will be more precompiling latency since we do not compile every package used in the notes in the setup step. \n",
    "\n",
    "Instructions:\n",
    "\n",
    "1. Ignore any errors about a missing kernel when loading the notebook.  Choose `Run Anyway` when it prompts that the notebook wasn't authored by google.\n",
    "\n",
    "2. Run the cell below this with `Shift+Enter`.\n",
    "    -  It will **3 to 8 minutes** the first time you run it for Julia and key packages to install\n",
    "    - Afterwards, the colab container associated with the notebook will be activate for some time, but will likely be recycled after 60-90 minutes after closing the notebook, at which point you would need to install again.\n",
    "    - After julia has been installed, you do not need to run the cell again, and errors may be safely ignored\n",
    "3. Refresh your browser, and then execute any code as normal.\n",
    "  - Even after installation, there will be more precompiling latency since we do not compile every package used in the notes in the setup step. \n"
   ]
  },
  {
   "cell_type": "code",
   "execution_count": null,
   "metadata": {},
   "outputs": [],
   "source": [
    "%%shell\n",
    "if ! command -v julia 3>&1 > /dev/null\n",
    "then\n",
    "    wget 'https://julialang-s3.julialang.org/bin/linux/x64/1.4/julia-1.4.1-linux-x86_64.tar.gz' \\\n",
    "        -O /tmp/julia.tar.gz\n",
    "    tar -x -f /tmp/julia.tar.gz -C /usr/local --strip-components 1\n",
    "    rm /tmp/julia.tar.gz\n",
    "    julia -e 'using Pkg; pkg\"add IJulia InstantiateFromURL; precompile;\"'\n",
    "    julia -e 'using InstantiateFromURL; github_project(\"QuantEcon/quantecon-notebooks-julia\", instantiate = true, precompile = false)'\n",
    "    julia -e 'using Plots, Distributions, Parameters, NLsolve, ForwardDiff, Expectations'\n",
    "    echo 'Done'\n",
    "fi\n"
   ]
  },
  {
   "cell_type": "markdown",
   "metadata": {},
   "source": [
    "## Lectures\n",
    "\n",
    "- [Setting up Your Julia Environment](getting_started.ipynb)\n",
    "  - [Overview](getting_started.ipynb#overview)\n",
    "  - [A Note on Jupyter](getting_started.ipynb#a-note-on-jupyter)\n",
    "  - [Desktop Installation of Julia and Jupyter](getting_started.ipynb#desktop-installation-of-julia-and-jupyter)\n",
    "  - [Using Julia on the Web](getting_started.ipynb#using-julia-on-the-web)\n",
    "  - [Installing Packages](getting_started.ipynb#installing-packages)\n",
    "- [Interacting with Julia](julia_environment.ipynb)\n",
    "  - [Overview](julia_environment.ipynb#overview)\n",
    "  - [Using Jupyter](julia_environment.ipynb#using-jupyter)\n",
    "  - [Using the REPL](julia_environment.ipynb#using-the-repl)\n",
    "  - [(Optional) Adding Jupyter to the Path](julia_environment.ipynb#optional-adding-jupyter-to-the-path)\n",
    "- [Introductory Examples](julia_by_example.ipynb)\n",
    "  - [Overview](julia_by_example.ipynb#overview)\n",
    "  - [Example: Plotting a White Noise Process](julia_by_example.ipynb#example-plotting-a-white-noise-process)\n",
    "  - [Example: Variations on Fixed Points](julia_by_example.ipynb#example-variations-on-fixed-points)\n",
    "  - [Exercises](julia_by_example.ipynb#exercises)\n",
    "  - [Solutions](julia_by_example.ipynb#solutions)\n",
    "- [Julia Essentials](julia_essentials.ipynb)\n",
    "  - [Overview](julia_essentials.ipynb#overview)\n",
    "  - [Common Data Types](julia_essentials.ipynb#common-data-types)\n",
    "  - [Iterating](julia_essentials.ipynb#iterating)\n",
    "  - [Comparisons and Logical Operators](julia_essentials.ipynb#comparisons-and-logical-operators)\n",
    "  - [User-Defined Functions](julia_essentials.ipynb#user-defined-functions)\n",
    "  - [Broadcasting](julia_essentials.ipynb#broadcasting)\n",
    "  - [Scoping and Closures](julia_essentials.ipynb#scoping-and-closures)\n",
    "  - [Exercises](julia_essentials.ipynb#exercises)\n",
    "  - [Solutions](julia_essentials.ipynb#solutions)\n",
    "- [Arrays, Tuples, Ranges, and Other Fundamental Types](fundamental_types.ipynb)\n",
    "  - [Overview](fundamental_types.ipynb#overview)\n",
    "  - [Array Basics](fundamental_types.ipynb#array-basics)\n",
    "  - [Operations on Arrays](fundamental_types.ipynb#operations-on-arrays)\n",
    "  - [Ranges](fundamental_types.ipynb#ranges)\n",
    "  - [Tuples and Named Tuples](fundamental_types.ipynb#tuples-and-named-tuples)\n",
    "  - [Nothing, Missing, and Unions](fundamental_types.ipynb#nothing-missing-and-unions)\n",
    "  - [Exercises](fundamental_types.ipynb#exercises)\n",
    "  - [Solutions](fundamental_types.ipynb#solutions)\n",
    "- [Introduction to Types and Generic Programming](introduction_to_types.ipynb)\n",
    "  - [Overview](introduction_to_types.ipynb#overview)\n",
    "  - [Finding and Interpreting Types](introduction_to_types.ipynb#finding-and-interpreting-types)\n",
    "  - [The Type Hierarchy](introduction_to_types.ipynb#the-type-hierarchy)\n",
    "  - [Deducing and Declaring Types](introduction_to_types.ipynb#deducing-and-declaring-types)\n",
    "  - [Creating New Types](introduction_to_types.ipynb#creating-new-types)\n",
    "  - [Introduction to Multiple Dispatch](introduction_to_types.ipynb#introduction-to-multiple-dispatch)\n",
    "  - [Exercises](introduction_to_types.ipynb#exercises)"
   ]
  }
 ],
 "metadata": {
  "date": 1589582534.462645,
  "filename": "index.rst",
  "kernelspec": {
   "display_name": "Julia 1.4.1",
   "language": "julia",
   "name": "julia-1.4"
  },
  "title": "Getting Started with Julia"
 },
 "nbformat": 4,
 "nbformat_minor": 4
}
