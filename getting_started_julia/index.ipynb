{
 "cells": [
  {
   "cell_type": "markdown",
   "metadata": {},
   "source": [
    "\n",
    "<a id='learning-julia'></a>\n",
    "<div id=\"qe-notebook-header\" style=\"text-align:right;\">\n",
    "        <a href=\"https://quantecon.org/\" title=\"quantecon.org\">\n",
    "                <img style=\"width:250px;display:inline;\" src=\"https://assets.quantecon.org/img/qe-menubar-logo.svg\" alt=\"QuantEcon\">\n",
    "        </a>\n",
    "</div>"
   ]
  },
  {
   "cell_type": "markdown",
   "metadata": {},
   "source": [
    "# Getting Started with Julia\n",
    "\n",
    "This first part of the course provides a relatively fast-paced introduction to enough of the Julia programming language to understand the lectures."
   ]
  },
  {
   "cell_type": "markdown",
   "metadata": {},
   "source": [
    "## Colab Instructions\n",
    "\n",
    "Colab does not have direct Julia support, and it must be installed each time you are working on a notebook.  \n",
    "\n",
    "Instructions:\n",
    "\n",
    "1. Ignore any errors about a missing kernel when loading the notebook.  Choose `Run Anyway` when it prompts that the notebook wasn't authored by google.\n",
    "\n",
    "2. Run the cell below this with `Shift+Enter`.\n",
    "    -  It will **5 to 8 minutes** the first time you run it for Julia and key packages to install\n",
    "\n",
    "3. Refresh your browser, and then execute any code as normal.\n",
    "  - Even after installation, there will be more precompiling latency for some packages. "
   ]
  },
  {
   "cell_type": "code",
   "execution_count": null,
   "metadata": {},
   "outputs": [],
   "source": [
    "%%shell\n",
    "if ! command -v julia 3>&1 > /dev/null\n",
    "then\n",
    "    wget 'https://julialang-s3.julialang.org/bin/linux/x64/1.4/julia-1.4.1-linux-x86_64.tar.gz' \\\n",
    "        -O /tmp/julia.tar.gz\n",
    "    tar -x -f /tmp/julia.tar.gz -C /usr/local --strip-components 1\n",
    "    rm /tmp/julia.tar.gz\n",
    "    julia -e 'using Pkg; pkg\"add IJulia InstantiateFromURL; precompile;\"'\n",
    "    julia -e 'using InstantiateFromURL; github_project(\"QuantEcon/quantecon-notebooks-julia\", version = \"0.7.0\", instantiate = true, precompile = false); using Plots, Distributions, Parameters, NLsolve, ForwardDiff, Expectations'\n",
    "    echo 'Done'\n",
    "fi\n"
   ]
  },
  {
   "cell_type": "markdown",
   "metadata": {},
   "source": [
    "## Lectures\n",
    "\n",
    "- [Setting up Your Julia Environment](getting_started.html)\n",
    "  - [Overview](getting_started.html#overview)\n",
    "  - [A Note on Jupyter](getting_started.html#a-note-on-jupyter)\n",
    "  - [Desktop Installation of Julia and Jupyter](getting_started.html#desktop-installation-of-julia-and-jupyter)\n",
    "  - [Using Julia on the Web](getting_started.html#using-julia-on-the-web)\n",
    "  - [Installing Packages](getting_started.html#installing-packages)\n",
    "- [Interacting with Julia](julia_environment.html)\n",
    "  - [Overview](julia_environment.html#overview)\n",
    "  - [Using Jupyter](julia_environment.html#using-jupyter)\n",
    "  - [Using the REPL](julia_environment.html#using-the-repl)\n",
    "  - [(Optional) Adding Jupyter to the Path](julia_environment.html#optional-adding-jupyter-to-the-path)\n",
    "- [Introductory Examples](julia_by_example.html)\n",
    "  - [Overview](julia_by_example.html#overview)\n",
    "  - [Example: Plotting a White Noise Process](julia_by_example.html#example-plotting-a-white-noise-process)\n",
    "  - [Example: Variations on Fixed Points](julia_by_example.html#example-variations-on-fixed-points)\n",
    "  - [Exercises](julia_by_example.html#exercises)\n",
    "  - [Solutions](julia_by_example.html#solutions)\n",
    "- [Julia Essentials](julia_essentials.html)\n",
    "  - [Overview](julia_essentials.html#overview)\n",
    "  - [Common Data Types](julia_essentials.html#common-data-types)\n",
    "  - [Iterating](julia_essentials.html#iterating)\n",
    "  - [Comparisons and Logical Operators](julia_essentials.html#comparisons-and-logical-operators)\n",
    "  - [User-Defined Functions](julia_essentials.html#user-defined-functions)\n",
    "  - [Broadcasting](julia_essentials.html#broadcasting)\n",
    "  - [Scoping and Closures](julia_essentials.html#scoping-and-closures)\n",
    "  - [Exercises](julia_essentials.html#exercises)\n",
    "  - [Solutions](julia_essentials.html#solutions)\n",
    "- [Arrays, Tuples, Ranges, and Other Fundamental Types](fundamental_types.html)\n",
    "  - [Overview](fundamental_types.html#overview)\n",
    "  - [Array Basics](fundamental_types.html#array-basics)\n",
    "  - [Operations on Arrays](fundamental_types.html#operations-on-arrays)\n",
    "  - [Ranges](fundamental_types.html#ranges)\n",
    "  - [Tuples and Named Tuples](fundamental_types.html#tuples-and-named-tuples)\n",
    "  - [Nothing, Missing, and Unions](fundamental_types.html#nothing-missing-and-unions)\n",
    "  - [Exercises](fundamental_types.html#exercises)\n",
    "  - [Solutions](fundamental_types.html#solutions)\n",
    "- [Introduction to Types and Generic Programming](introduction_to_types.html)\n",
    "  - [Overview](introduction_to_types.html#overview)\n",
    "  - [Finding and Interpreting Types](introduction_to_types.html#finding-and-interpreting-types)\n",
    "  - [The Type Hierarchy](introduction_to_types.html#the-type-hierarchy)\n",
    "  - [Deducing and Declaring Types](introduction_to_types.html#deducing-and-declaring-types)\n",
    "  - [Creating New Types](introduction_to_types.html#creating-new-types)\n",
    "  - [Introduction to Multiple Dispatch](introduction_to_types.html#introduction-to-multiple-dispatch)\n",
    "  - [Exercises](introduction_to_types.html#exercises)"
   ]
  }
 ],
 "metadata": {
  "date": 1590100268.9927642,
  "download_nb": 1,
  "download_nb_path": "https://julia.quantecon.org/",
  "filename": "index.rst",
  "filename_with_path": "getting_started_julia/index",
  "kernelspec": {
   "display_name": "Julia 1.4.1",
   "language": "julia",
   "name": "julia-1.4"
  },
  "language_info": {
   "file_extension": ".jl",
   "mimetype": "application/julia",
   "name": "julia",
   "version": "1.4.1"
  },
  "title": "Getting Started with Julia"
 },
 "nbformat": 4,
 "nbformat_minor": 2
}
