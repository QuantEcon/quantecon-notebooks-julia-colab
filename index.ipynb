{
 "cells": [
  {
   "cell_type": "markdown",
   "metadata": {},
   "source": [
    "\n",
    "<a id='index'></a>"
   ]
  },
  {
   "cell_type": "markdown",
   "metadata": {},
   "source": [
    "# Quantitative Economics with Julia\n",
    "\n",
    "<div><style type=\"text/css\">h1,.breadcrumbs{display:none;}</style></div>\n",
    "<h1 class=\"sr-only\" style=\"display:block;\">Quantitative Economics with Python</h1>\n",
    "<div class=\"home-intro\">\n",
    "    <div class=\"home-detail\">\n",
    "        <div class=\"home-blurb\">\n",
    "            <p>This website presents a set of lectures on quantitative economic modeling, designed and written by <a href=\"http://jesseperla.com/\" target=\"_blank\">Jesse Perla</a>, <a href=\"http://www.tomsargent.com\" target=\"_blank\">Thomas J. Sargent</a> and <a href=\"http://johnstachurski.net\" target=\"_blank\">John Stachurski</a>. The language instruction is <a href=\"https://julialang.org/\">Julia</a>.</p>\n",
    "            <p>This is one of a <a href=\"https://lectures.quantecon.org/\">series of lectures</a> by <a href=\"#\">QuantEcon</a>.</p>\n",
    "            <p>Last compiled: <strong><span id=\"compiled_date\"></span></strong> <small>(<a href=\"https://github.com/QuantEcon/lecture-source-jl/commits/\">view commits</a>)</small></p>\n",
    "        </div>\n",
    "        <div class=\"web-version\">\n",
    "            <a href=\"/index_toc.html\">\n",
    "                <span class=\"thumb\"><img src=\"/_static/img/jl-logo.png\"></span>\n",
    "                <h2>Web Version</h2>\n",
    "                <p>The recommended way to read the lectures</p>\n",
    "            </a>\n",
    "        </div>\n",
    "    </div>\n",
    "    <ul class=\"sponsor\">\n",
    "        <li><a href=\"http://www.sloan.org/\" title=\"Alfred P. Sloan Foundation\"><img src=\"/_static/sloan_logo.png\" alt=\"Sponsored by the Alfred P. Sloan Foundation\"></a></li>\n",
    "        <li><a href=\"https://quantecon.org/\"><img src=\"/_static/img/qe-logo.png\" width=\"150\"></a></li>\n",
    "    </ul>\n",
    "</div>\n",
    "<div class=\"home-alternatives\">\n",
    "    <h2>Other ways to access the lectures</h2>\n",
    "    <ul>\n",
    "                    <li>\n",
    "                            <a href=\"/_downloads/pdf/quantitative_economics_with_julia.pdf\">\n",
    "                                    <i class=\"fas fa-file-pdf\"></i>\n",
    "                                    <h3>PDF Version</h3>\n",
    "                                    <p>A print-ready version for viewing offline</p>\n",
    "                            </a>\n",
    "                    </li>\n",
    "        <li>\n",
    "            <a href=\"https://github.com/QuantEcon/quantecon-notebooks-julia\">\n",
    "                <i class=\"fas fa-file-download\"></i>\n",
    "                <h3>Notebooks</h3>\n",
    "                <p>Get the full set of Jupyter notebooks</p>\n",
    "            </a>\n",
    "        </li>\n",
    "    </ul>\n",
    "</div>\n",
    "<div class=\"home-alternatives\">\n",
    "    <h2>Open source lectures</h2>\n",
    "    <ul>\n",
    "        <li>\n",
    "            <a href=\"https://github.com/QuantEcon/lecture-source-jl\">\n",
    "                <i class=\"fab fa-github\"></i>\n",
    "                <h3>GitHub Repository</h3>\n",
    "                <p>The source files for these lectures are openly available and stored on GitHub.  We welcome feedback and improvements.  Readers can view the source files, report issues and submit pull requests (suggested changes).</p>\n",
    "            </a>\n",
    "        </li>\n",
    "    </ul>\n",
    "</div>"
   ]
  }
 ],
 "metadata": {
  "date": 1591310621.906702,
  "download_nb": 1,
  "download_nb_path": "https://julia.quantecon.org/",
  "filename": "index.rst",
  "filename_with_path": "index",
  "kernelspec": {
   "display_name": "Julia 1.4.2",
   "language": "julia",
   "name": "julia-1.4"
  },
  "language_info": {
   "file_extension": ".jl",
   "mimetype": "application/julia",
   "name": "julia",
   "version": "1.4.2"
  },
  "title": "Quantitative Economics with Julia"
 },
 "nbformat": 4,
 "nbformat_minor": 2
}
