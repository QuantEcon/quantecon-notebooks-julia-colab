{
 "cells": [
  {
   "cell_type": "markdown",
   "metadata": {},
   "source": [
    "\n",
    "<a id='topics-in-economic-dynamics'></a>\n",
    "<div id=\"qe-notebook-header\" style=\"text-align:right;\">\n",
    "        <a href=\"https://quantecon.org/\" title=\"quantecon.org\">\n",
    "                <img style=\"width:250px;display:inline;\" src=\"https://assets.quantecon.org/img/qe-menubar-logo.svg\" alt=\"QuantEcon\">\n",
    "        </a>\n",
    "</div>"
   ]
  },
  {
   "cell_type": "markdown",
   "metadata": {},
   "source": [
    "# Dynamic Programming Squared\n",
    "\n",
    "Here we look at models in which a value function for one Bellman equation has as an argument the value function for another Bellman equation."
   ]
  },
  {
   "cell_type": "markdown",
   "metadata": {},
   "source": [
    "## Colab Instructions\n",
    "\n",
    "Colab does not have direct Julia support, and it must be installed each time you are working on a notebook.  \n",
    "\n",
    "Instructions:\n",
    "\n",
    "1. Ignore any errors about a missing kernel when loading the notebook.  Choose `Run Anyway` when it prompts that the notebook wasn't authored by google.\n",
    "\n",
    "2. Run the cell below this with `Shift+Enter`.\n",
    "    -  It will **5 to 8 minutes** the first time you run it for Julia and key packages to install\n",
    "\n",
    "3. Refresh your browser, and then execute any code as normal.\n",
    "  - Even after installation, there will be more precompiling latency for some packages. "
   ]
  },
  {
   "cell_type": "code",
   "execution_count": null,
   "metadata": {},
   "outputs": [],
   "source": [
    "%%shell\n",
    "if ! command -v julia 3>&1 > /dev/null\n",
    "then\n",
    "    wget 'https://julialang-s3.julialang.org/bin/linux/x64/1.4/julia-1.4.2-linux-x86_64.tar.gz' \\\n",
    "        -O /tmp/julia.tar.gz\n",
    "    tar -x -f /tmp/julia.tar.gz -C /usr/local --strip-components 1\n",
    "    rm /tmp/julia.tar.gz\n",
    "    julia -e 'using Pkg; pkg\"add IJulia InstantiateFromURL; precompile;\"'\n",
    "    julia -e 'using InstantiateFromURL; github_project(\"QuantEcon/quantecon-notebooks-julia\", version = \"0.8.0\", instantiate = true, precompile = false); using Plots, Distributions, Parameters, NLsolve, ForwardDiff, Expectations'\n",
    "    echo 'Done'\n",
    "fi\n"
   ]
  },
  {
   "cell_type": "markdown",
   "metadata": {},
   "source": [
    "## Lectures\n",
    "\n",
    "- [Dynamic Stackelberg Problems](dyn_stack.html)\n",
    "  - [Duopoly](dyn_stack.html#duopoly)\n",
    "  - [The Stackelberg Problem](dyn_stack.html#the-stackelberg-problem)\n",
    "  - [Stackelberg Plan](dyn_stack.html#stackelberg-plan)\n",
    "  - [Recursive Representation of Stackelberg Plan](dyn_stack.html#recursive-representation-of-stackelberg-plan)\n",
    "  - [Computing the Stackelberg Plan](dyn_stack.html#computing-the-stackelberg-plan)\n",
    "  - [Exhibiting Time Inconsistency of Stackelberg Plan](dyn_stack.html#exhibiting-time-inconsistency-of-stackelberg-plan)\n",
    "  - [Recursive Formulation of the Follower’s Problem](dyn_stack.html#recursive-formulation-of-the-follower-s-problem)\n",
    "  - [Markov Perfect Equilibrium](dyn_stack.html#markov-perfect-equilibrium)\n",
    "  - [MPE vs. Stackelberg](dyn_stack.html#mpe-vs-stackelberg)\n",
    "- [Optimal Taxation in an LQ Economy](lqramsey.html)\n",
    "  - [Overview](lqramsey.html#overview)\n",
    "  - [The Ramsey Problem](lqramsey.html#the-ramsey-problem)\n",
    "  - [Implementation](lqramsey.html#implementation)\n",
    "  - [Examples](lqramsey.html#examples)\n",
    "  - [Exercises](lqramsey.html#exercises)\n",
    "  - [Solutions](lqramsey.html#solutions)\n",
    "- [Optimal Taxation with State-Contingent Debt](opt_tax_recur.html)\n",
    "  - [Overview](opt_tax_recur.html#overview)\n",
    "  - [A Competitive Equilibrium with Distorting Taxes](opt_tax_recur.html#a-competitive-equilibrium-with-distorting-taxes)\n",
    "  - [Recursive Formulation of the Ramsey problem](opt_tax_recur.html#recursive-formulation-of-the-ramsey-problem)\n",
    "  - [Examples](opt_tax_recur.html#examples)\n",
    "  - [Further Comments](opt_tax_recur.html#further-comments)\n",
    "- [Optimal Taxation without State-Contingent Debt](amss.html)\n",
    "  - [Overview](amss.html#overview)\n",
    "  - [Competitive Equilibrium with Distorting Taxes](amss.html#competitive-equilibrium-with-distorting-taxes)\n",
    "  - [Recursive Version of AMSS Model](amss.html#recursive-version-of-amss-model)\n",
    "  - [Examples](amss.html#examples)"
   ]
  }
 ],
 "metadata": {
  "date": 1591310618.2875726,
  "download_nb": 1,
  "download_nb_path": "https://julia.quantecon.org/",
  "filename": "index.rst",
  "filename_with_path": "dynamic_programming_squared/index",
  "kernelspec": {
   "display_name": "Julia 1.4.2",
   "language": "julia",
   "name": "julia-1.4"
  },
  "language_info": {
   "file_extension": ".jl",
   "mimetype": "application/julia",
   "name": "julia",
   "version": "1.4.2"
  },
  "title": "Dynamic Programming Squared"
 },
 "nbformat": 4,
 "nbformat_minor": 2
}
