{
 "cells": [
  {
   "cell_type": "markdown",
   "metadata": {},
   "source": [
    "\n",
    "<a id='topics-in-economic-dynamics'></a>\n",
    "<div id=\"qe-notebook-header\" style=\"text-align:right;\">\n",
    "        <a href=\"https://quantecon.org/\" title=\"quantecon.org\">\n",
    "                <img style=\"width:250px;display:inline;\" src=\"https://assets.quantecon.org/img/qe-menubar-logo.svg\" alt=\"QuantEcon\">\n",
    "        </a>\n",
    "</div>"
   ]
  },
  {
   "cell_type": "markdown",
   "metadata": {},
   "source": [
    "# Dynamic Programming Squared\n",
    "\n",
    "Here we look at models in which a value function for one Bellman equation has as an argument the value function for another Bellman equation."
   ]
  },
  {
   "cell_type": "markdown",
   "metadata": {},
   "source": [
    "## Lectures\n",
    "\n",
    "- [Dynamic Stackelberg Problems](dyn_stack.html)\n",
    "  - [Duopoly](dyn_stack.html#duopoly)\n",
    "  - [The Stackelberg Problem](dyn_stack.html#the-stackelberg-problem)\n",
    "  - [Stackelberg Plan](dyn_stack.html#stackelberg-plan)\n",
    "  - [Recursive Representation of Stackelberg Plan](dyn_stack.html#recursive-representation-of-stackelberg-plan)\n",
    "  - [Computing the Stackelberg Plan](dyn_stack.html#computing-the-stackelberg-plan)\n",
    "  - [Exhibiting Time Inconsistency of Stackelberg Plan](dyn_stack.html#exhibiting-time-inconsistency-of-stackelberg-plan)\n",
    "  - [Recursive Formulation of the Follower’s Problem](dyn_stack.html#recursive-formulation-of-the-follower-s-problem)\n",
    "  - [Markov Perfect Equilibrium](dyn_stack.html#markov-perfect-equilibrium)\n",
    "  - [MPE vs. Stackelberg](dyn_stack.html#mpe-vs-stackelberg)\n",
    "- [Optimal Taxation in an LQ Economy](lqramsey.html)\n",
    "  - [Overview](lqramsey.html#overview)\n",
    "  - [The Ramsey Problem](lqramsey.html#the-ramsey-problem)\n",
    "  - [Implementation](lqramsey.html#implementation)\n",
    "  - [Examples](lqramsey.html#examples)\n",
    "  - [Exercises](lqramsey.html#exercises)\n",
    "  - [Solutions](lqramsey.html#solutions)\n",
    "- [Optimal Taxation with State-Contingent Debt](opt_tax_recur.html)\n",
    "  - [Overview](opt_tax_recur.html#overview)\n",
    "  - [A Competitive Equilibrium with Distorting Taxes](opt_tax_recur.html#a-competitive-equilibrium-with-distorting-taxes)\n",
    "  - [Recursive Formulation of the Ramsey problem](opt_tax_recur.html#recursive-formulation-of-the-ramsey-problem)\n",
    "  - [Examples](opt_tax_recur.html#examples)\n",
    "  - [Further Comments](opt_tax_recur.html#further-comments)\n",
    "- [Optimal Taxation without State-Contingent Debt](amss.html)\n",
    "  - [Overview](amss.html#overview)\n",
    "  - [Competitive Equilibrium with Distorting Taxes](amss.html#competitive-equilibrium-with-distorting-taxes)\n",
    "  - [Recursive Version of AMSS Model](amss.html#recursive-version-of-amss-model)\n",
    "  - [Examples](amss.html#examples)"
   ]
  }
 ],
 "metadata": {
  "date": 1589950441.196589,
  "download_nb": 1,
  "download_nb_path": "https://julia.quantecon.org/",
  "filename": "index.rst",
  "filename_with_path": "dynamic_programming_squared/index",
  "kernelspec": {
   "display_name": "Julia 1.4.1",
   "language": "julia",
   "name": "julia-1.4"
  },
  "language_info": {
   "file_extension": ".jl",
   "mimetype": "application/julia",
   "name": "julia",
   "version": "1.4.1"
  },
  "title": "Dynamic Programming Squared"
 },
 "nbformat": 4,
 "nbformat_minor": 2
}
