{
 "cells": [
  {
   "cell_type": "markdown",
   "metadata": {},
   "source": [
    "\n",
    "<a id='topics-in-economic-dynamics'></a>\n",
    "<div id=\"qe-notebook-header\" style=\"text-align:right;\">\n",
    "        <a href=\"https://quantecon.org/\" title=\"quantecon.org\">\n",
    "                <img style=\"width:250px;display:inline;\" src=\"https://assets.quantecon.org/img/qe-menubar-logo.svg\" alt=\"QuantEcon\">\n",
    "        </a>\n",
    "</div>"
   ]
  },
  {
   "cell_type": "markdown",
   "metadata": {},
   "source": [
    "# Dynamic Programming Squared\n",
    "\n",
    "Here we look at models in which a value function for one Bellman equation has as an argument the value function for another Bellman equation."
   ]
  },
  {
   "cell_type": "markdown",
   "metadata": {},
   "source": [
    "## Colab Instructions\n",
    "Colab does not have direct Julia support, and it must be installed each time you are working on a notebook.  Even after installation, there will be more precompiling latency since we do not compile every package used in the notes in the setup step. \n",
    "\n",
    "Instructions:\n",
    "\n",
    "1. Ignore any errors about a missing kernel when loading the notebook.  Choose `Run Anyway` when it prompts that the notebook wasn't authored by google.\n",
    "\n",
    "2. Run the cell below this with `Shift+Enter`.\n",
    "    -  It will **3 to 8 minutes** the first time you run it for Julia and key packages to install\n",
    "    - Afterwards, the colab container associated with the notebook will be activate for some time, but will likely be recycled after 60-90 minutes after closing the notebook, at which point you would need to install again.\n",
    "    - After julia has been installed, you do not need to run the cell again, and errors may be safely ignored\n",
    "3. Refresh your browser, and then execute any code as normal.\n",
    "  - Even after installation, there will be more precompiling latency since we do not compile every package used in the notes in the setup step. \n"
   ]
  },
  {
   "cell_type": "code",
   "execution_count": null,
   "metadata": {},
   "outputs": [],
   "source": [
    "%%shell\n",
    "if ! command -v julia 3>&1 > /dev/null\n",
    "then\n",
    "    wget 'https://julialang-s3.julialang.org/bin/linux/x64/1.4/julia-1.4.1-linux-x86_64.tar.gz' \\\n",
    "        -O /tmp/julia.tar.gz\n",
    "    tar -x -f /tmp/julia.tar.gz -C /usr/local --strip-components 1\n",
    "    rm /tmp/julia.tar.gz\n",
    "    julia -e 'using Pkg; pkg\"add IJulia InstantiateFromURL; precompile;\"'\n",
    "    julia -e 'using InstantiateFromURL; github_project(\"QuantEcon/quantecon-notebooks-julia\", instantiate = true, precompile = false)'\n",
    "    julia -e 'using Plots, Distributions, Parameters, NLsolve, ForwardDiff, Expectations'\n",
    "    echo 'Done'\n",
    "fi\n"
   ]
  },
  {
   "cell_type": "markdown",
   "metadata": {},
   "source": [
    "## Lectures\n",
    "\n",
    "- [Dynamic Stackelberg Problems](dyn_stack.ipynb)\n",
    "  - [Duopoly](dyn_stack.ipynb#duopoly)\n",
    "  - [The Stackelberg Problem](dyn_stack.ipynb#the-stackelberg-problem)\n",
    "  - [Stackelberg Plan](dyn_stack.ipynb#stackelberg-plan)\n",
    "  - [Recursive Representation of Stackelberg Plan](dyn_stack.ipynb#recursive-representation-of-stackelberg-plan)\n",
    "  - [Computing the Stackelberg Plan](dyn_stack.ipynb#computing-the-stackelberg-plan)\n",
    "  - [Exhibiting Time Inconsistency of Stackelberg Plan](dyn_stack.ipynb#exhibiting-time-inconsistency-of-stackelberg-plan)\n",
    "  - [Recursive Formulation of the Follower’s Problem](dyn_stack.ipynb#recursive-formulation-of-the-follower-s-problem)\n",
    "  - [Markov Perfect Equilibrium](dyn_stack.ipynb#markov-perfect-equilibrium)\n",
    "  - [MPE vs. Stackelberg](dyn_stack.ipynb#mpe-vs-stackelberg)\n",
    "- [Optimal Taxation in an LQ Economy](lqramsey.ipynb)\n",
    "  - [Overview](lqramsey.ipynb#overview)\n",
    "  - [The Ramsey Problem](lqramsey.ipynb#the-ramsey-problem)\n",
    "  - [Implementation](lqramsey.ipynb#implementation)\n",
    "  - [Examples](lqramsey.ipynb#examples)\n",
    "  - [Exercises](lqramsey.ipynb#exercises)\n",
    "  - [Solutions](lqramsey.ipynb#solutions)\n",
    "- [Optimal Taxation with State-Contingent Debt](opt_tax_recur.ipynb)\n",
    "  - [Overview](opt_tax_recur.ipynb#overview)\n",
    "  - [A Competitive Equilibrium with Distorting Taxes](opt_tax_recur.ipynb#a-competitive-equilibrium-with-distorting-taxes)\n",
    "  - [Recursive Formulation of the Ramsey problem](opt_tax_recur.ipynb#recursive-formulation-of-the-ramsey-problem)\n",
    "  - [Examples](opt_tax_recur.ipynb#examples)\n",
    "  - [Further Comments](opt_tax_recur.ipynb#further-comments)\n",
    "- [Optimal Taxation without State-Contingent Debt](amss.ipynb)\n",
    "  - [Overview](amss.ipynb#overview)\n",
    "  - [Competitive Equilibrium with Distorting Taxes](amss.ipynb#competitive-equilibrium-with-distorting-taxes)\n",
    "  - [Recursive Version of AMSS Model](amss.ipynb#recursive-version-of-amss-model)\n",
    "  - [Examples](amss.ipynb#examples)"
   ]
  }
 ],
 "metadata": {
  "date": 1589582533.57896,
  "filename": "index.rst",
  "kernelspec": {
   "display_name": "Julia 1.4.1",
   "language": "julia",
   "name": "julia-1.4"
  },
  "title": "Dynamic Programming Squared"
 },
 "nbformat": 4,
 "nbformat_minor": 4
}
