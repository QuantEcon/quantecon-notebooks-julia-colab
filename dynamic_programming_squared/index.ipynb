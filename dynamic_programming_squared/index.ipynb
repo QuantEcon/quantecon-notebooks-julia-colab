{
 "cells": [
  {
   "cell_type": "markdown",
   "metadata": {},
   "source": [
    "\n",
    "<a id='topics-in-economic-dynamics'></a>\n",
    "<div id=\"qe-notebook-header\" style=\"text-align:right;\">\n",
    "        <a href=\"https://quantecon.org/\" title=\"quantecon.org\">\n",
    "                <img style=\"width:250px;display:inline;\" src=\"https://assets.quantecon.org/img/qe-menubar-logo.svg\" alt=\"QuantEcon\">\n",
    "        </a>\n",
    "</div>"
   ]
  },
  {
   "cell_type": "markdown",
   "metadata": {},
   "source": [
    "# Dynamic Programming Squared\n",
    "\n",
    "Here we look at models in which a value function for one Bellman equation has as an argument the value function for another Bellman equation."
   ]
  },
  {
   "cell_type": "markdown",
   "metadata": {},
   "source": [
    "## Colab Instructions\n",
    "\n",
    "1. Load the notebook using the launcher at the bottom of the page, and ignore any errors about a missing kernel. \n",
    "\n",
    "2. Run the cell below this one in the notebook. It might take 3 to 5 minutes. \n",
    "\n",
    "3. In the top menu, click \"Edit,\" then \"Notebook Settings,\" and then choose \"Julia 1.4\" as your runtime. Hit \"Save.\"\n",
    "\n",
    "4. To test your setup, run a Julia command in the window (something like `versioninfo()`.) If it doesn't work, try refreshing your browser window in between steps (2) and (3).\n",
    "\n"
   ]
  },
  {
   "cell_type": "code",
   "execution_count": null,
   "metadata": {},
   "outputs": [],
   "source": [
    "%%shell\n",
    "if ! command -v julia 3>&1 > /dev/null\n",
    "then\n",
    "    wget 'https://julialang-s3.julialang.org/bin/linux/x64/1.4/julia-1.4.1-linux-x86_64.tar.gz' \\\n",
    "        -O /tmp/julia.tar.gz\n",
    "    tar -x -f /tmp/julia.tar.gz -C /usr/local --strip-components 1\n",
    "    rm /tmp/julia.tar.gz\n",
    "fi\n",
    "julia -e 'using Pkg; pkg\"add IJulia InstantiateFromURL; precompile;\"'\n",
    "julia -e 'using InstantiateFromURL; github_project(\"QuantEcon/quantecon-notebooks-julia\", instantiate = true, precompile = false)'\n",
    "echo 'Done'\n"
   ]
  },
  {
   "cell_type": "markdown",
   "metadata": {},
   "source": [
    "## Lectures\n",
    "\n",
    "- [Dynamic Stackelberg Problems](dyn_stack.ipynb)\n",
    "  - [Duopoly](dyn_stack.ipynb#duopoly)\n",
    "  - [The Stackelberg Problem](dyn_stack.ipynb#the-stackelberg-problem)\n",
    "  - [Stackelberg Plan](dyn_stack.ipynb#stackelberg-plan)\n",
    "  - [Recursive Representation of Stackelberg Plan](dyn_stack.ipynb#recursive-representation-of-stackelberg-plan)\n",
    "  - [Computing the Stackelberg Plan](dyn_stack.ipynb#computing-the-stackelberg-plan)\n",
    "  - [Exhibiting Time Inconsistency of Stackelberg Plan](dyn_stack.ipynb#exhibiting-time-inconsistency-of-stackelberg-plan)\n",
    "  - [Recursive Formulation of the Follower’s Problem](dyn_stack.ipynb#recursive-formulation-of-the-follower-s-problem)\n",
    "  - [Markov Perfect Equilibrium](dyn_stack.ipynb#markov-perfect-equilibrium)\n",
    "  - [MPE vs. Stackelberg](dyn_stack.ipynb#mpe-vs-stackelberg)\n",
    "- [Optimal Taxation in an LQ Economy](lqramsey.ipynb)\n",
    "  - [Overview](lqramsey.ipynb#overview)\n",
    "  - [The Ramsey Problem](lqramsey.ipynb#the-ramsey-problem)\n",
    "  - [Implementation](lqramsey.ipynb#implementation)\n",
    "  - [Examples](lqramsey.ipynb#examples)\n",
    "  - [Exercises](lqramsey.ipynb#exercises)\n",
    "  - [Solutions](lqramsey.ipynb#solutions)\n",
    "- [Optimal Taxation with State-Contingent Debt](opt_tax_recur.ipynb)\n",
    "  - [Overview](opt_tax_recur.ipynb#overview)\n",
    "  - [A Competitive Equilibrium with Distorting Taxes](opt_tax_recur.ipynb#a-competitive-equilibrium-with-distorting-taxes)\n",
    "  - [Recursive Formulation of the Ramsey problem](opt_tax_recur.ipynb#recursive-formulation-of-the-ramsey-problem)\n",
    "  - [Examples](opt_tax_recur.ipynb#examples)\n",
    "  - [Further Comments](opt_tax_recur.ipynb#further-comments)\n",
    "- [Optimal Taxation without State-Contingent Debt](amss.ipynb)\n",
    "  - [Overview](amss.ipynb#overview)\n",
    "  - [Competitive Equilibrium with Distorting Taxes](amss.ipynb#competitive-equilibrium-with-distorting-taxes)\n",
    "  - [Recursive Version of AMSS Model](amss.ipynb#recursive-version-of-amss-model)\n",
    "  - [Examples](amss.ipynb#examples)"
   ]
  }
 ],
 "metadata": {
  "date": 1589493419.350133,
  "filename": "index.rst",
  "kernelspec": {
   "display_name": "Julia 1.4.1",
   "language": "julia",
   "name": "julia-1.4"
  },
  "title": "Dynamic Programming Squared"
 },
 "nbformat": 4,
 "nbformat_minor": 4
}
