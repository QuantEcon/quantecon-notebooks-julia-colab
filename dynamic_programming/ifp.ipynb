{
 "cells": [
  {
   "cell_type": "markdown",
   "metadata": {},
   "source": [
    "\n",
    "<a id='ifp'></a>\n",
    "<div id=\"qe-notebook-header\" style=\"text-align:right;\">\n",
    "        <a href=\"https://quantecon.org/\" title=\"quantecon.org\">\n",
    "                <img style=\"width:250px;display:inline;\" src=\"https://assets.quantecon.org/img/qe-menubar-logo.svg\" alt=\"QuantEcon\">\n",
    "        </a>\n",
    "</div>"
   ]
  },
  {
   "cell_type": "markdown",
   "metadata": {},
   "source": [
    "# Optimal Savings III: Occasionally Binding Constraints"
   ]
  },
  {
   "cell_type": "markdown",
   "metadata": {},
   "source": [
    "## Colab Instructions\n",
    "\n",
    "Colab does not have direct Julia support, and it must be installed each time you are working on a notebook.  \n",
    "\n",
    "Instructions:\n",
    "\n",
    "1. Ignore any errors about a missing kernel when loading the notebook.  Choose `Run Anyway` when it prompts that the notebook wasn't authored by google.\n",
    "\n",
    "2. Run the cell below this with `Shift+Enter`.\n",
    "    -  It will **5 to 8 minutes** the first time you run it for Julia and key packages to install\n",
    "\n",
    "3. Refresh your browser, and then execute any code as normal.\n",
    "  - Even after installation, there will be more precompiling latency for some packages. "
   ]
  },
  {
   "cell_type": "code",
   "execution_count": null,
   "metadata": {},
   "outputs": [],
   "source": [
    "%%shell\n",
    "if ! command -v julia 3>&1 > /dev/null\n",
    "then\n",
    "    wget 'https://julialang-s3.julialang.org/bin/linux/x64/1.4/julia-1.4.1-linux-x86_64.tar.gz' \\\n",
    "        -O /tmp/julia.tar.gz\n",
    "    tar -x -f /tmp/julia.tar.gz -C /usr/local --strip-components 1\n",
    "    rm /tmp/julia.tar.gz\n",
    "    julia -e 'using Pkg; pkg\"add IJulia InstantiateFromURL; precompile;\"'\n",
    "    julia -e 'using InstantiateFromURL; github_project(\"QuantEcon/quantecon-notebooks-julia\", version = \"0.7.0\", instantiate = true, precompile = false); using Plots, Distributions, Parameters, NLsolve, ForwardDiff, Expectations'\n",
    "    echo 'Done'\n",
    "fi\n"
   ]
  },
  {
   "cell_type": "markdown",
   "metadata": {},
   "source": [
    "## Contents\n",
    "\n",
    "- [Optimal Savings III: Occasionally Binding Constraints](#Optimal-Savings-III:-Occasionally-Binding-Constraints)  \n",
    "  - [Overview](#Overview)  \n",
    "  - [The Optimal Savings Problem](#The-Optimal-Savings-Problem)  \n",
    "  - [Computation](#Computation)  \n",
    "  - [Exercises](#Exercises)  \n",
    "  - [Solutions](#Solutions)  "
   ]
  },
  {
   "cell_type": "markdown",
   "metadata": {},
   "source": [
    "## Overview\n",
    "\n",
    "Next we study an optimal savings problem for an infinitely lived consumer—the “common ancestor” described in [[LS18]](../zreferences.html#ljungqvist2012), section 1.3.\n",
    "\n",
    "This is an essential sub-problem for many representative macroeconomic models\n",
    "\n",
    "- [[Aiy94]](../zreferences.html#aiyagari1994)  \n",
    "- [[Hug93]](../zreferences.html#huggett1993)  \n",
    "- etc.  \n",
    "\n",
    "\n",
    "It is related to the decision problem in the [stochastic optimal growth\n",
    "model](optgrowth.html) and yet differs in important ways.\n",
    "\n",
    "For example, the choice problem for the agent includes an additive income term that leads to an occasionally binding constraint.\n",
    "\n",
    "Our presentation of the model will be relatively brief.\n",
    "\n",
    "- For further details on economic intuition, implication and models, see [[LS18]](../zreferences.html#ljungqvist2012)  \n",
    "- Proofs of all mathematical results stated below can be found in <a href=/_static/pdfs/pi2.pdf download>this paper</a>  \n",
    "\n",
    "\n",
    "To solve the model we will use Euler equation based time iteration, similar to [this lecture](coleman_policy_iter.html).\n",
    "\n",
    "This method turns out to be\n",
    "\n",
    "- Globally convergent under mild assumptions, even when utility is unbounded (both above and below).  \n",
    "- More efficient numerically than value function iteration.  "
   ]
  },
  {
   "cell_type": "markdown",
   "metadata": {},
   "source": [
    "### References\n",
    "\n",
    "Other useful references include [[Dea91]](../zreferences.html#deaton1991), [[DH10]](../zreferences.html#denhaan2010), [[Kuh13]](../zreferences.html#kuhn2013), [[Rab02]](../zreferences.html#rabault2002),  [[Rei09]](../zreferences.html#reiter2009)  and [[SE77]](../zreferences.html#schechtmanescudero1977)."
   ]
  },
  {
   "cell_type": "markdown",
   "metadata": {},
   "source": [
    "## The Optimal Savings Problem\n",
    "\n",
    "\n",
    "<a id='index-1'></a>\n",
    "Let’s write down the model and then discuss how to solve it."
   ]
  },
  {
   "cell_type": "markdown",
   "metadata": {},
   "source": [
    "### Set Up\n",
    "\n",
    "Consider a household that chooses a state-contingent consumption plan $ \\{c_t\\}_{t \\geq 0} $ to maximize\n",
    "\n",
    "$$\n",
    "\\mathbb{E} \\, \\sum_{t=0}^{\\infty} \\beta^t u(c_t)\n",
    "$$\n",
    "\n",
    "subject to\n",
    "\n",
    "\n",
    "<a id='equation-eqst'></a>\n",
    "$$\n",
    "c_t + a_{t+1} \\leq  Ra_t  + z_t,\n",
    "\\qquad c_t \\geq 0,\n",
    "\\qquad a_t \\geq -b\n",
    "\\qquad t = 0, 1, \\ldots \\tag{1}\n",
    "$$\n",
    "\n",
    "Here\n",
    "\n",
    "- $ \\beta \\in (0,1) $ is the discount factor  \n",
    "- $ a_t $ is asset holdings at time $ t $, with ad-hoc borrowing constraint $ a_t \\geq -b $  \n",
    "- $ c_t $ is consumption  \n",
    "- $ z_t $ is non-capital income (wages, unemployment compensation, etc.)  \n",
    "- $ R := 1 + r $, where $ r > 0 $ is the interest rate on savings  \n",
    "\n",
    "\n",
    "Non-capital income $ \\{z_t\\} $ is assumed to be a Markov process taking values in $ Z\\subset (0,\\infty) $ with stochastic kernel $ \\Pi $.\n",
    "\n",
    "This means that $ \\Pi(z, B) $ is the probability that $ z_{t+1} \\in\n",
    "B $ given $ z_t = z $.\n",
    "\n",
    "The expectation of $ f(z_{t+1}) $ given $ z_t = z $ is written as\n",
    "\n",
    "$$\n",
    "\\int f( \\acute z) \\, \\Pi(z, d \\acute z)\n",
    "$$\n",
    "\n",
    "We further assume that\n",
    "\n",
    "1. $ r > 0 $ and $ \\beta R < 1 $  \n",
    "1. $ u $ is smooth, strictly increasing and strictly concave with $ \\lim_{c \\to 0} u'(c) = \\infty $ and $ \\lim_{c \\to \\infty} u'(c) = 0 $  \n",
    "\n",
    "\n",
    "The asset space is $ [-b, \\infty) $ and the state is the pair $ (a,z) \\in S := [-b,\\infty) \\times Z $.\n",
    "\n",
    "A *feasible consumption path* from $ (a,z) \\in S $ is a consumption\n",
    "sequence $ \\{c_t\\} $ such that $ \\{c_t\\} $ and its induced asset path $ \\{a_t\\} $ satisfy\n",
    "\n",
    "1. $ (a_0, z_0) = (a, z) $  \n",
    "1. the feasibility constraints in [(1)](#equation-eqst), and  \n",
    "1. measurability of $ c_t $ w.r.t. the filtration generated by $ \\{z_1, \\ldots, z_t\\} $  \n",
    "\n",
    "\n",
    "The meaning of the third point is just that consumption at time $ t $ can only be\n",
    "a function of outcomes that have already been observed."
   ]
  },
  {
   "cell_type": "markdown",
   "metadata": {},
   "source": [
    "### Value Function and Euler Equation\n",
    "\n",
    "The *value function* $ V \\colon S \\to \\mathbb{R} $ is defined by\n",
    "\n",
    "\n",
    "<a id='equation-eqvf'></a>\n",
    "$$\n",
    "V(a, z) := \\sup \\, \\mathbb{E}\n",
    "\\left\\{\n",
    "\\sum_{t=0}^{\\infty} \\beta^t u(c_t)\n",
    "\\right\\} \\tag{2}\n",
    "$$\n",
    "\n",
    "where the supremum is over all feasible consumption paths from $ (a,z) $.\n",
    "\n",
    "An *optimal consumption path* from $ (a,z) $ is a feasible consumption path from $ (a,z) $ that attains the supremum in [(2)](#equation-eqvf).\n",
    "\n",
    "To pin down such paths we can use a version of the Euler equation, which in the present setting is\n",
    "\n",
    "\n",
    "<a id='equation-ee00'></a>\n",
    "$$\n",
    "u' (c_t)\n",
    "\\geq \\beta R \\,  \\mathbb{E}_t [ u'(c_{t+1}) ] \\tag{3}\n",
    "$$\n",
    "\n",
    "and\n",
    "\n",
    "\n",
    "<a id='equation-ee01'></a>\n",
    "$$\n",
    "u' (c_t) = \\beta R \\,  \\mathbb{E}_t [ u'(c_{t+1}) ]\n",
    "\\quad \\text{whenever }\n",
    "c_t < Ra_t + z_t + b \\tag{4}\n",
    "$$\n",
    "\n",
    "In essence, this says that the natural “arbitrage” relation $ u' (c_t) = \\beta R \\,  \\mathbb{E}_t [ u'(c_{t+1}) ] $ holds when the choice of current consumption is interior.\n",
    "\n",
    "Interiority means that $ c_t $ is strictly less than its upper bound $ Ra_t + z_t + b $.\n",
    "\n",
    "(The lower boundary case $ c_t = 0 $ never arises at the optimum because\n",
    "$ u'(0) = \\infty $)\n",
    "\n",
    "When $ c_t $ does hit the upper bound $ Ra_t + z_t + b $, the\n",
    "strict inequality $ u' (c_t) > \\beta R \\,  \\mathbb{E}_t [ u'(c_{t+1}) ] $\n",
    "can occur because $ c_t $ cannot increase sufficiently to attain equality.\n",
    "\n",
    "With some thought and effort, one can show that [(3)](#equation-ee00) and [(4)](#equation-ee01) are\n",
    "equivalent to\n",
    "\n",
    "\n",
    "<a id='equation-eqeul0'></a>\n",
    "$$\n",
    "u' (c_t)\n",
    "= \\max \\left\\{\n",
    "\\beta R \\,  \\mathbb{E}_t [ u'(c_{t+1}) ] \\,,\\;  u'(Ra_t + z_t + b)\n",
    "\\right\\} \\tag{5}\n",
    "$$"
   ]
  },
  {
   "cell_type": "markdown",
   "metadata": {},
   "source": [
    "### Optimality Results\n",
    "\n",
    "Given our assumptions, it is <a href=/_static/pdfs/pi2.pdf download>known</a> that\n",
    "\n",
    "1. For each $ (a,z) \\in S $, a unique optimal consumption path from $ (a,z) $ exists.  \n",
    "1. This path is the unique feasible path from $ (a,z) $ satisfying the\n",
    "  Euler equality [(5)](#equation-eqeul0) and the transversality condition  \n",
    "\n",
    "\n",
    "\n",
    "<a id='equation-eqtv'></a>\n",
    "$$\n",
    "\\lim_{t \\to \\infty} \\beta^t \\, \\mathbb{E} \\, [ u'(c_t) a_{t+1} ] = 0. \\tag{6}\n",
    "$$\n",
    "\n",
    "Moreover, there exists an *optimal consumption function* $ c^* \\colon S \\to [0, \\infty) $ such that the path from $ (a,z) $ generated by\n",
    "\n",
    "$$\n",
    "(a_0, z_0) = (a, z),\n",
    "\\quad\n",
    "z_{t+1} \\sim \\Pi(z_t, dy),\n",
    "\\quad\n",
    "c_t = c^*(a_t, z_t)\n",
    "\\quad \\text{and} \\quad\n",
    "a_{t+1} = R a_t + z_t - c_t\n",
    "$$\n",
    "\n",
    "satisfies both [(5)](#equation-eqeul0) and [(6)](#equation-eqtv), and hence is the unique optimal\n",
    "path from $ (a,z) $.\n",
    "\n",
    "In summary, to solve the optimization problem, we need to compute $ c^* $.\n",
    "\n",
    "\n",
    "<a id='ifp-computation'></a>"
   ]
  },
  {
   "cell_type": "markdown",
   "metadata": {},
   "source": [
    "## Computation\n",
    "\n",
    "\n",
    "<a id='index-2'></a>\n",
    "There are two standard ways to solve for $ c^* $\n",
    "\n",
    "1. Time iteration (TI) using the Euler equality  \n",
    "1. Value function iteration (VFI)  \n",
    "\n",
    "\n",
    "Let’s look at these in turn."
   ]
  },
  {
   "cell_type": "markdown",
   "metadata": {},
   "source": [
    "### Time Iteration\n",
    "\n",
    "We can rewrite [(5)](#equation-eqeul0) to make it a statement about functions rather than\n",
    "random variables.\n",
    "\n",
    "In particular, consider the functional equation\n",
    "\n",
    "\n",
    "<a id='equation-eqeul1'></a>\n",
    "$$\n",
    "u' \\circ c \\, (a, z)\n",
    "= \\max \\left\\{\n",
    "\\gamma \\int u' \\circ c \\, \\{R a + z - c(a, z), \\, \\acute z\\}\n",
    "\\, \\Pi(z,d \\acute z)\n",
    "\\, , \\;\n",
    "     u'(Ra + z + b)\n",
    "     \\right\\} \\tag{7}\n",
    "$$\n",
    "\n",
    "where $ \\gamma := \\beta R $ and $ u' \\circ c(s) := u'(c(s)) $.\n",
    "\n",
    "Equation [(7)](#equation-eqeul1) is a functional equation in $ c $.\n",
    "\n",
    "In order to identify a solution, let $ \\mathscr{C} $ be the set of candidate consumption functions $ c \\colon S \\to \\mathbb R $ such that\n",
    "\n",
    "- each $ c \\in \\mathscr{C} $ is continuous and (weakly) increasing  \n",
    "- $ \\min Z \\leq c(a,z) \\leq Ra + z + b $ for all $ (a,z) \\in S $  \n",
    "\n",
    "\n",
    "In addition, let $ K \\colon \\mathscr{C} \\to \\mathscr{C} $ be defined as follows:\n",
    "\n",
    "For given $ c\\in \\mathscr{C} $, the value $ Kc(a,z) $ is the unique $ t \\in J(a,z) $ that solves\n",
    "\n",
    "\n",
    "<a id='equation-eqsifc'></a>\n",
    "$$\n",
    "u'(t)\n",
    "= \\max \\left\\{\n",
    "\\gamma \\int u' \\circ c \\, \\{R a + z - t, \\, \\acute z\\}\n",
    "\\, \\Pi(z,d \\acute z)\n",
    "\\, , \\;\n",
    "     u'(Ra + z + b)\n",
    "     \\right\\} \\tag{8}\n",
    "$$\n",
    "\n",
    "where\n",
    "\n",
    "\n",
    "<a id='equation-eqbos'></a>\n",
    "$$\n",
    "J(a,z) := \\{t \\in \\mathbb{R} \\,:\\, \\min Z \\leq t \\leq Ra+ z + b\\} \\tag{9}\n",
    "$$\n",
    "\n",
    "We refer to $ K $ as Coleman’s policy function operator [[Col90]](../zreferences.html#coleman1990).\n",
    "\n",
    "It is <a href=/_static/pdfs/pi2.pdf download>known</a> that\n",
    "\n",
    "- $ K $ is a contraction mapping on $ \\mathscr{C} $ under the metric  \n",
    "\n",
    "\n",
    "$$\n",
    "\\rho(c, d) := \\| \\, u' \\circ c - u' \\circ d \\, \\|\n",
    "    := \\sup_{s \\in S} | \\, u'(c(s))  - u'(d(s)) \\, |\n",
    " \\qquad \\quad (c, d \\in \\mathscr{C})\n",
    "$$\n",
    "\n",
    "- The metric $ \\rho $ is complete on $ \\mathscr{C} $  \n",
    "- Convergence in $ \\rho $ implies uniform convergence on compacts  \n",
    "\n",
    "\n",
    "In consequence, $ K $ has a unique fixed point $ c^* \\in \\mathscr{C} $\n",
    "and $ K^n c \\to c^* $ as $ n \\to \\infty $ for any $ c \\in \\mathscr{C} $.\n",
    "\n",
    "By the definition of $ K $, the fixed points of $ K $ in $ \\mathscr{C} $ coincide with\n",
    "the solutions to [(7)](#equation-eqeul1) in $ \\mathscr{C} $.\n",
    "\n",
    "In particular, it <a href=/_static/pdfs/pi2.pdf download>can be shown</a> that the path $ \\{c_t\\} $\n",
    "generated from $ (a_0,z_0) \\in S $ using policy function $ c^* $ is\n",
    "the unique optimal path from $ (a_0,z_0) \\in S $.\n",
    "\n",
    "**TL;DR** The unique optimal policy can be computed by picking any\n",
    "$ c \\in \\mathscr{C} $ and iterating with the operator $ K $ defined in [(8)](#equation-eqsifc)."
   ]
  },
  {
   "cell_type": "markdown",
   "metadata": {},
   "source": [
    "### Value Function Iteration\n",
    "\n",
    "The Bellman operator for this problem is given by\n",
    "\n",
    "\n",
    "<a id='equation-eqbop'></a>\n",
    "$$\n",
    "Tv(a, z)\n",
    "= \\max_{0 \\leq c \\leq Ra + z + b}\n",
    "\\left\\{\n",
    "    u(c) + \\beta \\int v(Ra + z - c, \\acute z) \\Pi(z, d \\acute z)\n",
    "\\right\\} \\tag{10}\n",
    "$$\n",
    "\n",
    "We have to be careful with VFI (i.e., iterating with\n",
    "$ T $) in this setting because $ u $ is not assumed to be bounded\n",
    "\n",
    "- In fact typically unbounded both above and below — e.g. $ u(c) = \\log c $.  \n",
    "- In which case, the standard DP theory does not apply.  \n",
    "- $ T^n v $ is not guaranteed to converge to the value function for arbitrary continous bounded $ v $.  \n",
    "\n",
    "\n",
    "Nonetheless, we can always try the popular strategy “iterate and hope”.\n",
    "\n",
    "We can then check the outcome by comparing with that produced by TI.\n",
    "\n",
    "The latter is known to converge, as described above."
   ]
  },
  {
   "cell_type": "markdown",
   "metadata": {},
   "source": [
    "### Implementation\n",
    "\n",
    "\n",
    "<a id='index-3'></a>\n",
    "Here’s the code for a named-tuple constructor called `ConsumerProblem` that stores primitives, as well as\n",
    "\n",
    "- a `T` function, which implements the Bellman operator $ T $ specified above  \n",
    "- a `K` function, which implements the Coleman operator $ K $ specified above  \n",
    "- an `initialize`, which generates suitable initial conditions for iteration  "
   ]
  },
  {
   "cell_type": "markdown",
   "metadata": {},
   "source": [
    "### Setup"
   ]
  },
  {
   "cell_type": "code",
   "execution_count": 1,
   "metadata": {
    "hide-output": true
   },
   "outputs": [],
   "source": [
    "using InstantiateFromURL\n",
    "# optionally add arguments to force installation: instantiate = true, precompile = true\n",
    "github_project(\"QuantEcon/quantecon-notebooks-julia\", version = \"0.7.0\")"
   ]
  },
  {
   "cell_type": "code",
   "execution_count": 2,
   "metadata": {
    "hide-output": false
   },
   "outputs": [],
   "source": [
    "using LinearAlgebra, Statistics\n",
    "using BenchmarkTools, Optim, Parameters, Plots, QuantEcon, Random\n",
    "using Optim: converged, maximum, maximizer, minimizer, iterations\n",
    "gr(fmt = :png);"
   ]
  },
  {
   "cell_type": "code",
   "execution_count": 3,
   "metadata": {
    "hide-output": false
   },
   "outputs": [
    {
     "data": {
      "text/plain": [
       "initialize (generic function with 1 method)"
      ]
     },
     "execution_count": 3,
     "metadata": {},
     "output_type": "execute_result"
    }
   ],
   "source": [
    "# utility and marginal utility functions\n",
    "u(x) = log(x)\n",
    "du(x) = 1 / x\n",
    "\n",
    "# model\n",
    "function ConsumerProblem(;r = 0.01,\n",
    "                         β = 0.96,\n",
    "                         Π = [0.6 0.4; 0.05 0.95],\n",
    "                         z_vals = [0.5, 1.0],\n",
    "                         b = 0.0,\n",
    "                         grid_max = 16,\n",
    "                         grid_size = 50)\n",
    "    R = 1 + r\n",
    "    asset_grid = range(-b, grid_max, length = grid_size)\n",
    "\n",
    "    return (r = r, R = R, β = β, b = b, Π = Π, z_vals = z_vals, asset_grid = asset_grid)\n",
    "end\n",
    "\n",
    "function T!(cp, V, out; ret_policy = false)\n",
    "\n",
    "    # unpack input, set up arrays\n",
    "    @unpack R, Π, β, b, asset_grid, z_vals = cp\n",
    "    z_idx = 1:length(z_vals)\n",
    "\n",
    "    # value function when the shock index is z_i\n",
    "    vf = interp(asset_grid, V)\n",
    "\n",
    "    opt_lb = 1e-8\n",
    "\n",
    "    # solve for RHS of Bellman equation\n",
    "    for (i_z, z) in enumerate(z_vals)\n",
    "        for (i_a, a) in enumerate(asset_grid)\n",
    "\n",
    "            function obj(c)\n",
    "                EV = dot(vf.(R * a + z - c, z_idx), Π[i_z, :]) # compute expectation\n",
    "                return u(c) +  β * EV\n",
    "            end\n",
    "            res = maximize(obj, opt_lb, R .* a .+ z .+ b)\n",
    "            converged(res) || error(\"Didn't converge\") # important to check\n",
    "\n",
    "            if ret_policy\n",
    "                out[i_a, i_z] = maximizer(res)\n",
    "            else\n",
    "                out[i_a, i_z] = maximum(res)\n",
    "            end\n",
    "\n",
    "        end\n",
    "    end\n",
    "    out\n",
    "end\n",
    "\n",
    "T(cp, V; ret_policy = false) =\n",
    "    T!(cp, V, similar(V); ret_policy = ret_policy)\n",
    "\n",
    "get_greedy!(cp, V, out) =\n",
    "    update_bellman!(cp, V, out, ret_policy = true)\n",
    "\n",
    "get_greedy(cp, V) =\n",
    "    update_bellman(cp, V, ret_policy = true)\n",
    "\n",
    "function K!(cp, c, out)\n",
    "    # simplify names, set up arrays\n",
    "    @unpack R, Π, β, b, asset_grid, z_vals = cp\n",
    "    z_idx = 1:length(z_vals)\n",
    "    gam = R * β\n",
    "\n",
    "    # policy function when the shock index is z_i\n",
    "    cf = interp(asset_grid, c)\n",
    "\n",
    "    # compute lower_bound for optimization\n",
    "    opt_lb = 1e-8\n",
    "\n",
    "    for (i_z, z) in enumerate(z_vals)\n",
    "        for (i_a, a) in enumerate(asset_grid)\n",
    "            function h(t)\n",
    "                cps = cf.(R * a + z - t, z_idx) # c' for each z'\n",
    "                expectation = dot(du.(cps), Π[i_z, :])\n",
    "                return abs(du(t) - max(gam * expectation, du(R * a + z + b)))\n",
    "            end\n",
    "            opt_ub = R*a + z + b  # addresses issue #8 on github\n",
    "            res = optimize(h, min(opt_lb, opt_ub - 1e-2), opt_ub,\n",
    "                           method = Optim.Brent())\n",
    "            out[i_a, i_z] = minimizer(res)\n",
    "        end\n",
    "    end\n",
    "    return out\n",
    "end\n",
    "\n",
    "K(cp, c) = K!(cp, c, similar(c))\n",
    "\n",
    "function initialize(cp)\n",
    "    # simplify names, set up arrays\n",
    "    @unpack R, β, b, asset_grid, z_vals = cp\n",
    "    shape = length(asset_grid), length(z_vals)\n",
    "    V, c = zeros(shape...), zeros(shape...)\n",
    "\n",
    "    # populate V and c\n",
    "    for (i_z, z) in enumerate(z_vals)\n",
    "        for (i_a, a) in enumerate(asset_grid)\n",
    "            c_max = R * a + z + b\n",
    "            c[i_a, i_z] = c_max\n",
    "            V[i_a, i_z] = u(c_max) / (1 - β)\n",
    "        end\n",
    "    end\n",
    "\n",
    "    return V, c\n",
    "end"
   ]
  },
  {
   "cell_type": "markdown",
   "metadata": {},
   "source": [
    "Both `T` and `K` use linear interpolation along the asset grid to approximate the value and consumption functions.\n",
    "\n",
    "The following exercises walk you through several applications where policy functions are computed.\n",
    "\n",
    "In exercise 1 you will see that while VFI and TI produce similar results, the latter is much faster.\n",
    "\n",
    "Intuition behind this fact was provided in [a previous lecture on time iteration](coleman_policy_iter.html)."
   ]
  },
  {
   "cell_type": "markdown",
   "metadata": {},
   "source": [
    "## Exercises\n",
    "\n",
    "\n",
    "<a id='ifp-ex1'></a>"
   ]
  },
  {
   "cell_type": "markdown",
   "metadata": {},
   "source": [
    "### Exercise 1\n",
    "\n",
    "The first exercise is to replicate the following figure, which compares TI and VFI as solution methods\n",
    "\n",
    "<img src=\"_static/figures/vfi_vs_pfi.png\" style=\"width:100%;\">\n",
    "\n",
    "  \n",
    "The figure shows consumption policies computed by iteration of $ K $ and $ T $ respectively\n",
    "\n",
    "- In the case of iteration with $ T $, the final value function is used to compute the observed policy.  \n",
    "\n",
    "\n",
    "Consumption is shown as a function of assets with income $ z $ held fixed\n",
    "at its smallest value.\n",
    "\n",
    "The following details are needed to replicate the figure\n",
    "\n",
    "- The parameters are the default parameters in the definition of `consumerProblem`.  \n",
    "- The initial conditions are the default ones from `initialize(cp)`.  \n",
    "- Both operators are iterated 80 times.  \n",
    "\n",
    "\n",
    "When you run your code you will observe that iteration with $ K $ is\n",
    "faster than iteration with $ T $.\n",
    "\n",
    "In the Julia console, a comparison of the operators can be made as follows"
   ]
  },
  {
   "cell_type": "code",
   "execution_count": 4,
   "metadata": {
    "hide-output": false
   },
   "outputs": [
    {
     "data": {
      "text/plain": [
       "([-17.328679513998615 0.0; -4.664387247760648 7.125637140580436; … ; 69.82541010621486 70.57937835479346; 70.32526591846735 71.06452735149534], [0.5 1.0; 0.8297959183673469 1.329795918367347; … ; 16.33020408163265 16.83020408163265; 16.66 17.16])"
      ]
     },
     "execution_count": 4,
     "metadata": {},
     "output_type": "execute_result"
    }
   ],
   "source": [
    "cp = ConsumerProblem()\n",
    "v, c, = initialize(cp)"
   ]
  },
  {
   "cell_type": "code",
   "execution_count": 5,
   "metadata": {
    "hide-output": false
   },
   "outputs": [
    {
     "name": "stdout",
     "output_type": "stream",
     "text": [
      "  507.584 μs (4676 allocations: 428.20 KiB)\n"
     ]
    }
   ],
   "source": [
    "@btime T(cp, v);"
   ]
  },
  {
   "cell_type": "code",
   "execution_count": 6,
   "metadata": {
    "hide-output": false
   },
   "outputs": [
    {
     "name": "stdout",
     "output_type": "stream",
     "text": [
      "  704.904 μs (7925 allocations: 742.17 KiB)\n"
     ]
    }
   ],
   "source": [
    "@btime K(cp, c);"
   ]
  },
  {
   "cell_type": "markdown",
   "metadata": {},
   "source": [
    "\n",
    "<a id='ifp-ex2'></a>"
   ]
  },
  {
   "cell_type": "markdown",
   "metadata": {},
   "source": [
    "### Exercise 2\n",
    "\n",
    "Next let’s consider how the interest rate affects consumption.\n",
    "\n",
    "Reproduce the following figure, which shows (approximately) optimal consumption policies for different interest rates\n",
    "\n",
    "<img src=\"_static/figures/ifp_policies.png\" style=\"width:100%;\">\n",
    "\n",
    "  \n",
    "- Other than r, all parameters are at their default values  \n",
    "- r steps through range(0, 0.04, length = 4)  \n",
    "- Consumption is plotted against assets for income shock fixed at the smallest value  \n",
    "\n",
    "\n",
    "The figure shows that higher interest rates boost savings and hence suppress consumption.\n",
    "\n",
    "\n",
    "<a id='ifp-ex3'></a>"
   ]
  },
  {
   "cell_type": "markdown",
   "metadata": {},
   "source": [
    "### Exercise 3\n",
    "\n",
    "Now let’s consider the long run asset levels held by households.\n",
    "\n",
    "We’ll take r = 0.03 and otherwise use default parameters.\n",
    "\n",
    "The following figure is a 45 degree diagram showing the law of motion for assets when consumption is optimal"
   ]
  },
  {
   "cell_type": "code",
   "execution_count": 7,
   "metadata": {
    "hide-output": false
   },
   "outputs": [
    {
     "data": {
      "image/png": "[encoded data removed]"
     },
     "execution_count": 7,
     "metadata": {},
     "output_type": "execute_result"
    }
   ],
   "source": [
    "# solve for optimal consumption\n",
    "m = ConsumerProblem(r = 0.03, grid_max = 4)\n",
    "v_init, c_init = initialize(m)\n",
    "\n",
    "c = compute_fixed_point(c -> K(m, c),\n",
    "                        c_init,\n",
    "                        max_iter = 150,\n",
    "                        verbose = false)\n",
    "a = m.asset_grid\n",
    "R, z_vals = m.R, m.z_vals\n",
    "\n",
    "# generate savings plot\n",
    "plot(a, R * a .+ z_vals[1] - c[:, 1], label = \"Low income\")\n",
    "plot!(xlabel = \"Current assets\", ylabel = \"Next period assets\")\n",
    "plot!(a, R * a .+ z_vals[2] - c[:, 2], label = \"High income\")\n",
    "plot!(xlabel = \"Current assets\", ylabel = \"Next period assets\")\n",
    "plot!(a, a, linestyle = :dash, color = \"black\", label = \"\")\n",
    "plot!(xlabel = \"Current assets\", ylabel = \"Next period assets\")\n",
    "plot!(legend = :topleft)"
   ]
  },
  {
   "cell_type": "markdown",
   "metadata": {},
   "source": [
    "The blue line and orange line represent the function\n",
    "\n",
    "$$\n",
    "a' = h(a, z) := R a + z - c^*(a, z)\n",
    "$$\n",
    "\n",
    "when income $ z $ takes its high and low values respectively.\n",
    "\n",
    "The dashed line is the 45 degree line.\n",
    "\n",
    "We can see from the figure that the dynamics will be stable — assets do not\n",
    "diverge.\n",
    "\n",
    "In fact there is a unique stationary distribution of assets that we can calculate by simulation\n",
    "\n",
    "- Can be proved via theorem 2 of [[HP92]](../zreferences.html#hopenhaynprescott1992).  \n",
    "- Represents the long run dispersion of assets across households when households have idiosyncratic shocks.  \n",
    "\n",
    "\n",
    "Ergodicity is valid here, so stationary probabilities can be calculated by averaging over a single long time series.\n",
    "\n",
    "- Hence to approximate the stationary distribution we can simulate a long time series for assets and histogram, as in the following figure  \n",
    "\n",
    "\n",
    "<img src=\"_static/figures/ifp_histogram.png\" style=\"width:100%;\">\n",
    "\n",
    "  \n",
    "Your task is to replicate the figure\n",
    "\n",
    "- Parameters are as discussed above  \n",
    "- The histogram in the figure used a single time series $ \\{a_t\\} $ of length 500,000  \n",
    "- Given the length of this time series, the initial condition $ (a_0, z_0) $ will not matter  \n",
    "- You might find it helpful to use the `MarkovChain` type from `quantecon`  \n",
    "\n",
    "\n",
    "\n",
    "<a id='ifp-ex4'></a>"
   ]
  },
  {
   "cell_type": "markdown",
   "metadata": {},
   "source": [
    "### Exercise 4\n",
    "\n",
    "Following on from exercises 2 and 3, let’s look at how savings and aggregate asset holdings vary with the interest rate\n",
    "\n",
    "- Note: [[LS18]](../zreferences.html#ljungqvist2012) section 18.6 can be consulted for more background on the topic treated in this exercise  \n",
    "\n",
    "\n",
    "For a given parameterization of the model, the mean of the stationary distribution can be interpreted as aggregate capital in an economy with a unit mass of *ex-ante* identical households facing idiosyncratic shocks.\n",
    "\n",
    "Let’s look at how this measure of aggregate capital varies with the interest\n",
    "rate and borrowing constraint.\n",
    "\n",
    "The next figure plots aggregate capital against the interest rate for b in (1, 3)\n",
    "\n",
    "<img src=\"_static/figures/ifp_agg_savings.png\" style=\"width:100%;\">\n",
    "\n",
    "  \n",
    "As is traditional, the price (interest rate) is on the vertical axis.\n",
    "\n",
    "The horizontal axis is aggregate capital computed as the mean of the stationary distribution.\n",
    "\n",
    "Exercise 4 is to replicate the figure, making use of code from previous exercises.\n",
    "\n",
    "Try to explain why the measure of aggregate capital is equal to $ -b $\n",
    "when $ r=0 $ for both cases shown here."
   ]
  },
  {
   "cell_type": "markdown",
   "metadata": {},
   "source": [
    "## Solutions"
   ]
  },
  {
   "cell_type": "markdown",
   "metadata": {},
   "source": [
    "### Exercise 1"
   ]
  },
  {
   "cell_type": "code",
   "execution_count": 8,
   "metadata": {
    "hide-output": false
   },
   "outputs": [
    {
     "name": "stdout",
     "output_type": "stream",
     "text": [
      "Starting value function iteration\n"
     ]
    },
    {
     "name": "stdout",
     "output_type": "stream",
     "text": [
      "Starting policy function iteration\n"
     ]
    },
    {
     "data": {
      "image/png": "[encoded data removed]"
     },
     "execution_count": 8,
     "metadata": {},
     "output_type": "execute_result"
    }
   ],
   "source": [
    "cp = ConsumerProblem()\n",
    "N = 80\n",
    "\n",
    "V, c = initialize(cp)\n",
    "println(\"Starting value function iteration\")\n",
    "for i in 1:N\n",
    "    V = T(cp, V)\n",
    "end\n",
    "c1 = T(cp, V, ret_policy=true)\n",
    "\n",
    "V2, c2 = initialize(cp)\n",
    "println(\"Starting policy function iteration\")\n",
    "for i in 1:N\n",
    "    c2 = K(cp, c2)\n",
    "end\n",
    "\n",
    "plot(cp.asset_grid, c1[:, 1], label = \"value function iteration\")\n",
    "plot!(cp.asset_grid, c2[:, 1], label = \"policy function iteration\")\n",
    "plot!(xlabel = \"asset level\", ylabel = \"Consumption (low income)\")\n",
    "plot!(legend = :topleft)"
   ]
  },
  {
   "cell_type": "markdown",
   "metadata": {},
   "source": [
    "### Exercise 2"
   ]
  },
  {
   "cell_type": "code",
   "execution_count": 9,
   "metadata": {
    "hide-output": false
   },
   "outputs": [
    {
     "data": {
      "image/png": "[encoded data removed]"
     },
     "execution_count": 9,
     "metadata": {},
     "output_type": "execute_result"
    }
   ],
   "source": [
    "r_vals = range(0, 0.04, length = 4)\n",
    "traces = []\n",
    "legends = []\n",
    "\n",
    "for r_val in r_vals\n",
    "    cp = ConsumerProblem(r = r_val)\n",
    "    v_init, c_init = initialize(cp)\n",
    "    c = compute_fixed_point(x -> K(cp, x),\n",
    "                            c_init,\n",
    "                            max_iter = 150,\n",
    "                            verbose = false)\n",
    "    traces = push!(traces, c[:, 1])\n",
    "    legends = push!(legends, \"r = $(round(r_val, digits = 3))\")\n",
    "end\n",
    "\n",
    "plot(traces, label = reshape(legends, 1, length(legends)))\n",
    "plot!(xlabel = \"asset level\", ylabel = \"Consumption (low income)\")\n",
    "plot!(legend = :topleft)"
   ]
  },
  {
   "cell_type": "markdown",
   "metadata": {},
   "source": [
    "### Exercise 3"
   ]
  },
  {
   "cell_type": "code",
   "execution_count": 10,
   "metadata": {
    "hide-output": false
   },
   "outputs": [
    {
     "data": {
      "image/png": "[encoded data removed]"
     },
     "execution_count": 10,
     "metadata": {},
     "output_type": "execute_result"
    }
   ],
   "source": [
    "function compute_asset_series(cp, T = 500_000; verbose = false)\n",
    "    @unpack Π, z_vals, R = cp  # simplify names\n",
    "    z_idx = 1:length(z_vals)\n",
    "    v_init, c_init = initialize(cp)\n",
    "    c = compute_fixed_point(x -> K(cp, x), c_init,\n",
    "                            max_iter = 150, verbose = false)\n",
    "\n",
    "    cf = interp(cp.asset_grid, c)\n",
    "\n",
    "    a = zeros(T + 1)\n",
    "    z_seq = simulate(MarkovChain(Π), T)\n",
    "    for t in 1:T\n",
    "        i_z = z_seq[t]\n",
    "        a[t+1] = R * a[t] + z_vals[i_z] - cf(a[t], i_z)\n",
    "    end\n",
    "    return a\n",
    "end\n",
    "\n",
    "cp = ConsumerProblem(r = 0.03, grid_max = 4)\n",
    "Random.seed!(42) # for reproducibility\n",
    "a = compute_asset_series(cp)\n",
    "histogram(a, nbins = 20, leg = false, normed = true, xlabel = \"assets\")"
   ]
  },
  {
   "cell_type": "markdown",
   "metadata": {},
   "source": [
    "### Exercise 4"
   ]
  },
  {
   "cell_type": "code",
   "execution_count": 11,
   "metadata": {
    "hide-output": false
   },
   "outputs": [
    {
     "name": "stdout",
     "output_type": "stream",
     "text": [
      "Finished iteration b = 1.0\n"
     ]
    },
    {
     "name": "stdout",
     "output_type": "stream",
     "text": [
      "Finished iteration b = 3.0\n"
     ]
    },
    {
     "data": {
      "image/png": "[encoded data removed]"
     },
     "execution_count": 11,
     "metadata": {},
     "output_type": "execute_result"
    }
   ],
   "source": [
    "M = 25\n",
    "r_vals = range(0, 0.04, length = M)\n",
    "\n",
    "xs = []\n",
    "ys = []\n",
    "legends = []\n",
    "for b in [1.0, 3.0]\n",
    "    asset_mean = zeros(M)\n",
    "    for (i, r_val) in enumerate(r_vals)\n",
    "        cp = ConsumerProblem(r = r_val, b = b)\n",
    "        the_mean = mean(compute_asset_series(cp, 250_000))\n",
    "        asset_mean[i] = the_mean\n",
    "    end\n",
    "    xs = push!(xs, asset_mean)\n",
    "    ys = push!(ys, r_vals)\n",
    "    legends = push!(legends, \"b = $b\")\n",
    "    println(\"Finished iteration b = $b\")\n",
    "end\n",
    "plot(xs, ys, label = reshape(legends, 1, length(legends)))\n",
    "plot!(xlabel = \"capital\", ylabel = \"interest rate\", yticks = ([0, 0.045]))\n",
    "plot!(legend = :bottomright)"
   ]
  }
 ],
 "metadata": {
  "date": 1589950437.8086884,
  "download_nb": 1,
  "download_nb_path": "https://julia.quantecon.org/",
  "filename": "ifp.rst",
  "filename_with_path": "dynamic_programming/ifp",
  "kernelspec": {
   "display_name": "Julia 1.4.1",
   "language": "julia",
   "name": "julia-1.4"
  },
  "language_info": {
   "file_extension": ".jl",
   "mimetype": "application/julia",
   "name": "julia",
   "version": "1.4.1"
  },
  "title": "Optimal Savings III: Occasionally Binding Constraints"
 },
 "nbformat": 4,
 "nbformat_minor": 2
}
