{
 "cells": [
  {
   "cell_type": "markdown",
   "metadata": {},
   "source": [
    "\n",
    "<a id='single-agent-models'></a>\n",
    "<div id=\"qe-notebook-header\" style=\"text-align:right;\">\n",
    "        <a href=\"https://quantecon.org/\" title=\"quantecon.org\">\n",
    "                <img style=\"width:250px;display:inline;\" src=\"https://assets.quantecon.org/img/qe-menubar-logo.svg\" alt=\"QuantEcon\">\n",
    "        </a>\n",
    "</div>"
   ]
  },
  {
   "cell_type": "markdown",
   "metadata": {},
   "source": [
    "# Dynamic Programming\n",
    "\n",
    "This section of the course contains foundational models for dynamic economic\n",
    "modeling.   Most are single agent problems that take the activities of other\n",
    "agents as given.  Later we will look at full equilibrium problems."
   ]
  },
  {
   "cell_type": "markdown",
   "metadata": {},
   "source": [
    "## Colab Instructions\n",
    "\n",
    "1. Load the notebook using the launcher at the bottom of the page, and ignore any errors about a missing kernel. \n",
    "\n",
    "2. Run the cell below this one in the notebook. It might take 3 to 5 minutes. \n",
    "\n",
    "3. In the top menu, click \"Edit,\" then \"Notebook Settings,\" and then choose \"Julia 1.4\" as your runtime. Hit \"Save.\"\n",
    "\n",
    "4. To test your setup, run a Julia command in the window (something like `versioninfo()`.) If it doesn't work, try refreshing your browser window in between steps (2) and (3).\n",
    "\n"
   ]
  },
  {
   "cell_type": "code",
   "execution_count": null,
   "metadata": {},
   "outputs": [],
   "source": [
    "%%shell\n",
    "if ! command -v julia 3>&1 > /dev/null\n",
    "then\n",
    "    wget 'https://julialang-s3.julialang.org/bin/linux/x64/1.4/julia-1.4.1-linux-x86_64.tar.gz' \\\n",
    "        -O /tmp/julia.tar.gz\n",
    "    tar -x -f /tmp/julia.tar.gz -C /usr/local --strip-components 1\n",
    "    rm /tmp/julia.tar.gz\n",
    "fi\n",
    "julia -e 'using Pkg; pkg\"add IJulia InstantiateFromURL; precompile;\"'\n",
    "julia -e 'using InstantiateFromURL; github_project(\"QuantEcon/quantecon-notebooks-julia\", instantiate = true, precompile = false)'\n",
    "echo 'Done'\n"
   ]
  },
  {
   "cell_type": "markdown",
   "metadata": {},
   "source": [
    "## Lectures\n",
    "\n",
    "- [Shortest Paths](short_path.ipynb)\n",
    "  - [Overview](short_path.ipynb#overview)\n",
    "  - [Outline of the Problem](short_path.ipynb#outline-of-the-problem)\n",
    "  - [Finding Least-Cost Paths](short_path.ipynb#finding-least-cost-paths)\n",
    "  - [Solving for $ J $](short_path.ipynb#solving-for-j)\n",
    "  - [Exercises](short_path.ipynb#exercises)\n",
    "  - [Solutions](short_path.ipynb#solutions)\n",
    "- [Job Search I: The McCall Search Model](mccall_model.ipynb)\n",
    "  - [Overview](mccall_model.ipynb#overview)\n",
    "  - [The McCall Model](mccall_model.ipynb#the-mccall-model)\n",
    "  - [Computing the Optimal Policy: Take 1](mccall_model.ipynb#computing-the-optimal-policy-take-1)\n",
    "  - [Computing the Optimal Policy: Take 2](mccall_model.ipynb#computing-the-optimal-policy-take-2)\n",
    "  - [Exercises](mccall_model.ipynb#exercises)\n",
    "  - [Solutions](mccall_model.ipynb#solutions)\n",
    "- [Job Search II: Search and Separation](mccall_model_with_separation.ipynb)\n",
    "  - [Overview](mccall_model_with_separation.ipynb#overview)\n",
    "  - [The Model](mccall_model_with_separation.ipynb#the-model)\n",
    "  - [Solving the Model using Dynamic Programming](mccall_model_with_separation.ipynb#solving-the-model-using-dynamic-programming)\n",
    "  - [Implementation](mccall_model_with_separation.ipynb#implementation)\n",
    "  - [The Reservation Wage](mccall_model_with_separation.ipynb#the-reservation-wage)\n",
    "  - [Exercises](mccall_model_with_separation.ipynb#exercises)\n",
    "  - [Solutions](mccall_model_with_separation.ipynb#solutions)\n",
    "- [Optimal Savings I: The Permanent Income Model](perm_income.ipynb)\n",
    "  - [Overview](perm_income.ipynb#overview)\n",
    "  - [The Savings Problem](perm_income.ipynb#the-savings-problem)\n",
    "  - [Alternative Representations](perm_income.ipynb#alternative-representations)\n",
    "  - [Two Classic Examples](perm_income.ipynb#two-classic-examples)\n",
    "  - [Further Reading](perm_income.ipynb#further-reading)\n",
    "  - [Appendix: the Euler Equation](perm_income.ipynb#appendix-the-euler-equation)\n",
    "- [Optimal Savings II: LQ Techniques](perm_income_cons.ipynb)\n",
    "  - [Overview](perm_income_cons.ipynb#overview)\n",
    "  - [Introduction](perm_income_cons.ipynb#introduction)\n",
    "  - [The LQ Approach](perm_income_cons.ipynb#the-lq-approach)\n",
    "  - [Implementation](perm_income_cons.ipynb#implementation)\n",
    "  - [Two Example Economies](perm_income_cons.ipynb#two-example-economies)\n",
    "- [Consumption and Tax Smoothing with Complete and Incomplete Markets](smoothing.ipynb)\n",
    "  - [Overview](smoothing.ipynb#overview)\n",
    "  - [Background](smoothing.ipynb#background)\n",
    "  - [Model 1 (Complete Markets)](smoothing.ipynb#model-1-complete-markets)\n",
    "  - [Model 2 (One-Period Risk Free Debt Only)](smoothing.ipynb#model-2-one-period-risk-free-debt-only)\n",
    "  - [Example: Tax Smoothing with Complete Markets](smoothing.ipynb#example-tax-smoothing-with-complete-markets)\n",
    "  - [Linear State Space Version of Complete Markets Model](smoothing.ipynb#linear-state-space-version-of-complete-markets-model)"
   ]
  }
 ],
 "metadata": {
  "date": 1589493417.452551,
  "filename": "index_undergrad.rst",
  "kernelspec": {
   "display_name": "Julia 1.4.1",
   "language": "julia",
   "name": "julia-1.4"
  },
  "title": "Dynamic Programming"
 },
 "nbformat": 4,
 "nbformat_minor": 4
}
