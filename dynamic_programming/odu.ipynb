{
 "cells": [
  {
   "cell_type": "markdown",
   "metadata": {},
   "source": [
    "\n",
    "<a id='odu'></a>\n",
    "<div id=\"qe-notebook-header\" style=\"text-align:right;\">\n",
    "        <a href=\"https://quantecon.org/\" title=\"quantecon.org\">\n",
    "                <img style=\"width:250px;display:inline;\" src=\"https://assets.quantecon.org/img/qe-menubar-logo.svg\" alt=\"QuantEcon\">\n",
    "        </a>\n",
    "</div>"
   ]
  },
  {
   "cell_type": "markdown",
   "metadata": {},
   "source": [
    "# Job Search III: Search with Learning"
   ]
  },
  {
   "cell_type": "markdown",
   "metadata": {},
   "source": [
    "## Colab Instructions\n",
    "\n",
    "Colab does not have direct Julia support, and it must be installed each time you are working on a notebook.  \n",
    "\n",
    "Instructions:\n",
    "\n",
    "1. Ignore any errors about a missing kernel when loading the notebook.  Choose `Run Anyway` when it prompts that the notebook wasn't authored by google.\n",
    "\n",
    "2. Run the cell below this with `Shift+Enter`.\n",
    "    -  It will **5 to 8 minutes** the first time you run it for Julia and key packages to install\n",
    "\n",
    "3. Refresh your browser, and then execute any code as normal.\n",
    "  - Even after installation, there will be more precompiling latency for some packages. "
   ]
  },
  {
   "cell_type": "code",
   "execution_count": null,
   "metadata": {},
   "outputs": [],
   "source": [
    "%%shell\n",
    "if ! command -v julia 3>&1 > /dev/null\n",
    "then\n",
    "    wget 'https://julialang-s3.julialang.org/bin/linux/x64/1.4/julia-1.4.2-linux-x86_64.tar.gz' \\\n",
    "        -O /tmp/julia.tar.gz\n",
    "    tar -x -f /tmp/julia.tar.gz -C /usr/local --strip-components 1\n",
    "    rm /tmp/julia.tar.gz\n",
    "    julia -e 'using Pkg; pkg\"add IJulia InstantiateFromURL; precompile;\"'\n",
    "    julia -e 'using InstantiateFromURL; github_project(\"QuantEcon/quantecon-notebooks-julia\", version = \"0.8.0\", instantiate = true, precompile = false); using Plots, Distributions, Parameters, NLsolve, ForwardDiff, Expectations'\n",
    "    echo 'Done'\n",
    "fi\n"
   ]
  },
  {
   "cell_type": "markdown",
   "metadata": {},
   "source": [
    "## Contents\n",
    "\n",
    "- [Job Search III: Search with Learning](#Job-Search-III:-Search-with-Learning)  \n",
    "  - [Overview](#Overview)  \n",
    "  - [Model](#Model)  \n",
    "  - [Take 1: Solution by VFI](#Take-1:-Solution-by-VFI)  \n",
    "  - [Take 2: A More Efficient Method](#Take-2:-A-More-Efficient-Method)  \n",
    "  - [Exercises](#Exercises)  \n",
    "  - [Solutions](#Solutions)  "
   ]
  },
  {
   "cell_type": "markdown",
   "metadata": {},
   "source": [
    "## Overview\n",
    "\n",
    "In this lecture we consider an extension of the [previously studied](mccall_model.html) job search model of McCall [[McC70]](../zreferences.html#mccall1970).\n",
    "\n",
    "In the McCall model, an unemployed worker decides when to accept a permanent position at a specified wage, given\n",
    "\n",
    "- his or her discount rate  \n",
    "- the level of unemployment compensation  \n",
    "- the distribution from which wage offers are drawn  \n",
    "\n",
    "\n",
    "In the version considered below, the wage distribution is unknown and must be learned.\n",
    "\n",
    "- The following is based on the presentation in [[LS18]](../zreferences.html#ljungqvist2012), section 6.6.  "
   ]
  },
  {
   "cell_type": "markdown",
   "metadata": {},
   "source": [
    "### Model features\n",
    "\n",
    "- Infinite horizon dynamic programming with two states and one binary control.  \n",
    "- Bayesian updating to learn the unknown distribution.  "
   ]
  },
  {
   "cell_type": "markdown",
   "metadata": {},
   "source": [
    "### Setup"
   ]
  },
  {
   "cell_type": "code",
   "execution_count": 1,
   "metadata": {
    "hide-output": true
   },
   "outputs": [],
   "source": [
    "using InstantiateFromURL\n",
    "# optionally add arguments to force installation: instantiate = true, precompile = true\n",
    "github_project(\"QuantEcon/quantecon-notebooks-julia\", version = \"0.8.0\")"
   ]
  },
  {
   "cell_type": "markdown",
   "metadata": {},
   "source": [
    "## Model\n",
    "\n",
    "\n",
    "<a id='index-0'></a>\n",
    "Let’s first review the basic McCall model [[McC70]](../zreferences.html#mccall1970) and then add the variation we want to consider."
   ]
  },
  {
   "cell_type": "markdown",
   "metadata": {},
   "source": [
    "### The Basic McCall Model\n",
    "\n",
    "\n",
    "<a id='index-1'></a>\n",
    "Recall that, [in the baseline model](mccall_model.html), an unemployed worker is presented in each period with a\n",
    "permanent job offer at wage $ W_t $.\n",
    "\n",
    "At time $ t $, our worker either\n",
    "\n",
    "1. accepts the offer and works permanently at constant wage $ W_t $  \n",
    "1. rejects the offer, receives unemployment compensation $ c $ and reconsiders next period  \n",
    "\n",
    "\n",
    "The wage sequence $ \\{W_t\\} $ is iid and generated from known density $ h $.\n",
    "\n",
    "The worker aims to maximize the expected discounted sum of earnings $ \\mathbb{E} \\sum_{t=0}^{\\infty} \\beta^t y_t $\n",
    "The function $ V $ satisfies the recursion\n",
    "\n",
    "\n",
    "<a id='equation-odu-odu-pv'></a>\n",
    "$$\n",
    "V(w)\n",
    "= \\max \\left\\{\n",
    "\\frac{w}{1 - \\beta}, \\, c + \\beta \\int V(w')h(w') dw'\n",
    "\\right\\} \\tag{1}\n",
    "$$\n",
    "\n",
    "The optimal policy has the form $ \\mathbf{1}\\{w \\geq \\bar w\\} $, where\n",
    "$ \\bar w $ is a constant depending called the *reservation wage*."
   ]
  },
  {
   "cell_type": "markdown",
   "metadata": {},
   "source": [
    "### Offer Distribution Unknown\n",
    "\n",
    "Now let’s extend the model by considering the variation presented in [[LS18]](../zreferences.html#ljungqvist2012), section 6.6.\n",
    "\n",
    "The model is as above, apart from the fact that\n",
    "\n",
    "- the density $ h $ is unknown  \n",
    "- the worker learns about $ h $ by starting with a prior and updating based on wage offers that he/she observes  \n",
    "\n",
    "\n",
    "The worker knows there are two possible distributions $ F $ and $ G $ — with densities $ f $ and $ g $.\n",
    "\n",
    "At the start of time, “nature” selects $ h $ to be either $ f $ or\n",
    "$ g $ — the wage distribution from which the entire sequence $ \\{W_t\\} $ will be drawn.\n",
    "\n",
    "This choice is not observed by the worker, who puts prior probability $ \\pi_0 $ on $ f $ being chosen.\n",
    "\n",
    "Update rule: worker’s time $ t $ estimate of the distribution is $ \\pi_t f + (1 - \\pi_t) g $, where $ \\pi_t $ updates via\n",
    "\n",
    "\n",
    "<a id='equation-odu-pi-rec'></a>\n",
    "$$\n",
    "\\pi_{t+1}\n",
    "= \\frac{\\pi_t f(w_{t+1})}{\\pi_t f(w_{t+1}) + (1 - \\pi_t) g(w_{t+1})} \\tag{2}\n",
    "$$\n",
    "\n",
    "This last expression follows from Bayes’ rule, which tells us that\n",
    "\n",
    "$$\n",
    "\\mathbb{P}\\{h = f \\,|\\, W = w\\}\n",
    "= \\frac{\\mathbb{P}\\{W = w \\,|\\, h = f\\}\\mathbb{P}\\{h = f\\}}\n",
    "{\\mathbb{P}\\{W = w\\}}\n",
    "\\quad \\text{and} \\quad\n",
    "\\mathbb{P}\\{W = w\\} = \\sum_{\\psi \\in \\{f, g\\}} \\mathbb{P}\\{W = w \\,|\\, h = \\psi\\} \\mathbb{P}\\{h = \\psi\\}\n",
    "$$\n",
    "\n",
    "The fact that [(2)](#equation-odu-pi-rec) is recursive allows us to progress to a recursive solution method.\n",
    "\n",
    "Letting\n",
    "\n",
    "$$\n",
    "h_{\\pi}(w) := \\pi f(w) + (1 - \\pi) g(w)\n",
    "\\quad \\text{and} \\quad\n",
    "q(w, \\pi) := \\frac{\\pi f(w)}{\\pi f(w) + (1 - \\pi) g(w)}\n",
    "$$\n",
    "\n",
    "we can express the value function for the unemployed worker recursively as\n",
    "follows\n",
    "\n",
    "\n",
    "<a id='equation-odu-mvf'></a>\n",
    "$$\n",
    "V(w, \\pi)\n",
    "= \\max \\left\\{\n",
    "\\frac{w}{1 - \\beta}, \\, c + \\beta \\int V(w', \\pi') \\, h_{\\pi}(w') \\, dw'\n",
    "\\right\\}\n",
    "\\quad \\text{where} \\quad\n",
    "\\pi' = q(w', \\pi) \\tag{3}\n",
    "$$\n",
    "\n",
    "Notice that the current guess $ \\pi $ is a state variable, since it affects the worker’s perception of probabilities for future rewards."
   ]
  },
  {
   "cell_type": "markdown",
   "metadata": {},
   "source": [
    "### Parameterization\n",
    "\n",
    "Following  section 6.6 of [[LS18]](../zreferences.html#ljungqvist2012), our baseline parameterization will be\n",
    "\n",
    "- $ f $ is $ \\operatorname{Beta}(1, 1) $ scaled (i.e., draws are multiplied by) some factor $ w_m $  \n",
    "- $ g $ is $ \\operatorname{Beta}(3, 1.2) $ scaled (i.e., draws are multiplied by) the same factor $ w_m $  \n",
    "- $ \\beta = 0.95 $ and $ c = 0.6 $  \n",
    "\n",
    "\n",
    "With $ w_m = 2 $, the densities $ f $ and $ g $ have the following shape"
   ]
  },
  {
   "cell_type": "code",
   "execution_count": 2,
   "metadata": {
    "hide-output": false
   },
   "outputs": [
    {
     "data": {
      "image/png": "[encoded data removed]"
     },
     "execution_count": 2,
     "metadata": {},
     "output_type": "execute_result"
    }
   ],
   "source": [
    "using LinearAlgebra, Statistics\n",
    "using Distributions, Plots, QuantEcon, Interpolations, Parameters\n",
    "\n",
    "gr(fmt=:png);\n",
    "\n",
    "w_max = 2\n",
    "x = range(0,  w_max, length = 200)\n",
    "\n",
    "G = Beta(3, 1.6)\n",
    "F = Beta(1, 1)\n",
    "plot(x, pdf.(G, x/w_max)/w_max, label=\"g\")\n",
    "plot!(x, pdf.(F, x/w_max)/w_max, label=\"f\")"
   ]
  },
  {
   "cell_type": "markdown",
   "metadata": {},
   "source": [
    "\n",
    "<a id='looking-forward'></a>"
   ]
  },
  {
   "cell_type": "markdown",
   "metadata": {},
   "source": [
    "### Looking Forward\n",
    "\n",
    "What kind of optimal policy might result from [(3)](#equation-odu-mvf) and the parameterization specified above?\n",
    "\n",
    "Intuitively, if we accept at $ w_a $ and $ w_a \\leq w_b $, then — all other things being given — we should also accept at $ w_b $.\n",
    "\n",
    "This suggests a policy of accepting whenever $ w $ exceeds some threshold value $ \\bar w $.\n",
    "\n",
    "But $ \\bar w $ should depend on $ \\pi $ — in fact it should be decreasing in $ \\pi $ because\n",
    "\n",
    "- $ f $ is a less attractive offer distribution than $ g $  \n",
    "- larger $ \\pi $ means more weight on $ f $ and less on $ g $  \n",
    "\n",
    "\n",
    "Thus larger $ \\pi $ depresses the worker’s assessment of her future prospects, and relatively low current offers become more attractive.\n",
    "\n",
    "**Summary:**  We conjecture that the optimal policy is of the form\n",
    "$ \\mathbb 1\\{w \\geq \\bar w(\\pi) \\} $ for some decreasing function\n",
    "$ \\bar w $."
   ]
  },
  {
   "cell_type": "markdown",
   "metadata": {},
   "source": [
    "## Take 1: Solution by VFI\n",
    "\n",
    "Let’s set about solving the model and see how our results match with our intuition.\n",
    "\n",
    "We begin by solving via value function iteration (VFI), which is natural but ultimately turns out to be second best.\n",
    "\n",
    "The code is as follows.\n",
    "\n",
    "\n",
    "<a id='odu-vfi-code'></a>"
   ]
  },
  {
   "cell_type": "code",
   "execution_count": 3,
   "metadata": {
    "hide-output": false
   },
   "outputs": [
    {
     "data": {
      "text/plain": [
       "res_wage_operator (generic function with 1 method)"
      ]
     },
     "execution_count": 3,
     "metadata": {},
     "output_type": "execute_result"
    }
   ],
   "source": [
    "# use key word argment\n",
    "function SearchProblem(;β = 0.95, c = 0.6, F_a = 1, F_b = 1,\n",
    "                       G_a = 3, G_b = 1.2, w_max = 2.0,\n",
    "                       w_grid_size = 40, π_grid_size = 40)\n",
    "\n",
    "    F = Beta(F_a, F_b)\n",
    "    G = Beta(G_a, G_b)\n",
    "\n",
    "    # scaled pdfs\n",
    "    f(x) = pdf.(F, x/w_max)/w_max\n",
    "    g(x) = pdf.(G, x/w_max)/w_max\n",
    "\n",
    "    π_min = 1e-3  # avoids instability\n",
    "    π_max = 1 - π_min\n",
    "\n",
    "    w_grid = range(0,  w_max, length = w_grid_size)\n",
    "    π_grid = range(π_min,  π_max, length = π_grid_size)\n",
    "\n",
    "    nodes, weights = qnwlege(21, 0.0, w_max)\n",
    "\n",
    "    return (β = β, c = c, F = F, G = G, f = f,\n",
    "            g = g, n_w = w_grid_size, w_max = w_max,\n",
    "            w_grid = w_grid, n_π = π_grid_size, π_min = π_min,\n",
    "            π_max = π_max, π_grid = π_grid, quad_nodes = nodes,\n",
    "            quad_weights = weights)\n",
    "end\n",
    "\n",
    "function q(sp, w, π_val)\n",
    "    new_π = 1.0 / (1 + ((1 - π_val) * sp.g(w)) / (π_val * sp.f(w)))\n",
    "\n",
    "    # Return new_π when in [π_min, π_max] and else end points\n",
    "    return clamp(new_π, sp.π_min, sp.π_max)\n",
    "end\n",
    "\n",
    "function T!(sp, v, out;\n",
    "                           ret_policy = false)\n",
    "    # simplify names\n",
    "    @unpack f, g, β, c = sp\n",
    "    nodes, weights = sp.quad_nodes, sp.quad_weights\n",
    "\n",
    "    vf = extrapolate(interpolate((sp.w_grid, sp.π_grid), v,\n",
    "                    Gridded(Linear())), Flat())\n",
    "\n",
    "    # set up quadrature nodes/weights\n",
    "    # q_nodes, q_weights = qnwlege(21, 0.0, sp.w_max)\n",
    "\n",
    "    for (w_i, w) in enumerate(sp.w_grid)\n",
    "        # calculate v1\n",
    "        v1 = w / (1 - β)\n",
    "\n",
    "        for (π_j, _π) in enumerate(sp.π_grid)\n",
    "            # calculate v2\n",
    "            integrand(m) = [vf(m[i], q.(Ref(sp), m[i], _π)) *\n",
    "                        (_π * f(m[i]) + (1 - _π) * g(m[i])) for i in 1:length(m)]\n",
    "            integral = do_quad(integrand, nodes, weights)\n",
    "            # integral = do_quad(integrand, q_nodes, q_weights)\n",
    "            v2 = c + β * integral\n",
    "\n",
    "            # return policy if asked for, otherwise return max of values\n",
    "            out[w_i, π_j] = ret_policy ? v1 > v2 : max(v1, v2)\n",
    "        end\n",
    "    end\n",
    "    return out\n",
    "end\n",
    "\n",
    "function T(sp, v;\n",
    "                          ret_policy = false)\n",
    "    out_type = ret_policy ? Bool : Float64\n",
    "    out = zeros(out_type, sp.n_w, sp.n_π)\n",
    "    T!(sp, v, out, ret_policy=ret_policy)\n",
    "end\n",
    "\n",
    "\n",
    "get_greedy!(sp, v, out) = T!(sp, v, out, ret_policy = true)\n",
    "\n",
    "get_greedy(sp, v) = T(sp, v, ret_policy = true)\n",
    "\n",
    "function res_wage_operator!(sp, ϕ, out)\n",
    "    # simplify name\n",
    "    @unpack f, g, β, c = sp\n",
    "\n",
    "    # Construct interpolator over π_grid, given ϕ\n",
    "    ϕ_f = LinearInterpolation(sp.π_grid, ϕ, extrapolation_bc = Line())\n",
    "\n",
    "    # set up quadrature nodes/weights\n",
    "    q_nodes, q_weights = qnwlege(7, 0.0, sp.w_max)\n",
    "\n",
    "    for (i, _π) in enumerate(sp.π_grid)\n",
    "        integrand(x) = max.(x, ϕ_f.(q.(Ref(sp), x, _π))) .* (_π * f(x) + (1 - _π) * g(x))\n",
    "        integral = do_quad(integrand, q_nodes, q_weights)\n",
    "        out[i] = (1 - β) * c + β * integral\n",
    "    end\n",
    "end\n",
    "\n",
    "function res_wage_operator(sp, ϕ)\n",
    "    out = similar(ϕ)\n",
    "    res_wage_operator!(sp, ϕ, out)\n",
    "    return out\n",
    "end"
   ]
  },
  {
   "cell_type": "markdown",
   "metadata": {},
   "source": [
    "The type `SearchProblem` is used to store parameters and methods needed to compute optimal actions.\n",
    "\n",
    "The Bellman operator is implemented as the method `T()`, while `get_greedy()`\n",
    "computes an approximate optimal policy from a guess `v` of the value function.\n",
    "\n",
    "We will omit a detailed discussion of the code because there is a more efficient solution method.\n",
    "\n",
    "These ideas are implemented in the `.res_wage_operator()` method.\n",
    "\n",
    "Before explaining it let’s look at solutions computed from value function iteration.\n",
    "\n",
    "Here’s the value function:"
   ]
  },
  {
   "cell_type": "code",
   "execution_count": 4,
   "metadata": {
    "hide-output": false
   },
   "outputs": [
    {
     "name": "stdout",
     "output_type": "stream",
     "text": [
      "Compute iterate 10 with error 0.19801710153283736\n"
     ]
    },
    {
     "name": "stdout",
     "output_type": "stream",
     "text": [
      "Compute iterate 20 with error 0.007608221868107279\n"
     ]
    },
    {
     "name": "stdout",
     "output_type": "stream",
     "text": [
      "Compute iterate 30 with error 0.0002901698734376623\n"
     ]
    },
    {
     "name": "stdout",
     "output_type": "stream",
     "text": [
      "Converged in 34 steps\n"
     ]
    },
    {
     "data": {
      "image/png": "[encoded data removed]"
     },
     "execution_count": 4,
     "metadata": {},
     "output_type": "execute_result"
    }
   ],
   "source": [
    "# Set up the problem and initial guess, solve by VFI\n",
    "sp = SearchProblem(;w_grid_size=100, π_grid_size=100)\n",
    "v_init = fill(sp.c / (1 - sp.β), sp.n_w, sp.n_π)\n",
    "f(x) = T(sp, x)\n",
    "v = compute_fixed_point(f, v_init)\n",
    "policy = get_greedy(sp, v)\n",
    "\n",
    "# Make functions for the linear interpolants of these\n",
    "vf = extrapolate(interpolate((sp.w_grid, sp.π_grid), v, Gridded(Linear())),\n",
    "                Flat())\n",
    "pf = extrapolate(interpolate((sp.w_grid, sp.π_grid), policy,\n",
    "                Gridded(Linear())), Flat())\n",
    "\n",
    "function plot_value_function(;w_plot_grid_size = 100,\n",
    "                            π_plot_grid_size = 100)\n",
    "  π_plot_grid = range(0.001,  0.99, length =  π_plot_grid_size)\n",
    "  w_plot_grid = range(0,  sp.w_max, length = w_plot_grid_size)\n",
    "  Z = [vf(w_plot_grid[j], π_plot_grid[i])\n",
    "          for j in 1:w_plot_grid_size, i in 1:π_plot_grid_size]\n",
    "  p = contour(π_plot_grid, w_plot_grid, Z, levels=15, alpha=0.6,\n",
    "              fill=true, size=(400, 400), c=:lightrainbow)\n",
    "  plot!(xlabel=\"pi\", ylabel=\"w\", xguidefont=font(12))\n",
    "  return p\n",
    "end\n",
    "\n",
    "plot_value_function()"
   ]
  },
  {
   "cell_type": "markdown",
   "metadata": {},
   "source": [
    "\n",
    "<a id='odu-pol-vfi'></a>\n",
    "The optimal policy:"
   ]
  },
  {
   "cell_type": "code",
   "execution_count": 5,
   "metadata": {
    "hide-output": false
   },
   "outputs": [
    {
     "data": {
      "image/png": "[encoded data removed]"
     },
     "execution_count": 5,
     "metadata": {},
     "output_type": "execute_result"
    }
   ],
   "source": [
    "function plot_policy_function(;w_plot_grid_size = 100,\n",
    "                              π_plot_grid_size = 100)\n",
    "    π_plot_grid = range(0.001,  0.99, length = π_plot_grid_size)\n",
    "    w_plot_grid = range(0,  sp.w_max, length = w_plot_grid_size)\n",
    "    Z = [pf(w_plot_grid[j], π_plot_grid[i])\n",
    "            for j in 1:w_plot_grid_size, i in 1:π_plot_grid_size]\n",
    "    p = contour(π_plot_grid, w_plot_grid, Z, levels=1, alpha=0.6, fill=true,\n",
    "                size=(400, 400), c=:coolwarm)\n",
    "    plot!(xlabel=\"pi\", ylabel=\"wage\", xguidefont=font(12), cbar=false)\n",
    "    annotate!(0.4, 1.0, \"reject\")\n",
    "    annotate!(0.7, 1.8, \"accept\")\n",
    "    return p\n",
    "end\n",
    "\n",
    "plot_policy_function()"
   ]
  },
  {
   "cell_type": "markdown",
   "metadata": {},
   "source": [
    "The code takes several minutes to run.\n",
    "\n",
    "The results fit well with our intuition from section [looking forward](#looking-forward).\n",
    "\n",
    "- The black line in the figure above corresponds to the function $ \\bar w(\\pi) $ introduced there.  \n",
    "- It is decreasing as expected.  "
   ]
  },
  {
   "cell_type": "markdown",
   "metadata": {},
   "source": [
    "## Take 2: A More Efficient Method\n",
    "\n",
    "Our implementation of VFI can be optimized to some degree.\n",
    "\n",
    "But instead of pursuing that, let’s consider another method to solve for the optimal policy.\n",
    "\n",
    "We will use iteration with an operator that has the same contraction rate as the Bellman operator, but\n",
    "\n",
    "- one dimensional rather than two dimensional  \n",
    "- no maximization step  \n",
    "\n",
    "\n",
    "As a consequence, the algorithm is orders of magnitude faster than VFI.\n",
    "\n",
    "This section illustrates the point that when it comes to programming, a bit of\n",
    "mathematical analysis goes a long way."
   ]
  },
  {
   "cell_type": "markdown",
   "metadata": {},
   "source": [
    "### Another Functional Equation\n",
    "\n",
    "To begin, note that when $ w = \\bar w(\\pi) $, the worker is indifferent\n",
    "between accepting and rejecting.\n",
    "\n",
    "Hence the two choices on the right-hand side of [(3)](#equation-odu-mvf) have equal value:\n",
    "\n",
    "\n",
    "<a id='equation-odu-mvf2'></a>\n",
    "$$\n",
    "\\frac{\\bar w(\\pi)}{1 - \\beta}\n",
    "= c + \\beta \\int V(w', \\pi') \\, h_{\\pi}(w') \\, dw' \\tag{4}\n",
    "$$\n",
    "\n",
    "Together, [(3)](#equation-odu-mvf) and [(4)](#equation-odu-mvf2) give\n",
    "\n",
    "\n",
    "<a id='equation-odu-mvf3'></a>\n",
    "$$\n",
    "V(w, \\pi) =\n",
    "\\max\n",
    "\\left\\{\n",
    "    \\frac{w}{1 - \\beta} ,\\, \\frac{\\bar w(\\pi)}{1 - \\beta}\n",
    "\\right\\} \\tag{5}\n",
    "$$\n",
    "\n",
    "Combining [(4)](#equation-odu-mvf2) and [(5)](#equation-odu-mvf3), we obtain\n",
    "\n",
    "$$\n",
    "\\frac{\\bar w(\\pi)}{1 - \\beta}\n",
    "= c + \\beta \\int \\max \\left\\{\n",
    "    \\frac{w'}{1 - \\beta} ,\\, \\frac{\\bar w(\\pi')}{1 - \\beta}\n",
    "\\right\\}\n",
    "\\, h_{\\pi}(w') \\, dw'\n",
    "$$\n",
    "\n",
    "Multiplying by $ 1 - \\beta $, substituting in $ \\pi' = q(w', \\pi) $ and using $ \\circ $ for composition of functions yields\n",
    "\n",
    "\n",
    "<a id='equation-odu-mvf4'></a>\n",
    "$$\n",
    "\\bar w(\\pi)\n",
    "= (1 - \\beta) c +\n",
    "\\beta \\int \\max \\left\\{ w', \\bar w \\circ q(w', \\pi) \\right\\} \\, h_{\\pi}(w') \\, dw' \\tag{6}\n",
    "$$\n",
    "\n",
    "Equation [(6)](#equation-odu-mvf4) can be understood as a functional equation, where $ \\bar w $ is the unknown function.\n",
    "\n",
    "- Let’s call it the *reservation wage functional equation* (RWFE).  \n",
    "- The solution $ \\bar w $ to the RWFE is the object that we wish to compute.  "
   ]
  },
  {
   "cell_type": "markdown",
   "metadata": {},
   "source": [
    "### Solving the RWFE\n",
    "\n",
    "To solve the RWFE, we will first show that its solution is the\n",
    "fixed point of a [contraction mapping](https://en.wikipedia.org/wiki/Contraction_mapping).\n",
    "\n",
    "To this end, let\n",
    "\n",
    "- $ b[0,1] $ be the bounded real-valued functions on $ [0,1] $  \n",
    "- $ \\| \\psi \\| := \\sup_{x \\in [0,1]} | \\psi(x) | $  \n",
    "\n",
    "\n",
    "Consider the operator $ Q $ mapping $ \\psi \\in b[0,1] $ into $ Q\\psi \\in b[0,1] $ via\n",
    "\n",
    "\n",
    "<a id='equation-odu-dq'></a>\n",
    "$$\n",
    "(Q \\psi)(\\pi)\n",
    "= (1 - \\beta) c +\n",
    "\\beta \\int \\max \\left\\{ w', \\psi \\circ q(w', \\pi) \\right\\} \\, h_{\\pi}(w') \\, dw' \\tag{7}\n",
    "$$\n",
    "\n",
    "Comparing [(6)](#equation-odu-mvf4) and [(7)](#equation-odu-dq), we see that the set of fixed points of $ Q $ exactly coincides with the set of solutions to the RWFE.\n",
    "\n",
    "- If $ Q \\bar w = \\bar w $ then $ \\bar w $ solves [(6)](#equation-odu-mvf4) and vice versa.  \n",
    "\n",
    "\n",
    "Moreover, for any $ \\psi, \\phi \\in b[0,1] $, basic algebra and the\n",
    "triangle inequality for integrals tells us that\n",
    "\n",
    "\n",
    "<a id='equation-odu-nt'></a>\n",
    "$$\n",
    "|(Q \\psi)(\\pi) - (Q \\phi)(\\pi)|\n",
    "\\leq \\beta \\int\n",
    "\\left|\n",
    "\\max \\left\\{w', \\psi \\circ q(w', \\pi) \\right\\} -\n",
    "\\max \\left\\{w', \\phi \\circ q(w', \\pi) \\right\\}\n",
    "\\right|\n",
    "\\, h_{\\pi}(w') \\, dw' \\tag{8}\n",
    "$$\n",
    "\n",
    "Working case by case, it is easy to check that for real numbers $ a, b, c $ we always have\n",
    "\n",
    "\n",
    "<a id='equation-odu-nt2'></a>\n",
    "$$\n",
    "| \\max\\{a, b\\} - \\max\\{a, c\\}| \\leq | b - c| \\tag{9}\n",
    "$$\n",
    "\n",
    "Combining [(8)](#equation-odu-nt) and [(9)](#equation-odu-nt2) yields\n",
    "\n",
    "\n",
    "<a id='equation-odu-nt3'></a>\n",
    "$$\n",
    "|(Q \\psi)(\\pi) - (Q \\phi)(\\pi)|\n",
    "\\leq \\beta \\int\n",
    "\\left| \\psi \\circ q(w', \\pi) -  \\phi \\circ q(w', \\pi) \\right|\n",
    "\\, h_{\\pi}(w') \\, dw'\n",
    "\\leq \\beta \\| \\psi - \\phi \\| \\tag{10}\n",
    "$$\n",
    "\n",
    "Taking the supremum over $ \\pi $ now gives us\n",
    "\n",
    "\n",
    "<a id='equation-odu-rwc'></a>\n",
    "$$\n",
    "\\|Q \\psi - Q \\phi\\|\n",
    "\\leq \\beta \\| \\psi - \\phi \\| \\tag{11}\n",
    "$$\n",
    "\n",
    "In other words, $ Q $ is a contraction of modulus $ \\beta $ on the\n",
    "complete metric space $ (b[0,1], \\| \\cdot \\|) $.\n",
    "\n",
    "Hence\n",
    "\n",
    "- A unique solution $ \\bar w $ to the RWFE exists in $ b[0,1] $.  \n",
    "- $ Q^k \\psi \\to \\bar w $ uniformly as $ k \\to \\infty $, for any $ \\psi \\in b[0,1] $.  "
   ]
  },
  {
   "cell_type": "markdown",
   "metadata": {},
   "source": [
    "#### Implementation\n",
    "\n",
    "These ideas are implemented in the `.res_wage_operator()` method from `odu.jl` as shown above.\n",
    "\n",
    "The method corresponds to action of the operator $ Q $.\n",
    "\n",
    "The following exercise asks you to exploit these facts to compute an approximation to $ \\bar w $."
   ]
  },
  {
   "cell_type": "markdown",
   "metadata": {},
   "source": [
    "## Exercises\n",
    "\n",
    "\n",
    "<a id='odu-ex1'></a>"
   ]
  },
  {
   "cell_type": "markdown",
   "metadata": {},
   "source": [
    "### Exercise 1\n",
    "\n",
    "Use the default parameters and the `.res_wage_operator()` method to compute an optimal policy.\n",
    "\n",
    "Your result should coincide closely with the figure for the optimal policy [shown above](#odu-pol-vfi).\n",
    "\n",
    "Try experimenting with different parameters, and confirm that the change in\n",
    "the optimal policy coincides with your intuition."
   ]
  },
  {
   "cell_type": "markdown",
   "metadata": {},
   "source": [
    "## Solutions"
   ]
  },
  {
   "cell_type": "markdown",
   "metadata": {},
   "source": [
    "### Exercise 1\n",
    "\n",
    "This code solves the “Offer Distribution Unknown” model by iterating on\n",
    "a guess of the reservation wage function. You should find that the run\n",
    "time is much shorter than that of the value function approach in\n",
    "`examples/odu_vfi_plots.jl`."
   ]
  },
  {
   "cell_type": "code",
   "execution_count": 6,
   "metadata": {
    "hide-output": false
   },
   "outputs": [
    {
     "name": "stdout",
     "output_type": "stream",
     "text": [
      "Compute iterate 10 with error 0.007194437603255555\n",
      "Compute iterate 20 with error 0.0004348703417873523\n",
      "Converged in 26 steps\n"
     ]
    },
    {
     "data": {
      "image/png": "[encoded data removed]"
     },
     "execution_count": 6,
     "metadata": {},
     "output_type": "execute_result"
    }
   ],
   "source": [
    "sp = SearchProblem(π_grid_size = 50)\n",
    "\n",
    "ϕ_init = ones(sp.n_π)\n",
    "f_ex1(x) = res_wage_operator(sp, x)\n",
    "w̄ = compute_fixed_point(f_ex1, ϕ_init)\n",
    "\n",
    "plot(sp.π_grid, w̄, linewidth = 2, color=:black,\n",
    "     fillrange = 0, fillalpha = 0.15, fillcolor = :blue)\n",
    "plot!(sp.π_grid, 2 * ones(length(w̄)), linewidth = 0, fillrange = w̄,\n",
    "      fillalpha = 0.12, fillcolor = :green, legend = :none)\n",
    "plot!(ylims = (0, 2), annotations = [(0.42, 1.2, \"reject\"),\n",
    "                                     (0.7, 1.8, \"accept\")])"
   ]
  },
  {
   "cell_type": "markdown",
   "metadata": {},
   "source": [
    "The next piece of code is not one of the exercises from QuantEcon – it’s\n",
    "just a fun simulation to see what the effect of a change in the\n",
    "underlying distribution on the unemployment rate is.\n",
    "\n",
    "At a point in the simulation, the distribution becomes significantly\n",
    "worse. It takes a while for agents to learn this, and in the meantime\n",
    "they are too optimistic, and turn down too many jobs. As a result, the\n",
    "unemployment rate spikes.\n",
    "\n",
    "The code takes a few minutes to run."
   ]
  },
  {
   "cell_type": "code",
   "execution_count": 7,
   "metadata": {
    "hide-output": false
   },
   "outputs": [
    {
     "name": "stdout",
     "output_type": "stream",
     "text": [
      "Compute iterate 10 with error 0.007194437603255555\n",
      "Compute iterate 20 with error 0.0004348703417873523\n",
      "Converged in 26 steps\n"
     ]
    },
    {
     "name": "stdout",
     "output_type": "stream",
     "text": [
      "date = 20\n",
      "date = 40\n"
     ]
    },
    {
     "name": "stdout",
     "output_type": "stream",
     "text": [
      "date = 60\n",
      "date = 80\n"
     ]
    },
    {
     "name": "stdout",
     "output_type": "stream",
     "text": [
      "date = 100\n",
      "date = 120\n"
     ]
    },
    {
     "name": "stdout",
     "output_type": "stream",
     "text": [
      "date = 140\n",
      "date = 160\n"
     ]
    },
    {
     "name": "stdout",
     "output_type": "stream",
     "text": [
      "date = 180\n",
      "date = 200\n"
     ]
    },
    {
     "name": "stdout",
     "output_type": "stream",
     "text": [
      "date = 220\n",
      "date = 240\n"
     ]
    },
    {
     "name": "stdout",
     "output_type": "stream",
     "text": [
      "date = 260\n",
      "date = 280\n"
     ]
    },
    {
     "name": "stdout",
     "output_type": "stream",
     "text": [
      "date = 300\n",
      "date = 320\n"
     ]
    },
    {
     "name": "stdout",
     "output_type": "stream",
     "text": [
      "date = 340\n",
      "date = 360\n"
     ]
    },
    {
     "name": "stdout",
     "output_type": "stream",
     "text": [
      "date = 380\n",
      "date = 400\n"
     ]
    },
    {
     "name": "stdout",
     "output_type": "stream",
     "text": [
      "date = 420\n",
      "date = 440\n"
     ]
    },
    {
     "name": "stdout",
     "output_type": "stream",
     "text": [
      "date = 460\n",
      "date = 480\n"
     ]
    },
    {
     "name": "stdout",
     "output_type": "stream",
     "text": [
      "date = 500\n",
      "date = 520\n"
     ]
    },
    {
     "name": "stdout",
     "output_type": "stream",
     "text": [
      "date = 540\n",
      "date = 560\n"
     ]
    },
    {
     "name": "stdout",
     "output_type": "stream",
     "text": [
      "date = 580\n",
      "date = 600\n"
     ]
    },
    {
     "data": {
      "image/png": "[encoded data removed]"
     },
     "execution_count": 7,
     "metadata": {},
     "output_type": "execute_result"
    }
   ],
   "source": [
    "# Determinism and random objects.\n",
    "using Random\n",
    "Random.seed!(42)\n",
    "\n",
    "# Set up model and compute the function w̄\n",
    "sp = SearchProblem(π_grid_size = 50, F_a = 1, F_b = 1)\n",
    "ϕ_init = ones(sp.n_π)\n",
    "g(x) = res_wage_operator(sp, x)\n",
    "w̄_vals = compute_fixed_point(g, ϕ_init)\n",
    "w̄ = extrapolate(interpolate((sp.π_grid, ), w̄_vals,\n",
    "                    Gridded(Linear())), Flat())\n",
    "\n",
    "# Holds the employment state and beliefs of an individual agent.\n",
    "mutable struct Agent{TF <: AbstractFloat, TI <: Integer}\n",
    "    _π::TF\n",
    "    employed::TI\n",
    "end\n",
    "\n",
    "Agent(_π=1e-3) = Agent(_π, 1)\n",
    "\n",
    "function update!(ag, H)\n",
    "    if ag.employed == 0\n",
    "        w = rand(H) * 2   # account for scale in julia\n",
    "        if w ≥ w̄(ag._π)\n",
    "            ag.employed = 1\n",
    "        else\n",
    "            ag._π = 1.0 ./ (1 .+ ((1 - ag._π) .* sp.g(w)) ./ (ag._π * sp.f(w)))\n",
    "        end\n",
    "    end\n",
    "    nothing\n",
    "end\n",
    "\n",
    "num_agents = 5000\n",
    "separation_rate = 0.025  # Fraction of jobs that end in each period\n",
    "separation_num = round(Int, num_agents * separation_rate)\n",
    "agent_indices = collect(1:num_agents)\n",
    "agents = [Agent() for i=1:num_agents]\n",
    "sim_length = 600\n",
    "H = sp.G                 # Start with distribution G\n",
    "change_date = 200        # Change to F after this many periods\n",
    "unempl_rate = zeros(sim_length)\n",
    "\n",
    "for i in 1:sim_length\n",
    "    if i % 20 == 0\n",
    "        println(\"date = $i\")\n",
    "    end\n",
    "\n",
    "    if i == change_date\n",
    "        H = sp.F\n",
    "    end\n",
    "\n",
    "    # Randomly select separation_num agents and set employment status to 0\n",
    "    shuffle!(agent_indices)\n",
    "    separation_list = agent_indices[1:separation_num]\n",
    "\n",
    "    for agent in agents[separation_list]\n",
    "        agent.employed = 0\n",
    "    end\n",
    "\n",
    "    # update agents\n",
    "    for agent in agents\n",
    "        update!(agent, H)\n",
    "    end\n",
    "    employed = Int[agent.employed for agent in agents]\n",
    "    unempl_rate[i] = 1.0 - mean(employed)\n",
    "end\n",
    "\n",
    "plot(unempl_rate, linewidth = 2, label = \"unemployment rate\")\n",
    "vline!([change_date], color = :red, label = \"\")"
   ]
  }
 ],
 "metadata": {
  "date": 1591310616.3748114,
  "download_nb": 1,
  "download_nb_path": "https://julia.quantecon.org/",
  "filename": "odu.rst",
  "filename_with_path": "dynamic_programming/odu",
  "kernelspec": {
   "display_name": "Julia 1.4.2",
   "language": "julia",
   "name": "julia-1.4"
  },
  "language_info": {
   "file_extension": ".jl",
   "mimetype": "application/julia",
   "name": "julia",
   "version": "1.4.2"
  },
  "title": "Job Search III: Search with Learning"
 },
 "nbformat": 4,
 "nbformat_minor": 2
}
