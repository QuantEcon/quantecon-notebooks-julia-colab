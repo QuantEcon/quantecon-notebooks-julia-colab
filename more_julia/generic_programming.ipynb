{
 "cells": [
  {
   "cell_type": "markdown",
   "metadata": {},
   "source": [
    "\n",
    "<a id='generic-programming'></a>\n",
    "<div id=\"qe-notebook-header\" style=\"text-align:right;\">\n",
    "        <a href=\"https://quantecon.org/\" title=\"quantecon.org\">\n",
    "                <img style=\"width:250px;display:inline;\" src=\"https://assets.quantecon.org/img/qe-menubar-logo.svg\" alt=\"QuantEcon\">\n",
    "        </a>\n",
    "</div>"
   ]
  },
  {
   "cell_type": "markdown",
   "metadata": {},
   "source": [
    "# Generic Programming"
   ]
  },
  {
   "cell_type": "markdown",
   "metadata": {},
   "source": [
    "## Colab Instructions\n",
    "\n",
    "Colab does not have direct Julia support, and it must be installed each time you are working on a notebook.  \n",
    "\n",
    "Instructions:\n",
    "\n",
    "1. Ignore any errors about a missing kernel when loading the notebook.  Choose `Run Anyway` when it prompts that the notebook wasn't authored by google.\n",
    "\n",
    "2. Run the cell below this with `Shift+Enter`.\n",
    "    -  It will **5 to 8 minutes** the first time you run it for Julia and key packages to install\n",
    "\n",
    "3. Refresh your browser, and then execute any code as normal.\n",
    "  - Even after installation, there will be more precompiling latency for some packages. "
   ]
  },
  {
   "cell_type": "code",
   "execution_count": null,
   "metadata": {},
   "outputs": [],
   "source": [
    "%%shell\n",
    "if ! command -v julia 3>&1 > /dev/null\n",
    "then\n",
    "    wget 'https://julialang-s3.julialang.org/bin/linux/x64/1.4/julia-1.4.1-linux-x86_64.tar.gz' \\\n",
    "        -O /tmp/julia.tar.gz\n",
    "    tar -x -f /tmp/julia.tar.gz -C /usr/local --strip-components 1\n",
    "    rm /tmp/julia.tar.gz\n",
    "    julia -e 'using Pkg; pkg\"add IJulia InstantiateFromURL; precompile;\"'\n",
    "    julia -e 'using InstantiateFromURL; github_project(\"QuantEcon/quantecon-notebooks-julia\", version = \"0.7.0\", instantiate = true, precompile = false); using Plots, Distributions, Parameters, NLsolve, ForwardDiff, Expectations'\n",
    "    echo 'Done'\n",
    "fi\n"
   ]
  },
  {
   "cell_type": "markdown",
   "metadata": {},
   "source": [
    "## Contents\n",
    "\n",
    "- [Generic Programming](#Generic-Programming)  \n",
    "  - [Overview](#Overview)  \n",
    "  - [Exploring Type Trees](#Exploring-Type-Trees)  \n",
    "  - [Distributions](#Distributions)  \n",
    "  - [Numbers and Algebraic Structures](#Numbers-and-Algebraic-Structures)  \n",
    "  - [Reals and Algebraic Structures](#Reals-and-Algebraic-Structures)  \n",
    "  - [Functions, and Function-Like Types](#Functions,-and-Function-Like-Types)  \n",
    "  - [Limitations of Dispatching on Abstract Types](#Limitations-of-Dispatching-on-Abstract-Types)  \n",
    "  - [Exercises](#Exercises)  "
   ]
  },
  {
   "cell_type": "markdown",
   "metadata": {},
   "source": [
    "> I find OOP methodologically wrong. It starts with classes. It is as if mathematicians would start with axioms. You do not start with axioms - you start with proofs. Only when you have found a bunch of related proofs, can you come up with axioms. You end with axioms. The same thing is true in programming: you have to start with interesting algorithms. Only when you understand them well, can you come up with an interface that will let them work. – Alexander Stepanov"
   ]
  },
  {
   "cell_type": "markdown",
   "metadata": {},
   "source": [
    "## Overview\n",
    "\n",
    "In this lecture we delve more deeply into the structure of Julia, and in particular into\n",
    "\n",
    "- abstract and concrete types  \n",
    "- the type tree  \n",
    "- designing and using generic interfaces  \n",
    "- the role of generic interfaces in Julia performance  \n",
    "\n",
    "\n",
    "Understanding them will help you\n",
    "\n",
    "- form a “mental model” of the Julia language  \n",
    "- design code that matches the “white-board” mathematics  \n",
    "- create code that can use (and be used by) a variety of other packages  \n",
    "- write “well organized” Julia code that’s easy to read, modify, maintain and debug  \n",
    "- improve the speed at which your code runs  \n",
    "\n",
    "\n",
    "(Special thank you to Jeffrey Sarnoff)"
   ]
  },
  {
   "cell_type": "markdown",
   "metadata": {},
   "source": [
    "### Generic Programming is an Attitude\n",
    "\n",
    "From *Mathematics to Generic Programming* [[SR14]](../zreferences.html#stepanov-mathematics2014)\n",
    "\n",
    "> Generic programming is an approach to programming that focuses on designing algorithms and data structures so that they work in the most general setting without loss of efficiency… Generic programming is more of an *attitude* toward programming than a particular set of tools.\n",
    "\n",
    "\n",
    "In that sense, it is important to think of generic programming as an interactive approach to uncover generality without compromising performance rather than as a set of rules.\n",
    "\n",
    "As we will see, the core approach is to treat data structures and algorithms as loosely coupled, and is in direct contrast to the [is-a](https://en.wikipedia.org/wiki/Is-a)  approach of object-oriented programming.\n",
    "\n",
    "This lecture has the dual role of giving an introduction into the design of generic algorithms and describing how Julia helps make that possible."
   ]
  },
  {
   "cell_type": "markdown",
   "metadata": {},
   "source": [
    "### Setup"
   ]
  },
  {
   "cell_type": "code",
   "execution_count": 1,
   "metadata": {
    "hide-output": true
   },
   "outputs": [],
   "source": [
    "using InstantiateFromURL\n",
    "# optionally add arguments to force installation: instantiate = true, precompile = true\n",
    "github_project(\"QuantEcon/quantecon-notebooks-julia\", version = \"0.7.0\")"
   ]
  },
  {
   "cell_type": "code",
   "execution_count": 2,
   "metadata": {
    "hide-output": true
   },
   "outputs": [],
   "source": [
    "using LinearAlgebra, Statistics\n",
    "using Distributions, Plots, QuadGK, Polynomials, Interpolations"
   ]
  },
  {
   "cell_type": "markdown",
   "metadata": {},
   "source": [
    "## Exploring Type Trees\n",
    "\n",
    "The connection between data structures and the algorithms which operate on them is handled by the type system.\n",
    "\n",
    "Concrete types (i.e., `Float64` or `Array{Float64, 2}`) are the data structures we apply an algorithm to, and the abstract types (e.g. the corresponding `Number` and `AbstractArray`) provide the mapping between a set of related data structures and algorithms."
   ]
  },
  {
   "cell_type": "code",
   "execution_count": 3,
   "metadata": {
    "hide-output": false
   },
   "outputs": [
    {
     "name": "stdout",
     "output_type": "stream",
     "text": [
      "(x, y, z) = (1, Normal{Float64}(μ=0.0, σ=1.0), \"foo\")\n",
      "(typeof(x), typeof(y), typeof(z)) = "
     ]
    },
    {
     "name": "stdout",
     "output_type": "stream",
     "text": [
      "(Int64, Normal{Float64}, String)\n",
      "supertype(typeof(x)) = Signed\n",
      "typeof(x) |> supertype = Signed\n",
      "supertype(typeof(y)) = Distribution{Univariate,Continuous}\n",
      "typeof(z) |> supertype = AbstractString\n",
      "typeof(x) <: Any = true\n"
     ]
    }
   ],
   "source": [
    "using Distributions\n",
    "x = 1\n",
    "y = Normal()\n",
    "z = \"foo\"\n",
    "@show x, y, z\n",
    "@show typeof(x), typeof(y), typeof(z)\n",
    "@show supertype(typeof(x))\n",
    "\n",
    "# pipe operator, |>, is is equivalent\n",
    "@show typeof(x) |> supertype\n",
    "@show supertype(typeof(y))\n",
    "@show typeof(z) |> supertype\n",
    "@show typeof(x) <: Any;"
   ]
  },
  {
   "cell_type": "markdown",
   "metadata": {},
   "source": [
    "Beyond the `typeof` and `supertype` functions, a few other useful tools for analyzing the tree of types are discussed in the [introduction to types lecture](../getting_started_julia/introduction_to_types.html)"
   ]
  },
  {
   "cell_type": "code",
   "execution_count": 4,
   "metadata": {
    "hide-output": false
   },
   "outputs": [
    {
     "name": "stdout",
     "output_type": "stream",
     "text": [
      "Int64 <: Signed <: Integer <: Real <: Number <: Any"
     ]
    }
   ],
   "source": [
    "using Base: show_supertypes # import the function from the `Base` package\n",
    "\n",
    "show_supertypes(Int64)"
   ]
  },
  {
   "cell_type": "code",
   "execution_count": 5,
   "metadata": {
    "hide-output": false
   },
   "outputs": [
    {
     "data": {
      "text/plain": [
       "4-element Array{Any,1}:\n",
       " Bool\n",
       " GeometryTypes.OffsetInteger\n",
       " Signed\n",
       " Unsigned"
      ]
     },
     "execution_count": 5,
     "metadata": {},
     "output_type": "execute_result"
    }
   ],
   "source": [
    "subtypes(Integer)"
   ]
  },
  {
   "cell_type": "markdown",
   "metadata": {},
   "source": [
    "Using the `subtypes` function, we can write an algorithm to traverse the type tree below any time `t` – with the confidence that all types support `subtypes`"
   ]
  },
  {
   "cell_type": "code",
   "execution_count": 6,
   "metadata": {
    "hide-output": false
   },
   "outputs": [
    {
     "data": {
      "text/plain": [
       "subtypetree (generic function with 3 methods)"
      ]
     },
     "execution_count": 6,
     "metadata": {},
     "output_type": "execute_result"
    }
   ],
   "source": [
    "#  from https://github.com/JuliaLang/julia/issues/24741\n",
    "function subtypetree(t, level=1, indent=4)\n",
    "        if level == 1\n",
    "            println(t)\n",
    "        end\n",
    "        for s in subtypes(t)\n",
    "            println(join(fill(\" \", level * indent)) * string(s))  # print type\n",
    "            subtypetree(s, level+1, indent)  # recursively print the next type, indenting\n",
    "        end\n",
    "    end"
   ]
  },
  {
   "cell_type": "markdown",
   "metadata": {},
   "source": [
    "Applying this to `Number`, we see the tree of types currently loaded"
   ]
  },
  {
   "cell_type": "code",
   "execution_count": 7,
   "metadata": {
    "hide-output": false
   },
   "outputs": [
    {
     "name": "stdout",
     "output_type": "stream",
     "text": [
      "Number\n"
     ]
    },
    {
     "name": "stdout",
     "output_type": "stream",
     "text": [
      "    Complex\n",
      "    Real\n",
      "        AbstractFloat\n",
      "            BigFloat\n",
      "            Float16\n",
      "            Float32\n",
      "            Float64\n",
      "        AbstractIrrational\n",
      "            Irrational\n",
      "        FixedPointNumbers.FixedPoint\n",
      "            FixedPointNumbers.Fixed\n",
      "            FixedPointNumbers.Normed\n",
      "        Integer\n",
      "            Bool\n",
      "            GeometryTypes.OffsetInteger\n",
      "            Signed\n"
     ]
    },
    {
     "name": "stdout",
     "output_type": "stream",
     "text": [
      "                BigInt\n",
      "                Int128\n",
      "                Int16\n",
      "                Int32\n",
      "                Int64\n",
      "                Int8\n",
      "            Unsigned\n",
      "                UInt128\n",
      "                UInt16\n",
      "                UInt32\n",
      "                UInt64\n",
      "                UInt8\n",
      "        Rational\n",
      "        Ratios.SimpleRatio\n",
      "        StatsBase.TestStat\n"
     ]
    }
   ],
   "source": [
    "subtypetree(Number) # warning: do not use this function on ``Any``!"
   ]
  },
  {
   "cell_type": "markdown",
   "metadata": {},
   "source": [
    "For the most part, all of the “leaves” will be concrete types."
   ]
  },
  {
   "cell_type": "markdown",
   "metadata": {},
   "source": [
    "### Any\n",
    "\n",
    "At the root of all types is `Any`\n",
    "\n",
    "There are a few functions that work in the “most generalized” context: usable with anything that you can construct or access from other packages.\n",
    "\n",
    "We have already called `typeof`, `show` and `supertype` – which will apply to a custom `struct` type since `MyType <: Any`"
   ]
  },
  {
   "cell_type": "code",
   "execution_count": 8,
   "metadata": {
    "hide-output": false
   },
   "outputs": [
    {
     "name": "stdout",
     "output_type": "stream",
     "text": [
      "myval = MyType(2.0)\n",
      "typeof(myval) = MyType\n",
      "supertype(typeof(myval)) = Any\n",
      "typeof(myval) <: Any = true\n"
     ]
    }
   ],
   "source": [
    "# custom type\n",
    "struct MyType\n",
    "    a::Float64\n",
    "end\n",
    "\n",
    "myval = MyType(2.0)\n",
    "@show myval\n",
    "@show typeof(myval)\n",
    "@show supertype(typeof(myval))\n",
    "@show typeof(myval) <: Any;"
   ]
  },
  {
   "cell_type": "markdown",
   "metadata": {},
   "source": [
    "Here we see another example of generic programming: every type `<: Any` supports the `@show` macro, which in turn, relies on the `show` function.\n",
    "\n",
    "The `@show` macro (1) prints the expression as a string; (2) evaluates the expression; and (3) calls the `show` function on the returned values.\n",
    "\n",
    "To see this with built-in types"
   ]
  },
  {
   "cell_type": "code",
   "execution_count": 9,
   "metadata": {
    "hide-output": false
   },
   "outputs": [
    {
     "name": "stdout",
     "output_type": "stream",
     "text": [
      "[1, 2]"
     ]
    }
   ],
   "source": [
    "x = [1, 2]\n",
    "show(x)"
   ]
  },
  {
   "cell_type": "markdown",
   "metadata": {},
   "source": [
    "The `Any` type is useful, because it provides a fall-back implementation for a variety of functions.\n",
    "\n",
    "Hence, calling `show` on our custom type dispatches to the fallback function"
   ]
  },
  {
   "cell_type": "code",
   "execution_count": 10,
   "metadata": {
    "hide-output": false
   },
   "outputs": [
    {
     "name": "stdout",
     "output_type": "stream",
     "text": [
      "MyType("
     ]
    },
    {
     "name": "stdout",
     "output_type": "stream",
     "text": [
      "2.0)"
     ]
    }
   ],
   "source": [
    "myval = MyType(2.0)\n",
    "show(myval)"
   ]
  },
  {
   "cell_type": "markdown",
   "metadata": {},
   "source": [
    "The default fallback implementation used by Julia would be roughly equivalent to"
   ]
  },
  {
   "cell_type": "markdown",
   "metadata": {
    "hide-output": false
   },
   "source": [
    "```julia\n",
    "function show(io::IO, x)\n",
    "    str = string(x)\n",
    "    print(io, str)\n",
    "end\n",
    "```\n"
   ]
  },
  {
   "cell_type": "markdown",
   "metadata": {},
   "source": [
    "To implement a specialized implementation of the `show` function for our type, rather than using this fallback"
   ]
  },
  {
   "cell_type": "code",
   "execution_count": 11,
   "metadata": {
    "hide-output": false
   },
   "outputs": [
    {
     "name": "stdout",
     "output_type": "stream",
     "text": [
      "(MyType.a = 2.0)"
     ]
    }
   ],
   "source": [
    "import Base.show  # to extend an existing function\n",
    "\n",
    "function show(io::IO, x::MyType)\n",
    "    str = \"(MyType.a = $(x.a))\"  # custom display\n",
    "    print(io, str)\n",
    "end\n",
    "show(myval)  # it creates an IO value first and then calls the above show"
   ]
  },
  {
   "cell_type": "markdown",
   "metadata": {},
   "source": [
    "At that point, we can use the `@show` macro, which in turn calls `show`"
   ]
  },
  {
   "cell_type": "code",
   "execution_count": 12,
   "metadata": {
    "hide-output": false
   },
   "outputs": [
    {
     "name": "stdout",
     "output_type": "stream",
     "text": [
      "myval = (MyType.a = 2.0)\n"
     ]
    }
   ],
   "source": [
    "@show myval;"
   ]
  },
  {
   "cell_type": "markdown",
   "metadata": {},
   "source": [
    "Here we see another example of generic programming: any type with a `show` function works with `@show`.\n",
    "\n",
    "Layering of functions (e.g. `@show` calling `show`) with a “fallback” implementation makes it possible for new types to be designed and only specialized where necessary."
   ]
  },
  {
   "cell_type": "markdown",
   "metadata": {},
   "source": [
    "### Unlearning Object Oriented (OO) Programming (Advanced)\n",
    "\n",
    "See [Types](https://docs.julialang.org/en/v1/manual/types/#man-types-1) for more on OO vs. generic types.\n",
    "\n",
    "If you have never used programming languages such as C++, Java, and Python, then the type hierarchies above may seem unfamiliar and abstract.\n",
    "\n",
    "In that case, keep an open mind that this discussion of abstract concepts will have practical consequences, but there is no need to read this section.\n",
    "\n",
    "Otherwise, if you have used object-oriented programming (OOP) in those languages, then some of the concepts in these lecture notes will appear familiar.\n",
    "\n",
    "**Don’t be fooled!**\n",
    "\n",
    "The superficial similarity can lead to misuse: types are *not* classes with poor encapsulation, and methods are *not* the equivalent to member functions with the order of arguments swapped.\n",
    "\n",
    "In particular, previous OO knowledge often leads people to write Julia code such as"
   ]
  },
  {
   "cell_type": "code",
   "execution_count": 13,
   "metadata": {
    "hide-output": false
   },
   "outputs": [
    {
     "name": "stdout",
     "output_type": "stream",
     "text": [
      "m.algorithmcalculation = 7.199999999999999\n"
     ]
    }
   ],
   "source": [
    "# BAD! Replicating an OO design in Julia\n",
    "mutable struct MyModel\n",
    "    a::Float64\n",
    "    b::Float64\n",
    "    algorithmcalculation::Float64\n",
    "\n",
    "    MyModel(a, b) = new(a, b, 0.0) # an inner constructor\n",
    "end\n",
    "\n",
    "function myalgorithm!(m::MyModel, x)\n",
    "    m.algorithmcalculation = m.a + m.b + x # some algorithm\n",
    "end\n",
    "\n",
    "function set_a!(m::MyModel, a)\n",
    "    m.a = a\n",
    "end\n",
    "\n",
    "m = MyModel(2.0, 3.0)\n",
    "x = 0.1\n",
    "set_a!(m, 4.1)\n",
    "myalgorithm!(m, x)\n",
    "@show m.algorithmcalculation;"
   ]
  },
  {
   "cell_type": "markdown",
   "metadata": {},
   "source": [
    "You may think to yourself that the above code is similar to OO, except that you\n",
    "* reverse the first argument, i.e., `myalgorithm!(m, x)` instead of the object-oriented `m.myalgorithm!(x)`\n",
    "* cannot control encapsulation of the fields `a`, `b`, but you can add getter/setters like `set_a`\n",
    "* do not have concrete inheritance\n",
    "\n",
    "While this sort of programming is possible, it is (verbosely) missing the point of Julia and the power of generic programming.\n",
    "\n",
    "When programming in Julia\n",
    "\n",
    "> - there is no [encapsulation](https://en.wikipedia.org/wiki/Encapsulation_%28computer_programming%29) and most custom types you create will be immutable.  \n",
    "- [Polymorphism](https://en.wikipedia.org/wiki/Polymorphism_%28computer_science%29) is achieved without anything resembling OOP [inheritance](https://en.wikipedia.org/wiki/Inheritance_%28object-oriented_programming%29).  \n",
    "- [Abstraction](https://en.wikipedia.org/wiki/Abstraction_%28computer_science%29#Abstraction_in_object_oriented_programming) is implemented by keeping the data and algorithms that operate on them as orthogonal as possible – in direct contrast to OOP’s association of algorithms and methods directly with a type in a tree.  \n",
    "- The supertypes in Julia are simply used for selecting which specialized algorithm to use (i.e., part of generic polymorphism) and have nothing to do with OO inheritance.  \n",
    "- The looseness that accompanies keeping algorithms and data structures as orthogonal as possible makes it easier to discover commonality in the design.  "
   ]
  },
  {
   "cell_type": "markdown",
   "metadata": {},
   "source": [
    "#### Iterative Design of Abstractions\n",
    "\n",
    "As its essence, the design of generic software is that you will start with creating algorithms which are largely orthogonal to concrete types.\n",
    "\n",
    "In the process, you will discover commonality which leads to abstract types with informally defined functions operating on them.\n",
    "\n",
    "Given the abstract types and commonality, you then refine the algorithms as they are more limited or more general than you initially thought.\n",
    "\n",
    "This approach is in direct contrast to object-oriented design and analysis ([OOAD](https://en.wikipedia.org/wiki/Object-oriented_analysis_and_design)).\n",
    "\n",
    "With that, where you specify a taxonomies of types, add operations to those types, and then move down to various levels of specialization (where algorithms are embedded at points within the taxonomy, and potentially specialized with inheritance).\n",
    "\n",
    "In the examples that follow, we will show for exposition the hierarchy of types and the algorithms operating on them, but the reality is that the algorithms are often designed first, and the abstact types came later."
   ]
  },
  {
   "cell_type": "markdown",
   "metadata": {},
   "source": [
    "## Distributions\n",
    "\n",
    "First, consider working with “distributions”.\n",
    "\n",
    "Algorithms using distributions might (1) draw random numbers for Monte-Carlo methods; and (2) calculate the pdf or cdf – if it is defined.\n",
    "\n",
    "The process of using concrete distributions in these sorts of applications led\n",
    "to the creation of the [Distributions.jl](https://github.com/JuliaStats/Distributions.jl) package.\n",
    "\n",
    "Let’s examine the tree of types for a Normal distribution"
   ]
  },
  {
   "cell_type": "code",
   "execution_count": 14,
   "metadata": {
    "hide-output": false
   },
   "outputs": [
    {
     "name": "stdout",
     "output_type": "stream",
     "text": [
      "d1 = Normal{Float64}(μ=1.0, σ=2.0)\n",
      "Normal{Float64} <: Distribution{Univariate,Continuous} <: Sampleable{Univariate,Continuous} <: Any"
     ]
    }
   ],
   "source": [
    "using Distributions\n",
    "d1 = Normal(1.0, 2.0) # an example type to explore\n",
    "@show d1\n",
    "show_supertypes(typeof(d1))"
   ]
  },
  {
   "cell_type": "markdown",
   "metadata": {},
   "source": [
    "The `Sampleable{Univariate,Continuous}` type has a limited number of functions, chiefly the ability to draw a random number"
   ]
  },
  {
   "cell_type": "code",
   "execution_count": 15,
   "metadata": {
    "hide-output": false
   },
   "outputs": [
    {
     "name": "stdout",
     "output_type": "stream",
     "text": [
      "rand(d1) = 2.9323310612643323\n"
     ]
    }
   ],
   "source": [
    "@show rand(d1);"
   ]
  },
  {
   "cell_type": "markdown",
   "metadata": {},
   "source": [
    "The purpose of that abstract type is to provide an interface for drawing from a\n",
    "variety of distributions, some of which may not have a well-defined predefined pdf.\n",
    "\n",
    "If you were writing a function to simulate a stochastic process with arbitrary\n",
    "iid shocks, where you did not need to assume an existing pdf etc., this is a natural candidate.\n",
    "\n",
    "For example, to simulate $ x_{t+1} = a x_t + b \\epsilon_{t+1} $ where\n",
    "$ \\epsilon \\sim D $ for some $ D $, which allows drawing random values."
   ]
  },
  {
   "cell_type": "code",
   "execution_count": 16,
   "metadata": {
    "hide-output": false
   },
   "outputs": [
    {
     "name": "stdout",
     "output_type": "stream",
     "text": [
      "simulateprocess(0.0, d = Normal(0.2, 2.0)) = [0.0, 1.3208870983792242, 1.802084614510827, 0.2581125106638573, 2.8450469508592944, 3.9844538537993586]\n"
     ]
    }
   ],
   "source": [
    "function simulateprocess(x₀; a = 1.0, b = 1.0, N = 5, d::Sampleable{Univariate,Continuous})\n",
    "    x = zeros(typeof(x₀), N+1) # preallocate vector, careful on the type\n",
    "    x[1] = x₀\n",
    "    for t in 2:N+1\n",
    "        x[t] = a * x[t-1] + b * rand(d) # draw\n",
    "    end\n",
    "    return x\n",
    "end\n",
    "@show simulateprocess(0.0, d=Normal(0.2, 2.0));"
   ]
  },
  {
   "cell_type": "markdown",
   "metadata": {},
   "source": [
    "The `Sampleable{Univariate,Continuous}` and, especially, the `Sampleable{Multivariate,Continuous}` abstract types are useful generic interfaces for Monte-Carlo and Bayesian methods.\n",
    "\n",
    "Moving down the tree, the `Distributions{Univariate, Continuous}` abstract type has other functions we can use for generic algorithms operating on distributions.\n",
    "\n",
    "These match the mathematics, such as `pdf`, `cdf`, `quantile`, `support`, `minimum`, `maximum`, etc."
   ]
  },
  {
   "cell_type": "code",
   "execution_count": 17,
   "metadata": {
    "hide-output": false
   },
   "outputs": [
    {
     "name": "stdout",
     "output_type": "stream",
     "text": [
      "d1 = Normal{Float64}(μ=1.0, σ=2.0)\n",
      "d2 = Exponential{Float64}(θ=0.1)\n"
     ]
    },
    {
     "name": "stdout",
     "output_type": "stream",
     "text": [
      "supertype(typeof(d1)) = Distribution{Univariate,Continuous}\n",
      "supertype(typeof(d2)) = Distribution{Univariate,Continuous}\n",
      "pdf(d1, 0.1) = 0.18026348123082397\n",
      "pdf(d2, 0.1) = 3.6787944117144233\n",
      "cdf(d1, 0.1) = 0.32635522028792\n",
      "cdf(d2, 0.1) = 0.6321205588285577\n",
      "support(d1) = RealInterval(-Inf, Inf)\n",
      "support(d2) = RealInterval(0.0, Inf)\n",
      "minimum(d1) = -Inf\n",
      "minimum(d2) = 0.0\n",
      "maximum(d1) = Inf\n",
      "maximum(d2) = Inf\n"
     ]
    }
   ],
   "source": [
    "d1 = Normal(1.0, 2.0)\n",
    "d2 = Exponential(0.1)\n",
    "@show d1\n",
    "@show d2\n",
    "@show supertype(typeof(d1))\n",
    "@show supertype(typeof(d2))\n",
    "\n",
    "@show pdf(d1, 0.1)\n",
    "@show pdf(d2, 0.1)\n",
    "@show cdf(d1, 0.1)\n",
    "@show cdf(d2, 0.1)\n",
    "@show support(d1)\n",
    "@show support(d2)\n",
    "@show minimum(d1)\n",
    "@show minimum(d2)\n",
    "@show maximum(d1)\n",
    "@show maximum(d2);"
   ]
  },
  {
   "cell_type": "markdown",
   "metadata": {},
   "source": [
    "You could create your own `Distributions{Univariate, Continuous}` type by implementing those functions – as is described in [the documentation](https://juliastats.github.io/Distributions.jl/latest/extends/).\n",
    "\n",
    "If you fulfill all of the conditions of a particular interface, you can use algorithms from the present, past, and future  that are written for the abstract `Distributions{Univariate, Continuous}` type.\n",
    "\n",
    "As an example, consider the [StatsPlots](https://github.com/JuliaPlots/StatsPlots.jl) package"
   ]
  },
  {
   "cell_type": "code",
   "execution_count": 18,
   "metadata": {
    "hide-output": false
   },
   "outputs": [
    {
     "data": {
      "image/svg+xml": [
       "<?xml version=\"1.0\" encoding=\"utf-8\"?>\n",
       "<svg xmlns=\"http://www.w3.org/2000/svg\" xmlns:xlink=\"http://www.w3.org/1999/xlink\" width=\"600\" height=\"400\" viewBox=\"0 0 2400 1600\">\n",
       "<defs>\n",
       "  <clipPath id=\"clip160\">\n",
       "    <rect x=\"0\" y=\"0\" width=\"2400\" height=\"1600\"/>\n",
       "  </clipPath>\n",
       "</defs>\n",
       "<path clip-path=\"url(#clip160)\" d=\"\n",
       "M0 1600 L2400 1600 L2400 0 L0 0  Z\n",
       "  \" fill=\"#ffffff\" fill-rule=\"evenodd\" fill-opacity=\"1\"/>\n",
       "<defs>\n",
       "  <clipPath id=\"clip161\">\n",
       "    <rect x=\"480\" y=\"0\" width=\"1681\" height=\"1600\"/>\n",
       "  </clipPath>\n",
       "</defs>\n",
       "<path clip-path=\"url(#clip160)\" d=\"\n",
       "M148.334 1486.45 L2352.76 1486.45 L2352.76 47.2441 L148.334 47.2441  Z\n",
       "  \" fill=\"#ffffff\" fill-rule=\"evenodd\" fill-opacity=\"1\"/>\n",
       "<defs>\n",
       "  <clipPath id=\"clip162\">\n",
       "    <rect x=\"148\" y=\"47\" width=\"2205\" height=\"1440\"/>\n",
       "  </clipPath>\n",
       "</defs>\n",
       "<polyline clip-path=\"url(#clip162)\" style=\"stroke:#000000; stroke-width:2; stroke-opacity:0.1; fill:none\" points=\"\n",
       "  411.758,1486.45 411.758,47.2441 \n",
       "  \"/>\n",
       "<polyline clip-path=\"url(#clip162)\" style=\"stroke:#000000; stroke-width:2; stroke-opacity:0.1; fill:none\" points=\"\n",
       "  691.354,1486.45 691.354,47.2441 \n",
       "  \"/>\n",
       "<polyline clip-path=\"url(#clip162)\" style=\"stroke:#000000; stroke-width:2; stroke-opacity:0.1; fill:none\" points=\"\n",
       "  970.949,1486.45 970.949,47.2441 \n",
       "  \"/>\n",
       "<polyline clip-path=\"url(#clip162)\" style=\"stroke:#000000; stroke-width:2; stroke-opacity:0.1; fill:none\" points=\"\n",
       "  1250.55,1486.45 1250.55,47.2441 \n",
       "  \"/>\n",
       "<polyline clip-path=\"url(#clip162)\" style=\"stroke:#000000; stroke-width:2; stroke-opacity:0.1; fill:none\" points=\"\n",
       "  1530.14,1486.45 1530.14,47.2441 \n",
       "  \"/>\n",
       "<polyline clip-path=\"url(#clip162)\" style=\"stroke:#000000; stroke-width:2; stroke-opacity:0.1; fill:none\" points=\"\n",
       "  1809.74,1486.45 1809.74,47.2441 \n",
       "  \"/>\n",
       "<polyline clip-path=\"url(#clip162)\" style=\"stroke:#000000; stroke-width:2; stroke-opacity:0.1; fill:none\" points=\"\n",
       "  2089.33,1486.45 2089.33,47.2441 \n",
       "  \"/>\n",
       "<polyline clip-path=\"url(#clip162)\" style=\"stroke:#000000; stroke-width:2; stroke-opacity:0.1; fill:none\" points=\"\n",
       "  148.334,1447.06 2352.76,1447.06 \n",
       "  \"/>\n",
       "<polyline clip-path=\"url(#clip162)\" style=\"stroke:#000000; stroke-width:2; stroke-opacity:0.1; fill:none\" points=\"\n",
       "  148.334,1106.33 2352.76,1106.33 \n",
       "  \"/>\n",
       "<polyline clip-path=\"url(#clip162)\" style=\"stroke:#000000; stroke-width:2; stroke-opacity:0.1; fill:none\" points=\"\n",
       "  148.334,765.604 2352.76,765.604 \n",
       "  \"/>\n",
       "<polyline clip-path=\"url(#clip162)\" style=\"stroke:#000000; stroke-width:2; stroke-opacity:0.1; fill:none\" points=\"\n",
       "  148.334,424.874 2352.76,424.874 \n",
       "  \"/>\n",
       "<polyline clip-path=\"url(#clip162)\" style=\"stroke:#000000; stroke-width:2; stroke-opacity:0.1; fill:none\" points=\"\n",
       "  148.334,84.1434 2352.76,84.1434 \n",
       "  \"/>\n",
       "<polyline clip-path=\"url(#clip160)\" style=\"stroke:#000000; stroke-width:4; stroke-opacity:1; fill:none\" points=\"\n",
       "  148.334,1486.45 2352.76,1486.45 \n",
       "  \"/>\n",
       "<polyline clip-path=\"url(#clip160)\" style=\"stroke:#000000; stroke-width:4; stroke-opacity:1; fill:none\" points=\"\n",
       "  148.334,1486.45 148.334,47.2441 \n",
       "  \"/>\n",
       "<polyline clip-path=\"url(#clip160)\" style=\"stroke:#000000; stroke-width:4; stroke-opacity:1; fill:none\" points=\"\n",
       "  411.758,1486.45 411.758,1469.18 \n",
       "  \"/>\n",
       "<polyline clip-path=\"url(#clip160)\" style=\"stroke:#000000; stroke-width:4; stroke-opacity:1; fill:none\" points=\"\n",
       "  691.354,1486.45 691.354,1469.18 \n",
       "  \"/>\n",
       "<polyline clip-path=\"url(#clip160)\" style=\"stroke:#000000; stroke-width:4; stroke-opacity:1; fill:none\" points=\"\n",
       "  970.949,1486.45 970.949,1469.18 \n",
       "  \"/>\n",
       "<polyline clip-path=\"url(#clip160)\" style=\"stroke:#000000; stroke-width:4; stroke-opacity:1; fill:none\" points=\"\n",
       "  1250.55,1486.45 1250.55,1469.18 \n",
       "  \"/>\n",
       "<polyline clip-path=\"url(#clip160)\" style=\"stroke:#000000; stroke-width:4; stroke-opacity:1; fill:none\" points=\"\n",
       "  1530.14,1486.45 1530.14,1469.18 \n",
       "  \"/>\n",
       "<polyline clip-path=\"url(#clip160)\" style=\"stroke:#000000; stroke-width:4; stroke-opacity:1; fill:none\" points=\"\n",
       "  1809.74,1486.45 1809.74,1469.18 \n",
       "  \"/>\n",
       "<polyline clip-path=\"url(#clip160)\" style=\"stroke:#000000; stroke-width:4; stroke-opacity:1; fill:none\" points=\"\n",
       "  2089.33,1486.45 2089.33,1469.18 \n",
       "  \"/>\n",
       "<polyline clip-path=\"url(#clip160)\" style=\"stroke:#000000; stroke-width:4; stroke-opacity:1; fill:none\" points=\"\n",
       "  148.334,1447.06 174.787,1447.06 \n",
       "  \"/>\n",
       "<polyline clip-path=\"url(#clip160)\" style=\"stroke:#000000; stroke-width:4; stroke-opacity:1; fill:none\" points=\"\n",
       "  148.334,1106.33 174.787,1106.33 \n",
       "  \"/>\n",
       "<polyline clip-path=\"url(#clip160)\" style=\"stroke:#000000; stroke-width:4; stroke-opacity:1; fill:none\" points=\"\n",
       "  148.334,765.604 174.787,765.604 \n",
       "  \"/>\n",
       "<polyline clip-path=\"url(#clip160)\" style=\"stroke:#000000; stroke-width:4; stroke-opacity:1; fill:none\" points=\"\n",
       "  148.334,424.874 174.787,424.874 \n",
       "  \"/>\n",
       "<polyline clip-path=\"url(#clip160)\" style=\"stroke:#000000; stroke-width:4; stroke-opacity:1; fill:none\" points=\"\n",
       "  148.334,84.1434 174.787,84.1434 \n",
       "  \"/>\n",
       "<path clip-path=\"url(#clip160)\" d=\"M 0 0 M392.626 1525.04 L405.103 1525.04 L405.103 1528.83 L392.626 1528.83 L392.626 1525.04 Z\" fill=\"#000000\" fill-rule=\"evenodd\" fill-opacity=\"1\" /><path clip-path=\"url(#clip160)\" d=\"M 0 0 M410.982 1535.98 L418.621 1535.98 L418.621 1509.62 L410.311 1511.29 L410.311 1507.03 L418.575 1505.36 L423.251 1505.36 L423.251 1535.98 L430.89 1535.98 L430.89 1539.92 L410.982 1539.92 L410.982 1535.98 Z\" fill=\"#000000\" fill-rule=\"evenodd\" fill-opacity=\"1\" /><path clip-path=\"url(#clip160)\" d=\"M 0 0 M691.354 1508.44 Q687.742 1508.44 685.914 1512 Q684.108 1515.55 684.108 1522.67 Q684.108 1529.78 685.914 1533.35 Q687.742 1536.89 691.354 1536.89 Q694.988 1536.89 696.793 1533.35 Q698.622 1529.78 698.622 1522.67 Q698.622 1515.55 696.793 1512 Q694.988 1508.44 691.354 1508.44 M691.354 1504.73 Q697.164 1504.73 700.219 1509.34 Q703.298 1513.92 703.298 1522.67 Q703.298 1531.4 700.219 1536.01 Q697.164 1540.59 691.354 1540.59 Q685.543 1540.59 682.465 1536.01 Q679.409 1531.4 679.409 1522.67 Q679.409 1513.92 682.465 1509.34 Q685.543 1504.73 691.354 1504.73 Z\" fill=\"#000000\" fill-rule=\"evenodd\" fill-opacity=\"1\" /><path clip-path=\"url(#clip160)\" d=\"M 0 0 M961.331 1535.98 L968.97 1535.98 L968.97 1509.62 L960.66 1511.29 L960.66 1507.03 L968.924 1505.36 L973.6 1505.36 L973.6 1535.98 L981.239 1535.98 L981.239 1539.92 L961.331 1539.92 L961.331 1535.98 Z\" fill=\"#000000\" fill-rule=\"evenodd\" fill-opacity=\"1\" /><path clip-path=\"url(#clip160)\" d=\"M 0 0 M1245.2 1535.98 L1261.52 1535.98 L1261.52 1539.92 L1239.57 1539.92 L1239.57 1535.98 Q1242.24 1533.23 1246.82 1528.6 Q1251.42 1523.95 1252.61 1522.61 Q1254.85 1520.08 1255.73 1518.35 Q1256.63 1516.59 1256.63 1514.9 Q1256.63 1512.14 1254.69 1510.41 Q1252.77 1508.67 1249.67 1508.67 Q1247.47 1508.67 1245.01 1509.43 Q1242.58 1510.2 1239.8 1511.75 L1239.8 1507.03 Q1242.63 1505.89 1245.08 1505.31 Q1247.54 1504.73 1249.57 1504.73 Q1254.94 1504.73 1258.14 1507.42 Q1261.33 1510.11 1261.33 1514.6 Q1261.33 1516.73 1260.52 1518.65 Q1259.73 1520.54 1257.63 1523.14 Q1257.05 1523.81 1253.95 1527.03 Q1250.85 1530.22 1245.2 1535.98 Z\" fill=\"#000000\" fill-rule=\"evenodd\" fill-opacity=\"1\" /><path clip-path=\"url(#clip160)\" d=\"M 0 0 M1534.39 1521.29 Q1537.75 1522 1539.62 1524.27 Q1541.52 1526.54 1541.52 1529.87 Q1541.52 1534.99 1538 1537.79 Q1534.48 1540.59 1528 1540.59 Q1525.82 1540.59 1523.51 1540.15 Q1521.22 1539.73 1518.76 1538.88 L1518.76 1534.36 Q1520.71 1535.5 1523.02 1536.08 Q1525.34 1536.66 1527.86 1536.66 Q1532.26 1536.66 1534.55 1534.92 Q1536.87 1533.18 1536.87 1529.87 Q1536.87 1526.82 1534.71 1525.11 Q1532.58 1523.37 1528.76 1523.37 L1524.74 1523.37 L1524.74 1519.53 L1528.95 1519.53 Q1532.4 1519.53 1534.23 1518.16 Q1536.06 1516.77 1536.06 1514.18 Q1536.06 1511.52 1534.16 1510.11 Q1532.28 1508.67 1528.76 1508.67 Q1526.84 1508.67 1524.64 1509.09 Q1522.44 1509.5 1519.81 1510.38 L1519.81 1506.22 Q1522.47 1505.48 1524.78 1505.11 Q1527.12 1504.73 1529.18 1504.73 Q1534.5 1504.73 1537.61 1507.17 Q1540.71 1509.57 1540.71 1513.69 Q1540.71 1516.56 1539.06 1518.55 Q1537.42 1520.52 1534.39 1521.29 Z\" fill=\"#000000\" fill-rule=\"evenodd\" fill-opacity=\"1\" /><path clip-path=\"url(#clip160)\" d=\"M 0 0 M1812.75 1509.43 L1800.94 1527.88 L1812.75 1527.88 L1812.75 1509.43 M1811.52 1505.36 L1817.4 1505.36 L1817.4 1527.88 L1822.33 1527.88 L1822.33 1531.77 L1817.4 1531.77 L1817.4 1539.92 L1812.75 1539.92 L1812.75 1531.77 L1797.14 1531.77 L1797.14 1527.26 L1811.52 1505.36 Z\" fill=\"#000000\" fill-rule=\"evenodd\" fill-opacity=\"1\" /><path clip-path=\"url(#clip160)\" d=\"M 0 0 M2079.61 1505.36 L2097.97 1505.36 L2097.97 1509.3 L2083.89 1509.3 L2083.89 1517.77 Q2084.91 1517.42 2085.93 1517.26 Q2086.95 1517.07 2087.97 1517.07 Q2093.75 1517.07 2097.13 1520.24 Q2100.51 1523.42 2100.51 1528.83 Q2100.51 1534.41 2097.04 1537.51 Q2093.57 1540.59 2087.25 1540.59 Q2085.07 1540.59 2082.8 1540.22 Q2080.56 1539.85 2078.15 1539.11 L2078.15 1534.41 Q2080.24 1535.54 2082.46 1536.1 Q2084.68 1536.66 2087.16 1536.66 Q2091.16 1536.66 2093.5 1534.55 Q2095.84 1532.44 2095.84 1528.83 Q2095.84 1525.22 2093.5 1523.11 Q2091.16 1521.01 2087.16 1521.01 Q2085.28 1521.01 2083.41 1521.42 Q2081.55 1521.84 2079.61 1522.72 L2079.61 1505.36 Z\" fill=\"#000000\" fill-rule=\"evenodd\" fill-opacity=\"1\" /><path clip-path=\"url(#clip160)\" d=\"M 0 0 M75.4226 1432.86 Q71.8115 1432.86 69.9828 1436.43 Q68.1773 1439.97 68.1773 1447.1 Q68.1773 1454.21 69.9828 1457.77 Q71.8115 1461.31 75.4226 1461.31 Q79.0569 1461.31 80.8624 1457.77 Q82.6911 1454.21 82.6911 1447.1 Q82.6911 1439.97 80.8624 1436.43 Q79.0569 1432.86 75.4226 1432.86 M75.4226 1429.16 Q81.2328 1429.16 84.2883 1433.77 Q87.367 1438.35 87.367 1447.1 Q87.367 1455.83 84.2883 1460.43 Q81.2328 1465.02 75.4226 1465.02 Q69.6125 1465.02 66.5338 1460.43 Q63.4782 1455.83 63.4782 1447.1 Q63.4782 1438.35 66.5338 1433.77 Q69.6125 1429.16 75.4226 1429.16 Z\" fill=\"#000000\" fill-rule=\"evenodd\" fill-opacity=\"1\" /><path clip-path=\"url(#clip160)\" d=\"M 0 0 M92.4364 1458.46 L97.3206 1458.46 L97.3206 1464.34 L92.4364 1464.34 L92.4364 1458.46 Z\" fill=\"#000000\" fill-rule=\"evenodd\" fill-opacity=\"1\" /><path clip-path=\"url(#clip160)\" d=\"M 0 0 M112.39 1432.86 Q108.779 1432.86 106.95 1436.43 Q105.145 1439.97 105.145 1447.1 Q105.145 1454.21 106.95 1457.77 Q108.779 1461.31 112.39 1461.31 Q116.024 1461.31 117.83 1457.77 Q119.658 1454.21 119.658 1447.1 Q119.658 1439.97 117.83 1436.43 Q116.024 1432.86 112.39 1432.86 M112.39 1429.16 Q118.2 1429.16 121.256 1433.77 Q124.334 1438.35 124.334 1447.1 Q124.334 1455.83 121.256 1460.43 Q118.2 1465.02 112.39 1465.02 Q106.58 1465.02 103.501 1460.43 Q100.446 1455.83 100.446 1447.1 Q100.446 1438.35 103.501 1433.77 Q106.58 1429.16 112.39 1429.16 Z\" fill=\"#000000\" fill-rule=\"evenodd\" fill-opacity=\"1\" /><path clip-path=\"url(#clip160)\" d=\"M 0 0 M76.6495 1092.13 Q73.0384 1092.13 71.2097 1095.7 Q69.4041 1099.24 69.4041 1106.37 Q69.4041 1113.48 71.2097 1117.04 Q73.0384 1120.58 76.6495 1120.58 Q80.2837 1120.58 82.0892 1117.04 Q83.9179 1113.48 83.9179 1106.37 Q83.9179 1099.24 82.0892 1095.7 Q80.2837 1092.13 76.6495 1092.13 M76.6495 1088.43 Q82.4596 1088.43 85.5152 1093.04 Q88.5938 1097.62 88.5938 1106.37 Q88.5938 1115.1 85.5152 1119.7 Q82.4596 1124.29 76.6495 1124.29 Q70.8393 1124.29 67.7606 1119.7 Q64.7051 1115.1 64.7051 1106.37 Q64.7051 1097.62 67.7606 1093.04 Q70.8393 1088.43 76.6495 1088.43 Z\" fill=\"#000000\" fill-rule=\"evenodd\" fill-opacity=\"1\" /><path clip-path=\"url(#clip160)\" d=\"M 0 0 M93.6633 1117.73 L98.5475 1117.73 L98.5475 1123.61 L93.6633 1123.61 L93.6633 1117.73 Z\" fill=\"#000000\" fill-rule=\"evenodd\" fill-opacity=\"1\" /><path clip-path=\"url(#clip160)\" d=\"M 0 0 M104.427 1119.68 L112.066 1119.68 L112.066 1093.31 L103.756 1094.98 L103.756 1090.72 L112.02 1089.05 L116.696 1089.05 L116.696 1119.68 L124.334 1119.68 L124.334 1123.61 L104.427 1123.61 L104.427 1119.68 Z\" fill=\"#000000\" fill-rule=\"evenodd\" fill-opacity=\"1\" /><path clip-path=\"url(#clip160)\" d=\"M 0 0 M77.0198 751.403 Q73.4087 751.403 71.58 754.967 Q69.7745 758.509 69.7745 765.639 Q69.7745 772.745 71.58 776.31 Q73.4087 779.852 77.0198 779.852 Q80.6541 779.852 82.4596 776.31 Q84.2883 772.745 84.2883 765.639 Q84.2883 758.509 82.4596 754.967 Q80.6541 751.403 77.0198 751.403 M77.0198 747.699 Q82.83 747.699 85.8855 752.305 Q88.9642 756.889 88.9642 765.639 Q88.9642 774.365 85.8855 778.972 Q82.83 783.555 77.0198 783.555 Q71.2097 783.555 68.131 778.972 Q65.0754 774.365 65.0754 765.639 Q65.0754 756.889 68.131 752.305 Q71.2097 747.699 77.0198 747.699 Z\" fill=\"#000000\" fill-rule=\"evenodd\" fill-opacity=\"1\" /><path clip-path=\"url(#clip160)\" d=\"M 0 0 M94.0336 777.004 L98.9179 777.004 L98.9179 782.884 L94.0336 782.884 L94.0336 777.004 Z\" fill=\"#000000\" fill-rule=\"evenodd\" fill-opacity=\"1\" /><path clip-path=\"url(#clip160)\" d=\"M 0 0 M108.015 778.949 L124.334 778.949 L124.334 782.884 L102.39 782.884 L102.39 778.949 Q105.052 776.194 109.635 771.565 Q114.242 766.912 115.422 765.569 Q117.668 763.046 118.547 761.31 Q119.45 759.551 119.45 757.861 Q119.45 755.106 117.506 753.37 Q115.584 751.634 112.483 751.634 Q110.284 751.634 107.83 752.398 Q105.399 753.162 102.622 754.713 L102.622 749.991 Q105.446 748.856 107.899 748.278 Q110.353 747.699 112.39 747.699 Q117.76 747.699 120.955 750.384 Q124.149 753.069 124.149 757.56 Q124.149 759.69 123.339 761.611 Q122.552 763.509 120.446 766.102 Q119.867 766.773 116.765 769.99 Q113.663 773.185 108.015 778.949 Z\" fill=\"#000000\" fill-rule=\"evenodd\" fill-opacity=\"1\" /><path clip-path=\"url(#clip160)\" d=\"M 0 0 M76.0708 410.672 Q72.4597 410.672 70.631 414.237 Q68.8254 417.779 68.8254 424.908 Q68.8254 432.015 70.631 435.58 Q72.4597 439.121 76.0708 439.121 Q79.705 439.121 81.5105 435.58 Q83.3392 432.015 83.3392 424.908 Q83.3392 417.779 81.5105 414.237 Q79.705 410.672 76.0708 410.672 M76.0708 406.969 Q81.8809 406.969 84.9365 411.575 Q88.0151 416.158 88.0151 424.908 Q88.0151 433.635 84.9365 438.242 Q81.8809 442.825 76.0708 442.825 Q70.2606 442.825 67.1819 438.242 Q64.1264 433.635 64.1264 424.908 Q64.1264 416.158 67.1819 411.575 Q70.2606 406.969 76.0708 406.969 Z\" fill=\"#000000\" fill-rule=\"evenodd\" fill-opacity=\"1\" /><path clip-path=\"url(#clip160)\" d=\"M 0 0 M93.0846 436.274 L97.9688 436.274 L97.9688 442.154 L93.0846 442.154 L93.0846 436.274 Z\" fill=\"#000000\" fill-rule=\"evenodd\" fill-opacity=\"1\" /><path clip-path=\"url(#clip160)\" d=\"M 0 0 M117.205 423.519 Q120.561 424.237 122.436 426.506 Q124.334 428.774 124.334 432.107 Q124.334 437.223 120.816 440.024 Q117.297 442.825 110.816 442.825 Q108.64 442.825 106.325 442.385 Q104.034 441.968 101.58 441.112 L101.58 436.598 Q103.524 437.732 105.839 438.311 Q108.154 438.89 110.677 438.89 Q115.075 438.89 117.367 437.154 Q119.682 435.418 119.682 432.107 Q119.682 429.052 117.529 427.339 Q115.399 425.603 111.58 425.603 L107.552 425.603 L107.552 421.76 L111.765 421.76 Q115.214 421.76 117.043 420.394 Q118.871 419.006 118.871 416.413 Q118.871 413.751 116.973 412.339 Q115.098 410.904 111.58 410.904 Q109.659 410.904 107.459 411.32 Q105.26 411.737 102.622 412.617 L102.622 408.45 Q105.284 407.709 107.598 407.339 Q109.936 406.969 111.996 406.969 Q117.321 406.969 120.422 409.399 Q123.524 411.807 123.524 415.927 Q123.524 418.797 121.881 420.788 Q120.237 422.756 117.205 423.519 Z\" fill=\"#000000\" fill-rule=\"evenodd\" fill-opacity=\"1\" /><path clip-path=\"url(#clip160)\" d=\"M 0 0 M74.9365 69.942 Q71.3254 69.942 69.4967 73.5068 Q67.6912 77.0485 67.6912 84.1781 Q67.6912 91.2845 69.4967 94.8493 Q71.3254 98.391 74.9365 98.391 Q78.5707 98.391 80.3763 94.8493 Q82.205 91.2845 82.205 84.1781 Q82.205 77.0485 80.3763 73.5068 Q78.5707 69.942 74.9365 69.942 M74.9365 66.2384 Q80.7467 66.2384 83.8022 70.8448 Q86.8809 75.4281 86.8809 84.1781 Q86.8809 92.9049 83.8022 97.5113 Q80.7467 102.095 74.9365 102.095 Q69.1264 102.095 66.0477 97.5113 Q62.9921 92.9049 62.9921 84.1781 Q62.9921 75.4281 66.0477 70.8448 Q69.1264 66.2384 74.9365 66.2384 Z\" fill=\"#000000\" fill-rule=\"evenodd\" fill-opacity=\"1\" /><path clip-path=\"url(#clip160)\" d=\"M 0 0 M91.9503 95.5438 L96.8345 95.5438 L96.8345 101.423 L91.9503 101.423 L91.9503 95.5438 Z\" fill=\"#000000\" fill-rule=\"evenodd\" fill-opacity=\"1\" /><path clip-path=\"url(#clip160)\" d=\"M 0 0 M114.751 70.9374 L102.946 89.3864 L114.751 89.3864 L114.751 70.9374 M113.524 66.8634 L119.404 66.8634 L119.404 89.3864 L124.334 89.3864 L124.334 93.2753 L119.404 93.2753 L119.404 101.423 L114.751 101.423 L114.751 93.2753 L99.1493 93.2753 L99.1493 88.7614 L113.524 66.8634 Z\" fill=\"#000000\" fill-rule=\"evenodd\" fill-opacity=\"1\" /><polyline clip-path=\"url(#clip162)\" style=\"stroke:#009af9; stroke-width:4; stroke-opacity:1; fill:none\" points=\"\n",
       "  210.724,1445.72 220.878,1445.52 231.033,1445.3 324.928,1441.4 418.823,1430.78 475.25,1417.98 531.677,1397.19 579.385,1370.84 627.093,1333.92 653.006,1308.54 \n",
       "  678.918,1278.92 704.83,1244.72 730.742,1205.64 754.631,1165.1 778.52,1120.16 802.409,1070.81 826.298,1017.17 877.52,888.846 928.743,746.147 988.09,572.118 \n",
       "  1047.44,402.994 1073.81,333.916 1100.18,270.776 1126.55,215.064 1152.92,168.139 1176.04,135.161 1199.16,110.507 1222.29,94.6711 1245.41,87.9763 1270.62,91.2483 \n",
       "  1295.84,105.465 1321.05,130.283 1346.26,165.108 1371.62,209.406 1396.98,261.964 1422.34,321.589 1447.71,386.972 1503.79,545.117 1559.87,709.93 1613.23,861.002 \n",
       "  1666.58,997.778 1694.33,1061.35 1722.07,1119.17 1749.81,1171.05 1777.55,1217 1824.25,1281.47 1870.95,1331.15 1927.97,1374.86 1984.99,1403.92 2038.59,1421.46 \n",
       "  2092.19,1432.42 2178.06,1441.52 2263.94,1445.16 2277.15,1445.46 2290.37,1445.72 \n",
       "  \"/>\n",
       "<path clip-path=\"url(#clip160)\" d=\"\n",
       "M1989.74 251.724 L2280.76 251.724 L2280.76 130.764 L1989.74 130.764  Z\n",
       "  \" fill=\"#ffffff\" fill-rule=\"evenodd\" fill-opacity=\"1\"/>\n",
       "<polyline clip-path=\"url(#clip160)\" style=\"stroke:#000000; stroke-width:4; stroke-opacity:1; fill:none\" points=\"\n",
       "  1989.74,251.724 2280.76,251.724 2280.76,130.764 1989.74,130.764 1989.74,251.724 \n",
       "  \"/>\n",
       "<polyline clip-path=\"url(#clip160)\" style=\"stroke:#009af9; stroke-width:4; stroke-opacity:1; fill:none\" points=\"\n",
       "  2013.74,191.244 2157.74,191.244 \n",
       "  \"/>\n",
       "<path clip-path=\"url(#clip160)\" d=\"M 0 0 M2195.58 210.931 Q2193.77 215.561 2192.06 216.973 Q2190.35 218.385 2187.48 218.385 L2184.08 218.385 L2184.08 214.82 L2186.58 214.82 Q2188.33 214.82 2189.31 213.987 Q2190.28 213.154 2191.46 210.052 L2192.22 208.107 L2181.74 182.598 L2186.25 182.598 L2194.35 202.876 L2202.46 182.598 L2206.97 182.598 L2195.58 210.931 Z\" fill=\"#000000\" fill-rule=\"evenodd\" fill-opacity=\"1\" /><path clip-path=\"url(#clip160)\" d=\"M 0 0 M2212.85 204.589 L2220.49 204.589 L2220.49 178.223 L2212.18 179.89 L2212.18 175.631 L2220.44 173.964 L2225.12 173.964 L2225.12 204.589 L2232.76 204.589 L2232.76 208.524 L2212.85 208.524 L2212.85 204.589 Z\" fill=\"#000000\" fill-rule=\"evenodd\" fill-opacity=\"1\" /></svg>\n"
      ]
     },
     "execution_count": 18,
     "metadata": {},
     "output_type": "execute_result"
    }
   ],
   "source": [
    "using StatsPlots\n",
    "d = Normal(2.0, 1.0)\n",
    "plot(d) # note no other arguments!"
   ]
  },
  {
   "cell_type": "markdown",
   "metadata": {},
   "source": [
    "Calling `plot` on any subtype of `Distributions{Univariate, Continuous}`\n",
    "displays the `pdf` and uses `minimum` and `maximum` to determine the range.\n",
    "\n",
    "Let’s create our own distribution type"
   ]
  },
  {
   "cell_type": "code",
   "execution_count": 19,
   "metadata": {
    "hide-output": false
   },
   "outputs": [],
   "source": [
    "struct OurTruncatedExponential <: Distribution{Univariate,Continuous}\n",
    "    α::Float64\n",
    "    xmax::Float64\n",
    "end\n",
    "Distributions.pdf(d::OurTruncatedExponential, x) = d.α *exp(-d.α * x)/exp(-d.α * d.xmax)\n",
    "Distributions.minimum(d::OurTruncatedExponential) = 0\n",
    "Distributions.maximum(d::OurTruncatedExponential) = d.xmax\n",
    "# ... more to have a complete type"
   ]
  },
  {
   "cell_type": "markdown",
   "metadata": {},
   "source": [
    "To demonstrate this"
   ]
  },
  {
   "cell_type": "code",
   "execution_count": 20,
   "metadata": {
    "hide-output": false
   },
   "outputs": [
    {
     "name": "stdout",
     "output_type": "stream",
     "text": [
      "(minimum(d), maximum(d)) = (0, 2.0)\n",
      "support(d) = RealInterval(0.0, 2.0)\n"
     ]
    },
    {
     "data": {
      "text/plain": [
       "RealInterval(0.0, 2.0)"
      ]
     },
     "execution_count": 20,
     "metadata": {},
     "output_type": "execute_result"
    }
   ],
   "source": [
    "d = OurTruncatedExponential(1.0,2.0)\n",
    "@show minimum(d), maximum(d)\n",
    "@show support(d) # why does this work?"
   ]
  },
  {
   "cell_type": "markdown",
   "metadata": {},
   "source": [
    "Curiously, you will note that the `support` function works, even though we did not provide one.\n",
    "\n",
    "This is another example of the power of multiple dispatch and generic programming.\n",
    "\n",
    "In the background, the `Distributions.jl` package  has something like the following implemented"
   ]
  },
  {
   "cell_type": "markdown",
   "metadata": {
    "hide-output": false
   },
   "source": [
    "```julia\n",
    "    Distributions.support(d::Distribution) = RealInterval(minimum(d), maximum(d))\n",
    "```\n"
   ]
  },
  {
   "cell_type": "markdown",
   "metadata": {},
   "source": [
    "Since `OurTruncatedExponential <: Distribution`, and we\n",
    "implemented `minimum` and `maximum`, calls to `support` get this\n",
    "implementation as a fallback.\n",
    "\n",
    "These functions are enough to use the  `StatsPlots.jl` package"
   ]
  },
  {
   "cell_type": "code",
   "execution_count": 21,
   "metadata": {
    "hide-output": false
   },
   "outputs": [
    {
     "data": {
      "image/svg+xml": [
       "<?xml version=\"1.0\" encoding=\"utf-8\"?>\n",
       "<svg xmlns=\"http://www.w3.org/2000/svg\" xmlns:xlink=\"http://www.w3.org/1999/xlink\" width=\"600\" height=\"400\" viewBox=\"0 0 2400 1600\">\n",
       "<defs>\n",
       "  <clipPath id=\"clip200\">\n",
       "    <rect x=\"0\" y=\"0\" width=\"2400\" height=\"1600\"/>\n",
       "  </clipPath>\n",
       "</defs>\n",
       "<path clip-path=\"url(#clip200)\" d=\"\n",
       "M0 1600 L2400 1600 L2400 0 L0 0  Z\n",
       "  \" fill=\"#ffffff\" fill-rule=\"evenodd\" fill-opacity=\"1\"/>\n",
       "<defs>\n",
       "  <clipPath id=\"clip201\">\n",
       "    <rect x=\"480\" y=\"0\" width=\"1681\" height=\"1600\"/>\n",
       "  </clipPath>\n",
       "</defs>\n",
       "<path clip-path=\"url(#clip200)\" d=\"\n",
       "M112.177 1486.45 L2352.76 1486.45 L2352.76 47.2441 L112.177 47.2441  Z\n",
       "  \" fill=\"#ffffff\" fill-rule=\"evenodd\" fill-opacity=\"1\"/>\n",
       "<defs>\n",
       "  <clipPath id=\"clip202\">\n",
       "    <rect x=\"112\" y=\"47\" width=\"2242\" height=\"1440\"/>\n",
       "  </clipPath>\n",
       "</defs>\n",
       "<polyline clip-path=\"url(#clip202)\" style=\"stroke:#000000; stroke-width:2; stroke-opacity:0.1; fill:none\" points=\"\n",
       "  175.59,1486.45 175.59,47.2441 \n",
       "  \"/>\n",
       "<polyline clip-path=\"url(#clip202)\" style=\"stroke:#000000; stroke-width:2; stroke-opacity:0.1; fill:none\" points=\"\n",
       "  704.028,1486.45 704.028,47.2441 \n",
       "  \"/>\n",
       "<polyline clip-path=\"url(#clip202)\" style=\"stroke:#000000; stroke-width:2; stroke-opacity:0.1; fill:none\" points=\"\n",
       "  1232.47,1486.45 1232.47,47.2441 \n",
       "  \"/>\n",
       "<polyline clip-path=\"url(#clip202)\" style=\"stroke:#000000; stroke-width:2; stroke-opacity:0.1; fill:none\" points=\"\n",
       "  1760.9,1486.45 1760.9,47.2441 \n",
       "  \"/>\n",
       "<polyline clip-path=\"url(#clip202)\" style=\"stroke:#000000; stroke-width:2; stroke-opacity:0.1; fill:none\" points=\"\n",
       "  2289.34,1486.45 2289.34,47.2441 \n",
       "  \"/>\n",
       "<polyline clip-path=\"url(#clip202)\" style=\"stroke:#000000; stroke-width:2; stroke-opacity:0.1; fill:none\" points=\"\n",
       "  112.177,1445.72 2352.76,1445.72 \n",
       "  \"/>\n",
       "<polyline clip-path=\"url(#clip202)\" style=\"stroke:#000000; stroke-width:2; stroke-opacity:0.1; fill:none\" points=\"\n",
       "  112.177,1233.21 2352.76,1233.21 \n",
       "  \"/>\n",
       "<polyline clip-path=\"url(#clip202)\" style=\"stroke:#000000; stroke-width:2; stroke-opacity:0.1; fill:none\" points=\"\n",
       "  112.177,1020.7 2352.76,1020.7 \n",
       "  \"/>\n",
       "<polyline clip-path=\"url(#clip202)\" style=\"stroke:#000000; stroke-width:2; stroke-opacity:0.1; fill:none\" points=\"\n",
       "  112.177,808.185 2352.76,808.185 \n",
       "  \"/>\n",
       "<polyline clip-path=\"url(#clip202)\" style=\"stroke:#000000; stroke-width:2; stroke-opacity:0.1; fill:none\" points=\"\n",
       "  112.177,595.675 2352.76,595.675 \n",
       "  \"/>\n",
       "<polyline clip-path=\"url(#clip202)\" style=\"stroke:#000000; stroke-width:2; stroke-opacity:0.1; fill:none\" points=\"\n",
       "  112.177,383.165 2352.76,383.165 \n",
       "  \"/>\n",
       "<polyline clip-path=\"url(#clip202)\" style=\"stroke:#000000; stroke-width:2; stroke-opacity:0.1; fill:none\" points=\"\n",
       "  112.177,170.655 2352.76,170.655 \n",
       "  \"/>\n",
       "<polyline clip-path=\"url(#clip200)\" style=\"stroke:#000000; stroke-width:4; stroke-opacity:1; fill:none\" points=\"\n",
       "  112.177,1486.45 2352.76,1486.45 \n",
       "  \"/>\n",
       "<polyline clip-path=\"url(#clip200)\" style=\"stroke:#000000; stroke-width:4; stroke-opacity:1; fill:none\" points=\"\n",
       "  112.177,1486.45 112.177,47.2441 \n",
       "  \"/>\n",
       "<polyline clip-path=\"url(#clip200)\" style=\"stroke:#000000; stroke-width:4; stroke-opacity:1; fill:none\" points=\"\n",
       "  175.59,1486.45 175.59,1469.18 \n",
       "  \"/>\n",
       "<polyline clip-path=\"url(#clip200)\" style=\"stroke:#000000; stroke-width:4; stroke-opacity:1; fill:none\" points=\"\n",
       "  704.028,1486.45 704.028,1469.18 \n",
       "  \"/>\n",
       "<polyline clip-path=\"url(#clip200)\" style=\"stroke:#000000; stroke-width:4; stroke-opacity:1; fill:none\" points=\"\n",
       "  1232.47,1486.45 1232.47,1469.18 \n",
       "  \"/>\n",
       "<polyline clip-path=\"url(#clip200)\" style=\"stroke:#000000; stroke-width:4; stroke-opacity:1; fill:none\" points=\"\n",
       "  1760.9,1486.45 1760.9,1469.18 \n",
       "  \"/>\n",
       "<polyline clip-path=\"url(#clip200)\" style=\"stroke:#000000; stroke-width:4; stroke-opacity:1; fill:none\" points=\"\n",
       "  2289.34,1486.45 2289.34,1469.18 \n",
       "  \"/>\n",
       "<polyline clip-path=\"url(#clip200)\" style=\"stroke:#000000; stroke-width:4; stroke-opacity:1; fill:none\" points=\"\n",
       "  112.177,1445.72 139.064,1445.72 \n",
       "  \"/>\n",
       "<polyline clip-path=\"url(#clip200)\" style=\"stroke:#000000; stroke-width:4; stroke-opacity:1; fill:none\" points=\"\n",
       "  112.177,1233.21 139.064,1233.21 \n",
       "  \"/>\n",
       "<polyline clip-path=\"url(#clip200)\" style=\"stroke:#000000; stroke-width:4; stroke-opacity:1; fill:none\" points=\"\n",
       "  112.177,1020.7 139.064,1020.7 \n",
       "  \"/>\n",
       "<polyline clip-path=\"url(#clip200)\" style=\"stroke:#000000; stroke-width:4; stroke-opacity:1; fill:none\" points=\"\n",
       "  112.177,808.185 139.064,808.185 \n",
       "  \"/>\n",
       "<polyline clip-path=\"url(#clip200)\" style=\"stroke:#000000; stroke-width:4; stroke-opacity:1; fill:none\" points=\"\n",
       "  112.177,595.675 139.064,595.675 \n",
       "  \"/>\n",
       "<polyline clip-path=\"url(#clip200)\" style=\"stroke:#000000; stroke-width:4; stroke-opacity:1; fill:none\" points=\"\n",
       "  112.177,383.165 139.064,383.165 \n",
       "  \"/>\n",
       "<polyline clip-path=\"url(#clip200)\" style=\"stroke:#000000; stroke-width:4; stroke-opacity:1; fill:none\" points=\"\n",
       "  112.177,170.655 139.064,170.655 \n",
       "  \"/>\n",
       "<path clip-path=\"url(#clip200)\" d=\"M 0 0 M157.106 1508.44 Q153.495 1508.44 151.666 1512 Q149.861 1515.55 149.861 1522.67 Q149.861 1529.78 151.666 1533.35 Q153.495 1536.89 157.106 1536.89 Q160.74 1536.89 162.546 1533.35 Q164.375 1529.78 164.375 1522.67 Q164.375 1515.55 162.546 1512 Q160.74 1508.44 157.106 1508.44 M157.106 1504.73 Q162.916 1504.73 165.972 1509.34 Q169.05 1513.92 169.05 1522.67 Q169.05 1531.4 165.972 1536.01 Q162.916 1540.59 157.106 1540.59 Q151.296 1540.59 148.217 1536.01 Q145.162 1531.4 145.162 1522.67 Q145.162 1513.92 148.217 1509.34 Q151.296 1504.73 157.106 1504.73 Z\" fill=\"#000000\" fill-rule=\"evenodd\" fill-opacity=\"1\" /><path clip-path=\"url(#clip200)\" d=\"M 0 0 M174.12 1534.04 L179.004 1534.04 L179.004 1539.92 L174.12 1539.92 L174.12 1534.04 Z\" fill=\"#000000\" fill-rule=\"evenodd\" fill-opacity=\"1\" /><path clip-path=\"url(#clip200)\" d=\"M 0 0 M194.073 1508.44 Q190.462 1508.44 188.634 1512 Q186.828 1515.55 186.828 1522.67 Q186.828 1529.78 188.634 1533.35 Q190.462 1536.89 194.073 1536.89 Q197.708 1536.89 199.513 1533.35 Q201.342 1529.78 201.342 1522.67 Q201.342 1515.55 199.513 1512 Q197.708 1508.44 194.073 1508.44 M194.073 1504.73 Q199.884 1504.73 202.939 1509.34 Q206.018 1513.92 206.018 1522.67 Q206.018 1531.4 202.939 1536.01 Q199.884 1540.59 194.073 1540.59 Q188.263 1540.59 185.185 1536.01 Q182.129 1531.4 182.129 1522.67 Q182.129 1513.92 185.185 1509.34 Q188.263 1504.73 194.073 1504.73 Z\" fill=\"#000000\" fill-rule=\"evenodd\" fill-opacity=\"1\" /><path clip-path=\"url(#clip200)\" d=\"M 0 0 M686.042 1508.44 Q682.431 1508.44 680.602 1512 Q678.797 1515.55 678.797 1522.67 Q678.797 1529.78 680.602 1533.35 Q682.431 1536.89 686.042 1536.89 Q689.676 1536.89 691.482 1533.35 Q693.311 1529.78 693.311 1522.67 Q693.311 1515.55 691.482 1512 Q689.676 1508.44 686.042 1508.44 M686.042 1504.73 Q691.852 1504.73 694.908 1509.34 Q697.987 1513.92 697.987 1522.67 Q697.987 1531.4 694.908 1536.01 Q691.852 1540.59 686.042 1540.59 Q680.232 1540.59 677.153 1536.01 Q674.098 1531.4 674.098 1522.67 Q674.098 1513.92 677.153 1509.34 Q680.232 1504.73 686.042 1504.73 Z\" fill=\"#000000\" fill-rule=\"evenodd\" fill-opacity=\"1\" /><path clip-path=\"url(#clip200)\" d=\"M 0 0 M703.056 1534.04 L707.94 1534.04 L707.94 1539.92 L703.056 1539.92 L703.056 1534.04 Z\" fill=\"#000000\" fill-rule=\"evenodd\" fill-opacity=\"1\" /><path clip-path=\"url(#clip200)\" d=\"M 0 0 M713.056 1505.36 L731.412 1505.36 L731.412 1509.3 L717.338 1509.3 L717.338 1517.77 Q718.357 1517.42 719.375 1517.26 Q720.394 1517.07 721.412 1517.07 Q727.199 1517.07 730.579 1520.24 Q733.959 1523.42 733.959 1528.83 Q733.959 1534.41 730.486 1537.51 Q727.014 1540.59 720.695 1540.59 Q718.519 1540.59 716.25 1540.22 Q714.005 1539.85 711.598 1539.11 L711.598 1534.41 Q713.681 1535.54 715.903 1536.1 Q718.125 1536.66 720.602 1536.66 Q724.607 1536.66 726.945 1534.55 Q729.283 1532.44 729.283 1528.83 Q729.283 1525.22 726.945 1523.11 Q724.607 1521.01 720.602 1521.01 Q718.727 1521.01 716.852 1521.42 Q715 1521.84 713.056 1522.72 L713.056 1505.36 Z\" fill=\"#000000\" fill-rule=\"evenodd\" fill-opacity=\"1\" /><path clip-path=\"url(#clip200)\" d=\"M 0 0 M1204.36 1535.98 L1212 1535.98 L1212 1509.62 L1203.69 1511.29 L1203.69 1507.03 L1211.96 1505.36 L1216.63 1505.36 L1216.63 1535.98 L1224.27 1535.98 L1224.27 1539.92 L1204.36 1539.92 L1204.36 1535.98 Z\" fill=\"#000000\" fill-rule=\"evenodd\" fill-opacity=\"1\" /><path clip-path=\"url(#clip200)\" d=\"M 0 0 M1229.34 1534.04 L1234.23 1534.04 L1234.23 1539.92 L1229.34 1539.92 L1229.34 1534.04 Z\" fill=\"#000000\" fill-rule=\"evenodd\" fill-opacity=\"1\" /><path clip-path=\"url(#clip200)\" d=\"M 0 0 M1249.3 1508.44 Q1245.68 1508.44 1243.86 1512 Q1242.05 1515.55 1242.05 1522.67 Q1242.05 1529.78 1243.86 1533.35 Q1245.68 1536.89 1249.3 1536.89 Q1252.93 1536.89 1254.73 1533.35 Q1256.56 1529.78 1256.56 1522.67 Q1256.56 1515.55 1254.73 1512 Q1252.93 1508.44 1249.3 1508.44 M1249.3 1504.73 Q1255.11 1504.73 1258.16 1509.34 Q1261.24 1513.92 1261.24 1522.67 Q1261.24 1531.4 1258.16 1536.01 Q1255.11 1540.59 1249.3 1540.59 Q1243.49 1540.59 1240.41 1536.01 Q1237.35 1531.4 1237.35 1522.67 Q1237.35 1513.92 1240.41 1509.34 Q1243.49 1504.73 1249.3 1504.73 Z\" fill=\"#000000\" fill-rule=\"evenodd\" fill-opacity=\"1\" /><path clip-path=\"url(#clip200)\" d=\"M 0 0 M1733.3 1535.98 L1740.94 1535.98 L1740.94 1509.62 L1732.63 1511.29 L1732.63 1507.03 L1740.89 1505.36 L1745.57 1505.36 L1745.57 1535.98 L1753.21 1535.98 L1753.21 1539.92 L1733.3 1539.92 L1733.3 1535.98 Z\" fill=\"#000000\" fill-rule=\"evenodd\" fill-opacity=\"1\" /><path clip-path=\"url(#clip200)\" d=\"M 0 0 M1758.28 1534.04 L1763.16 1534.04 L1763.16 1539.92 L1758.28 1539.92 L1758.28 1534.04 Z\" fill=\"#000000\" fill-rule=\"evenodd\" fill-opacity=\"1\" /><path clip-path=\"url(#clip200)\" d=\"M 0 0 M1768.28 1505.36 L1786.63 1505.36 L1786.63 1509.3 L1772.56 1509.3 L1772.56 1517.77 Q1773.58 1517.42 1774.6 1517.26 Q1775.62 1517.07 1776.63 1517.07 Q1782.42 1517.07 1785.8 1520.24 Q1789.18 1523.42 1789.18 1528.83 Q1789.18 1534.41 1785.71 1537.51 Q1782.24 1540.59 1775.92 1540.59 Q1773.74 1540.59 1771.47 1540.22 Q1769.23 1539.85 1766.82 1539.11 L1766.82 1534.41 Q1768.9 1535.54 1771.12 1536.1 Q1773.35 1536.66 1775.82 1536.66 Q1779.83 1536.66 1782.17 1534.55 Q1784.5 1532.44 1784.5 1528.83 Q1784.5 1525.22 1782.17 1523.11 Q1779.83 1521.01 1775.82 1521.01 Q1773.95 1521.01 1772.07 1521.42 Q1770.22 1521.84 1768.28 1522.72 L1768.28 1505.36 Z\" fill=\"#000000\" fill-rule=\"evenodd\" fill-opacity=\"1\" /><path clip-path=\"url(#clip200)\" d=\"M 0 0 M2265.51 1535.98 L2281.83 1535.98 L2281.83 1539.92 L2259.89 1539.92 L2259.89 1535.98 Q2262.55 1533.23 2267.13 1528.6 Q2271.74 1523.95 2272.92 1522.61 Q2275.17 1520.08 2276.04 1518.35 Q2276.95 1516.59 2276.95 1514.9 Q2276.95 1512.14 2275 1510.41 Q2273.08 1508.67 2269.98 1508.67 Q2267.78 1508.67 2265.33 1509.43 Q2262.9 1510.2 2260.12 1511.75 L2260.12 1507.03 Q2262.94 1505.89 2265.4 1505.31 Q2267.85 1504.73 2269.89 1504.73 Q2275.26 1504.73 2278.45 1507.42 Q2281.65 1510.11 2281.65 1514.6 Q2281.65 1516.73 2280.84 1518.65 Q2280.05 1520.54 2277.94 1523.14 Q2277.36 1523.81 2274.26 1527.03 Q2271.16 1530.22 2265.51 1535.98 Z\" fill=\"#000000\" fill-rule=\"evenodd\" fill-opacity=\"1\" /><path clip-path=\"url(#clip200)\" d=\"M 0 0 M2286.9 1534.04 L2291.79 1534.04 L2291.79 1539.92 L2286.9 1539.92 L2286.9 1534.04 Z\" fill=\"#000000\" fill-rule=\"evenodd\" fill-opacity=\"1\" /><path clip-path=\"url(#clip200)\" d=\"M 0 0 M2306.85 1508.44 Q2303.24 1508.44 2301.41 1512 Q2299.61 1515.55 2299.61 1522.67 Q2299.61 1529.78 2301.41 1533.35 Q2303.24 1536.89 2306.85 1536.89 Q2310.49 1536.89 2312.29 1533.35 Q2314.12 1529.78 2314.12 1522.67 Q2314.12 1515.55 2312.29 1512 Q2310.49 1508.44 2306.85 1508.44 M2306.85 1504.73 Q2312.66 1504.73 2315.72 1509.34 Q2318.8 1513.92 2318.8 1522.67 Q2318.8 1531.4 2315.72 1536.01 Q2312.66 1540.59 2306.85 1540.59 Q2301.04 1540.59 2297.97 1536.01 Q2294.91 1531.4 2294.91 1522.67 Q2294.91 1513.92 2297.97 1509.34 Q2301.04 1504.73 2306.85 1504.73 Z\" fill=\"#000000\" fill-rule=\"evenodd\" fill-opacity=\"1\" /><path clip-path=\"url(#clip200)\" d=\"M 0 0 M68.2699 1459.06 L75.9087 1459.06 L75.9087 1432.69 L67.5986 1434.36 L67.5986 1430.1 L75.8624 1428.44 L80.5383 1428.44 L80.5383 1459.06 L88.1772 1459.06 L88.1772 1463 L68.2699 1463 L68.2699 1459.06 Z\" fill=\"#000000\" fill-rule=\"evenodd\" fill-opacity=\"1\" /><path clip-path=\"url(#clip200)\" d=\"M 0 0 M71.8578 1246.55 L88.1772 1246.55 L88.1772 1250.49 L66.2328 1250.49 L66.2328 1246.55 Q68.8949 1243.8 73.4782 1239.17 Q78.0846 1234.51 79.2652 1233.17 Q81.5105 1230.65 82.3902 1228.91 Q83.2929 1227.15 83.2929 1225.46 Q83.2929 1222.71 81.3485 1220.97 Q79.4272 1219.24 76.3254 1219.24 Q74.1263 1219.24 71.6726 1220 Q69.2421 1220.76 66.4643 1222.31 L66.4643 1217.59 Q69.2884 1216.46 71.7421 1215.88 Q74.1958 1215.3 76.2328 1215.3 Q81.6031 1215.3 84.7976 1217.99 Q87.992 1220.67 87.992 1225.16 Q87.992 1227.29 87.1818 1229.21 Q86.3948 1231.11 84.2883 1233.7 Q83.7096 1234.37 80.6078 1237.59 Q77.5059 1240.79 71.8578 1246.55 Z\" fill=\"#000000\" fill-rule=\"evenodd\" fill-opacity=\"1\" /><path clip-path=\"url(#clip200)\" d=\"M 0 0 M81.0476 1019.34 Q84.404 1020.06 86.279 1022.33 Q88.1772 1024.6 88.1772 1027.93 Q88.1772 1033.04 84.6587 1035.85 Q81.1402 1038.65 74.6587 1038.65 Q72.4828 1038.65 70.168 1038.21 Q67.8764 1037.79 65.4227 1036.93 L65.4227 1032.42 Q67.3671 1033.55 69.6819 1034.13 Q71.9967 1034.71 74.5198 1034.71 Q78.918 1034.71 81.2096 1032.98 Q83.5244 1031.24 83.5244 1027.93 Q83.5244 1024.87 81.3717 1023.16 Q79.242 1021.42 75.4226 1021.42 L71.3949 1021.42 L71.3949 1017.58 L75.6078 1017.58 Q79.0569 1017.58 80.8855 1016.22 Q82.7142 1014.83 82.7142 1012.23 Q82.7142 1009.57 80.8161 1008.16 Q78.9411 1006.73 75.4226 1006.73 Q73.5013 1006.73 71.3023 1007.14 Q69.1032 1007.56 66.4643 1008.44 L66.4643 1004.27 Q69.1264 1003.53 71.4412 1003.16 Q73.7791 1002.79 75.8393 1002.79 Q81.1633 1002.79 84.2652 1005.22 Q87.367 1007.63 87.367 1011.75 Q87.367 1014.62 85.7235 1016.61 Q84.08 1018.58 81.0476 1019.34 Z\" fill=\"#000000\" fill-rule=\"evenodd\" fill-opacity=\"1\" /><path clip-path=\"url(#clip200)\" d=\"M 0 0 M78.5939 794.979 L66.7884 813.428 L78.5939 813.428 L78.5939 794.979 M77.367 790.905 L83.2466 790.905 L83.2466 813.428 L88.1772 813.428 L88.1772 817.317 L83.2466 817.317 L83.2466 825.465 L78.5939 825.465 L78.5939 817.317 L62.9921 817.317 L62.9921 812.803 L77.367 790.905 Z\" fill=\"#000000\" fill-rule=\"evenodd\" fill-opacity=\"1\" /><path clip-path=\"url(#clip200)\" d=\"M 0 0 M67.2745 578.395 L85.6309 578.395 L85.6309 582.33 L71.5569 582.33 L71.5569 590.802 Q72.5754 590.455 73.5939 590.293 Q74.6124 590.108 75.6309 590.108 Q81.418 590.108 84.7976 593.279 Q88.1772 596.45 88.1772 601.867 Q88.1772 607.446 84.705 610.548 Q81.2328 613.626 74.9134 613.626 Q72.7374 613.626 70.4689 613.256 Q68.2236 612.886 65.8162 612.145 L65.8162 607.446 Q67.8995 608.58 70.1217 609.136 Q72.3439 609.691 74.8208 609.691 Q78.8254 609.691 81.1633 607.585 Q83.5013 605.478 83.5013 601.867 Q83.5013 598.256 81.1633 596.15 Q78.8254 594.043 74.8208 594.043 Q72.9458 594.043 71.0708 594.46 Q69.2189 594.876 67.2745 595.756 L67.2745 578.395 Z\" fill=\"#000000\" fill-rule=\"evenodd\" fill-opacity=\"1\" /><path clip-path=\"url(#clip200)\" d=\"M 0 0 M76.6495 381.301 Q73.5013 381.301 71.6495 383.454 Q69.8208 385.607 69.8208 389.357 Q69.8208 393.084 71.6495 395.26 Q73.5013 397.412 76.6495 397.412 Q79.7976 397.412 81.6263 395.26 Q83.4781 393.084 83.4781 389.357 Q83.4781 385.607 81.6263 383.454 Q79.7976 381.301 76.6495 381.301 M85.9318 366.649 L85.9318 370.908 Q84.1726 370.075 82.367 369.635 Q80.5846 369.195 78.8254 369.195 Q74.1958 369.195 71.7421 372.32 Q69.3115 375.445 68.9643 381.764 Q70.33 379.75 72.3902 378.686 Q74.4504 377.598 76.9272 377.598 Q82.1355 377.598 85.1448 380.769 Q88.1772 383.917 88.1772 389.357 Q88.1772 394.681 85.029 397.899 Q81.8809 401.116 76.6495 401.116 Q70.6541 401.116 67.4828 396.533 Q64.3116 391.926 64.3116 383.2 Q64.3116 375.005 68.2004 370.144 Q72.0893 365.26 78.6402 365.26 Q80.3994 365.26 82.1818 365.607 Q83.9874 365.954 85.9318 366.649 Z\" fill=\"#000000\" fill-rule=\"evenodd\" fill-opacity=\"1\" /><path clip-path=\"url(#clip200)\" d=\"M 0 0 M65.9551 153.375 L88.1772 153.375 L88.1772 155.365 L75.6309 187.935 L70.7467 187.935 L82.5522 157.31 L65.9551 157.31 L65.9551 153.375 Z\" fill=\"#000000\" fill-rule=\"evenodd\" fill-opacity=\"1\" /><polyline clip-path=\"url(#clip202)\" style=\"stroke:#009af9; stroke-width:4; stroke-opacity:1; fill:none\" points=\"\n",
       "  175.59,87.9763 196.232,118.348 387.102,372.781 501.807,504.989 598.789,606.103 704.138,705.92 801.261,789.533 905.386,871.037 1026.03,955.954 1133.24,1023.7 \n",
       "  1227.25,1077.71 1329.75,1131.36 1432.86,1180.34 1546.86,1229.2 1655.33,1271.05 1768.11,1310.24 1863.05,1340.13 1978.96,1373.17 2087.92,1401.1 2262.48,1440.24 \n",
       "  2289.34,1445.72 \n",
       "  \"/>\n",
       "<path clip-path=\"url(#clip200)\" d=\"\n",
       "M1989.74 251.724 L2280.76 251.724 L2280.76 130.764 L1989.74 130.764  Z\n",
       "  \" fill=\"#ffffff\" fill-rule=\"evenodd\" fill-opacity=\"1\"/>\n",
       "<polyline clip-path=\"url(#clip200)\" style=\"stroke:#000000; stroke-width:4; stroke-opacity:1; fill:none\" points=\"\n",
       "  1989.74,251.724 2280.76,251.724 2280.76,130.764 1989.74,130.764 1989.74,251.724 \n",
       "  \"/>\n",
       "<polyline clip-path=\"url(#clip200)\" style=\"stroke:#009af9; stroke-width:4; stroke-opacity:1; fill:none\" points=\"\n",
       "  2013.74,191.244 2157.74,191.244 \n",
       "  \"/>\n",
       "<path clip-path=\"url(#clip200)\" d=\"M 0 0 M2195.58 210.931 Q2193.77 215.561 2192.06 216.973 Q2190.35 218.385 2187.48 218.385 L2184.08 218.385 L2184.08 214.82 L2186.58 214.82 Q2188.33 214.82 2189.31 213.987 Q2190.28 213.154 2191.46 210.052 L2192.22 208.107 L2181.74 182.598 L2186.25 182.598 L2194.35 202.876 L2202.46 182.598 L2206.97 182.598 L2195.58 210.931 Z\" fill=\"#000000\" fill-rule=\"evenodd\" fill-opacity=\"1\" /><path clip-path=\"url(#clip200)\" d=\"M 0 0 M2212.85 204.589 L2220.49 204.589 L2220.49 178.223 L2212.18 179.89 L2212.18 175.631 L2220.44 173.964 L2225.12 173.964 L2225.12 204.589 L2232.76 204.589 L2232.76 208.524 L2212.85 208.524 L2212.85 204.589 Z\" fill=\"#000000\" fill-rule=\"evenodd\" fill-opacity=\"1\" /></svg>\n"
      ]
     },
     "execution_count": 21,
     "metadata": {},
     "output_type": "execute_result"
    }
   ],
   "source": [
    "plot(d) # uses the generic code!"
   ]
  },
  {
   "cell_type": "markdown",
   "metadata": {},
   "source": [
    "A few things to point out\n",
    "\n",
    "- Even if it worked for `StatsPlots`, our implementation is incomplete, as we haven’t fulfilled all of the requirements of a `Distribution`.  \n",
    "- We also did not implement the `rand` function, which means we are breaking the implicit contract of the `Sampleable` abstract type.  \n",
    "- It turns out that there is a better way to do this precise thing already built into `Distributions`.  "
   ]
  },
  {
   "cell_type": "code",
   "execution_count": 22,
   "metadata": {
    "hide-output": false
   },
   "outputs": [
    {
     "name": "stdout",
     "output_type": "stream",
     "text": [
      "typeof(d) = Truncated{Exponential{Float64},Continuous,Float64}\n"
     ]
    },
    {
     "data": {
      "image/svg+xml": [
       "<?xml version=\"1.0\" encoding=\"utf-8\"?>\n",
       "<svg xmlns=\"http://www.w3.org/2000/svg\" xmlns:xlink=\"http://www.w3.org/1999/xlink\" width=\"600\" height=\"400\" viewBox=\"0 0 2400 1600\">\n",
       "<defs>\n",
       "  <clipPath id=\"clip240\">\n",
       "    <rect x=\"0\" y=\"0\" width=\"2400\" height=\"1600\"/>\n",
       "  </clipPath>\n",
       "</defs>\n",
       "<path clip-path=\"url(#clip240)\" d=\"\n",
       "M0 1600 L2400 1600 L2400 0 L0 0  Z\n",
       "  \" fill=\"#ffffff\" fill-rule=\"evenodd\" fill-opacity=\"1\"/>\n",
       "<defs>\n",
       "  <clipPath id=\"clip241\">\n",
       "    <rect x=\"480\" y=\"0\" width=\"1681\" height=\"1600\"/>\n",
       "  </clipPath>\n",
       "</defs>\n",
       "<path clip-path=\"url(#clip240)\" d=\"\n",
       "M171.552 1486.45 L2352.76 1486.45 L2352.76 47.2441 L171.552 47.2441  Z\n",
       "  \" fill=\"#ffffff\" fill-rule=\"evenodd\" fill-opacity=\"1\"/>\n",
       "<defs>\n",
       "  <clipPath id=\"clip242\">\n",
       "    <rect x=\"171\" y=\"47\" width=\"2182\" height=\"1440\"/>\n",
       "  </clipPath>\n",
       "</defs>\n",
       "<polyline clip-path=\"url(#clip242)\" style=\"stroke:#000000; stroke-width:2; stroke-opacity:0.1; fill:none\" points=\"\n",
       "  233.284,1486.45 233.284,47.2441 \n",
       "  \"/>\n",
       "<polyline clip-path=\"url(#clip242)\" style=\"stroke:#000000; stroke-width:2; stroke-opacity:0.1; fill:none\" points=\"\n",
       "  747.719,1486.45 747.719,47.2441 \n",
       "  \"/>\n",
       "<polyline clip-path=\"url(#clip242)\" style=\"stroke:#000000; stroke-width:2; stroke-opacity:0.1; fill:none\" points=\"\n",
       "  1262.15,1486.45 1262.15,47.2441 \n",
       "  \"/>\n",
       "<polyline clip-path=\"url(#clip242)\" style=\"stroke:#000000; stroke-width:2; stroke-opacity:0.1; fill:none\" points=\"\n",
       "  1776.59,1486.45 1776.59,47.2441 \n",
       "  \"/>\n",
       "<polyline clip-path=\"url(#clip242)\" style=\"stroke:#000000; stroke-width:2; stroke-opacity:0.1; fill:none\" points=\"\n",
       "  2291.02,1486.45 2291.02,47.2441 \n",
       "  \"/>\n",
       "<polyline clip-path=\"url(#clip242)\" style=\"stroke:#000000; stroke-width:2; stroke-opacity:0.1; fill:none\" points=\"\n",
       "  171.552,1445.72 2352.76,1445.72 \n",
       "  \"/>\n",
       "<polyline clip-path=\"url(#clip242)\" style=\"stroke:#000000; stroke-width:2; stroke-opacity:0.1; fill:none\" points=\"\n",
       "  171.552,1106.28 2352.76,1106.28 \n",
       "  \"/>\n",
       "<polyline clip-path=\"url(#clip242)\" style=\"stroke:#000000; stroke-width:2; stroke-opacity:0.1; fill:none\" points=\"\n",
       "  171.552,766.846 2352.76,766.846 \n",
       "  \"/>\n",
       "<polyline clip-path=\"url(#clip242)\" style=\"stroke:#000000; stroke-width:2; stroke-opacity:0.1; fill:none\" points=\"\n",
       "  171.552,427.411 2352.76,427.411 \n",
       "  \"/>\n",
       "<polyline clip-path=\"url(#clip242)\" style=\"stroke:#000000; stroke-width:2; stroke-opacity:0.1; fill:none\" points=\"\n",
       "  171.552,87.9763 2352.76,87.9763 \n",
       "  \"/>\n",
       "<polyline clip-path=\"url(#clip240)\" style=\"stroke:#000000; stroke-width:4; stroke-opacity:1; fill:none\" points=\"\n",
       "  171.552,1486.45 2352.76,1486.45 \n",
       "  \"/>\n",
       "<polyline clip-path=\"url(#clip240)\" style=\"stroke:#000000; stroke-width:4; stroke-opacity:1; fill:none\" points=\"\n",
       "  171.552,1486.45 171.552,47.2441 \n",
       "  \"/>\n",
       "<polyline clip-path=\"url(#clip240)\" style=\"stroke:#000000; stroke-width:4; stroke-opacity:1; fill:none\" points=\"\n",
       "  233.284,1486.45 233.284,1469.18 \n",
       "  \"/>\n",
       "<polyline clip-path=\"url(#clip240)\" style=\"stroke:#000000; stroke-width:4; stroke-opacity:1; fill:none\" points=\"\n",
       "  747.719,1486.45 747.719,1469.18 \n",
       "  \"/>\n",
       "<polyline clip-path=\"url(#clip240)\" style=\"stroke:#000000; stroke-width:4; stroke-opacity:1; fill:none\" points=\"\n",
       "  1262.15,1486.45 1262.15,1469.18 \n",
       "  \"/>\n",
       "<polyline clip-path=\"url(#clip240)\" style=\"stroke:#000000; stroke-width:4; stroke-opacity:1; fill:none\" points=\"\n",
       "  1776.59,1486.45 1776.59,1469.18 \n",
       "  \"/>\n",
       "<polyline clip-path=\"url(#clip240)\" style=\"stroke:#000000; stroke-width:4; stroke-opacity:1; fill:none\" points=\"\n",
       "  2291.02,1486.45 2291.02,1469.18 \n",
       "  \"/>\n",
       "<polyline clip-path=\"url(#clip240)\" style=\"stroke:#000000; stroke-width:4; stroke-opacity:1; fill:none\" points=\"\n",
       "  171.552,1445.72 197.726,1445.72 \n",
       "  \"/>\n",
       "<polyline clip-path=\"url(#clip240)\" style=\"stroke:#000000; stroke-width:4; stroke-opacity:1; fill:none\" points=\"\n",
       "  171.552,1106.28 197.726,1106.28 \n",
       "  \"/>\n",
       "<polyline clip-path=\"url(#clip240)\" style=\"stroke:#000000; stroke-width:4; stroke-opacity:1; fill:none\" points=\"\n",
       "  171.552,766.846 197.726,766.846 \n",
       "  \"/>\n",
       "<polyline clip-path=\"url(#clip240)\" style=\"stroke:#000000; stroke-width:4; stroke-opacity:1; fill:none\" points=\"\n",
       "  171.552,427.411 197.726,427.411 \n",
       "  \"/>\n",
       "<polyline clip-path=\"url(#clip240)\" style=\"stroke:#000000; stroke-width:4; stroke-opacity:1; fill:none\" points=\"\n",
       "  171.552,87.9763 197.726,87.9763 \n",
       "  \"/>\n",
       "<path clip-path=\"url(#clip240)\" d=\"M 0 0 M214.8 1508.44 Q211.189 1508.44 209.361 1512 Q207.555 1515.55 207.555 1522.67 Q207.555 1529.78 209.361 1533.35 Q211.189 1536.89 214.8 1536.89 Q218.435 1536.89 220.24 1533.35 Q222.069 1529.78 222.069 1522.67 Q222.069 1515.55 220.24 1512 Q218.435 1508.44 214.8 1508.44 M214.8 1504.73 Q220.611 1504.73 223.666 1509.34 Q226.745 1513.92 226.745 1522.67 Q226.745 1531.4 223.666 1536.01 Q220.611 1540.59 214.8 1540.59 Q208.99 1540.59 205.912 1536.01 Q202.856 1531.4 202.856 1522.67 Q202.856 1513.92 205.912 1509.34 Q208.99 1504.73 214.8 1504.73 Z\" fill=\"#000000\" fill-rule=\"evenodd\" fill-opacity=\"1\" /><path clip-path=\"url(#clip240)\" d=\"M 0 0 M231.814 1534.04 L236.698 1534.04 L236.698 1539.92 L231.814 1539.92 L231.814 1534.04 Z\" fill=\"#000000\" fill-rule=\"evenodd\" fill-opacity=\"1\" /><path clip-path=\"url(#clip240)\" d=\"M 0 0 M251.768 1508.44 Q248.157 1508.44 246.328 1512 Q244.522 1515.55 244.522 1522.67 Q244.522 1529.78 246.328 1533.35 Q248.157 1536.89 251.768 1536.89 Q255.402 1536.89 257.208 1533.35 Q259.036 1529.78 259.036 1522.67 Q259.036 1515.55 257.208 1512 Q255.402 1508.44 251.768 1508.44 M251.768 1504.73 Q257.578 1504.73 260.633 1509.34 Q263.712 1513.92 263.712 1522.67 Q263.712 1531.4 260.633 1536.01 Q257.578 1540.59 251.768 1540.59 Q245.958 1540.59 242.879 1536.01 Q239.823 1531.4 239.823 1522.67 Q239.823 1513.92 242.879 1509.34 Q245.958 1504.73 251.768 1504.73 Z\" fill=\"#000000\" fill-rule=\"evenodd\" fill-opacity=\"1\" /><path clip-path=\"url(#clip240)\" d=\"M 0 0 M729.733 1508.44 Q726.122 1508.44 724.293 1512 Q722.488 1515.55 722.488 1522.67 Q722.488 1529.78 724.293 1533.35 Q726.122 1536.89 729.733 1536.89 Q733.367 1536.89 735.173 1533.35 Q737.001 1529.78 737.001 1522.67 Q737.001 1515.55 735.173 1512 Q733.367 1508.44 729.733 1508.44 M729.733 1504.73 Q735.543 1504.73 738.599 1509.34 Q741.677 1513.92 741.677 1522.67 Q741.677 1531.4 738.599 1536.01 Q735.543 1540.59 729.733 1540.59 Q723.923 1540.59 720.844 1536.01 Q717.789 1531.4 717.789 1522.67 Q717.789 1513.92 720.844 1509.34 Q723.923 1504.73 729.733 1504.73 Z\" fill=\"#000000\" fill-rule=\"evenodd\" fill-opacity=\"1\" /><path clip-path=\"url(#clip240)\" d=\"M 0 0 M746.747 1534.04 L751.631 1534.04 L751.631 1539.92 L746.747 1539.92 L746.747 1534.04 Z\" fill=\"#000000\" fill-rule=\"evenodd\" fill-opacity=\"1\" /><path clip-path=\"url(#clip240)\" d=\"M 0 0 M756.747 1505.36 L775.103 1505.36 L775.103 1509.3 L761.029 1509.3 L761.029 1517.77 Q762.048 1517.42 763.066 1517.26 Q764.085 1517.07 765.103 1517.07 Q770.89 1517.07 774.27 1520.24 Q777.649 1523.42 777.649 1528.83 Q777.649 1534.41 774.177 1537.51 Q770.705 1540.59 764.386 1540.59 Q762.21 1540.59 759.941 1540.22 Q757.696 1539.85 755.288 1539.11 L755.288 1534.41 Q757.372 1535.54 759.594 1536.1 Q761.816 1536.66 764.293 1536.66 Q768.298 1536.66 770.636 1534.55 Q772.973 1532.44 772.973 1528.83 Q772.973 1525.22 770.636 1523.11 Q768.298 1521.01 764.293 1521.01 Q762.418 1521.01 760.543 1521.42 Q758.691 1521.84 756.747 1522.72 L756.747 1505.36 Z\" fill=\"#000000\" fill-rule=\"evenodd\" fill-opacity=\"1\" /><path clip-path=\"url(#clip240)\" d=\"M 0 0 M1234.05 1535.98 L1241.69 1535.98 L1241.69 1509.62 L1233.38 1511.29 L1233.38 1507.03 L1241.64 1505.36 L1246.32 1505.36 L1246.32 1535.98 L1253.96 1535.98 L1253.96 1539.92 L1234.05 1539.92 L1234.05 1535.98 Z\" fill=\"#000000\" fill-rule=\"evenodd\" fill-opacity=\"1\" /><path clip-path=\"url(#clip240)\" d=\"M 0 0 M1259.03 1534.04 L1263.91 1534.04 L1263.91 1539.92 L1259.03 1539.92 L1259.03 1534.04 Z\" fill=\"#000000\" fill-rule=\"evenodd\" fill-opacity=\"1\" /><path clip-path=\"url(#clip240)\" d=\"M 0 0 M1278.98 1508.44 Q1275.37 1508.44 1273.54 1512 Q1271.74 1515.55 1271.74 1522.67 Q1271.74 1529.78 1273.54 1533.35 Q1275.37 1536.89 1278.98 1536.89 Q1282.62 1536.89 1284.42 1533.35 Q1286.25 1529.78 1286.25 1522.67 Q1286.25 1515.55 1284.42 1512 Q1282.62 1508.44 1278.98 1508.44 M1278.98 1504.73 Q1284.79 1504.73 1287.85 1509.34 Q1290.93 1513.92 1290.93 1522.67 Q1290.93 1531.4 1287.85 1536.01 Q1284.79 1540.59 1278.98 1540.59 Q1273.17 1540.59 1270.09 1536.01 Q1267.04 1531.4 1267.04 1522.67 Q1267.04 1513.92 1270.09 1509.34 Q1273.17 1504.73 1278.98 1504.73 Z\" fill=\"#000000\" fill-rule=\"evenodd\" fill-opacity=\"1\" /><path clip-path=\"url(#clip240)\" d=\"M 0 0 M1748.98 1535.98 L1756.62 1535.98 L1756.62 1509.62 L1748.31 1511.29 L1748.31 1507.03 L1756.58 1505.36 L1761.25 1505.36 L1761.25 1535.98 L1768.89 1535.98 L1768.89 1539.92 L1748.98 1539.92 L1748.98 1535.98 Z\" fill=\"#000000\" fill-rule=\"evenodd\" fill-opacity=\"1\" /><path clip-path=\"url(#clip240)\" d=\"M 0 0 M1773.96 1534.04 L1778.85 1534.04 L1778.85 1539.92 L1773.96 1539.92 L1773.96 1534.04 Z\" fill=\"#000000\" fill-rule=\"evenodd\" fill-opacity=\"1\" /><path clip-path=\"url(#clip240)\" d=\"M 0 0 M1783.96 1505.36 L1802.32 1505.36 L1802.32 1509.3 L1788.24 1509.3 L1788.24 1517.77 Q1789.26 1517.42 1790.28 1517.26 Q1791.3 1517.07 1792.32 1517.07 Q1798.1 1517.07 1801.48 1520.24 Q1804.86 1523.42 1804.86 1528.83 Q1804.86 1534.41 1801.39 1537.51 Q1797.92 1540.59 1791.6 1540.59 Q1789.42 1540.59 1787.16 1540.22 Q1784.91 1539.85 1782.5 1539.11 L1782.5 1534.41 Q1784.59 1535.54 1786.81 1536.1 Q1789.03 1536.66 1791.51 1536.66 Q1795.51 1536.66 1797.85 1534.55 Q1800.19 1532.44 1800.19 1528.83 Q1800.19 1525.22 1797.85 1523.11 Q1795.51 1521.01 1791.51 1521.01 Q1789.63 1521.01 1787.76 1521.42 Q1785.91 1521.84 1783.96 1522.72 L1783.96 1505.36 Z\" fill=\"#000000\" fill-rule=\"evenodd\" fill-opacity=\"1\" /><path clip-path=\"url(#clip240)\" d=\"M 0 0 M2267.19 1535.98 L2283.51 1535.98 L2283.51 1539.92 L2261.57 1539.92 L2261.57 1535.98 Q2264.23 1533.23 2268.81 1528.6 Q2273.42 1523.95 2274.6 1522.61 Q2276.85 1520.08 2277.73 1518.35 Q2278.63 1516.59 2278.63 1514.9 Q2278.63 1512.14 2276.68 1510.41 Q2274.76 1508.67 2271.66 1508.67 Q2269.46 1508.67 2267.01 1509.43 Q2264.58 1510.2 2261.8 1511.75 L2261.8 1507.03 Q2264.62 1505.89 2267.08 1505.31 Q2269.53 1504.73 2271.57 1504.73 Q2276.94 1504.73 2280.13 1507.42 Q2283.33 1510.11 2283.33 1514.6 Q2283.33 1516.73 2282.52 1518.65 Q2281.73 1520.54 2279.62 1523.14 Q2279.04 1523.81 2275.94 1527.03 Q2272.84 1530.22 2267.19 1535.98 Z\" fill=\"#000000\" fill-rule=\"evenodd\" fill-opacity=\"1\" /><path clip-path=\"url(#clip240)\" d=\"M 0 0 M2288.58 1534.04 L2293.47 1534.04 L2293.47 1539.92 L2288.58 1539.92 L2288.58 1534.04 Z\" fill=\"#000000\" fill-rule=\"evenodd\" fill-opacity=\"1\" /><path clip-path=\"url(#clip240)\" d=\"M 0 0 M2308.54 1508.44 Q2304.92 1508.44 2303.1 1512 Q2301.29 1515.55 2301.29 1522.67 Q2301.29 1529.78 2303.1 1533.35 Q2304.92 1536.89 2308.54 1536.89 Q2312.17 1536.89 2313.97 1533.35 Q2315.8 1529.78 2315.8 1522.67 Q2315.8 1515.55 2313.97 1512 Q2312.17 1508.44 2308.54 1508.44 M2308.54 1504.73 Q2314.35 1504.73 2317.4 1509.34 Q2320.48 1513.92 2320.48 1522.67 Q2320.48 1531.4 2317.4 1536.01 Q2314.35 1540.59 2308.54 1540.59 Q2302.73 1540.59 2299.65 1536.01 Q2296.59 1531.4 2296.59 1522.67 Q2296.59 1513.92 2299.65 1509.34 Q2302.73 1504.73 2308.54 1504.73 Z\" fill=\"#000000\" fill-rule=\"evenodd\" fill-opacity=\"1\" /><path clip-path=\"url(#clip240)\" d=\"M 0 0 M98.6401 1431.51 Q95.029 1431.51 93.2003 1435.08 Q91.3948 1438.62 91.3948 1445.75 Q91.3948 1452.86 93.2003 1456.42 Q95.029 1459.96 98.6401 1459.96 Q102.274 1459.96 104.08 1456.42 Q105.909 1452.86 105.909 1445.75 Q105.909 1438.62 104.08 1435.08 Q102.274 1431.51 98.6401 1431.51 M98.6401 1427.81 Q104.45 1427.81 107.506 1432.42 Q110.584 1437 110.584 1445.75 Q110.584 1454.48 107.506 1459.08 Q104.45 1463.67 98.6401 1463.67 Q92.8299 1463.67 89.7512 1459.08 Q86.6957 1454.48 86.6957 1445.75 Q86.6957 1437 89.7512 1432.42 Q92.8299 1427.81 98.6401 1427.81 Z\" fill=\"#000000\" fill-rule=\"evenodd\" fill-opacity=\"1\" /><path clip-path=\"url(#clip240)\" d=\"M 0 0 M115.654 1457.12 L120.538 1457.12 L120.538 1463 L115.654 1463 L115.654 1457.12 Z\" fill=\"#000000\" fill-rule=\"evenodd\" fill-opacity=\"1\" /><path clip-path=\"url(#clip240)\" d=\"M 0 0 M135.607 1431.51 Q131.996 1431.51 130.168 1435.08 Q128.362 1438.62 128.362 1445.75 Q128.362 1452.86 130.168 1456.42 Q131.996 1459.96 135.607 1459.96 Q139.242 1459.96 141.047 1456.42 Q142.876 1452.86 142.876 1445.75 Q142.876 1438.62 141.047 1435.08 Q139.242 1431.51 135.607 1431.51 M135.607 1427.81 Q141.418 1427.81 144.473 1432.42 Q147.552 1437 147.552 1445.75 Q147.552 1454.48 144.473 1459.08 Q141.418 1463.67 135.607 1463.67 Q129.797 1463.67 126.719 1459.08 Q123.663 1454.48 123.663 1445.75 Q123.663 1437 126.719 1432.42 Q129.797 1427.81 135.607 1427.81 Z\" fill=\"#000000\" fill-rule=\"evenodd\" fill-opacity=\"1\" /><path clip-path=\"url(#clip240)\" d=\"M 0 0 M95.2605 1119.63 L111.58 1119.63 L111.58 1123.56 L89.6355 1123.56 L89.6355 1119.63 Q92.2975 1116.87 96.8808 1112.24 Q101.487 1107.59 102.668 1106.25 Q104.913 1103.72 105.793 1101.99 Q106.696 1100.23 106.696 1098.54 Q106.696 1095.78 104.751 1094.05 Q102.83 1092.31 99.728 1092.31 Q97.529 1092.31 95.0753 1093.07 Q92.6447 1093.84 89.867 1095.39 L89.867 1090.67 Q92.691 1089.53 95.1447 1088.95 Q97.5984 1088.38 99.6354 1088.38 Q105.006 1088.38 108.2 1091.06 Q111.395 1093.75 111.395 1098.24 Q111.395 1100.37 110.584 1102.29 Q109.797 1104.19 107.691 1106.78 Q107.112 1107.45 104.01 1110.67 Q100.909 1113.86 95.2605 1119.63 Z\" fill=\"#000000\" fill-rule=\"evenodd\" fill-opacity=\"1\" /><path clip-path=\"url(#clip240)\" d=\"M 0 0 M116.649 1117.68 L121.533 1117.68 L121.533 1123.56 L116.649 1123.56 L116.649 1117.68 Z\" fill=\"#000000\" fill-rule=\"evenodd\" fill-opacity=\"1\" /><path clip-path=\"url(#clip240)\" d=\"M 0 0 M126.649 1089 L145.006 1089 L145.006 1092.94 L130.932 1092.94 L130.932 1101.41 Q131.95 1101.06 132.969 1100.9 Q133.987 1100.71 135.006 1100.71 Q140.793 1100.71 144.172 1103.89 Q147.552 1107.06 147.552 1112.47 Q147.552 1118.05 144.08 1121.15 Q140.607 1124.23 134.288 1124.23 Q132.112 1124.23 129.844 1123.86 Q127.598 1123.49 125.191 1122.75 L125.191 1118.05 Q127.274 1119.19 129.496 1119.74 Q131.719 1120.3 134.195 1120.3 Q138.2 1120.3 140.538 1118.19 Q142.876 1116.08 142.876 1112.47 Q142.876 1108.86 140.538 1106.76 Q138.2 1104.65 134.195 1104.65 Q132.32 1104.65 130.445 1105.07 Q128.594 1105.48 126.649 1106.36 L126.649 1089 Z\" fill=\"#000000\" fill-rule=\"evenodd\" fill-opacity=\"1\" /><path clip-path=\"url(#clip240)\" d=\"M 0 0 M89.6818 749.566 L108.038 749.566 L108.038 753.501 L93.9642 753.501 L93.9642 761.973 Q94.9827 761.626 96.0012 761.464 Q97.0197 761.279 98.0382 761.279 Q103.825 761.279 107.205 764.45 Q110.584 767.621 110.584 773.038 Q110.584 778.617 107.112 781.719 Q103.64 784.797 97.3206 784.797 Q95.1447 784.797 92.8762 784.427 Q90.6309 784.057 88.2235 783.316 L88.2235 778.617 Q90.3068 779.751 92.529 780.307 Q94.7512 780.862 97.2281 780.862 Q101.233 780.862 103.571 778.756 Q105.909 776.649 105.909 773.038 Q105.909 769.427 103.571 767.321 Q101.233 765.214 97.2281 765.214 Q95.3531 765.214 93.4781 765.631 Q91.6262 766.047 89.6818 766.927 L89.6818 749.566 Z\" fill=\"#000000\" fill-rule=\"evenodd\" fill-opacity=\"1\" /><path clip-path=\"url(#clip240)\" d=\"M 0 0 M115.654 778.246 L120.538 778.246 L120.538 784.126 L115.654 784.126 L115.654 778.246 Z\" fill=\"#000000\" fill-rule=\"evenodd\" fill-opacity=\"1\" /><path clip-path=\"url(#clip240)\" d=\"M 0 0 M135.607 752.645 Q131.996 752.645 130.168 756.209 Q128.362 759.751 128.362 766.881 Q128.362 773.987 130.168 777.552 Q131.996 781.094 135.607 781.094 Q139.242 781.094 141.047 777.552 Q142.876 773.987 142.876 766.881 Q142.876 759.751 141.047 756.209 Q139.242 752.645 135.607 752.645 M135.607 748.941 Q141.418 748.941 144.473 753.547 Q147.552 758.131 147.552 766.881 Q147.552 775.608 144.473 780.214 Q141.418 784.797 135.607 784.797 Q129.797 784.797 126.719 780.214 Q123.663 775.608 123.663 766.881 Q123.663 758.131 126.719 753.547 Q129.797 748.941 135.607 748.941 Z\" fill=\"#000000\" fill-rule=\"evenodd\" fill-opacity=\"1\" /><path clip-path=\"url(#clip240)\" d=\"M 0 0 M89.3577 410.131 L111.58 410.131 L111.58 412.122 L99.0336 444.691 L94.1494 444.691 L105.955 414.066 L89.3577 414.066 L89.3577 410.131 Z\" fill=\"#000000\" fill-rule=\"evenodd\" fill-opacity=\"1\" /><path clip-path=\"url(#clip240)\" d=\"M 0 0 M116.649 438.812 L121.533 438.812 L121.533 444.691 L116.649 444.691 L116.649 438.812 Z\" fill=\"#000000\" fill-rule=\"evenodd\" fill-opacity=\"1\" /><path clip-path=\"url(#clip240)\" d=\"M 0 0 M126.649 410.131 L145.006 410.131 L145.006 414.066 L130.932 414.066 L130.932 422.538 Q131.95 422.191 132.969 422.029 Q133.987 421.844 135.006 421.844 Q140.793 421.844 144.172 425.015 Q147.552 428.187 147.552 433.603 Q147.552 439.182 144.08 442.284 Q140.607 445.362 134.288 445.362 Q132.112 445.362 129.844 444.992 Q127.598 444.622 125.191 443.881 L125.191 439.182 Q127.274 440.316 129.496 440.872 Q131.719 441.427 134.195 441.427 Q138.2 441.427 140.538 439.321 Q142.876 437.214 142.876 433.603 Q142.876 429.992 140.538 427.886 Q138.2 425.779 134.195 425.779 Q132.32 425.779 130.445 426.196 Q128.594 426.613 126.649 427.492 L126.649 410.131 Z\" fill=\"#000000\" fill-rule=\"evenodd\" fill-opacity=\"1\" /><path clip-path=\"url(#clip240)\" d=\"M 0 0 M63.6634 101.321 L71.3023 101.321 L71.3023 74.9555 L62.9921 76.6222 L62.9921 72.3629 L71.256 70.6963 L75.9319 70.6963 L75.9319 101.321 L83.5707 101.321 L83.5707 105.256 L63.6634 105.256 L63.6634 101.321 Z\" fill=\"#000000\" fill-rule=\"evenodd\" fill-opacity=\"1\" /><path clip-path=\"url(#clip240)\" d=\"M 0 0 M98.6401 73.775 Q95.029 73.775 93.2003 77.3398 Q91.3948 80.8814 91.3948 88.011 Q91.3948 95.1174 93.2003 98.6822 Q95.029 102.224 98.6401 102.224 Q102.274 102.224 104.08 98.6822 Q105.909 95.1174 105.909 88.011 Q105.909 80.8814 104.08 77.3398 Q102.274 73.775 98.6401 73.775 M98.6401 70.0713 Q104.45 70.0713 107.506 74.6777 Q110.584 79.261 110.584 88.011 Q110.584 96.7378 107.506 101.344 Q104.45 105.928 98.6401 105.928 Q92.8299 105.928 89.7512 101.344 Q86.6957 96.7378 86.6957 88.011 Q86.6957 79.261 89.7512 74.6777 Q92.8299 70.0713 98.6401 70.0713 Z\" fill=\"#000000\" fill-rule=\"evenodd\" fill-opacity=\"1\" /><path clip-path=\"url(#clip240)\" d=\"M 0 0 M115.654 99.3767 L120.538 99.3767 L120.538 105.256 L115.654 105.256 L115.654 99.3767 Z\" fill=\"#000000\" fill-rule=\"evenodd\" fill-opacity=\"1\" /><path clip-path=\"url(#clip240)\" d=\"M 0 0 M135.607 73.775 Q131.996 73.775 130.168 77.3398 Q128.362 80.8814 128.362 88.011 Q128.362 95.1174 130.168 98.6822 Q131.996 102.224 135.607 102.224 Q139.242 102.224 141.047 98.6822 Q142.876 95.1174 142.876 88.011 Q142.876 80.8814 141.047 77.3398 Q139.242 73.775 135.607 73.775 M135.607 70.0713 Q141.418 70.0713 144.473 74.6777 Q147.552 79.261 147.552 88.011 Q147.552 96.7378 144.473 101.344 Q141.418 105.928 135.607 105.928 Q129.797 105.928 126.719 101.344 Q123.663 96.7378 123.663 88.011 Q123.663 79.261 126.719 74.6777 Q129.797 70.0713 135.607 70.0713 Z\" fill=\"#000000\" fill-rule=\"evenodd\" fill-opacity=\"1\" /><polyline clip-path=\"url(#clip242)\" style=\"stroke:#009af9; stroke-width:4; stroke-opacity:1; fill:none\" points=\"\n",
       "  233.284,87.9763 235.796,120.723 238.308,152.681 240.82,183.867 243.332,214.302 245.844,244.002 248.356,272.986 250.868,301.271 253.38,328.874 264.993,448.082 \n",
       "  276.606,554.566 288.219,649.684 299.833,734.65 311.446,810.547 323.059,878.343 334.672,938.902 346.286,992.998 357.899,1041.32 369.512,1084.48 381.125,1123.04 \n",
       "  392.739,1157.48 415.965,1215.73 439.192,1262.2 467.108,1305.81 495.024,1339.06 522.941,1364.4 550.857,1383.73 598.063,1406.54 645.268,1420.95 747.826,1436.58 \n",
       "  842.375,1442.07 943.741,1444.35 1061.18,1445.28 1165.55,1445.56 1257.08,1445.65 1356.86,1445.69 1457.24,1445.71 1568.22,1445.71 1673.81,1445.71 1783.61,1445.72 \n",
       "  1876.03,1445.72 1988.87,1445.72 2094.94,1445.72 2264.87,1445.72 2291.02,1445.72 \n",
       "  \"/>\n",
       "<path clip-path=\"url(#clip240)\" d=\"\n",
       "M1989.74 251.724 L2280.76 251.724 L2280.76 130.764 L1989.74 130.764  Z\n",
       "  \" fill=\"#ffffff\" fill-rule=\"evenodd\" fill-opacity=\"1\"/>\n",
       "<polyline clip-path=\"url(#clip240)\" style=\"stroke:#000000; stroke-width:4; stroke-opacity:1; fill:none\" points=\"\n",
       "  1989.74,251.724 2280.76,251.724 2280.76,130.764 1989.74,130.764 1989.74,251.724 \n",
       "  \"/>\n",
       "<polyline clip-path=\"url(#clip240)\" style=\"stroke:#009af9; stroke-width:4; stroke-opacity:1; fill:none\" points=\"\n",
       "  2013.74,191.244 2157.74,191.244 \n",
       "  \"/>\n",
       "<path clip-path=\"url(#clip240)\" d=\"M 0 0 M2195.58 210.931 Q2193.77 215.561 2192.06 216.973 Q2190.35 218.385 2187.48 218.385 L2184.08 218.385 L2184.08 214.82 L2186.58 214.82 Q2188.33 214.82 2189.31 213.987 Q2190.28 213.154 2191.46 210.052 L2192.22 208.107 L2181.74 182.598 L2186.25 182.598 L2194.35 202.876 L2202.46 182.598 L2206.97 182.598 L2195.58 210.931 Z\" fill=\"#000000\" fill-rule=\"evenodd\" fill-opacity=\"1\" /><path clip-path=\"url(#clip240)\" d=\"M 0 0 M2212.85 204.589 L2220.49 204.589 L2220.49 178.223 L2212.18 179.89 L2212.18 175.631 L2220.44 173.964 L2225.12 173.964 L2225.12 204.589 L2232.76 204.589 L2232.76 208.524 L2212.85 208.524 L2212.85 204.589 Z\" fill=\"#000000\" fill-rule=\"evenodd\" fill-opacity=\"1\" /></svg>\n"
      ]
     },
     "execution_count": 22,
     "metadata": {},
     "output_type": "execute_result"
    }
   ],
   "source": [
    "d = Truncated(Exponential(0.1), 0.0, 2.0)\n",
    "@show typeof(d)\n",
    "plot(d)"
   ]
  },
  {
   "cell_type": "markdown",
   "metadata": {},
   "source": [
    "This is the power of generic programming in general, and Julia in particular: you can combine and compose completely separate packages and code, as long as there is an agreement on abstract types and functions."
   ]
  },
  {
   "cell_type": "markdown",
   "metadata": {},
   "source": [
    "## Numbers and Algebraic Structures\n",
    "\n",
    "Define two binary functions,  $ + $ and $ \\cdot $, called addition and multiplication – although the operators can be applied to data structures much more abstract than a `Real`.\n",
    "\n",
    "In mathematics, a [ring](https://en.wikipedia.org/wiki/Ring_%28mathematics%29) is a set with associated additive and multiplicative operators where\n",
    "\n",
    "> - the additive operator is associative and commutative  \n",
    "- the multiplicative operator is associative and distributive with respect to the additive operator  \n",
    "- there is an additive identity element,  denoted $ 0 $, such that $ a + 0 = a $ for any $ a $ in the set  \n",
    "- there is an additive inverse of each element, denoted $ -a $, such that $ a + (-a) = 0 $  \n",
    "- there is a multiplicative identity element, denoted $ 1 $, such that $ a \\cdot 1 = a = 1 \\cdot a $  \n",
    "- a total or partial ordering is **not** required (i.e., there does not need to be any meaningful $ < $ operator defined)  \n",
    "- a multiplicative inverse is **not** required  \n",
    "\n",
    "\n",
    "\n",
    "While this skips over some parts of the mathematical definition, this algebraic structure provides motivation for the abstract `Number` type in Julia\n",
    "\n",
    "> - **Remark:** We use the term “motivation” because they are not formally connected and the mapping is imperfect.  \n",
    "- The main difficulty when dealing with numbers that can be concretely created on a computer is that the requirement that the operators are closed in the set are difficult to ensure (e.g. floating points have finite numbers of bits of information).  \n",
    "\n",
    "\n",
    "\n",
    "Let `typeof(a) = typeof(b) = T <: Number`, then under an informal definition of the **generic interface** for\n",
    "`Number`, the following must be defined\n",
    "\n",
    "> - the additive operator: `a + b`  \n",
    "- the multiplicative operator: `a * b`  \n",
    "- an additive inverse operator: `-a`  \n",
    "- an inverse operation for addition `a - b = a + (-b)`  \n",
    "- an additive identity: `zero(T)` or `zero(a)` for convenience  \n",
    "- a multiplicative identity: `one(T)` or `one(a)` for convenience  \n",
    "\n",
    "\n",
    "\n",
    "The core of generic programming is that, given the knowledge that a value is of type `Number`, we can design algorithms using any of these functions and not concern ourselves with the particular concrete type.\n",
    "\n",
    "Furthermore, that generality in designing algorithms comes with no compromises on performance compared to carefully designed algorithms written for that particular type.\n",
    "\n",
    "To demonstrate this for a complex number, where `Complex{Float64} <: Number`"
   ]
  },
  {
   "cell_type": "code",
   "execution_count": 23,
   "metadata": {
    "hide-output": false
   },
   "outputs": [
    {
     "name": "stdout",
     "output_type": "stream",
     "text": [
      "typeof(a) = Complex{Float64}\n",
      "typeof(a) <: Number = true\n",
      "a + b = 1.0 + 3.0im\n",
      "a * b = -2.0 + 2.0im\n",
      "-a = -1.0 - 1.0im\n",
      "a - b = 1.0 - 1.0im\n",
      "zero(a) = 0.0 + 0.0im\n",
      "one(a) = "
     ]
    },
    {
     "name": "stdout",
     "output_type": "stream",
     "text": [
      "1.0 + 0.0im\n"
     ]
    }
   ],
   "source": [
    "a = 1.0 + 1.0im\n",
    "b = 0.0 + 2.0im\n",
    "@show typeof(a)\n",
    "@show typeof(a) <: Number\n",
    "@show a + b\n",
    "@show a * b\n",
    "@show -a\n",
    "@show a - b\n",
    "@show zero(a)\n",
    "@show one(a);"
   ]
  },
  {
   "cell_type": "markdown",
   "metadata": {},
   "source": [
    "And for an arbitrary precision integer where `BigInt <: Number`\n",
    "(i.e., a different type than the `Int64` you have worked with, but nevertheless a `Number`)"
   ]
  },
  {
   "cell_type": "code",
   "execution_count": 24,
   "metadata": {
    "hide-output": false
   },
   "outputs": [
    {
     "name": "stdout",
     "output_type": "stream",
     "text": [
      "typeof(a) = BigInt\n",
      "typeof(a) <: Number = true\n",
      "a + b = 14\n",
      "a * b = 40\n",
      "-a = -10\n",
      "a - b = 6\n",
      "zero(a) = 0\n",
      "one(a) = 1\n"
     ]
    }
   ],
   "source": [
    "a = BigInt(10)\n",
    "b = BigInt(4)\n",
    "@show typeof(a)\n",
    "@show typeof(a) <: Number\n",
    "@show a + b\n",
    "@show a * b\n",
    "@show -a\n",
    "@show a - b\n",
    "@show zero(a)\n",
    "@show one(a);"
   ]
  },
  {
   "cell_type": "markdown",
   "metadata": {},
   "source": [
    "### Complex Numbers and Composition of Generic Functions\n",
    "\n",
    "This allows us to showcase further how different generic packages compose – even if they are only loosely coupled through agreement on common generic interfaces.\n",
    "\n",
    "The `Complex` numbers require some sort of storage for their underlying real and imaginary parts, which is itself left generic.\n",
    "\n",
    "This data structure is defined to work with any type `<: Number`, and is parameterized (e.g. `Complex{Float64}` is a complex number storing the imaginary and real parts in `Float64`)"
   ]
  },
  {
   "cell_type": "code",
   "execution_count": 25,
   "metadata": {
    "hide-output": false
   },
   "outputs": [
    {
     "name": "stdout",
     "output_type": "stream",
     "text": [
      "(x, typeof(x)) = (4.0 + 1.0im, Complex{Float64})\n",
      "(xbig, typeof(xbig)) = "
     ]
    },
    {
     "name": "stdout",
     "output_type": "stream",
     "text": [
      "(4.0 + 1.0im, Complex{BigFloat})\n"
     ]
    }
   ],
   "source": [
    "x = 4.0 + 1.0im\n",
    "@show x, typeof(x)\n",
    "\n",
    "xbig = BigFloat(4.0) + 1.0im\n",
    "@show xbig, typeof(xbig);"
   ]
  },
  {
   "cell_type": "markdown",
   "metadata": {},
   "source": [
    "The implementation of the `Complex` numbers use the underlying operations of\n",
    "storage type, so as long as `+`, `*` etc. are defined – as they should be\n",
    "for any `Number` – the complex operation can be defined"
   ]
  },
  {
   "cell_type": "code",
   "execution_count": 26,
   "metadata": {
    "hide-output": false
   },
   "outputs": [
    {
     "data": {
      "text/html": [
       "+(z::<b>Complex</b>, w::<b>Complex</b>) in Base at <a href=\"https://github.com/JuliaLang/julia/tree/381693d3dfc9b7072707f6d544f82f6637fc5e7c/base/complex.jl#L275\" target=\"_blank\">complex.jl:275</a>"
      ],
      "text/plain": [
       "+(z::Complex, w::Complex) in Base at complex.jl:275"
      ]
     },
     "execution_count": 26,
     "metadata": {},
     "output_type": "execute_result"
    }
   ],
   "source": [
    "@which +(x,x)"
   ]
  },
  {
   "cell_type": "markdown",
   "metadata": {},
   "source": [
    "Following that link, the implementation of `+` for complex numbers is"
   ]
  },
  {
   "cell_type": "markdown",
   "metadata": {
    "hide-output": false
   },
   "source": [
    "```julia\n",
    "+(z::Complex, w::Complex) = Complex(real(z) + real(w), imag(z) + imag(w))\n",
    "```\n"
   ]
  },
  {
   "cell_type": "markdown",
   "metadata": {},
   "source": [
    "`real(z)` and `imag(z)` returns the associated components of the complex number in the underlying storage type (e.g. `Float64` or `BigFloat`).\n",
    "\n",
    "The rest of the function has been carefully written to use functions defined for any `Number` (e.g. `+` but not `<`, since it is not part of the generic number interface).\n",
    "\n",
    "To follow another example , look at the implementation of `abs` specialized for complex numbers"
   ]
  },
  {
   "cell_type": "code",
   "execution_count": 27,
   "metadata": {
    "hide-output": false
   },
   "outputs": [
    {
     "data": {
      "text/html": [
       "abs(z::<b>Complex</b>) in Base at <a href=\"https://github.com/JuliaLang/julia/tree/381693d3dfc9b7072707f6d544f82f6637fc5e7c/base/complex.jl#L264\" target=\"_blank\">complex.jl:264</a>"
      ],
      "text/plain": [
       "abs(z::Complex) in Base at complex.jl:264"
      ]
     },
     "execution_count": 27,
     "metadata": {},
     "output_type": "execute_result"
    }
   ],
   "source": [
    "@which abs(x)"
   ]
  },
  {
   "cell_type": "markdown",
   "metadata": {},
   "source": [
    "The source is"
   ]
  },
  {
   "cell_type": "markdown",
   "metadata": {
    "hide-output": false
   },
   "source": [
    "```julia\n",
    "abs(z::Complex)  = hypot(real(z), imag(z))\n",
    "```\n"
   ]
  },
  {
   "cell_type": "markdown",
   "metadata": {},
   "source": [
    "In this case, if you look at the generic function to get the hypotenuse, `hypot`, you will see that it has the function signature `hypot(x::T, y::T) where T<:Number`, and hence works for any `Number`.\n",
    "\n",
    "That function, in turn, relies on the underlying `abs` for the type of `real(z)`.\n",
    "\n",
    "This would dispatch to the appropriate `abs` for the type"
   ]
  },
  {
   "cell_type": "code",
   "execution_count": 28,
   "metadata": {
    "hide-output": false
   },
   "outputs": [
    {
     "data": {
      "text/html": [
       "abs(x::<b>Float64</b>) in Base at <a href=\"https://github.com/JuliaLang/julia/tree/381693d3dfc9b7072707f6d544f82f6637fc5e7c/base/float.jl#L528\" target=\"_blank\">float.jl:528</a>"
      ],
      "text/plain": [
       "abs(x::Float64) in Base at float.jl:528"
      ]
     },
     "execution_count": 28,
     "metadata": {},
     "output_type": "execute_result"
    }
   ],
   "source": [
    "@which abs(1.0)"
   ]
  },
  {
   "cell_type": "code",
   "execution_count": 29,
   "metadata": {
    "hide-output": false
   },
   "outputs": [
    {
     "data": {
      "text/html": [
       "abs(x::<b>Real</b>) in Base at <a href=\"https://github.com/JuliaLang/julia/tree/381693d3dfc9b7072707f6d544f82f6637fc5e7c/base/number.jl#L120\" target=\"_blank\">number.jl:120</a>"
      ],
      "text/plain": [
       "abs(x::Real) in Base at number.jl:120"
      ]
     },
     "execution_count": 29,
     "metadata": {},
     "output_type": "execute_result"
    }
   ],
   "source": [
    "@which abs(BigFloat(1.0))"
   ]
  },
  {
   "cell_type": "markdown",
   "metadata": {},
   "source": [
    "With implementations"
   ]
  },
  {
   "cell_type": "markdown",
   "metadata": {
    "hide-output": false
   },
   "source": [
    "```julia\n",
    "abs(x::Real) = ifelse(signbit(x), -x, x)\n",
    "abs(x::Float64) = abs_float(x)\n",
    "```\n"
   ]
  },
  {
   "cell_type": "markdown",
   "metadata": {},
   "source": [
    "For a `Real` number (which we will discuss in the next section) the fallback implementation calls a function `signbit` to determine if it should flip the sign of the number.\n",
    "\n",
    "The specialized version for `Float64 <: Real` calls a function called `abs_float` – which turns out to be a specialized implementation at the compiler level.\n",
    "\n",
    "While we have not completely dissected the tree of function calls, at the bottom of the tree you will end at the most optimized version of the function for the underlying datatype.\n",
    "\n",
    "Hopefully this showcases the power of generic programming:  with a well-designed set of abstract types and functions, the code can both be highly general and composable and still use the most efficient implementation possible."
   ]
  },
  {
   "cell_type": "markdown",
   "metadata": {},
   "source": [
    "## Reals and Algebraic Structures\n",
    "\n",
    "Thinking back to the mathematical motivation, a [field](https://en.wikipedia.org/wiki/Field_%28mathematics%29) is a `ring` with a few additional properties, among them\n",
    "\n",
    "> - a multiplicative inverse: $ a^{-1} $  \n",
    "- an inverse operation for multiplication: $ a / b = a \\cdot b^{-1} $  \n",
    "\n",
    "\n",
    "\n",
    "Furthermore, we will make it a [total ordered](https://en.wikipedia.org/wiki/Total_order#Strict_total_order) field with\n",
    "\n",
    "> - a total ordering binary operator: $ a < b $  \n",
    "\n",
    "\n",
    "\n",
    "This type gives some motivation for the operations and properties of the `Real` type.\n",
    "\n",
    "Of course, `Complex{Float64} <: Number` but not `Real` – since the ordering is not defined for complex numbers in mathematics.\n",
    "\n",
    "These operations are implemented in any subtype of `Real` through\n",
    "\n",
    "> - the multiplicative inverse: `inv(a)`  \n",
    "- the multiplicative inverse operation: `a / b = a * inv(b)`  \n",
    "- an ordering `a < b`  \n",
    "\n",
    "\n",
    "\n",
    "We have already shown these with the `Float64` and `BigFloat`.\n",
    "\n",
    "To show this for the `Rational` number type, where `a // b` constructs a rational number $ \\frac{a}{b} $"
   ]
  },
  {
   "cell_type": "code",
   "execution_count": 30,
   "metadata": {
    "hide-output": false
   },
   "outputs": [
    {
     "name": "stdout",
     "output_type": "stream",
     "text": [
      "typeof(a) = Rational{Int64}\n",
      "typeof(a) <: Number = true\n",
      "typeof(a) <: Real = true\n",
      "inv(a) = 10//1\n"
     ]
    },
    {
     "name": "stdout",
     "output_type": "stream",
     "text": [
      "a / b = 3//20\n",
      "a < b = true\n"
     ]
    }
   ],
   "source": [
    "a = 1 // 10\n",
    "b = 4 // 6\n",
    "@show typeof(a)\n",
    "@show typeof(a) <: Number\n",
    "@show typeof(a) <: Real\n",
    "@show inv(a)\n",
    "@show a / b\n",
    "@show a < b;"
   ]
  },
  {
   "cell_type": "markdown",
   "metadata": {},
   "source": [
    "**Remark:** Here we see where and how the precise connection to the mathematics for number types breaks down for practical reasons, in particular\n",
    "\n",
    "> - `Integer` types (i.e., `Int64 <: Integer`) do not have a a multiplicative inverse with closure in the set.  \n",
    "- However, it is necessary in practice for integer division to be defined, and return back a member of the `Real`’s.  \n",
    "- This is called [type promotion](https://docs.julialang.org/en/v1/manual/conversion-and-promotion/#Promotion-1), where a type can be converted to another to ensure an operation is possible by direct conversion between types (i.e., it can be independent of the type hierarchy).  \n",
    "\n",
    "\n",
    "\n",
    "Do not think of the break in the connection between the underlying algebraic structures and the code as a failure of the language or design.\n",
    "\n",
    "Rather, the underlying algorithms for use on a computer do not perfectly fit the algebraic structures in this instance.\n",
    "\n",
    "Moving further down the tree of types provides more operations more directly tied to the computational implementation than abstract algebra.\n",
    "\n",
    "For example, floating point numbers have a machine precision, below which numbers become indistinguishable due to lack of sufficient “bits” of information"
   ]
  },
  {
   "cell_type": "code",
   "execution_count": 31,
   "metadata": {
    "hide-output": false
   },
   "outputs": [
    {
     "name": "stdout",
     "output_type": "stream",
     "text": [
      "Float64 <: AbstractFloat = true\n",
      "BigFloat <: AbstractFloat = true\n",
      "eps(Float64) = 2.220446049250313e-16\n",
      "eps(BigFloat) = 1.727233711018888925077270372560079914223200072887256277004740694033718360632485e-77\n"
     ]
    }
   ],
   "source": [
    "@show Float64 <: AbstractFloat\n",
    "@show BigFloat <: AbstractFloat\n",
    "@show eps(Float64)\n",
    "@show eps(BigFloat);"
   ]
  },
  {
   "cell_type": "markdown",
   "metadata": {},
   "source": [
    "The `isless` function also has multiple methods.\n",
    "\n",
    "First let’s try with integers"
   ]
  },
  {
   "cell_type": "code",
   "execution_count": 32,
   "metadata": {
    "hide-output": false
   },
   "outputs": [
    {
     "data": {
      "text/html": [
       "isless(x::<b>Real</b>, y::<b>Real</b>) in Base at <a href=\"https://github.com/JuliaLang/julia/tree/381693d3dfc9b7072707f6d544f82f6637fc5e7c/base/operators.jl#L346\" target=\"_blank\">operators.jl:346</a>"
      ],
      "text/plain": [
       "isless(x::Real, y::Real) in Base at operators.jl:346"
      ]
     },
     "execution_count": 32,
     "metadata": {},
     "output_type": "execute_result"
    }
   ],
   "source": [
    "@which isless(1, 2)"
   ]
  },
  {
   "cell_type": "markdown",
   "metadata": {},
   "source": [
    "As we saw previously, the `Real` data type is an *abstract* type, and encompasses both floats and integers.\n",
    "\n",
    "If we go to the provided link in the source, we see the entirety of the function is"
   ]
  },
  {
   "cell_type": "markdown",
   "metadata": {
    "hide-output": false
   },
   "source": [
    "```julia\n",
    "isless(x::Real, y::Real) = x<y\n",
    "```\n"
   ]
  },
  {
   "cell_type": "markdown",
   "metadata": {},
   "source": [
    "That is, for any values where `typeof(x) <: Real` and `typeof(y) <: Real`, the definition relies on `<`.\n",
    "\n",
    "We know that `<` is defined for the types because it is part of the informal interface for the `Real` abstract type.\n",
    "\n",
    "Note that this is not defined for `Number` because not all `Number` types have the `<` ordering operator defined (e.g. `Complex`).\n",
    "\n",
    "In order to generate fast code, the implementation details may define specialized versions of these operations."
   ]
  },
  {
   "cell_type": "code",
   "execution_count": 33,
   "metadata": {
    "hide-output": false
   },
   "outputs": [
    {
     "data": {
      "text/html": [
       "isless(x::<b>Float64</b>, y::<b>Float64</b>) in Base at <a href=\"https://github.com/JuliaLang/julia/tree/381693d3dfc9b7072707f6d544f82f6637fc5e7c/base/float.jl#L465\" target=\"_blank\">float.jl:465</a>"
      ],
      "text/plain": [
       "isless(x::Float64, y::Float64) in Base at float.jl:465"
      ]
     },
     "execution_count": 33,
     "metadata": {},
     "output_type": "execute_result"
    }
   ],
   "source": [
    "isless(1.0, 2.0)  # applied to two floats\n",
    "@which isless(1.0, 2.0)"
   ]
  },
  {
   "cell_type": "markdown",
   "metadata": {},
   "source": [
    "Note that the reason  `Float64 <: Real` calls this implementation rather than the one given above, is that `Float64 <: Real`, and Julia chooses the most specialized implementation for each function.\n",
    "\n",
    "The specialized implementations are often more subtle than you may realize due to [floating point arithmetic](https://docs.oracle.com/cd/E19957-01/806-3568/ncg_goldberg.html), [underflow](https://en.wikipedia.org/wiki/Arithmetic_underflow), etc."
   ]
  },
  {
   "cell_type": "markdown",
   "metadata": {},
   "source": [
    "## Functions, and Function-Like Types\n",
    "\n",
    "Another common example of the separation between data structures and algorithms is the use of functions.\n",
    "\n",
    "Syntactically, a univariate “function” is any `f` that can call an argument `x` as `f(x)`.\n",
    "\n",
    "For example, we can use a standard function"
   ]
  },
  {
   "cell_type": "code",
   "execution_count": 34,
   "metadata": {
    "hide-output": false
   },
   "outputs": [
    {
     "name": "stdout",
     "output_type": "stream",
     "text": [
      "quadgk(f, 0.0, 1.0) = (0.3333333333333333, 5.551115123125783e-17)\n"
     ]
    },
    {
     "data": {
      "image/svg+xml": [
       "<?xml version=\"1.0\" encoding=\"utf-8\"?>\n",
       "<svg xmlns=\"http://www.w3.org/2000/svg\" xmlns:xlink=\"http://www.w3.org/1999/xlink\" width=\"600\" height=\"400\" viewBox=\"0 0 2400 1600\">\n",
       "<defs>\n",
       "  <clipPath id=\"clip280\">\n",
       "    <rect x=\"0\" y=\"0\" width=\"2400\" height=\"1600\"/>\n",
       "  </clipPath>\n",
       "</defs>\n",
       "<path clip-path=\"url(#clip280)\" d=\"\n",
       "M0 1600 L2400 1600 L2400 0 L0 0  Z\n",
       "  \" fill=\"#ffffff\" fill-rule=\"evenodd\" fill-opacity=\"1\"/>\n",
       "<defs>\n",
       "  <clipPath id=\"clip281\">\n",
       "    <rect x=\"480\" y=\"0\" width=\"1681\" height=\"1600\"/>\n",
       "  </clipPath>\n",
       "</defs>\n",
       "<path clip-path=\"url(#clip280)\" d=\"\n",
       "M174.862 1486.45 L2352.76 1486.45 L2352.76 47.2441 L174.862 47.2441  Z\n",
       "  \" fill=\"#ffffff\" fill-rule=\"evenodd\" fill-opacity=\"1\"/>\n",
       "<defs>\n",
       "  <clipPath id=\"clip282\">\n",
       "    <rect x=\"174\" y=\"47\" width=\"2179\" height=\"1440\"/>\n",
       "  </clipPath>\n",
       "</defs>\n",
       "<polyline clip-path=\"url(#clip282)\" style=\"stroke:#000000; stroke-width:2; stroke-opacity:0.1; fill:none\" points=\"\n",
       "  236.501,1486.45 236.501,47.2441 \n",
       "  \"/>\n",
       "<polyline clip-path=\"url(#clip282)\" style=\"stroke:#000000; stroke-width:2; stroke-opacity:0.1; fill:none\" points=\"\n",
       "  750.155,1486.45 750.155,47.2441 \n",
       "  \"/>\n",
       "<polyline clip-path=\"url(#clip282)\" style=\"stroke:#000000; stroke-width:2; stroke-opacity:0.1; fill:none\" points=\"\n",
       "  1263.81,1486.45 1263.81,47.2441 \n",
       "  \"/>\n",
       "<polyline clip-path=\"url(#clip282)\" style=\"stroke:#000000; stroke-width:2; stroke-opacity:0.1; fill:none\" points=\"\n",
       "  1777.46,1486.45 1777.46,47.2441 \n",
       "  \"/>\n",
       "<polyline clip-path=\"url(#clip282)\" style=\"stroke:#000000; stroke-width:2; stroke-opacity:0.1; fill:none\" points=\"\n",
       "  2291.12,1486.45 2291.12,47.2441 \n",
       "  \"/>\n",
       "<polyline clip-path=\"url(#clip282)\" style=\"stroke:#000000; stroke-width:2; stroke-opacity:0.1; fill:none\" points=\"\n",
       "  174.862,1445.72 2352.76,1445.72 \n",
       "  \"/>\n",
       "<polyline clip-path=\"url(#clip282)\" style=\"stroke:#000000; stroke-width:2; stroke-opacity:0.1; fill:none\" points=\"\n",
       "  174.862,1106.28 2352.76,1106.28 \n",
       "  \"/>\n",
       "<polyline clip-path=\"url(#clip282)\" style=\"stroke:#000000; stroke-width:2; stroke-opacity:0.1; fill:none\" points=\"\n",
       "  174.862,766.846 2352.76,766.846 \n",
       "  \"/>\n",
       "<polyline clip-path=\"url(#clip282)\" style=\"stroke:#000000; stroke-width:2; stroke-opacity:0.1; fill:none\" points=\"\n",
       "  174.862,427.411 2352.76,427.411 \n",
       "  \"/>\n",
       "<polyline clip-path=\"url(#clip282)\" style=\"stroke:#000000; stroke-width:2; stroke-opacity:0.1; fill:none\" points=\"\n",
       "  174.862,87.9763 2352.76,87.9763 \n",
       "  \"/>\n",
       "<polyline clip-path=\"url(#clip280)\" style=\"stroke:#000000; stroke-width:4; stroke-opacity:1; fill:none\" points=\"\n",
       "  174.862,1486.45 2352.76,1486.45 \n",
       "  \"/>\n",
       "<polyline clip-path=\"url(#clip280)\" style=\"stroke:#000000; stroke-width:4; stroke-opacity:1; fill:none\" points=\"\n",
       "  174.862,1486.45 174.862,47.2441 \n",
       "  \"/>\n",
       "<polyline clip-path=\"url(#clip280)\" style=\"stroke:#000000; stroke-width:4; stroke-opacity:1; fill:none\" points=\"\n",
       "  236.501,1486.45 236.501,1469.18 \n",
       "  \"/>\n",
       "<polyline clip-path=\"url(#clip280)\" style=\"stroke:#000000; stroke-width:4; stroke-opacity:1; fill:none\" points=\"\n",
       "  750.155,1486.45 750.155,1469.18 \n",
       "  \"/>\n",
       "<polyline clip-path=\"url(#clip280)\" style=\"stroke:#000000; stroke-width:4; stroke-opacity:1; fill:none\" points=\"\n",
       "  1263.81,1486.45 1263.81,1469.18 \n",
       "  \"/>\n",
       "<polyline clip-path=\"url(#clip280)\" style=\"stroke:#000000; stroke-width:4; stroke-opacity:1; fill:none\" points=\"\n",
       "  1777.46,1486.45 1777.46,1469.18 \n",
       "  \"/>\n",
       "<polyline clip-path=\"url(#clip280)\" style=\"stroke:#000000; stroke-width:4; stroke-opacity:1; fill:none\" points=\"\n",
       "  2291.12,1486.45 2291.12,1469.18 \n",
       "  \"/>\n",
       "<polyline clip-path=\"url(#clip280)\" style=\"stroke:#000000; stroke-width:4; stroke-opacity:1; fill:none\" points=\"\n",
       "  174.862,1445.72 200.997,1445.72 \n",
       "  \"/>\n",
       "<polyline clip-path=\"url(#clip280)\" style=\"stroke:#000000; stroke-width:4; stroke-opacity:1; fill:none\" points=\"\n",
       "  174.862,1106.28 200.997,1106.28 \n",
       "  \"/>\n",
       "<polyline clip-path=\"url(#clip280)\" style=\"stroke:#000000; stroke-width:4; stroke-opacity:1; fill:none\" points=\"\n",
       "  174.862,766.846 200.997,766.846 \n",
       "  \"/>\n",
       "<polyline clip-path=\"url(#clip280)\" style=\"stroke:#000000; stroke-width:4; stroke-opacity:1; fill:none\" points=\"\n",
       "  174.862,427.411 200.997,427.411 \n",
       "  \"/>\n",
       "<polyline clip-path=\"url(#clip280)\" style=\"stroke:#000000; stroke-width:4; stroke-opacity:1; fill:none\" points=\"\n",
       "  174.862,87.9763 200.997,87.9763 \n",
       "  \"/>\n",
       "<path clip-path=\"url(#clip280)\" d=\"M 0 0 M204.51 1508.44 Q200.899 1508.44 199.07 1512 Q197.265 1515.55 197.265 1522.67 Q197.265 1529.78 199.07 1533.35 Q200.899 1536.89 204.51 1536.89 Q208.144 1536.89 209.95 1533.35 Q211.778 1529.78 211.778 1522.67 Q211.778 1515.55 209.95 1512 Q208.144 1508.44 204.51 1508.44 M204.51 1504.73 Q210.32 1504.73 213.376 1509.34 Q216.454 1513.92 216.454 1522.67 Q216.454 1531.4 213.376 1536.01 Q210.32 1540.59 204.51 1540.59 Q198.7 1540.59 195.621 1536.01 Q192.566 1531.4 192.566 1522.67 Q192.566 1513.92 195.621 1509.34 Q198.7 1504.73 204.51 1504.73 Z\" fill=\"#000000\" fill-rule=\"evenodd\" fill-opacity=\"1\" /><path clip-path=\"url(#clip280)\" d=\"M 0 0 M221.524 1534.04 L226.408 1534.04 L226.408 1539.92 L221.524 1539.92 L221.524 1534.04 Z\" fill=\"#000000\" fill-rule=\"evenodd\" fill-opacity=\"1\" /><path clip-path=\"url(#clip280)\" d=\"M 0 0 M241.477 1508.44 Q237.866 1508.44 236.038 1512 Q234.232 1515.55 234.232 1522.67 Q234.232 1529.78 236.038 1533.35 Q237.866 1536.89 241.477 1536.89 Q245.112 1536.89 246.917 1533.35 Q248.746 1529.78 248.746 1522.67 Q248.746 1515.55 246.917 1512 Q245.112 1508.44 241.477 1508.44 M241.477 1504.73 Q247.288 1504.73 250.343 1509.34 Q253.422 1513.92 253.422 1522.67 Q253.422 1531.4 250.343 1536.01 Q247.288 1540.59 241.477 1540.59 Q235.667 1540.59 232.589 1536.01 Q229.533 1531.4 229.533 1522.67 Q229.533 1513.92 232.589 1509.34 Q235.667 1504.73 241.477 1504.73 Z\" fill=\"#000000\" fill-rule=\"evenodd\" fill-opacity=\"1\" /><path clip-path=\"url(#clip280)\" d=\"M 0 0 M268.491 1508.44 Q264.88 1508.44 263.051 1512 Q261.246 1515.55 261.246 1522.67 Q261.246 1529.78 263.051 1533.35 Q264.88 1536.89 268.491 1536.89 Q272.125 1536.89 273.931 1533.35 Q275.76 1529.78 275.76 1522.67 Q275.76 1515.55 273.931 1512 Q272.125 1508.44 268.491 1508.44 M268.491 1504.73 Q274.301 1504.73 277.357 1509.34 Q280.435 1513.92 280.435 1522.67 Q280.435 1531.4 277.357 1536.01 Q274.301 1540.59 268.491 1540.59 Q262.681 1540.59 259.602 1536.01 Q256.547 1531.4 256.547 1522.67 Q256.547 1513.92 259.602 1509.34 Q262.681 1504.73 268.491 1504.73 Z\" fill=\"#000000\" fill-rule=\"evenodd\" fill-opacity=\"1\" /><path clip-path=\"url(#clip280)\" d=\"M 0 0 M719.46 1508.44 Q715.849 1508.44 714.021 1512 Q712.215 1515.55 712.215 1522.67 Q712.215 1529.78 714.021 1533.35 Q715.849 1536.89 719.46 1536.89 Q723.095 1536.89 724.9 1533.35 Q726.729 1529.78 726.729 1522.67 Q726.729 1515.55 724.9 1512 Q723.095 1508.44 719.46 1508.44 M719.46 1504.73 Q725.271 1504.73 728.326 1509.34 Q731.405 1513.92 731.405 1522.67 Q731.405 1531.4 728.326 1536.01 Q725.271 1540.59 719.46 1540.59 Q713.65 1540.59 710.572 1536.01 Q707.516 1531.4 707.516 1522.67 Q707.516 1513.92 710.572 1509.34 Q713.65 1504.73 719.46 1504.73 Z\" fill=\"#000000\" fill-rule=\"evenodd\" fill-opacity=\"1\" /><path clip-path=\"url(#clip280)\" d=\"M 0 0 M736.474 1534.04 L741.358 1534.04 L741.358 1539.92 L736.474 1539.92 L736.474 1534.04 Z\" fill=\"#000000\" fill-rule=\"evenodd\" fill-opacity=\"1\" /><path clip-path=\"url(#clip280)\" d=\"M 0 0 M750.456 1535.98 L766.775 1535.98 L766.775 1539.92 L744.831 1539.92 L744.831 1535.98 Q747.493 1533.23 752.076 1528.6 Q756.682 1523.95 757.863 1522.61 Q760.108 1520.08 760.988 1518.35 Q761.891 1516.59 761.891 1514.9 Q761.891 1512.14 759.946 1510.41 Q758.025 1508.67 754.923 1508.67 Q752.724 1508.67 750.27 1509.43 Q747.84 1510.2 745.062 1511.75 L745.062 1507.03 Q747.886 1505.89 750.34 1505.31 Q752.794 1504.73 754.831 1504.73 Q760.201 1504.73 763.395 1507.42 Q766.59 1510.11 766.59 1514.6 Q766.59 1516.73 765.78 1518.65 Q764.993 1520.54 762.886 1523.14 Q762.307 1523.81 759.206 1527.03 Q756.104 1530.22 750.456 1535.98 Z\" fill=\"#000000\" fill-rule=\"evenodd\" fill-opacity=\"1\" /><path clip-path=\"url(#clip280)\" d=\"M 0 0 M771.891 1505.36 L790.247 1505.36 L790.247 1509.3 L776.173 1509.3 L776.173 1517.77 Q777.192 1517.42 778.21 1517.26 Q779.229 1517.07 780.247 1517.07 Q786.034 1517.07 789.414 1520.24 Q792.793 1523.42 792.793 1528.83 Q792.793 1534.41 789.321 1537.51 Q785.849 1540.59 779.53 1540.59 Q777.354 1540.59 775.085 1540.22 Q772.84 1539.85 770.432 1539.11 L770.432 1534.41 Q772.516 1535.54 774.738 1536.1 Q776.96 1536.66 779.437 1536.66 Q783.442 1536.66 785.78 1534.55 Q788.118 1532.44 788.118 1528.83 Q788.118 1525.22 785.78 1523.11 Q783.442 1521.01 779.437 1521.01 Q777.562 1521.01 775.687 1521.42 Q773.835 1521.84 771.891 1522.72 L771.891 1505.36 Z\" fill=\"#000000\" fill-rule=\"evenodd\" fill-opacity=\"1\" /><path clip-path=\"url(#clip280)\" d=\"M 0 0 M1232.32 1508.44 Q1228.7 1508.44 1226.88 1512 Q1225.07 1515.55 1225.07 1522.67 Q1225.07 1529.78 1226.88 1533.35 Q1228.7 1536.89 1232.32 1536.89 Q1235.95 1536.89 1237.76 1533.35 Q1239.58 1529.78 1239.58 1522.67 Q1239.58 1515.55 1237.76 1512 Q1235.95 1508.44 1232.32 1508.44 M1232.32 1504.73 Q1238.13 1504.73 1241.18 1509.34 Q1244.26 1513.92 1244.26 1522.67 Q1244.26 1531.4 1241.18 1536.01 Q1238.13 1540.59 1232.32 1540.59 Q1226.51 1540.59 1223.43 1536.01 Q1220.37 1531.4 1220.37 1522.67 Q1220.37 1513.92 1223.43 1509.34 Q1226.51 1504.73 1232.32 1504.73 Z\" fill=\"#000000\" fill-rule=\"evenodd\" fill-opacity=\"1\" /><path clip-path=\"url(#clip280)\" d=\"M 0 0 M1249.33 1534.04 L1254.21 1534.04 L1254.21 1539.92 L1249.33 1539.92 L1249.33 1534.04 Z\" fill=\"#000000\" fill-rule=\"evenodd\" fill-opacity=\"1\" /><path clip-path=\"url(#clip280)\" d=\"M 0 0 M1259.33 1505.36 L1277.69 1505.36 L1277.69 1509.3 L1263.61 1509.3 L1263.61 1517.77 Q1264.63 1517.42 1265.65 1517.26 Q1266.67 1517.07 1267.69 1517.07 Q1273.47 1517.07 1276.85 1520.24 Q1280.23 1523.42 1280.23 1528.83 Q1280.23 1534.41 1276.76 1537.51 Q1273.29 1540.59 1266.97 1540.59 Q1264.79 1540.59 1262.52 1540.22 Q1260.28 1539.85 1257.87 1539.11 L1257.87 1534.41 Q1259.95 1535.54 1262.18 1536.1 Q1264.4 1536.66 1266.88 1536.66 Q1270.88 1536.66 1273.22 1534.55 Q1275.56 1532.44 1275.56 1528.83 Q1275.56 1525.22 1273.22 1523.11 Q1270.88 1521.01 1266.88 1521.01 Q1265 1521.01 1263.13 1521.42 Q1261.27 1521.84 1259.33 1522.72 L1259.33 1505.36 Z\" fill=\"#000000\" fill-rule=\"evenodd\" fill-opacity=\"1\" /><path clip-path=\"url(#clip280)\" d=\"M 0 0 M1295.3 1508.44 Q1291.69 1508.44 1289.86 1512 Q1288.06 1515.55 1288.06 1522.67 Q1288.06 1529.78 1289.86 1533.35 Q1291.69 1536.89 1295.3 1536.89 Q1298.94 1536.89 1300.74 1533.35 Q1302.57 1529.78 1302.57 1522.67 Q1302.57 1515.55 1300.74 1512 Q1298.94 1508.44 1295.3 1508.44 M1295.3 1504.73 Q1301.11 1504.73 1304.17 1509.34 Q1307.25 1513.92 1307.25 1522.67 Q1307.25 1531.4 1304.17 1536.01 Q1301.11 1540.59 1295.3 1540.59 Q1289.49 1540.59 1286.41 1536.01 Q1283.36 1531.4 1283.36 1522.67 Q1283.36 1513.92 1286.41 1509.34 Q1289.49 1504.73 1295.3 1504.73 Z\" fill=\"#000000\" fill-rule=\"evenodd\" fill-opacity=\"1\" /><path clip-path=\"url(#clip280)\" d=\"M 0 0 M1746.42 1508.44 Q1742.81 1508.44 1740.98 1512 Q1739.18 1515.55 1739.18 1522.67 Q1739.18 1529.78 1740.98 1533.35 Q1742.81 1536.89 1746.42 1536.89 Q1750.06 1536.89 1751.86 1533.35 Q1753.69 1529.78 1753.69 1522.67 Q1753.69 1515.55 1751.86 1512 Q1750.06 1508.44 1746.42 1508.44 M1746.42 1504.73 Q1752.23 1504.73 1755.29 1509.34 Q1758.37 1513.92 1758.37 1522.67 Q1758.37 1531.4 1755.29 1536.01 Q1752.23 1540.59 1746.42 1540.59 Q1740.61 1540.59 1737.53 1536.01 Q1734.48 1531.4 1734.48 1522.67 Q1734.48 1513.92 1737.53 1509.34 Q1740.61 1504.73 1746.42 1504.73 Z\" fill=\"#000000\" fill-rule=\"evenodd\" fill-opacity=\"1\" /><path clip-path=\"url(#clip280)\" d=\"M 0 0 M1763.44 1534.04 L1768.32 1534.04 L1768.32 1539.92 L1763.44 1539.92 L1763.44 1534.04 Z\" fill=\"#000000\" fill-rule=\"evenodd\" fill-opacity=\"1\" /><path clip-path=\"url(#clip280)\" d=\"M 0 0 M1772.21 1505.36 L1794.43 1505.36 L1794.43 1507.35 L1781.88 1539.92 L1777 1539.92 L1788.81 1509.3 L1772.21 1509.3 L1772.21 1505.36 Z\" fill=\"#000000\" fill-rule=\"evenodd\" fill-opacity=\"1\" /><path clip-path=\"url(#clip280)\" d=\"M 0 0 M1799.55 1505.36 L1817.9 1505.36 L1817.9 1509.3 L1803.83 1509.3 L1803.83 1517.77 Q1804.85 1517.42 1805.87 1517.26 Q1806.88 1517.07 1807.9 1517.07 Q1813.69 1517.07 1817.07 1520.24 Q1820.45 1523.42 1820.45 1528.83 Q1820.45 1534.41 1816.98 1537.51 Q1813.5 1540.59 1807.19 1540.59 Q1805.01 1540.59 1802.74 1540.22 Q1800.5 1539.85 1798.09 1539.11 L1798.09 1534.41 Q1800.17 1535.54 1802.39 1536.1 Q1804.62 1536.66 1807.09 1536.66 Q1811.1 1536.66 1813.44 1534.55 Q1815.77 1532.44 1815.77 1528.83 Q1815.77 1525.22 1813.44 1523.11 Q1811.1 1521.01 1807.09 1521.01 Q1805.22 1521.01 1803.34 1521.42 Q1801.49 1521.84 1799.55 1522.72 L1799.55 1505.36 Z\" fill=\"#000000\" fill-rule=\"evenodd\" fill-opacity=\"1\" /><path clip-path=\"url(#clip280)\" d=\"M 0 0 M2249.51 1535.98 L2257.15 1535.98 L2257.15 1509.62 L2248.84 1511.29 L2248.84 1507.03 L2257.1 1505.36 L2261.78 1505.36 L2261.78 1535.98 L2269.42 1535.98 L2269.42 1539.92 L2249.51 1539.92 L2249.51 1535.98 Z\" fill=\"#000000\" fill-rule=\"evenodd\" fill-opacity=\"1\" /><path clip-path=\"url(#clip280)\" d=\"M 0 0 M2274.49 1534.04 L2279.37 1534.04 L2279.37 1539.92 L2274.49 1539.92 L2274.49 1534.04 Z\" fill=\"#000000\" fill-rule=\"evenodd\" fill-opacity=\"1\" /><path clip-path=\"url(#clip280)\" d=\"M 0 0 M2294.44 1508.44 Q2290.83 1508.44 2289 1512 Q2287.19 1515.55 2287.19 1522.67 Q2287.19 1529.78 2289 1533.35 Q2290.83 1536.89 2294.44 1536.89 Q2298.07 1536.89 2299.88 1533.35 Q2301.71 1529.78 2301.71 1522.67 Q2301.71 1515.55 2299.88 1512 Q2298.07 1508.44 2294.44 1508.44 M2294.44 1504.73 Q2300.25 1504.73 2303.3 1509.34 Q2306.38 1513.92 2306.38 1522.67 Q2306.38 1531.4 2303.3 1536.01 Q2300.25 1540.59 2294.44 1540.59 Q2288.63 1540.59 2285.55 1536.01 Q2282.49 1531.4 2282.49 1522.67 Q2282.49 1513.92 2285.55 1509.34 Q2288.63 1504.73 2294.44 1504.73 Z\" fill=\"#000000\" fill-rule=\"evenodd\" fill-opacity=\"1\" /><path clip-path=\"url(#clip280)\" d=\"M 0 0 M2321.45 1508.44 Q2317.84 1508.44 2316.01 1512 Q2314.21 1515.55 2314.21 1522.67 Q2314.21 1529.78 2316.01 1533.35 Q2317.84 1536.89 2321.45 1536.89 Q2325.09 1536.89 2326.89 1533.35 Q2328.72 1529.78 2328.72 1522.67 Q2328.72 1515.55 2326.89 1512 Q2325.09 1508.44 2321.45 1508.44 M2321.45 1504.73 Q2327.26 1504.73 2330.32 1509.34 Q2333.4 1513.92 2333.4 1522.67 Q2333.4 1531.4 2330.32 1536.01 Q2327.26 1540.59 2321.45 1540.59 Q2315.64 1540.59 2312.56 1536.01 Q2309.51 1531.4 2309.51 1522.67 Q2309.51 1513.92 2312.56 1509.34 Q2315.64 1504.73 2321.45 1504.73 Z\" fill=\"#000000\" fill-rule=\"evenodd\" fill-opacity=\"1\" /><path clip-path=\"url(#clip280)\" d=\"M 0 0 M74.9365 1431.51 Q71.3254 1431.51 69.4967 1435.08 Q67.6912 1438.62 67.6912 1445.75 Q67.6912 1452.86 69.4967 1456.42 Q71.3254 1459.96 74.9365 1459.96 Q78.5707 1459.96 80.3763 1456.42 Q82.205 1452.86 82.205 1445.75 Q82.205 1438.62 80.3763 1435.08 Q78.5707 1431.51 74.9365 1431.51 M74.9365 1427.81 Q80.7467 1427.81 83.8022 1432.42 Q86.8809 1437 86.8809 1445.75 Q86.8809 1454.48 83.8022 1459.08 Q80.7467 1463.67 74.9365 1463.67 Q69.1264 1463.67 66.0477 1459.08 Q62.9921 1454.48 62.9921 1445.75 Q62.9921 1437 66.0477 1432.42 Q69.1264 1427.81 74.9365 1427.81 Z\" fill=\"#000000\" fill-rule=\"evenodd\" fill-opacity=\"1\" /><path clip-path=\"url(#clip280)\" d=\"M 0 0 M91.9503 1457.12 L96.8345 1457.12 L96.8345 1463 L91.9503 1463 L91.9503 1457.12 Z\" fill=\"#000000\" fill-rule=\"evenodd\" fill-opacity=\"1\" /><path clip-path=\"url(#clip280)\" d=\"M 0 0 M111.904 1431.51 Q108.293 1431.51 106.464 1435.08 Q104.659 1438.62 104.659 1445.75 Q104.659 1452.86 106.464 1456.42 Q108.293 1459.96 111.904 1459.96 Q115.538 1459.96 117.344 1456.42 Q119.172 1452.86 119.172 1445.75 Q119.172 1438.62 117.344 1435.08 Q115.538 1431.51 111.904 1431.51 M111.904 1427.81 Q117.714 1427.81 120.77 1432.42 Q123.848 1437 123.848 1445.75 Q123.848 1454.48 120.77 1459.08 Q117.714 1463.67 111.904 1463.67 Q106.094 1463.67 103.015 1459.08 Q99.9595 1454.48 99.9595 1445.75 Q99.9595 1437 103.015 1432.42 Q106.094 1427.81 111.904 1427.81 Z\" fill=\"#000000\" fill-rule=\"evenodd\" fill-opacity=\"1\" /><path clip-path=\"url(#clip280)\" d=\"M 0 0 M138.918 1431.51 Q135.307 1431.51 133.478 1435.08 Q131.672 1438.62 131.672 1445.75 Q131.672 1452.86 133.478 1456.42 Q135.307 1459.96 138.918 1459.96 Q142.552 1459.96 144.357 1456.42 Q146.186 1452.86 146.186 1445.75 Q146.186 1438.62 144.357 1435.08 Q142.552 1431.51 138.918 1431.51 M138.918 1427.81 Q144.728 1427.81 147.783 1432.42 Q150.862 1437 150.862 1445.75 Q150.862 1454.48 147.783 1459.08 Q144.728 1463.67 138.918 1463.67 Q133.107 1463.67 130.029 1459.08 Q126.973 1454.48 126.973 1445.75 Q126.973 1437 130.029 1432.42 Q133.107 1427.81 138.918 1427.81 Z\" fill=\"#000000\" fill-rule=\"evenodd\" fill-opacity=\"1\" /><path clip-path=\"url(#clip280)\" d=\"M 0 0 M77.5291 1092.08 Q73.918 1092.08 72.0893 1095.64 Q70.2838 1099.19 70.2838 1106.32 Q70.2838 1113.42 72.0893 1116.99 Q73.918 1120.53 77.5291 1120.53 Q81.1633 1120.53 82.9689 1116.99 Q84.7976 1113.42 84.7976 1106.32 Q84.7976 1099.19 82.9689 1095.64 Q81.1633 1092.08 77.5291 1092.08 M77.5291 1088.38 Q83.3392 1088.38 86.3948 1092.98 Q89.4735 1097.57 89.4735 1106.32 Q89.4735 1115.04 86.3948 1119.65 Q83.3392 1124.23 77.5291 1124.23 Q71.7189 1124.23 68.6402 1119.65 Q65.5847 1115.04 65.5847 1106.32 Q65.5847 1097.57 68.6402 1092.98 Q71.7189 1088.38 77.5291 1088.38 Z\" fill=\"#000000\" fill-rule=\"evenodd\" fill-opacity=\"1\" /><path clip-path=\"url(#clip280)\" d=\"M 0 0 M94.5429 1117.68 L99.4271 1117.68 L99.4271 1123.56 L94.5429 1123.56 L94.5429 1117.68 Z\" fill=\"#000000\" fill-rule=\"evenodd\" fill-opacity=\"1\" /><path clip-path=\"url(#clip280)\" d=\"M 0 0 M108.524 1119.63 L124.844 1119.63 L124.844 1123.56 L102.899 1123.56 L102.899 1119.63 Q105.561 1116.87 110.145 1112.24 Q114.751 1107.59 115.932 1106.25 Q118.177 1103.72 119.057 1101.99 Q119.959 1100.23 119.959 1098.54 Q119.959 1095.78 118.015 1094.05 Q116.094 1092.31 112.992 1092.31 Q110.793 1092.31 108.339 1093.07 Q105.909 1093.84 103.131 1095.39 L103.131 1090.67 Q105.955 1089.53 108.409 1088.95 Q110.862 1088.38 112.899 1088.38 Q118.27 1088.38 121.464 1091.06 Q124.658 1093.75 124.658 1098.24 Q124.658 1100.37 123.848 1102.29 Q123.061 1104.19 120.955 1106.78 Q120.376 1107.45 117.274 1110.67 Q114.172 1113.86 108.524 1119.63 Z\" fill=\"#000000\" fill-rule=\"evenodd\" fill-opacity=\"1\" /><path clip-path=\"url(#clip280)\" d=\"M 0 0 M129.959 1089 L148.316 1089 L148.316 1092.94 L134.242 1092.94 L134.242 1101.41 Q135.26 1101.06 136.279 1100.9 Q137.297 1100.71 138.316 1100.71 Q144.103 1100.71 147.482 1103.89 Q150.862 1107.06 150.862 1112.47 Q150.862 1118.05 147.39 1121.15 Q143.918 1124.23 137.598 1124.23 Q135.422 1124.23 133.154 1123.86 Q130.908 1123.49 128.501 1122.75 L128.501 1118.05 Q130.584 1119.19 132.807 1119.74 Q135.029 1120.3 137.506 1120.3 Q141.51 1120.3 143.848 1118.19 Q146.186 1116.08 146.186 1112.47 Q146.186 1108.86 143.848 1106.76 Q141.51 1104.65 137.506 1104.65 Q135.631 1104.65 133.756 1105.07 Q131.904 1105.48 129.959 1106.36 L129.959 1089 Z\" fill=\"#000000\" fill-rule=\"evenodd\" fill-opacity=\"1\" /><path clip-path=\"url(#clip280)\" d=\"M 0 0 M75.9319 752.645 Q72.3208 752.645 70.4921 756.209 Q68.6865 759.751 68.6865 766.881 Q68.6865 773.987 70.4921 777.552 Q72.3208 781.094 75.9319 781.094 Q79.5661 781.094 81.3717 777.552 Q83.2004 773.987 83.2004 766.881 Q83.2004 759.751 81.3717 756.209 Q79.5661 752.645 75.9319 752.645 M75.9319 748.941 Q81.742 748.941 84.7976 753.547 Q87.8763 758.131 87.8763 766.881 Q87.8763 775.608 84.7976 780.214 Q81.742 784.797 75.9319 784.797 Q70.1217 784.797 67.043 780.214 Q63.9875 775.608 63.9875 766.881 Q63.9875 758.131 67.043 753.547 Q70.1217 748.941 75.9319 748.941 Z\" fill=\"#000000\" fill-rule=\"evenodd\" fill-opacity=\"1\" /><path clip-path=\"url(#clip280)\" d=\"M 0 0 M92.9457 778.246 L97.8299 778.246 L97.8299 784.126 L92.9457 784.126 L92.9457 778.246 Z\" fill=\"#000000\" fill-rule=\"evenodd\" fill-opacity=\"1\" /><path clip-path=\"url(#clip280)\" d=\"M 0 0 M102.946 749.566 L121.302 749.566 L121.302 753.501 L107.228 753.501 L107.228 761.973 Q108.247 761.626 109.265 761.464 Q110.284 761.279 111.302 761.279 Q117.089 761.279 120.469 764.45 Q123.848 767.621 123.848 773.038 Q123.848 778.617 120.376 781.719 Q116.904 784.797 110.584 784.797 Q108.409 784.797 106.14 784.427 Q103.895 784.057 101.487 783.316 L101.487 778.617 Q103.571 779.751 105.793 780.307 Q108.015 780.862 110.492 780.862 Q114.496 780.862 116.834 778.756 Q119.172 776.649 119.172 773.038 Q119.172 769.427 116.834 767.321 Q114.496 765.214 110.492 765.214 Q108.617 765.214 106.742 765.631 Q104.89 766.047 102.946 766.927 L102.946 749.566 Z\" fill=\"#000000\" fill-rule=\"evenodd\" fill-opacity=\"1\" /><path clip-path=\"url(#clip280)\" d=\"M 0 0 M138.918 752.645 Q135.307 752.645 133.478 756.209 Q131.672 759.751 131.672 766.881 Q131.672 773.987 133.478 777.552 Q135.307 781.094 138.918 781.094 Q142.552 781.094 144.357 777.552 Q146.186 773.987 146.186 766.881 Q146.186 759.751 144.357 756.209 Q142.552 752.645 138.918 752.645 M138.918 748.941 Q144.728 748.941 147.783 753.547 Q150.862 758.131 150.862 766.881 Q150.862 775.608 147.783 780.214 Q144.728 784.797 138.918 784.797 Q133.107 784.797 130.029 780.214 Q126.973 775.608 126.973 766.881 Q126.973 758.131 130.029 753.547 Q133.107 748.941 138.918 748.941 Z\" fill=\"#000000\" fill-rule=\"evenodd\" fill-opacity=\"1\" /><path clip-path=\"url(#clip280)\" d=\"M 0 0 M76.8346 413.21 Q73.2236 413.21 71.3949 416.775 Q69.5893 420.316 69.5893 427.446 Q69.5893 434.552 71.3949 438.117 Q73.2236 441.659 76.8346 441.659 Q80.4689 441.659 82.2744 438.117 Q84.1031 434.552 84.1031 427.446 Q84.1031 420.316 82.2744 416.775 Q80.4689 413.21 76.8346 413.21 M76.8346 409.506 Q82.6448 409.506 85.7003 414.113 Q88.779 418.696 88.779 427.446 Q88.779 436.173 85.7003 440.779 Q82.6448 445.362 76.8346 445.362 Q71.0245 445.362 67.9458 440.779 Q64.8903 436.173 64.8903 427.446 Q64.8903 418.696 67.9458 414.113 Q71.0245 409.506 76.8346 409.506 Z\" fill=\"#000000\" fill-rule=\"evenodd\" fill-opacity=\"1\" /><path clip-path=\"url(#clip280)\" d=\"M 0 0 M93.8484 438.812 L98.7327 438.812 L98.7327 444.691 L93.8484 444.691 L93.8484 438.812 Z\" fill=\"#000000\" fill-rule=\"evenodd\" fill-opacity=\"1\" /><path clip-path=\"url(#clip280)\" d=\"M 0 0 M102.622 410.131 L124.844 410.131 L124.844 412.122 L112.297 444.691 L107.413 444.691 L119.219 414.066 L102.622 414.066 L102.622 410.131 Z\" fill=\"#000000\" fill-rule=\"evenodd\" fill-opacity=\"1\" /><path clip-path=\"url(#clip280)\" d=\"M 0 0 M129.959 410.131 L148.316 410.131 L148.316 414.066 L134.242 414.066 L134.242 422.538 Q135.26 422.191 136.279 422.029 Q137.297 421.844 138.316 421.844 Q144.103 421.844 147.482 425.015 Q150.862 428.187 150.862 433.603 Q150.862 439.182 147.39 442.284 Q143.918 445.362 137.598 445.362 Q135.422 445.362 133.154 444.992 Q130.908 444.622 128.501 443.881 L128.501 439.182 Q130.584 440.316 132.807 440.872 Q135.029 441.427 137.506 441.427 Q141.51 441.427 143.848 439.321 Q146.186 437.214 146.186 433.603 Q146.186 429.992 143.848 427.886 Q141.51 425.779 137.506 425.779 Q135.631 425.779 133.756 426.196 Q131.904 426.613 129.959 427.492 L129.959 410.131 Z\" fill=\"#000000\" fill-rule=\"evenodd\" fill-opacity=\"1\" /><path clip-path=\"url(#clip280)\" d=\"M 0 0 M66.9736 101.321 L74.6124 101.321 L74.6124 74.9555 L66.3023 76.6222 L66.3023 72.3629 L74.5661 70.6963 L79.242 70.6963 L79.242 101.321 L86.8809 101.321 L86.8809 105.256 L66.9736 105.256 L66.9736 101.321 Z\" fill=\"#000000\" fill-rule=\"evenodd\" fill-opacity=\"1\" /><path clip-path=\"url(#clip280)\" d=\"M 0 0 M91.9503 99.3767 L96.8345 99.3767 L96.8345 105.256 L91.9503 105.256 L91.9503 99.3767 Z\" fill=\"#000000\" fill-rule=\"evenodd\" fill-opacity=\"1\" /><path clip-path=\"url(#clip280)\" d=\"M 0 0 M111.904 73.775 Q108.293 73.775 106.464 77.3398 Q104.659 80.8814 104.659 88.011 Q104.659 95.1174 106.464 98.6822 Q108.293 102.224 111.904 102.224 Q115.538 102.224 117.344 98.6822 Q119.172 95.1174 119.172 88.011 Q119.172 80.8814 117.344 77.3398 Q115.538 73.775 111.904 73.775 M111.904 70.0713 Q117.714 70.0713 120.77 74.6777 Q123.848 79.261 123.848 88.011 Q123.848 96.7378 120.77 101.344 Q117.714 105.928 111.904 105.928 Q106.094 105.928 103.015 101.344 Q99.9595 96.7378 99.9595 88.011 Q99.9595 79.261 103.015 74.6777 Q106.094 70.0713 111.904 70.0713 Z\" fill=\"#000000\" fill-rule=\"evenodd\" fill-opacity=\"1\" /><path clip-path=\"url(#clip280)\" d=\"M 0 0 M138.918 73.775 Q135.307 73.775 133.478 77.3398 Q131.672 80.8814 131.672 88.011 Q131.672 95.1174 133.478 98.6822 Q135.307 102.224 138.918 102.224 Q142.552 102.224 144.357 98.6822 Q146.186 95.1174 146.186 88.011 Q146.186 80.8814 144.357 77.3398 Q142.552 73.775 138.918 73.775 M138.918 70.0713 Q144.728 70.0713 147.783 74.6777 Q150.862 79.261 150.862 88.011 Q150.862 96.7378 147.783 101.344 Q144.728 105.928 138.918 105.928 Q133.107 105.928 130.029 101.344 Q126.973 96.7378 126.973 88.011 Q126.973 79.261 130.029 74.6777 Q133.107 70.0713 138.918 70.0713 Z\" fill=\"#000000\" fill-rule=\"evenodd\" fill-opacity=\"1\" /><polyline clip-path=\"url(#clip282)\" style=\"stroke:#009af9; stroke-width:4; stroke-opacity:1; fill:none\" points=\"\n",
       "  236.501,1445.72 441.962,1432.14 647.424,1391.41 852.886,1323.52 1058.35,1228.48 1263.81,1106.28 1469.27,956.93 1674.73,780.423 1880.19,576.762 2085.66,345.947 \n",
       "  2291.12,87.9763 \n",
       "  \"/>\n",
       "<polyline clip-path=\"url(#clip282)\" style=\"stroke:#e26f46; stroke-width:4; stroke-opacity:1; fill:none\" points=\"\n",
       "  236.501,1445.72 441.962,1445.26 647.424,1442.1 852.886,1433.5 1058.35,1416.75 1263.81,1389.14 1469.27,1347.96 1674.73,1290.48 1880.19,1213.99 2085.66,1115.79 \n",
       "  2291.12,993.136 \n",
       "  \"/>\n",
       "<path clip-path=\"url(#clip280)\" d=\"\n",
       "M1951.27 312.204 L2280.76 312.204 L2280.76 130.764 L1951.27 130.764  Z\n",
       "  \" fill=\"#ffffff\" fill-rule=\"evenodd\" fill-opacity=\"1\"/>\n",
       "<polyline clip-path=\"url(#clip280)\" style=\"stroke:#000000; stroke-width:4; stroke-opacity:1; fill:none\" points=\"\n",
       "  1951.27,312.204 2280.76,312.204 2280.76,130.764 1951.27,130.764 1951.27,312.204 \n",
       "  \"/>\n",
       "<polyline clip-path=\"url(#clip280)\" style=\"stroke:#009af9; stroke-width:4; stroke-opacity:1; fill:none\" points=\"\n",
       "  1975.27,191.244 2119.27,191.244 \n",
       "  \"/>\n",
       "<path clip-path=\"url(#clip280)\" d=\"M 0 0 M2159.77 172.506 L2159.77 176.047 L2155.7 176.047 Q2153.4 176.047 2152.5 176.973 Q2151.62 177.899 2151.62 180.307 L2151.62 182.598 L2158.64 182.598 L2158.64 185.908 L2151.62 185.908 L2151.62 208.524 L2147.34 208.524 L2147.34 185.908 L2143.27 185.908 L2143.27 182.598 L2147.34 182.598 L2147.34 180.793 Q2147.34 176.464 2149.35 174.496 Q2151.37 172.506 2155.74 172.506 L2159.77 172.506 Z\" fill=\"#000000\" fill-rule=\"evenodd\" fill-opacity=\"1\" /><polyline clip-path=\"url(#clip280)\" style=\"stroke:#e26f46; stroke-width:4; stroke-opacity:1; fill:none\" points=\"\n",
       "  1975.27,251.724 2119.27,251.724 \n",
       "  \"/>\n",
       "<path clip-path=\"url(#clip280)\" d=\"M 0 0 M2143.27 243.078 L2147.52 243.078 L2147.52 269.004 L2143.27 269.004 L2143.27 243.078 M2143.27 232.986 L2147.52 232.986 L2147.52 238.379 L2143.27 238.379 L2143.27 232.986 Z\" fill=\"#000000\" fill-rule=\"evenodd\" fill-opacity=\"1\" /><path clip-path=\"url(#clip280)\" d=\"M 0 0 M2173.54 253.356 L2173.54 269.004 L2169.28 269.004 L2169.28 253.495 Q2169.28 249.814 2167.85 247.986 Q2166.41 246.157 2163.54 246.157 Q2160.09 246.157 2158.1 248.356 Q2156.11 250.555 2156.11 254.351 L2156.11 269.004 L2151.83 269.004 L2151.83 243.078 L2156.11 243.078 L2156.11 247.106 Q2157.64 244.768 2159.7 243.611 Q2161.78 242.453 2164.49 242.453 Q2168.96 242.453 2171.25 245.231 Q2173.54 247.986 2173.54 253.356 Z\" fill=\"#000000\" fill-rule=\"evenodd\" fill-opacity=\"1\" /><path clip-path=\"url(#clip280)\" d=\"M 0 0 M2182.22 235.717 L2182.22 243.078 L2191 243.078 L2191 246.388 L2182.22 246.388 L2182.22 260.462 Q2182.22 263.634 2183.08 264.537 Q2183.96 265.439 2186.62 265.439 L2191 265.439 L2191 269.004 L2186.62 269.004 Q2181.69 269.004 2179.82 267.175 Q2177.94 265.324 2177.94 260.462 L2177.94 246.388 L2174.82 246.388 L2174.82 243.078 L2177.94 243.078 L2177.94 235.717 L2182.22 235.717 Z\" fill=\"#000000\" fill-rule=\"evenodd\" fill-opacity=\"1\" /><path clip-path=\"url(#clip280)\" d=\"M 0 0 M2215.16 276.874 L2215.16 280.185 L2190.53 280.185 L2190.53 276.874 L2215.16 276.874 Z\" fill=\"#000000\" fill-rule=\"evenodd\" fill-opacity=\"1\" /><path clip-path=\"url(#clip280)\" d=\"M 0 0 M2232.76 232.986 L2232.76 236.527 L2228.68 236.527 Q2226.39 236.527 2225.49 237.453 Q2224.61 238.379 2224.61 240.787 L2224.61 243.078 L2231.62 243.078 L2231.62 246.388 L2224.61 246.388 L2224.61 269.004 L2220.33 269.004 L2220.33 246.388 L2216.25 246.388 L2216.25 243.078 L2220.33 243.078 L2220.33 241.273 Q2220.33 236.944 2222.34 234.976 Q2224.35 232.986 2228.73 232.986 L2232.76 232.986 Z\" fill=\"#000000\" fill-rule=\"evenodd\" fill-opacity=\"1\" /></svg>\n"
      ]
     },
     "execution_count": 34,
     "metadata": {},
     "output_type": "execute_result"
    }
   ],
   "source": [
    "using QuadGK\n",
    "f(x) = x^2\n",
    "@show quadgk(f, 0.0, 1.0)  # integral\n",
    "\n",
    "function plotfunctions(f)\n",
    "    intf(x) = quadgk(f, 0.0, x)[1]  # int_0^x f(x) dx\n",
    "\n",
    "    x = 0:0.1:1.0\n",
    "    f_x = f.(x)\n",
    "    plot(x, f_x, label=\"f\")\n",
    "    plot!(x, intf.(x), label=\"int_f\")\n",
    "end\n",
    "plotfunctions(f)  # call with our f"
   ]
  },
  {
   "cell_type": "markdown",
   "metadata": {},
   "source": [
    "Of course, univariate polynomials are another type of univariate function"
   ]
  },
  {
   "cell_type": "code",
   "execution_count": 35,
   "metadata": {
    "hide-output": false
   },
   "outputs": [
    {
     "name": "stdout",
     "output_type": "stream",
     "text": [
      "p = Poly(2 - 5*x + 2*x^2)\n",
      "p(1.0) = -1.0\n"
     ]
    },
    {
     "data": {
      "image/svg+xml": [
       "<?xml version=\"1.0\" encoding=\"utf-8\"?>\n",
       "<svg xmlns=\"http://www.w3.org/2000/svg\" xmlns:xlink=\"http://www.w3.org/1999/xlink\" width=\"600\" height=\"400\" viewBox=\"0 0 2400 1600\">\n",
       "<defs>\n",
       "  <clipPath id=\"clip320\">\n",
       "    <rect x=\"0\" y=\"0\" width=\"2400\" height=\"1600\"/>\n",
       "  </clipPath>\n",
       "</defs>\n",
       "<path clip-path=\"url(#clip320)\" d=\"\n",
       "M0 1600 L2400 1600 L2400 0 L0 0  Z\n",
       "  \" fill=\"#ffffff\" fill-rule=\"evenodd\" fill-opacity=\"1\"/>\n",
       "<defs>\n",
       "  <clipPath id=\"clip321\">\n",
       "    <rect x=\"480\" y=\"0\" width=\"1681\" height=\"1600\"/>\n",
       "  </clipPath>\n",
       "</defs>\n",
       "<path clip-path=\"url(#clip320)\" d=\"\n",
       "M125.256 1486.45 L2352.76 1486.45 L2352.76 47.2441 L125.256 47.2441  Z\n",
       "  \" fill=\"#ffffff\" fill-rule=\"evenodd\" fill-opacity=\"1\"/>\n",
       "<defs>\n",
       "  <clipPath id=\"clip322\">\n",
       "    <rect x=\"125\" y=\"47\" width=\"2229\" height=\"1440\"/>\n",
       "  </clipPath>\n",
       "</defs>\n",
       "<polyline clip-path=\"url(#clip322)\" style=\"stroke:#000000; stroke-width:2; stroke-opacity:0.1; fill:none\" points=\"\n",
       "  188.298,1486.45 188.298,47.2441 \n",
       "  \"/>\n",
       "<polyline clip-path=\"url(#clip322)\" style=\"stroke:#000000; stroke-width:2; stroke-opacity:0.1; fill:none\" points=\"\n",
       "  713.652,1486.45 713.652,47.2441 \n",
       "  \"/>\n",
       "<polyline clip-path=\"url(#clip322)\" style=\"stroke:#000000; stroke-width:2; stroke-opacity:0.1; fill:none\" points=\"\n",
       "  1239.01,1486.45 1239.01,47.2441 \n",
       "  \"/>\n",
       "<polyline clip-path=\"url(#clip322)\" style=\"stroke:#000000; stroke-width:2; stroke-opacity:0.1; fill:none\" points=\"\n",
       "  1764.36,1486.45 1764.36,47.2441 \n",
       "  \"/>\n",
       "<polyline clip-path=\"url(#clip322)\" style=\"stroke:#000000; stroke-width:2; stroke-opacity:0.1; fill:none\" points=\"\n",
       "  2289.71,1486.45 2289.71,47.2441 \n",
       "  \"/>\n",
       "<polyline clip-path=\"url(#clip322)\" style=\"stroke:#000000; stroke-width:2; stroke-opacity:0.1; fill:none\" points=\"\n",
       "  125.256,1445.72 2352.76,1445.72 \n",
       "  \"/>\n",
       "<polyline clip-path=\"url(#clip322)\" style=\"stroke:#000000; stroke-width:2; stroke-opacity:0.1; fill:none\" points=\"\n",
       "  125.256,993.136 2352.76,993.136 \n",
       "  \"/>\n",
       "<polyline clip-path=\"url(#clip322)\" style=\"stroke:#000000; stroke-width:2; stroke-opacity:0.1; fill:none\" points=\"\n",
       "  125.256,540.556 2352.76,540.556 \n",
       "  \"/>\n",
       "<polyline clip-path=\"url(#clip322)\" style=\"stroke:#000000; stroke-width:2; stroke-opacity:0.1; fill:none\" points=\"\n",
       "  125.256,87.9763 2352.76,87.9763 \n",
       "  \"/>\n",
       "<polyline clip-path=\"url(#clip320)\" style=\"stroke:#000000; stroke-width:4; stroke-opacity:1; fill:none\" points=\"\n",
       "  125.256,1486.45 2352.76,1486.45 \n",
       "  \"/>\n",
       "<polyline clip-path=\"url(#clip320)\" style=\"stroke:#000000; stroke-width:4; stroke-opacity:1; fill:none\" points=\"\n",
       "  125.256,1486.45 125.256,47.2441 \n",
       "  \"/>\n",
       "<polyline clip-path=\"url(#clip320)\" style=\"stroke:#000000; stroke-width:4; stroke-opacity:1; fill:none\" points=\"\n",
       "  188.298,1486.45 188.298,1469.18 \n",
       "  \"/>\n",
       "<polyline clip-path=\"url(#clip320)\" style=\"stroke:#000000; stroke-width:4; stroke-opacity:1; fill:none\" points=\"\n",
       "  713.652,1486.45 713.652,1469.18 \n",
       "  \"/>\n",
       "<polyline clip-path=\"url(#clip320)\" style=\"stroke:#000000; stroke-width:4; stroke-opacity:1; fill:none\" points=\"\n",
       "  1239.01,1486.45 1239.01,1469.18 \n",
       "  \"/>\n",
       "<polyline clip-path=\"url(#clip320)\" style=\"stroke:#000000; stroke-width:4; stroke-opacity:1; fill:none\" points=\"\n",
       "  1764.36,1486.45 1764.36,1469.18 \n",
       "  \"/>\n",
       "<polyline clip-path=\"url(#clip320)\" style=\"stroke:#000000; stroke-width:4; stroke-opacity:1; fill:none\" points=\"\n",
       "  2289.71,1486.45 2289.71,1469.18 \n",
       "  \"/>\n",
       "<polyline clip-path=\"url(#clip320)\" style=\"stroke:#000000; stroke-width:4; stroke-opacity:1; fill:none\" points=\"\n",
       "  125.256,1445.72 151.986,1445.72 \n",
       "  \"/>\n",
       "<polyline clip-path=\"url(#clip320)\" style=\"stroke:#000000; stroke-width:4; stroke-opacity:1; fill:none\" points=\"\n",
       "  125.256,993.136 151.986,993.136 \n",
       "  \"/>\n",
       "<polyline clip-path=\"url(#clip320)\" style=\"stroke:#000000; stroke-width:4; stroke-opacity:1; fill:none\" points=\"\n",
       "  125.256,540.556 151.986,540.556 \n",
       "  \"/>\n",
       "<polyline clip-path=\"url(#clip320)\" style=\"stroke:#000000; stroke-width:4; stroke-opacity:1; fill:none\" points=\"\n",
       "  125.256,87.9763 151.986,87.9763 \n",
       "  \"/>\n",
       "<path clip-path=\"url(#clip320)\" d=\"M 0 0 M156.308 1508.44 Q152.697 1508.44 150.868 1512 Q149.062 1515.55 149.062 1522.67 Q149.062 1529.78 150.868 1533.35 Q152.697 1536.89 156.308 1536.89 Q159.942 1536.89 161.747 1533.35 Q163.576 1529.78 163.576 1522.67 Q163.576 1515.55 161.747 1512 Q159.942 1508.44 156.308 1508.44 M156.308 1504.73 Q162.118 1504.73 165.173 1509.34 Q168.252 1513.92 168.252 1522.67 Q168.252 1531.4 165.173 1536.01 Q162.118 1540.59 156.308 1540.59 Q150.498 1540.59 147.419 1536.01 Q144.363 1531.4 144.363 1522.67 Q144.363 1513.92 147.419 1509.34 Q150.498 1504.73 156.308 1504.73 Z\" fill=\"#000000\" fill-rule=\"evenodd\" fill-opacity=\"1\" /><path clip-path=\"url(#clip320)\" d=\"M 0 0 M173.321 1534.04 L178.206 1534.04 L178.206 1539.92 L173.321 1539.92 L173.321 1534.04 Z\" fill=\"#000000\" fill-rule=\"evenodd\" fill-opacity=\"1\" /><path clip-path=\"url(#clip320)\" d=\"M 0 0 M193.275 1508.44 Q189.664 1508.44 187.835 1512 Q186.03 1515.55 186.03 1522.67 Q186.03 1529.78 187.835 1533.35 Q189.664 1536.89 193.275 1536.89 Q196.909 1536.89 198.715 1533.35 Q200.544 1529.78 200.544 1522.67 Q200.544 1515.55 198.715 1512 Q196.909 1508.44 193.275 1508.44 M193.275 1504.73 Q199.085 1504.73 202.141 1509.34 Q205.219 1513.92 205.219 1522.67 Q205.219 1531.4 202.141 1536.01 Q199.085 1540.59 193.275 1540.59 Q187.465 1540.59 184.386 1536.01 Q181.331 1531.4 181.331 1522.67 Q181.331 1513.92 184.386 1509.34 Q187.465 1504.73 193.275 1504.73 Z\" fill=\"#000000\" fill-rule=\"evenodd\" fill-opacity=\"1\" /><path clip-path=\"url(#clip320)\" d=\"M 0 0 M220.289 1508.44 Q216.678 1508.44 214.849 1512 Q213.044 1515.55 213.044 1522.67 Q213.044 1529.78 214.849 1533.35 Q216.678 1536.89 220.289 1536.89 Q223.923 1536.89 225.729 1533.35 Q227.557 1529.78 227.557 1522.67 Q227.557 1515.55 225.729 1512 Q223.923 1508.44 220.289 1508.44 M220.289 1504.73 Q226.099 1504.73 229.155 1509.34 Q232.233 1513.92 232.233 1522.67 Q232.233 1531.4 229.155 1536.01 Q226.099 1540.59 220.289 1540.59 Q214.479 1540.59 211.4 1536.01 Q208.344 1531.4 208.344 1522.67 Q208.344 1513.92 211.4 1509.34 Q214.479 1504.73 220.289 1504.73 Z\" fill=\"#000000\" fill-rule=\"evenodd\" fill-opacity=\"1\" /><path clip-path=\"url(#clip320)\" d=\"M 0 0 M682.958 1508.44 Q679.347 1508.44 677.518 1512 Q675.712 1515.55 675.712 1522.67 Q675.712 1529.78 677.518 1533.35 Q679.347 1536.89 682.958 1536.89 Q686.592 1536.89 688.398 1533.35 Q690.226 1529.78 690.226 1522.67 Q690.226 1515.55 688.398 1512 Q686.592 1508.44 682.958 1508.44 M682.958 1504.73 Q688.768 1504.73 691.823 1509.34 Q694.902 1513.92 694.902 1522.67 Q694.902 1531.4 691.823 1536.01 Q688.768 1540.59 682.958 1540.59 Q677.148 1540.59 674.069 1536.01 Q671.013 1531.4 671.013 1522.67 Q671.013 1513.92 674.069 1509.34 Q677.148 1504.73 682.958 1504.73 Z\" fill=\"#000000\" fill-rule=\"evenodd\" fill-opacity=\"1\" /><path clip-path=\"url(#clip320)\" d=\"M 0 0 M699.972 1534.04 L704.856 1534.04 L704.856 1539.92 L699.972 1539.92 L699.972 1534.04 Z\" fill=\"#000000\" fill-rule=\"evenodd\" fill-opacity=\"1\" /><path clip-path=\"url(#clip320)\" d=\"M 0 0 M713.953 1535.98 L730.272 1535.98 L730.272 1539.92 L708.328 1539.92 L708.328 1535.98 Q710.99 1533.23 715.573 1528.6 Q720.18 1523.95 721.36 1522.61 Q723.606 1520.08 724.485 1518.35 Q725.388 1516.59 725.388 1514.9 Q725.388 1512.14 723.444 1510.41 Q721.522 1508.67 718.421 1508.67 Q716.221 1508.67 713.768 1509.43 Q711.337 1510.2 708.559 1511.75 L708.559 1507.03 Q711.384 1505.89 713.837 1505.31 Q716.291 1504.73 718.328 1504.73 Q723.698 1504.73 726.893 1507.42 Q730.087 1510.11 730.087 1514.6 Q730.087 1516.73 729.277 1518.65 Q728.49 1520.54 726.383 1523.14 Q725.805 1523.81 722.703 1527.03 Q719.601 1530.22 713.953 1535.98 Z\" fill=\"#000000\" fill-rule=\"evenodd\" fill-opacity=\"1\" /><path clip-path=\"url(#clip320)\" d=\"M 0 0 M735.388 1505.36 L753.744 1505.36 L753.744 1509.3 L739.67 1509.3 L739.67 1517.77 Q740.689 1517.42 741.707 1517.26 Q742.726 1517.07 743.744 1517.07 Q749.531 1517.07 752.911 1520.24 Q756.291 1523.42 756.291 1528.83 Q756.291 1534.41 752.819 1537.51 Q749.346 1540.59 743.027 1540.59 Q740.851 1540.59 738.582 1540.22 Q736.337 1539.85 733.93 1539.11 L733.93 1534.41 Q736.013 1535.54 738.235 1536.1 Q740.457 1536.66 742.934 1536.66 Q746.939 1536.66 749.277 1534.55 Q751.615 1532.44 751.615 1528.83 Q751.615 1525.22 749.277 1523.11 Q746.939 1521.01 742.934 1521.01 Q741.059 1521.01 739.184 1521.42 Q737.332 1521.84 735.388 1522.72 L735.388 1505.36 Z\" fill=\"#000000\" fill-rule=\"evenodd\" fill-opacity=\"1\" /><path clip-path=\"url(#clip320)\" d=\"M 0 0 M1207.51 1508.44 Q1203.9 1508.44 1202.07 1512 Q1200.27 1515.55 1200.27 1522.67 Q1200.27 1529.78 1202.07 1533.35 Q1203.9 1536.89 1207.51 1536.89 Q1211.15 1536.89 1212.95 1533.35 Q1214.78 1529.78 1214.78 1522.67 Q1214.78 1515.55 1212.95 1512 Q1211.15 1508.44 1207.51 1508.44 M1207.51 1504.73 Q1213.32 1504.73 1216.38 1509.34 Q1219.46 1513.92 1219.46 1522.67 Q1219.46 1531.4 1216.38 1536.01 Q1213.32 1540.59 1207.51 1540.59 Q1201.7 1540.59 1198.62 1536.01 Q1195.57 1531.4 1195.57 1522.67 Q1195.57 1513.92 1198.62 1509.34 Q1201.7 1504.73 1207.51 1504.73 Z\" fill=\"#000000\" fill-rule=\"evenodd\" fill-opacity=\"1\" /><path clip-path=\"url(#clip320)\" d=\"M 0 0 M1224.53 1534.04 L1229.41 1534.04 L1229.41 1539.92 L1224.53 1539.92 L1224.53 1534.04 Z\" fill=\"#000000\" fill-rule=\"evenodd\" fill-opacity=\"1\" /><path clip-path=\"url(#clip320)\" d=\"M 0 0 M1234.53 1505.36 L1252.88 1505.36 L1252.88 1509.3 L1238.81 1509.3 L1238.81 1517.77 Q1239.83 1517.42 1240.85 1517.26 Q1241.86 1517.07 1242.88 1517.07 Q1248.67 1517.07 1252.05 1520.24 Q1255.43 1523.42 1255.43 1528.83 Q1255.43 1534.41 1251.96 1537.51 Q1248.48 1540.59 1242.17 1540.59 Q1239.99 1540.59 1237.72 1540.22 Q1235.48 1539.85 1233.07 1539.11 L1233.07 1534.41 Q1235.15 1535.54 1237.37 1536.1 Q1239.6 1536.66 1242.07 1536.66 Q1246.08 1536.66 1248.42 1534.55 Q1250.75 1532.44 1250.75 1528.83 Q1250.75 1525.22 1248.42 1523.11 Q1246.08 1521.01 1242.07 1521.01 Q1240.2 1521.01 1238.32 1521.42 Q1236.47 1521.84 1234.53 1522.72 L1234.53 1505.36 Z\" fill=\"#000000\" fill-rule=\"evenodd\" fill-opacity=\"1\" /><path clip-path=\"url(#clip320)\" d=\"M 0 0 M1270.5 1508.44 Q1266.89 1508.44 1265.06 1512 Q1263.25 1515.55 1263.25 1522.67 Q1263.25 1529.78 1265.06 1533.35 Q1266.89 1536.89 1270.5 1536.89 Q1274.13 1536.89 1275.94 1533.35 Q1277.77 1529.78 1277.77 1522.67 Q1277.77 1515.55 1275.94 1512 Q1274.13 1508.44 1270.5 1508.44 M1270.5 1504.73 Q1276.31 1504.73 1279.36 1509.34 Q1282.44 1513.92 1282.44 1522.67 Q1282.44 1531.4 1279.36 1536.01 Q1276.31 1540.59 1270.5 1540.59 Q1264.69 1540.59 1261.61 1536.01 Q1258.55 1531.4 1258.55 1522.67 Q1258.55 1513.92 1261.61 1509.34 Q1264.69 1504.73 1270.5 1504.73 Z\" fill=\"#000000\" fill-rule=\"evenodd\" fill-opacity=\"1\" /><path clip-path=\"url(#clip320)\" d=\"M 0 0 M1733.32 1508.44 Q1729.71 1508.44 1727.88 1512 Q1726.07 1515.55 1726.07 1522.67 Q1726.07 1529.78 1727.88 1533.35 Q1729.71 1536.89 1733.32 1536.89 Q1736.95 1536.89 1738.76 1533.35 Q1740.59 1529.78 1740.59 1522.67 Q1740.59 1515.55 1738.76 1512 Q1736.95 1508.44 1733.32 1508.44 M1733.32 1504.73 Q1739.13 1504.73 1742.18 1509.34 Q1745.26 1513.92 1745.26 1522.67 Q1745.26 1531.4 1742.18 1536.01 Q1739.13 1540.59 1733.32 1540.59 Q1727.51 1540.59 1724.43 1536.01 Q1721.37 1531.4 1721.37 1522.67 Q1721.37 1513.92 1724.43 1509.34 Q1727.51 1504.73 1733.32 1504.73 Z\" fill=\"#000000\" fill-rule=\"evenodd\" fill-opacity=\"1\" /><path clip-path=\"url(#clip320)\" d=\"M 0 0 M1750.33 1534.04 L1755.22 1534.04 L1755.22 1539.92 L1750.33 1539.92 L1750.33 1534.04 Z\" fill=\"#000000\" fill-rule=\"evenodd\" fill-opacity=\"1\" /><path clip-path=\"url(#clip320)\" d=\"M 0 0 M1759.11 1505.36 L1781.33 1505.36 L1781.33 1507.35 L1768.78 1539.92 L1763.9 1539.92 L1775.7 1509.3 L1759.11 1509.3 L1759.11 1505.36 Z\" fill=\"#000000\" fill-rule=\"evenodd\" fill-opacity=\"1\" /><path clip-path=\"url(#clip320)\" d=\"M 0 0 M1786.44 1505.36 L1804.8 1505.36 L1804.8 1509.3 L1790.73 1509.3 L1790.73 1517.77 Q1791.74 1517.42 1792.76 1517.26 Q1793.78 1517.07 1794.8 1517.07 Q1800.59 1517.07 1803.97 1520.24 Q1807.35 1523.42 1807.35 1528.83 Q1807.35 1534.41 1803.87 1537.51 Q1800.4 1540.59 1794.08 1540.59 Q1791.91 1540.59 1789.64 1540.22 Q1787.39 1539.85 1784.98 1539.11 L1784.98 1534.41 Q1787.07 1535.54 1789.29 1536.1 Q1791.51 1536.66 1793.99 1536.66 Q1797.99 1536.66 1800.33 1534.55 Q1802.67 1532.44 1802.67 1528.83 Q1802.67 1525.22 1800.33 1523.11 Q1797.99 1521.01 1793.99 1521.01 Q1792.11 1521.01 1790.24 1521.42 Q1788.39 1521.84 1786.44 1522.72 L1786.44 1505.36 Z\" fill=\"#000000\" fill-rule=\"evenodd\" fill-opacity=\"1\" /><path clip-path=\"url(#clip320)\" d=\"M 0 0 M2248.1 1535.98 L2255.74 1535.98 L2255.74 1509.62 L2247.43 1511.29 L2247.43 1507.03 L2255.7 1505.36 L2260.37 1505.36 L2260.37 1535.98 L2268.01 1535.98 L2268.01 1539.92 L2248.1 1539.92 L2248.1 1535.98 Z\" fill=\"#000000\" fill-rule=\"evenodd\" fill-opacity=\"1\" /><path clip-path=\"url(#clip320)\" d=\"M 0 0 M2273.08 1534.04 L2277.97 1534.04 L2277.97 1539.92 L2273.08 1539.92 L2273.08 1534.04 Z\" fill=\"#000000\" fill-rule=\"evenodd\" fill-opacity=\"1\" /><path clip-path=\"url(#clip320)\" d=\"M 0 0 M2293.04 1508.44 Q2289.42 1508.44 2287.6 1512 Q2285.79 1515.55 2285.79 1522.67 Q2285.79 1529.78 2287.6 1533.35 Q2289.42 1536.89 2293.04 1536.89 Q2296.67 1536.89 2298.47 1533.35 Q2300.3 1529.78 2300.3 1522.67 Q2300.3 1515.55 2298.47 1512 Q2296.67 1508.44 2293.04 1508.44 M2293.04 1504.73 Q2298.85 1504.73 2301.9 1509.34 Q2304.98 1513.92 2304.98 1522.67 Q2304.98 1531.4 2301.9 1536.01 Q2298.85 1540.59 2293.04 1540.59 Q2287.23 1540.59 2284.15 1536.01 Q2281.09 1531.4 2281.09 1522.67 Q2281.09 1513.92 2284.15 1509.34 Q2287.23 1504.73 2293.04 1504.73 Z\" fill=\"#000000\" fill-rule=\"evenodd\" fill-opacity=\"1\" /><path clip-path=\"url(#clip320)\" d=\"M 0 0 M2320.05 1508.44 Q2316.44 1508.44 2314.61 1512 Q2312.8 1515.55 2312.8 1522.67 Q2312.8 1529.78 2314.61 1533.35 Q2316.44 1536.89 2320.05 1536.89 Q2323.68 1536.89 2325.49 1533.35 Q2327.32 1529.78 2327.32 1522.67 Q2327.32 1515.55 2325.49 1512 Q2323.68 1508.44 2320.05 1508.44 M2320.05 1504.73 Q2325.86 1504.73 2328.91 1509.34 Q2331.99 1513.92 2331.99 1522.67 Q2331.99 1531.4 2328.91 1536.01 Q2325.86 1540.59 2320.05 1540.59 Q2314.24 1540.59 2311.16 1536.01 Q2308.1 1531.4 2308.1 1522.67 Q2308.1 1513.92 2311.16 1509.34 Q2314.24 1504.73 2320.05 1504.73 Z\" fill=\"#000000\" fill-rule=\"evenodd\" fill-opacity=\"1\" /><path clip-path=\"url(#clip320)\" d=\"M 0 0 M62.9921 1448.11 L75.4689 1448.11 L75.4689 1451.91 L62.9921 1451.91 L62.9921 1448.11 Z\" fill=\"#000000\" fill-rule=\"evenodd\" fill-opacity=\"1\" /><path clip-path=\"url(#clip320)\" d=\"M 0 0 M81.3485 1459.06 L88.9874 1459.06 L88.9874 1432.69 L80.6772 1434.36 L80.6772 1430.1 L88.9411 1428.44 L93.617 1428.44 L93.617 1459.06 L101.256 1459.06 L101.256 1463 L81.3485 1463 L81.3485 1459.06 Z\" fill=\"#000000\" fill-rule=\"evenodd\" fill-opacity=\"1\" /><path clip-path=\"url(#clip320)\" d=\"M 0 0 M89.3114 978.935 Q85.7003 978.935 83.8716 982.499 Q82.0661 986.041 82.0661 993.171 Q82.0661 1000.28 83.8716 1003.84 Q85.7003 1007.38 89.3114 1007.38 Q92.9457 1007.38 94.7512 1003.84 Q96.5799 1000.28 96.5799 993.171 Q96.5799 986.041 94.7512 982.499 Q92.9457 978.935 89.3114 978.935 M89.3114 975.231 Q95.1216 975.231 98.1771 979.837 Q101.256 984.421 101.256 993.171 Q101.256 1001.9 98.1771 1006.5 Q95.1216 1011.09 89.3114 1011.09 Q83.5013 1011.09 80.4226 1006.5 Q77.367 1001.9 77.367 993.171 Q77.367 984.421 80.4226 979.837 Q83.5013 975.231 89.3114 975.231 Z\" fill=\"#000000\" fill-rule=\"evenodd\" fill-opacity=\"1\" /><path clip-path=\"url(#clip320)\" d=\"M 0 0 M81.3485 553.901 L88.9874 553.901 L88.9874 527.535 L80.6772 529.202 L80.6772 524.943 L88.9411 523.276 L93.617 523.276 L93.617 553.901 L101.256 553.901 L101.256 557.836 L81.3485 557.836 L81.3485 553.901 Z\" fill=\"#000000\" fill-rule=\"evenodd\" fill-opacity=\"1\" /><path clip-path=\"url(#clip320)\" d=\"M 0 0 M84.9365 101.321 L101.256 101.321 L101.256 105.256 L79.3115 105.256 L79.3115 101.321 Q81.9735 98.5665 86.5568 93.9369 Q91.1633 89.2841 92.3438 87.9416 Q94.5892 85.4184 95.4688 83.6823 Q96.3716 81.9231 96.3716 80.2333 Q96.3716 77.4786 94.4271 75.7425 Q92.5059 74.0064 89.404 74.0064 Q87.205 74.0064 84.7513 74.7703 Q82.3207 75.5342 79.543 77.0851 L79.543 72.3629 Q82.367 71.2287 84.8207 70.65 Q87.2744 70.0713 89.3114 70.0713 Q94.6818 70.0713 97.8762 72.7565 Q101.071 75.4416 101.071 79.9323 Q101.071 82.062 100.26 83.9832 Q99.4734 85.8814 97.3669 88.474 Q96.7882 89.1453 93.6864 92.3628 Q90.5846 95.5573 84.9365 101.321 Z\" fill=\"#000000\" fill-rule=\"evenodd\" fill-opacity=\"1\" /><polyline clip-path=\"url(#clip322)\" style=\"stroke:#009af9; stroke-width:4; stroke-opacity:1; fill:none\" points=\"\n",
       "  188.298,87.9763 398.44,305.215 608.581,504.35 818.723,685.382 1028.86,848.31 1239.01,993.136 1449.15,1119.86 1659.29,1228.48 1869.43,1318.99 2079.57,1391.41 \n",
       "  2289.71,1445.72 \n",
       "  \"/>\n",
       "<polyline clip-path=\"url(#clip322)\" style=\"stroke:#e26f46; stroke-width:4; stroke-opacity:1; fill:none\" points=\"\n",
       "  188.298,993.136 398.44,913.633 608.581,854.948 818.723,815.272 1028.86,792.794 1239.01,785.703 1449.15,792.19 1659.29,810.445 1869.43,838.655 2079.57,875.013 \n",
       "  2289.71,917.706 \n",
       "  \"/>\n",
       "<path clip-path=\"url(#clip320)\" d=\"\n",
       "M1951.27 312.204 L2280.76 312.204 L2280.76 130.764 L1951.27 130.764  Z\n",
       "  \" fill=\"#ffffff\" fill-rule=\"evenodd\" fill-opacity=\"1\"/>\n",
       "<polyline clip-path=\"url(#clip320)\" style=\"stroke:#000000; stroke-width:4; stroke-opacity:1; fill:none\" points=\"\n",
       "  1951.27,312.204 2280.76,312.204 2280.76,130.764 1951.27,130.764 1951.27,312.204 \n",
       "  \"/>\n",
       "<polyline clip-path=\"url(#clip320)\" style=\"stroke:#009af9; stroke-width:4; stroke-opacity:1; fill:none\" points=\"\n",
       "  1975.27,191.244 2119.27,191.244 \n",
       "  \"/>\n",
       "<path clip-path=\"url(#clip320)\" d=\"M 0 0 M2159.77 172.506 L2159.77 176.047 L2155.7 176.047 Q2153.4 176.047 2152.5 176.973 Q2151.62 177.899 2151.62 180.307 L2151.62 182.598 L2158.64 182.598 L2158.64 185.908 L2151.62 185.908 L2151.62 208.524 L2147.34 208.524 L2147.34 185.908 L2143.27 185.908 L2143.27 182.598 L2147.34 182.598 L2147.34 180.793 Q2147.34 176.464 2149.35 174.496 Q2151.37 172.506 2155.74 172.506 L2159.77 172.506 Z\" fill=\"#000000\" fill-rule=\"evenodd\" fill-opacity=\"1\" /><polyline clip-path=\"url(#clip320)\" style=\"stroke:#e26f46; stroke-width:4; stroke-opacity:1; fill:none\" points=\"\n",
       "  1975.27,251.724 2119.27,251.724 \n",
       "  \"/>\n",
       "<path clip-path=\"url(#clip320)\" d=\"M 0 0 M2143.27 243.078 L2147.52 243.078 L2147.52 269.004 L2143.27 269.004 L2143.27 243.078 M2143.27 232.986 L2147.52 232.986 L2147.52 238.379 L2143.27 238.379 L2143.27 232.986 Z\" fill=\"#000000\" fill-rule=\"evenodd\" fill-opacity=\"1\" /><path clip-path=\"url(#clip320)\" d=\"M 0 0 M2173.54 253.356 L2173.54 269.004 L2169.28 269.004 L2169.28 253.495 Q2169.28 249.814 2167.85 247.986 Q2166.41 246.157 2163.54 246.157 Q2160.09 246.157 2158.1 248.356 Q2156.11 250.555 2156.11 254.351 L2156.11 269.004 L2151.83 269.004 L2151.83 243.078 L2156.11 243.078 L2156.11 247.106 Q2157.64 244.768 2159.7 243.611 Q2161.78 242.453 2164.49 242.453 Q2168.96 242.453 2171.25 245.231 Q2173.54 247.986 2173.54 253.356 Z\" fill=\"#000000\" fill-rule=\"evenodd\" fill-opacity=\"1\" /><path clip-path=\"url(#clip320)\" d=\"M 0 0 M2182.22 235.717 L2182.22 243.078 L2191 243.078 L2191 246.388 L2182.22 246.388 L2182.22 260.462 Q2182.22 263.634 2183.08 264.537 Q2183.96 265.439 2186.62 265.439 L2191 265.439 L2191 269.004 L2186.62 269.004 Q2181.69 269.004 2179.82 267.175 Q2177.94 265.324 2177.94 260.462 L2177.94 246.388 L2174.82 246.388 L2174.82 243.078 L2177.94 243.078 L2177.94 235.717 L2182.22 235.717 Z\" fill=\"#000000\" fill-rule=\"evenodd\" fill-opacity=\"1\" /><path clip-path=\"url(#clip320)\" d=\"M 0 0 M2215.16 276.874 L2215.16 280.185 L2190.53 280.185 L2190.53 276.874 L2215.16 276.874 Z\" fill=\"#000000\" fill-rule=\"evenodd\" fill-opacity=\"1\" /><path clip-path=\"url(#clip320)\" d=\"M 0 0 M2232.76 232.986 L2232.76 236.527 L2228.68 236.527 Q2226.39 236.527 2225.49 237.453 Q2224.61 238.379 2224.61 240.787 L2224.61 243.078 L2231.62 243.078 L2231.62 246.388 L2224.61 246.388 L2224.61 269.004 L2220.33 269.004 L2220.33 246.388 L2216.25 246.388 L2216.25 243.078 L2220.33 243.078 L2220.33 241.273 Q2220.33 236.944 2222.34 234.976 Q2224.35 232.986 2228.73 232.986 L2232.76 232.986 Z\" fill=\"#000000\" fill-rule=\"evenodd\" fill-opacity=\"1\" /></svg>\n"
      ]
     },
     "execution_count": 35,
     "metadata": {},
     "output_type": "execute_result"
    }
   ],
   "source": [
    "using Polynomials.PolyCompat\n",
    "p = Poly([2, -5, 2], :x)  # :x just gives a symbol for display\n",
    "@show p\n",
    "@show p(1.0) # call like a function\n",
    "\n",
    "plotfunctions(p)  # same generic function"
   ]
  },
  {
   "cell_type": "markdown",
   "metadata": {},
   "source": [
    "Similarly, the result of interpolating data is also a function"
   ]
  },
  {
   "cell_type": "code",
   "execution_count": 36,
   "metadata": {
    "hide-output": false
   },
   "outputs": [
    {
     "name": "stdout",
     "output_type": "stream",
     "text": [
      "f_int(1.0) = 1.0\n"
     ]
    },
    {
     "data": {
      "image/svg+xml": [
       "<?xml version=\"1.0\" encoding=\"utf-8\"?>\n",
       "<svg xmlns=\"http://www.w3.org/2000/svg\" xmlns:xlink=\"http://www.w3.org/1999/xlink\" width=\"600\" height=\"400\" viewBox=\"0 0 2400 1600\">\n",
       "<defs>\n",
       "  <clipPath id=\"clip360\">\n",
       "    <rect x=\"0\" y=\"0\" width=\"2400\" height=\"1600\"/>\n",
       "  </clipPath>\n",
       "</defs>\n",
       "<path clip-path=\"url(#clip360)\" d=\"\n",
       "M0 1600 L2400 1600 L2400 0 L0 0  Z\n",
       "  \" fill=\"#ffffff\" fill-rule=\"evenodd\" fill-opacity=\"1\"/>\n",
       "<defs>\n",
       "  <clipPath id=\"clip361\">\n",
       "    <rect x=\"480\" y=\"0\" width=\"1681\" height=\"1600\"/>\n",
       "  </clipPath>\n",
       "</defs>\n",
       "<path clip-path=\"url(#clip360)\" d=\"\n",
       "M174.862 1486.45 L2352.76 1486.45 L2352.76 47.2441 L174.862 47.2441  Z\n",
       "  \" fill=\"#ffffff\" fill-rule=\"evenodd\" fill-opacity=\"1\"/>\n",
       "<defs>\n",
       "  <clipPath id=\"clip362\">\n",
       "    <rect x=\"174\" y=\"47\" width=\"2179\" height=\"1440\"/>\n",
       "  </clipPath>\n",
       "</defs>\n",
       "<polyline clip-path=\"url(#clip362)\" style=\"stroke:#000000; stroke-width:2; stroke-opacity:0.1; fill:none\" points=\"\n",
       "  236.501,1486.45 236.501,47.2441 \n",
       "  \"/>\n",
       "<polyline clip-path=\"url(#clip362)\" style=\"stroke:#000000; stroke-width:2; stroke-opacity:0.1; fill:none\" points=\"\n",
       "  750.155,1486.45 750.155,47.2441 \n",
       "  \"/>\n",
       "<polyline clip-path=\"url(#clip362)\" style=\"stroke:#000000; stroke-width:2; stroke-opacity:0.1; fill:none\" points=\"\n",
       "  1263.81,1486.45 1263.81,47.2441 \n",
       "  \"/>\n",
       "<polyline clip-path=\"url(#clip362)\" style=\"stroke:#000000; stroke-width:2; stroke-opacity:0.1; fill:none\" points=\"\n",
       "  1777.46,1486.45 1777.46,47.2441 \n",
       "  \"/>\n",
       "<polyline clip-path=\"url(#clip362)\" style=\"stroke:#000000; stroke-width:2; stroke-opacity:0.1; fill:none\" points=\"\n",
       "  2291.12,1486.45 2291.12,47.2441 \n",
       "  \"/>\n",
       "<polyline clip-path=\"url(#clip362)\" style=\"stroke:#000000; stroke-width:2; stroke-opacity:0.1; fill:none\" points=\"\n",
       "  174.862,1445.72 2352.76,1445.72 \n",
       "  \"/>\n",
       "<polyline clip-path=\"url(#clip362)\" style=\"stroke:#000000; stroke-width:2; stroke-opacity:0.1; fill:none\" points=\"\n",
       "  174.862,1106.28 2352.76,1106.28 \n",
       "  \"/>\n",
       "<polyline clip-path=\"url(#clip362)\" style=\"stroke:#000000; stroke-width:2; stroke-opacity:0.1; fill:none\" points=\"\n",
       "  174.862,766.846 2352.76,766.846 \n",
       "  \"/>\n",
       "<polyline clip-path=\"url(#clip362)\" style=\"stroke:#000000; stroke-width:2; stroke-opacity:0.1; fill:none\" points=\"\n",
       "  174.862,427.411 2352.76,427.411 \n",
       "  \"/>\n",
       "<polyline clip-path=\"url(#clip362)\" style=\"stroke:#000000; stroke-width:2; stroke-opacity:0.1; fill:none\" points=\"\n",
       "  174.862,87.9763 2352.76,87.9763 \n",
       "  \"/>\n",
       "<polyline clip-path=\"url(#clip360)\" style=\"stroke:#000000; stroke-width:4; stroke-opacity:1; fill:none\" points=\"\n",
       "  174.862,1486.45 2352.76,1486.45 \n",
       "  \"/>\n",
       "<polyline clip-path=\"url(#clip360)\" style=\"stroke:#000000; stroke-width:4; stroke-opacity:1; fill:none\" points=\"\n",
       "  174.862,1486.45 174.862,47.2441 \n",
       "  \"/>\n",
       "<polyline clip-path=\"url(#clip360)\" style=\"stroke:#000000; stroke-width:4; stroke-opacity:1; fill:none\" points=\"\n",
       "  236.501,1486.45 236.501,1469.18 \n",
       "  \"/>\n",
       "<polyline clip-path=\"url(#clip360)\" style=\"stroke:#000000; stroke-width:4; stroke-opacity:1; fill:none\" points=\"\n",
       "  750.155,1486.45 750.155,1469.18 \n",
       "  \"/>\n",
       "<polyline clip-path=\"url(#clip360)\" style=\"stroke:#000000; stroke-width:4; stroke-opacity:1; fill:none\" points=\"\n",
       "  1263.81,1486.45 1263.81,1469.18 \n",
       "  \"/>\n",
       "<polyline clip-path=\"url(#clip360)\" style=\"stroke:#000000; stroke-width:4; stroke-opacity:1; fill:none\" points=\"\n",
       "  1777.46,1486.45 1777.46,1469.18 \n",
       "  \"/>\n",
       "<polyline clip-path=\"url(#clip360)\" style=\"stroke:#000000; stroke-width:4; stroke-opacity:1; fill:none\" points=\"\n",
       "  2291.12,1486.45 2291.12,1469.18 \n",
       "  \"/>\n",
       "<polyline clip-path=\"url(#clip360)\" style=\"stroke:#000000; stroke-width:4; stroke-opacity:1; fill:none\" points=\"\n",
       "  174.862,1445.72 200.997,1445.72 \n",
       "  \"/>\n",
       "<polyline clip-path=\"url(#clip360)\" style=\"stroke:#000000; stroke-width:4; stroke-opacity:1; fill:none\" points=\"\n",
       "  174.862,1106.28 200.997,1106.28 \n",
       "  \"/>\n",
       "<polyline clip-path=\"url(#clip360)\" style=\"stroke:#000000; stroke-width:4; stroke-opacity:1; fill:none\" points=\"\n",
       "  174.862,766.846 200.997,766.846 \n",
       "  \"/>\n",
       "<polyline clip-path=\"url(#clip360)\" style=\"stroke:#000000; stroke-width:4; stroke-opacity:1; fill:none\" points=\"\n",
       "  174.862,427.411 200.997,427.411 \n",
       "  \"/>\n",
       "<polyline clip-path=\"url(#clip360)\" style=\"stroke:#000000; stroke-width:4; stroke-opacity:1; fill:none\" points=\"\n",
       "  174.862,87.9763 200.997,87.9763 \n",
       "  \"/>\n",
       "<path clip-path=\"url(#clip360)\" d=\"M 0 0 M204.51 1508.44 Q200.899 1508.44 199.07 1512 Q197.265 1515.55 197.265 1522.67 Q197.265 1529.78 199.07 1533.35 Q200.899 1536.89 204.51 1536.89 Q208.144 1536.89 209.95 1533.35 Q211.778 1529.78 211.778 1522.67 Q211.778 1515.55 209.95 1512 Q208.144 1508.44 204.51 1508.44 M204.51 1504.73 Q210.32 1504.73 213.376 1509.34 Q216.454 1513.92 216.454 1522.67 Q216.454 1531.4 213.376 1536.01 Q210.32 1540.59 204.51 1540.59 Q198.7 1540.59 195.621 1536.01 Q192.566 1531.4 192.566 1522.67 Q192.566 1513.92 195.621 1509.34 Q198.7 1504.73 204.51 1504.73 Z\" fill=\"#000000\" fill-rule=\"evenodd\" fill-opacity=\"1\" /><path clip-path=\"url(#clip360)\" d=\"M 0 0 M221.524 1534.04 L226.408 1534.04 L226.408 1539.92 L221.524 1539.92 L221.524 1534.04 Z\" fill=\"#000000\" fill-rule=\"evenodd\" fill-opacity=\"1\" /><path clip-path=\"url(#clip360)\" d=\"M 0 0 M241.477 1508.44 Q237.866 1508.44 236.038 1512 Q234.232 1515.55 234.232 1522.67 Q234.232 1529.78 236.038 1533.35 Q237.866 1536.89 241.477 1536.89 Q245.112 1536.89 246.917 1533.35 Q248.746 1529.78 248.746 1522.67 Q248.746 1515.55 246.917 1512 Q245.112 1508.44 241.477 1508.44 M241.477 1504.73 Q247.288 1504.73 250.343 1509.34 Q253.422 1513.92 253.422 1522.67 Q253.422 1531.4 250.343 1536.01 Q247.288 1540.59 241.477 1540.59 Q235.667 1540.59 232.589 1536.01 Q229.533 1531.4 229.533 1522.67 Q229.533 1513.92 232.589 1509.34 Q235.667 1504.73 241.477 1504.73 Z\" fill=\"#000000\" fill-rule=\"evenodd\" fill-opacity=\"1\" /><path clip-path=\"url(#clip360)\" d=\"M 0 0 M268.491 1508.44 Q264.88 1508.44 263.051 1512 Q261.246 1515.55 261.246 1522.67 Q261.246 1529.78 263.051 1533.35 Q264.88 1536.89 268.491 1536.89 Q272.125 1536.89 273.931 1533.35 Q275.76 1529.78 275.76 1522.67 Q275.76 1515.55 273.931 1512 Q272.125 1508.44 268.491 1508.44 M268.491 1504.73 Q274.301 1504.73 277.357 1509.34 Q280.435 1513.92 280.435 1522.67 Q280.435 1531.4 277.357 1536.01 Q274.301 1540.59 268.491 1540.59 Q262.681 1540.59 259.602 1536.01 Q256.547 1531.4 256.547 1522.67 Q256.547 1513.92 259.602 1509.34 Q262.681 1504.73 268.491 1504.73 Z\" fill=\"#000000\" fill-rule=\"evenodd\" fill-opacity=\"1\" /><path clip-path=\"url(#clip360)\" d=\"M 0 0 M719.46 1508.44 Q715.849 1508.44 714.021 1512 Q712.215 1515.55 712.215 1522.67 Q712.215 1529.78 714.021 1533.35 Q715.849 1536.89 719.46 1536.89 Q723.095 1536.89 724.9 1533.35 Q726.729 1529.78 726.729 1522.67 Q726.729 1515.55 724.9 1512 Q723.095 1508.44 719.46 1508.44 M719.46 1504.73 Q725.271 1504.73 728.326 1509.34 Q731.405 1513.92 731.405 1522.67 Q731.405 1531.4 728.326 1536.01 Q725.271 1540.59 719.46 1540.59 Q713.65 1540.59 710.572 1536.01 Q707.516 1531.4 707.516 1522.67 Q707.516 1513.92 710.572 1509.34 Q713.65 1504.73 719.46 1504.73 Z\" fill=\"#000000\" fill-rule=\"evenodd\" fill-opacity=\"1\" /><path clip-path=\"url(#clip360)\" d=\"M 0 0 M736.474 1534.04 L741.358 1534.04 L741.358 1539.92 L736.474 1539.92 L736.474 1534.04 Z\" fill=\"#000000\" fill-rule=\"evenodd\" fill-opacity=\"1\" /><path clip-path=\"url(#clip360)\" d=\"M 0 0 M750.456 1535.98 L766.775 1535.98 L766.775 1539.92 L744.831 1539.92 L744.831 1535.98 Q747.493 1533.23 752.076 1528.6 Q756.682 1523.95 757.863 1522.61 Q760.108 1520.08 760.988 1518.35 Q761.891 1516.59 761.891 1514.9 Q761.891 1512.14 759.946 1510.41 Q758.025 1508.67 754.923 1508.67 Q752.724 1508.67 750.27 1509.43 Q747.84 1510.2 745.062 1511.75 L745.062 1507.03 Q747.886 1505.89 750.34 1505.31 Q752.794 1504.73 754.831 1504.73 Q760.201 1504.73 763.395 1507.42 Q766.59 1510.11 766.59 1514.6 Q766.59 1516.73 765.78 1518.65 Q764.993 1520.54 762.886 1523.14 Q762.307 1523.81 759.206 1527.03 Q756.104 1530.22 750.456 1535.98 Z\" fill=\"#000000\" fill-rule=\"evenodd\" fill-opacity=\"1\" /><path clip-path=\"url(#clip360)\" d=\"M 0 0 M771.891 1505.36 L790.247 1505.36 L790.247 1509.3 L776.173 1509.3 L776.173 1517.77 Q777.192 1517.42 778.21 1517.26 Q779.229 1517.07 780.247 1517.07 Q786.034 1517.07 789.414 1520.24 Q792.793 1523.42 792.793 1528.83 Q792.793 1534.41 789.321 1537.51 Q785.849 1540.59 779.53 1540.59 Q777.354 1540.59 775.085 1540.22 Q772.84 1539.85 770.432 1539.11 L770.432 1534.41 Q772.516 1535.54 774.738 1536.1 Q776.96 1536.66 779.437 1536.66 Q783.442 1536.66 785.78 1534.55 Q788.118 1532.44 788.118 1528.83 Q788.118 1525.22 785.78 1523.11 Q783.442 1521.01 779.437 1521.01 Q777.562 1521.01 775.687 1521.42 Q773.835 1521.84 771.891 1522.72 L771.891 1505.36 Z\" fill=\"#000000\" fill-rule=\"evenodd\" fill-opacity=\"1\" /><path clip-path=\"url(#clip360)\" d=\"M 0 0 M1232.32 1508.44 Q1228.7 1508.44 1226.88 1512 Q1225.07 1515.55 1225.07 1522.67 Q1225.07 1529.78 1226.88 1533.35 Q1228.7 1536.89 1232.32 1536.89 Q1235.95 1536.89 1237.76 1533.35 Q1239.58 1529.78 1239.58 1522.67 Q1239.58 1515.55 1237.76 1512 Q1235.95 1508.44 1232.32 1508.44 M1232.32 1504.73 Q1238.13 1504.73 1241.18 1509.34 Q1244.26 1513.92 1244.26 1522.67 Q1244.26 1531.4 1241.18 1536.01 Q1238.13 1540.59 1232.32 1540.59 Q1226.51 1540.59 1223.43 1536.01 Q1220.37 1531.4 1220.37 1522.67 Q1220.37 1513.92 1223.43 1509.34 Q1226.51 1504.73 1232.32 1504.73 Z\" fill=\"#000000\" fill-rule=\"evenodd\" fill-opacity=\"1\" /><path clip-path=\"url(#clip360)\" d=\"M 0 0 M1249.33 1534.04 L1254.21 1534.04 L1254.21 1539.92 L1249.33 1539.92 L1249.33 1534.04 Z\" fill=\"#000000\" fill-rule=\"evenodd\" fill-opacity=\"1\" /><path clip-path=\"url(#clip360)\" d=\"M 0 0 M1259.33 1505.36 L1277.69 1505.36 L1277.69 1509.3 L1263.61 1509.3 L1263.61 1517.77 Q1264.63 1517.42 1265.65 1517.26 Q1266.67 1517.07 1267.69 1517.07 Q1273.47 1517.07 1276.85 1520.24 Q1280.23 1523.42 1280.23 1528.83 Q1280.23 1534.41 1276.76 1537.51 Q1273.29 1540.59 1266.97 1540.59 Q1264.79 1540.59 1262.52 1540.22 Q1260.28 1539.85 1257.87 1539.11 L1257.87 1534.41 Q1259.95 1535.54 1262.18 1536.1 Q1264.4 1536.66 1266.88 1536.66 Q1270.88 1536.66 1273.22 1534.55 Q1275.56 1532.44 1275.56 1528.83 Q1275.56 1525.22 1273.22 1523.11 Q1270.88 1521.01 1266.88 1521.01 Q1265 1521.01 1263.13 1521.42 Q1261.27 1521.84 1259.33 1522.72 L1259.33 1505.36 Z\" fill=\"#000000\" fill-rule=\"evenodd\" fill-opacity=\"1\" /><path clip-path=\"url(#clip360)\" d=\"M 0 0 M1295.3 1508.44 Q1291.69 1508.44 1289.86 1512 Q1288.06 1515.55 1288.06 1522.67 Q1288.06 1529.78 1289.86 1533.35 Q1291.69 1536.89 1295.3 1536.89 Q1298.94 1536.89 1300.74 1533.35 Q1302.57 1529.78 1302.57 1522.67 Q1302.57 1515.55 1300.74 1512 Q1298.94 1508.44 1295.3 1508.44 M1295.3 1504.73 Q1301.11 1504.73 1304.17 1509.34 Q1307.25 1513.92 1307.25 1522.67 Q1307.25 1531.4 1304.17 1536.01 Q1301.11 1540.59 1295.3 1540.59 Q1289.49 1540.59 1286.41 1536.01 Q1283.36 1531.4 1283.36 1522.67 Q1283.36 1513.92 1286.41 1509.34 Q1289.49 1504.73 1295.3 1504.73 Z\" fill=\"#000000\" fill-rule=\"evenodd\" fill-opacity=\"1\" /><path clip-path=\"url(#clip360)\" d=\"M 0 0 M1746.42 1508.44 Q1742.81 1508.44 1740.98 1512 Q1739.18 1515.55 1739.18 1522.67 Q1739.18 1529.78 1740.98 1533.35 Q1742.81 1536.89 1746.42 1536.89 Q1750.06 1536.89 1751.86 1533.35 Q1753.69 1529.78 1753.69 1522.67 Q1753.69 1515.55 1751.86 1512 Q1750.06 1508.44 1746.42 1508.44 M1746.42 1504.73 Q1752.23 1504.73 1755.29 1509.34 Q1758.37 1513.92 1758.37 1522.67 Q1758.37 1531.4 1755.29 1536.01 Q1752.23 1540.59 1746.42 1540.59 Q1740.61 1540.59 1737.53 1536.01 Q1734.48 1531.4 1734.48 1522.67 Q1734.48 1513.92 1737.53 1509.34 Q1740.61 1504.73 1746.42 1504.73 Z\" fill=\"#000000\" fill-rule=\"evenodd\" fill-opacity=\"1\" /><path clip-path=\"url(#clip360)\" d=\"M 0 0 M1763.44 1534.04 L1768.32 1534.04 L1768.32 1539.92 L1763.44 1539.92 L1763.44 1534.04 Z\" fill=\"#000000\" fill-rule=\"evenodd\" fill-opacity=\"1\" /><path clip-path=\"url(#clip360)\" d=\"M 0 0 M1772.21 1505.36 L1794.43 1505.36 L1794.43 1507.35 L1781.88 1539.92 L1777 1539.92 L1788.81 1509.3 L1772.21 1509.3 L1772.21 1505.36 Z\" fill=\"#000000\" fill-rule=\"evenodd\" fill-opacity=\"1\" /><path clip-path=\"url(#clip360)\" d=\"M 0 0 M1799.55 1505.36 L1817.9 1505.36 L1817.9 1509.3 L1803.83 1509.3 L1803.83 1517.77 Q1804.85 1517.42 1805.87 1517.26 Q1806.88 1517.07 1807.9 1517.07 Q1813.69 1517.07 1817.07 1520.24 Q1820.45 1523.42 1820.45 1528.83 Q1820.45 1534.41 1816.98 1537.51 Q1813.5 1540.59 1807.19 1540.59 Q1805.01 1540.59 1802.74 1540.22 Q1800.5 1539.85 1798.09 1539.11 L1798.09 1534.41 Q1800.17 1535.54 1802.39 1536.1 Q1804.62 1536.66 1807.09 1536.66 Q1811.1 1536.66 1813.44 1534.55 Q1815.77 1532.44 1815.77 1528.83 Q1815.77 1525.22 1813.44 1523.11 Q1811.1 1521.01 1807.09 1521.01 Q1805.22 1521.01 1803.34 1521.42 Q1801.49 1521.84 1799.55 1522.72 L1799.55 1505.36 Z\" fill=\"#000000\" fill-rule=\"evenodd\" fill-opacity=\"1\" /><path clip-path=\"url(#clip360)\" d=\"M 0 0 M2249.51 1535.98 L2257.15 1535.98 L2257.15 1509.62 L2248.84 1511.29 L2248.84 1507.03 L2257.1 1505.36 L2261.78 1505.36 L2261.78 1535.98 L2269.42 1535.98 L2269.42 1539.92 L2249.51 1539.92 L2249.51 1535.98 Z\" fill=\"#000000\" fill-rule=\"evenodd\" fill-opacity=\"1\" /><path clip-path=\"url(#clip360)\" d=\"M 0 0 M2274.49 1534.04 L2279.37 1534.04 L2279.37 1539.92 L2274.49 1539.92 L2274.49 1534.04 Z\" fill=\"#000000\" fill-rule=\"evenodd\" fill-opacity=\"1\" /><path clip-path=\"url(#clip360)\" d=\"M 0 0 M2294.44 1508.44 Q2290.83 1508.44 2289 1512 Q2287.19 1515.55 2287.19 1522.67 Q2287.19 1529.78 2289 1533.35 Q2290.83 1536.89 2294.44 1536.89 Q2298.07 1536.89 2299.88 1533.35 Q2301.71 1529.78 2301.71 1522.67 Q2301.71 1515.55 2299.88 1512 Q2298.07 1508.44 2294.44 1508.44 M2294.44 1504.73 Q2300.25 1504.73 2303.3 1509.34 Q2306.38 1513.92 2306.38 1522.67 Q2306.38 1531.4 2303.3 1536.01 Q2300.25 1540.59 2294.44 1540.59 Q2288.63 1540.59 2285.55 1536.01 Q2282.49 1531.4 2282.49 1522.67 Q2282.49 1513.92 2285.55 1509.34 Q2288.63 1504.73 2294.44 1504.73 Z\" fill=\"#000000\" fill-rule=\"evenodd\" fill-opacity=\"1\" /><path clip-path=\"url(#clip360)\" d=\"M 0 0 M2321.45 1508.44 Q2317.84 1508.44 2316.01 1512 Q2314.21 1515.55 2314.21 1522.67 Q2314.21 1529.78 2316.01 1533.35 Q2317.84 1536.89 2321.45 1536.89 Q2325.09 1536.89 2326.89 1533.35 Q2328.72 1529.78 2328.72 1522.67 Q2328.72 1515.55 2326.89 1512 Q2325.09 1508.44 2321.45 1508.44 M2321.45 1504.73 Q2327.26 1504.73 2330.32 1509.34 Q2333.4 1513.92 2333.4 1522.67 Q2333.4 1531.4 2330.32 1536.01 Q2327.26 1540.59 2321.45 1540.59 Q2315.64 1540.59 2312.56 1536.01 Q2309.51 1531.4 2309.51 1522.67 Q2309.51 1513.92 2312.56 1509.34 Q2315.64 1504.73 2321.45 1504.73 Z\" fill=\"#000000\" fill-rule=\"evenodd\" fill-opacity=\"1\" /><path clip-path=\"url(#clip360)\" d=\"M 0 0 M74.9365 1431.51 Q71.3254 1431.51 69.4967 1435.08 Q67.6912 1438.62 67.6912 1445.75 Q67.6912 1452.86 69.4967 1456.42 Q71.3254 1459.96 74.9365 1459.96 Q78.5707 1459.96 80.3763 1456.42 Q82.205 1452.86 82.205 1445.75 Q82.205 1438.62 80.3763 1435.08 Q78.5707 1431.51 74.9365 1431.51 M74.9365 1427.81 Q80.7467 1427.81 83.8022 1432.42 Q86.8809 1437 86.8809 1445.75 Q86.8809 1454.48 83.8022 1459.08 Q80.7467 1463.67 74.9365 1463.67 Q69.1264 1463.67 66.0477 1459.08 Q62.9921 1454.48 62.9921 1445.75 Q62.9921 1437 66.0477 1432.42 Q69.1264 1427.81 74.9365 1427.81 Z\" fill=\"#000000\" fill-rule=\"evenodd\" fill-opacity=\"1\" /><path clip-path=\"url(#clip360)\" d=\"M 0 0 M91.9503 1457.12 L96.8345 1457.12 L96.8345 1463 L91.9503 1463 L91.9503 1457.12 Z\" fill=\"#000000\" fill-rule=\"evenodd\" fill-opacity=\"1\" /><path clip-path=\"url(#clip360)\" d=\"M 0 0 M111.904 1431.51 Q108.293 1431.51 106.464 1435.08 Q104.659 1438.62 104.659 1445.75 Q104.659 1452.86 106.464 1456.42 Q108.293 1459.96 111.904 1459.96 Q115.538 1459.96 117.344 1456.42 Q119.172 1452.86 119.172 1445.75 Q119.172 1438.62 117.344 1435.08 Q115.538 1431.51 111.904 1431.51 M111.904 1427.81 Q117.714 1427.81 120.77 1432.42 Q123.848 1437 123.848 1445.75 Q123.848 1454.48 120.77 1459.08 Q117.714 1463.67 111.904 1463.67 Q106.094 1463.67 103.015 1459.08 Q99.9595 1454.48 99.9595 1445.75 Q99.9595 1437 103.015 1432.42 Q106.094 1427.81 111.904 1427.81 Z\" fill=\"#000000\" fill-rule=\"evenodd\" fill-opacity=\"1\" /><path clip-path=\"url(#clip360)\" d=\"M 0 0 M138.918 1431.51 Q135.307 1431.51 133.478 1435.08 Q131.672 1438.62 131.672 1445.75 Q131.672 1452.86 133.478 1456.42 Q135.307 1459.96 138.918 1459.96 Q142.552 1459.96 144.357 1456.42 Q146.186 1452.86 146.186 1445.75 Q146.186 1438.62 144.357 1435.08 Q142.552 1431.51 138.918 1431.51 M138.918 1427.81 Q144.728 1427.81 147.783 1432.42 Q150.862 1437 150.862 1445.75 Q150.862 1454.48 147.783 1459.08 Q144.728 1463.67 138.918 1463.67 Q133.107 1463.67 130.029 1459.08 Q126.973 1454.48 126.973 1445.75 Q126.973 1437 130.029 1432.42 Q133.107 1427.81 138.918 1427.81 Z\" fill=\"#000000\" fill-rule=\"evenodd\" fill-opacity=\"1\" /><path clip-path=\"url(#clip360)\" d=\"M 0 0 M77.5291 1092.08 Q73.918 1092.08 72.0893 1095.64 Q70.2838 1099.19 70.2838 1106.32 Q70.2838 1113.42 72.0893 1116.99 Q73.918 1120.53 77.5291 1120.53 Q81.1633 1120.53 82.9689 1116.99 Q84.7976 1113.42 84.7976 1106.32 Q84.7976 1099.19 82.9689 1095.64 Q81.1633 1092.08 77.5291 1092.08 M77.5291 1088.38 Q83.3392 1088.38 86.3948 1092.98 Q89.4735 1097.57 89.4735 1106.32 Q89.4735 1115.04 86.3948 1119.65 Q83.3392 1124.23 77.5291 1124.23 Q71.7189 1124.23 68.6402 1119.65 Q65.5847 1115.04 65.5847 1106.32 Q65.5847 1097.57 68.6402 1092.98 Q71.7189 1088.38 77.5291 1088.38 Z\" fill=\"#000000\" fill-rule=\"evenodd\" fill-opacity=\"1\" /><path clip-path=\"url(#clip360)\" d=\"M 0 0 M94.5429 1117.68 L99.4271 1117.68 L99.4271 1123.56 L94.5429 1123.56 L94.5429 1117.68 Z\" fill=\"#000000\" fill-rule=\"evenodd\" fill-opacity=\"1\" /><path clip-path=\"url(#clip360)\" d=\"M 0 0 M108.524 1119.63 L124.844 1119.63 L124.844 1123.56 L102.899 1123.56 L102.899 1119.63 Q105.561 1116.87 110.145 1112.24 Q114.751 1107.59 115.932 1106.25 Q118.177 1103.72 119.057 1101.99 Q119.959 1100.23 119.959 1098.54 Q119.959 1095.78 118.015 1094.05 Q116.094 1092.31 112.992 1092.31 Q110.793 1092.31 108.339 1093.07 Q105.909 1093.84 103.131 1095.39 L103.131 1090.67 Q105.955 1089.53 108.409 1088.95 Q110.862 1088.38 112.899 1088.38 Q118.27 1088.38 121.464 1091.06 Q124.658 1093.75 124.658 1098.24 Q124.658 1100.37 123.848 1102.29 Q123.061 1104.19 120.955 1106.78 Q120.376 1107.45 117.274 1110.67 Q114.172 1113.86 108.524 1119.63 Z\" fill=\"#000000\" fill-rule=\"evenodd\" fill-opacity=\"1\" /><path clip-path=\"url(#clip360)\" d=\"M 0 0 M129.959 1089 L148.316 1089 L148.316 1092.94 L134.242 1092.94 L134.242 1101.41 Q135.26 1101.06 136.279 1100.9 Q137.297 1100.71 138.316 1100.71 Q144.103 1100.71 147.482 1103.89 Q150.862 1107.06 150.862 1112.47 Q150.862 1118.05 147.39 1121.15 Q143.918 1124.23 137.598 1124.23 Q135.422 1124.23 133.154 1123.86 Q130.908 1123.49 128.501 1122.75 L128.501 1118.05 Q130.584 1119.19 132.807 1119.74 Q135.029 1120.3 137.506 1120.3 Q141.51 1120.3 143.848 1118.19 Q146.186 1116.08 146.186 1112.47 Q146.186 1108.86 143.848 1106.76 Q141.51 1104.65 137.506 1104.65 Q135.631 1104.65 133.756 1105.07 Q131.904 1105.48 129.959 1106.36 L129.959 1089 Z\" fill=\"#000000\" fill-rule=\"evenodd\" fill-opacity=\"1\" /><path clip-path=\"url(#clip360)\" d=\"M 0 0 M75.9319 752.645 Q72.3208 752.645 70.4921 756.209 Q68.6865 759.751 68.6865 766.881 Q68.6865 773.987 70.4921 777.552 Q72.3208 781.094 75.9319 781.094 Q79.5661 781.094 81.3717 777.552 Q83.2004 773.987 83.2004 766.881 Q83.2004 759.751 81.3717 756.209 Q79.5661 752.645 75.9319 752.645 M75.9319 748.941 Q81.742 748.941 84.7976 753.547 Q87.8763 758.131 87.8763 766.881 Q87.8763 775.608 84.7976 780.214 Q81.742 784.797 75.9319 784.797 Q70.1217 784.797 67.043 780.214 Q63.9875 775.608 63.9875 766.881 Q63.9875 758.131 67.043 753.547 Q70.1217 748.941 75.9319 748.941 Z\" fill=\"#000000\" fill-rule=\"evenodd\" fill-opacity=\"1\" /><path clip-path=\"url(#clip360)\" d=\"M 0 0 M92.9457 778.246 L97.8299 778.246 L97.8299 784.126 L92.9457 784.126 L92.9457 778.246 Z\" fill=\"#000000\" fill-rule=\"evenodd\" fill-opacity=\"1\" /><path clip-path=\"url(#clip360)\" d=\"M 0 0 M102.946 749.566 L121.302 749.566 L121.302 753.501 L107.228 753.501 L107.228 761.973 Q108.247 761.626 109.265 761.464 Q110.284 761.279 111.302 761.279 Q117.089 761.279 120.469 764.45 Q123.848 767.621 123.848 773.038 Q123.848 778.617 120.376 781.719 Q116.904 784.797 110.584 784.797 Q108.409 784.797 106.14 784.427 Q103.895 784.057 101.487 783.316 L101.487 778.617 Q103.571 779.751 105.793 780.307 Q108.015 780.862 110.492 780.862 Q114.496 780.862 116.834 778.756 Q119.172 776.649 119.172 773.038 Q119.172 769.427 116.834 767.321 Q114.496 765.214 110.492 765.214 Q108.617 765.214 106.742 765.631 Q104.89 766.047 102.946 766.927 L102.946 749.566 Z\" fill=\"#000000\" fill-rule=\"evenodd\" fill-opacity=\"1\" /><path clip-path=\"url(#clip360)\" d=\"M 0 0 M138.918 752.645 Q135.307 752.645 133.478 756.209 Q131.672 759.751 131.672 766.881 Q131.672 773.987 133.478 777.552 Q135.307 781.094 138.918 781.094 Q142.552 781.094 144.357 777.552 Q146.186 773.987 146.186 766.881 Q146.186 759.751 144.357 756.209 Q142.552 752.645 138.918 752.645 M138.918 748.941 Q144.728 748.941 147.783 753.547 Q150.862 758.131 150.862 766.881 Q150.862 775.608 147.783 780.214 Q144.728 784.797 138.918 784.797 Q133.107 784.797 130.029 780.214 Q126.973 775.608 126.973 766.881 Q126.973 758.131 130.029 753.547 Q133.107 748.941 138.918 748.941 Z\" fill=\"#000000\" fill-rule=\"evenodd\" fill-opacity=\"1\" /><path clip-path=\"url(#clip360)\" d=\"M 0 0 M76.8346 413.21 Q73.2236 413.21 71.3949 416.775 Q69.5893 420.316 69.5893 427.446 Q69.5893 434.552 71.3949 438.117 Q73.2236 441.659 76.8346 441.659 Q80.4689 441.659 82.2744 438.117 Q84.1031 434.552 84.1031 427.446 Q84.1031 420.316 82.2744 416.775 Q80.4689 413.21 76.8346 413.21 M76.8346 409.506 Q82.6448 409.506 85.7003 414.113 Q88.779 418.696 88.779 427.446 Q88.779 436.173 85.7003 440.779 Q82.6448 445.362 76.8346 445.362 Q71.0245 445.362 67.9458 440.779 Q64.8903 436.173 64.8903 427.446 Q64.8903 418.696 67.9458 414.113 Q71.0245 409.506 76.8346 409.506 Z\" fill=\"#000000\" fill-rule=\"evenodd\" fill-opacity=\"1\" /><path clip-path=\"url(#clip360)\" d=\"M 0 0 M93.8484 438.812 L98.7327 438.812 L98.7327 444.691 L93.8484 444.691 L93.8484 438.812 Z\" fill=\"#000000\" fill-rule=\"evenodd\" fill-opacity=\"1\" /><path clip-path=\"url(#clip360)\" d=\"M 0 0 M102.622 410.131 L124.844 410.131 L124.844 412.122 L112.297 444.691 L107.413 444.691 L119.219 414.066 L102.622 414.066 L102.622 410.131 Z\" fill=\"#000000\" fill-rule=\"evenodd\" fill-opacity=\"1\" /><path clip-path=\"url(#clip360)\" d=\"M 0 0 M129.959 410.131 L148.316 410.131 L148.316 414.066 L134.242 414.066 L134.242 422.538 Q135.26 422.191 136.279 422.029 Q137.297 421.844 138.316 421.844 Q144.103 421.844 147.482 425.015 Q150.862 428.187 150.862 433.603 Q150.862 439.182 147.39 442.284 Q143.918 445.362 137.598 445.362 Q135.422 445.362 133.154 444.992 Q130.908 444.622 128.501 443.881 L128.501 439.182 Q130.584 440.316 132.807 440.872 Q135.029 441.427 137.506 441.427 Q141.51 441.427 143.848 439.321 Q146.186 437.214 146.186 433.603 Q146.186 429.992 143.848 427.886 Q141.51 425.779 137.506 425.779 Q135.631 425.779 133.756 426.196 Q131.904 426.613 129.959 427.492 L129.959 410.131 Z\" fill=\"#000000\" fill-rule=\"evenodd\" fill-opacity=\"1\" /><path clip-path=\"url(#clip360)\" d=\"M 0 0 M66.9736 101.321 L74.6124 101.321 L74.6124 74.9555 L66.3023 76.6222 L66.3023 72.3629 L74.5661 70.6963 L79.242 70.6963 L79.242 101.321 L86.8809 101.321 L86.8809 105.256 L66.9736 105.256 L66.9736 101.321 Z\" fill=\"#000000\" fill-rule=\"evenodd\" fill-opacity=\"1\" /><path clip-path=\"url(#clip360)\" d=\"M 0 0 M91.9503 99.3767 L96.8345 99.3767 L96.8345 105.256 L91.9503 105.256 L91.9503 99.3767 Z\" fill=\"#000000\" fill-rule=\"evenodd\" fill-opacity=\"1\" /><path clip-path=\"url(#clip360)\" d=\"M 0 0 M111.904 73.775 Q108.293 73.775 106.464 77.3398 Q104.659 80.8814 104.659 88.011 Q104.659 95.1174 106.464 98.6822 Q108.293 102.224 111.904 102.224 Q115.538 102.224 117.344 98.6822 Q119.172 95.1174 119.172 88.011 Q119.172 80.8814 117.344 77.3398 Q115.538 73.775 111.904 73.775 M111.904 70.0713 Q117.714 70.0713 120.77 74.6777 Q123.848 79.261 123.848 88.011 Q123.848 96.7378 120.77 101.344 Q117.714 105.928 111.904 105.928 Q106.094 105.928 103.015 101.344 Q99.9595 96.7378 99.9595 88.011 Q99.9595 79.261 103.015 74.6777 Q106.094 70.0713 111.904 70.0713 Z\" fill=\"#000000\" fill-rule=\"evenodd\" fill-opacity=\"1\" /><path clip-path=\"url(#clip360)\" d=\"M 0 0 M138.918 73.775 Q135.307 73.775 133.478 77.3398 Q131.672 80.8814 131.672 88.011 Q131.672 95.1174 133.478 98.6822 Q135.307 102.224 138.918 102.224 Q142.552 102.224 144.357 98.6822 Q146.186 95.1174 146.186 88.011 Q146.186 80.8814 144.357 77.3398 Q142.552 73.775 138.918 73.775 M138.918 70.0713 Q144.728 70.0713 147.783 74.6777 Q150.862 79.261 150.862 88.011 Q150.862 96.7378 147.783 101.344 Q144.728 105.928 138.918 105.928 Q133.107 105.928 130.029 101.344 Q126.973 96.7378 126.973 88.011 Q126.973 79.261 130.029 74.6777 Q133.107 70.0713 138.918 70.0713 Z\" fill=\"#000000\" fill-rule=\"evenodd\" fill-opacity=\"1\" /><polyline clip-path=\"url(#clip362)\" style=\"stroke:#009af9; stroke-width:4; stroke-opacity:1; fill:none\" points=\"\n",
       "  236.501,1445.72 441.962,1418.56 647.424,1391.41 852.886,1309.94 1058.35,1228.48 1263.81,1092.7 1469.27,956.93 1674.73,766.846 1880.19,576.762 2085.66,332.369 \n",
       "  2291.12,87.9763 \n",
       "  \"/>\n",
       "<polyline clip-path=\"url(#clip362)\" style=\"stroke:#e26f46; stroke-width:4; stroke-opacity:1; fill:none\" points=\"\n",
       "  236.501,1445.72 441.962,1444.36 647.424,1440.28 852.886,1430.78 1058.35,1413.13 1263.81,1384.62 1469.27,1342.53 1674.73,1284.14 1880.19,1206.75 2085.66,1107.64 \n",
       "  2291.12,984.084 \n",
       "  \"/>\n",
       "<path clip-path=\"url(#clip360)\" d=\"\n",
       "M1951.27 312.204 L2280.76 312.204 L2280.76 130.764 L1951.27 130.764  Z\n",
       "  \" fill=\"#ffffff\" fill-rule=\"evenodd\" fill-opacity=\"1\"/>\n",
       "<polyline clip-path=\"url(#clip360)\" style=\"stroke:#000000; stroke-width:4; stroke-opacity:1; fill:none\" points=\"\n",
       "  1951.27,312.204 2280.76,312.204 2280.76,130.764 1951.27,130.764 1951.27,312.204 \n",
       "  \"/>\n",
       "<polyline clip-path=\"url(#clip360)\" style=\"stroke:#009af9; stroke-width:4; stroke-opacity:1; fill:none\" points=\"\n",
       "  1975.27,191.244 2119.27,191.244 \n",
       "  \"/>\n",
       "<path clip-path=\"url(#clip360)\" d=\"M 0 0 M2159.77 172.506 L2159.77 176.047 L2155.7 176.047 Q2153.4 176.047 2152.5 176.973 Q2151.62 177.899 2151.62 180.307 L2151.62 182.598 L2158.64 182.598 L2158.64 185.908 L2151.62 185.908 L2151.62 208.524 L2147.34 208.524 L2147.34 185.908 L2143.27 185.908 L2143.27 182.598 L2147.34 182.598 L2147.34 180.793 Q2147.34 176.464 2149.35 174.496 Q2151.37 172.506 2155.74 172.506 L2159.77 172.506 Z\" fill=\"#000000\" fill-rule=\"evenodd\" fill-opacity=\"1\" /><polyline clip-path=\"url(#clip360)\" style=\"stroke:#e26f46; stroke-width:4; stroke-opacity:1; fill:none\" points=\"\n",
       "  1975.27,251.724 2119.27,251.724 \n",
       "  \"/>\n",
       "<path clip-path=\"url(#clip360)\" d=\"M 0 0 M2143.27 243.078 L2147.52 243.078 L2147.52 269.004 L2143.27 269.004 L2143.27 243.078 M2143.27 232.986 L2147.52 232.986 L2147.52 238.379 L2143.27 238.379 L2143.27 232.986 Z\" fill=\"#000000\" fill-rule=\"evenodd\" fill-opacity=\"1\" /><path clip-path=\"url(#clip360)\" d=\"M 0 0 M2173.54 253.356 L2173.54 269.004 L2169.28 269.004 L2169.28 253.495 Q2169.28 249.814 2167.85 247.986 Q2166.41 246.157 2163.54 246.157 Q2160.09 246.157 2158.1 248.356 Q2156.11 250.555 2156.11 254.351 L2156.11 269.004 L2151.83 269.004 L2151.83 243.078 L2156.11 243.078 L2156.11 247.106 Q2157.64 244.768 2159.7 243.611 Q2161.78 242.453 2164.49 242.453 Q2168.96 242.453 2171.25 245.231 Q2173.54 247.986 2173.54 253.356 Z\" fill=\"#000000\" fill-rule=\"evenodd\" fill-opacity=\"1\" /><path clip-path=\"url(#clip360)\" d=\"M 0 0 M2182.22 235.717 L2182.22 243.078 L2191 243.078 L2191 246.388 L2182.22 246.388 L2182.22 260.462 Q2182.22 263.634 2183.08 264.537 Q2183.96 265.439 2186.62 265.439 L2191 265.439 L2191 269.004 L2186.62 269.004 Q2181.69 269.004 2179.82 267.175 Q2177.94 265.324 2177.94 260.462 L2177.94 246.388 L2174.82 246.388 L2174.82 243.078 L2177.94 243.078 L2177.94 235.717 L2182.22 235.717 Z\" fill=\"#000000\" fill-rule=\"evenodd\" fill-opacity=\"1\" /><path clip-path=\"url(#clip360)\" d=\"M 0 0 M2215.16 276.874 L2215.16 280.185 L2190.53 280.185 L2190.53 276.874 L2215.16 276.874 Z\" fill=\"#000000\" fill-rule=\"evenodd\" fill-opacity=\"1\" /><path clip-path=\"url(#clip360)\" d=\"M 0 0 M2232.76 232.986 L2232.76 236.527 L2228.68 236.527 Q2226.39 236.527 2225.49 237.453 Q2224.61 238.379 2224.61 240.787 L2224.61 243.078 L2231.62 243.078 L2231.62 246.388 L2224.61 246.388 L2224.61 269.004 L2220.33 269.004 L2220.33 246.388 L2216.25 246.388 L2216.25 243.078 L2220.33 243.078 L2220.33 241.273 Q2220.33 236.944 2222.34 234.976 Q2224.35 232.986 2228.73 232.986 L2232.76 232.986 Z\" fill=\"#000000\" fill-rule=\"evenodd\" fill-opacity=\"1\" /></svg>\n"
      ]
     },
     "execution_count": 36,
     "metadata": {},
     "output_type": "execute_result"
    }
   ],
   "source": [
    "using Interpolations\n",
    "x = 0.0:0.2:1.0\n",
    "f(x) = x^2\n",
    "f_int = LinearInterpolation(x, f.(x))  # interpolates the coarse grid\n",
    "@show f_int(1.0)  # call like a function\n",
    "\n",
    "plotfunctions(f_int)  # same generic function"
   ]
  },
  {
   "cell_type": "markdown",
   "metadata": {},
   "source": [
    "Note that the same generic `plotfunctions` could use any variable passed to it that “looks” like a function, i.e., can call `f(x)`.\n",
    "\n",
    "This approach to design with types – generic, but without any specific type declarations – is called [duck typing](https://en.wikipedia.org/wiki/Duck_typing).\n",
    "\n",
    "If you need to make an existing type callable, see [Function Like Objects](https://docs.julialang.org/en/v1/manual/methods/#Function-like-objects-1)."
   ]
  },
  {
   "cell_type": "markdown",
   "metadata": {},
   "source": [
    "## Limitations of Dispatching on Abstract Types\n",
    "\n",
    "You will notice that types in Julia represent a tree with `Any` at the root.\n",
    "\n",
    "The tree structure has worked well for the above examples, but it doesn’t allow us to associate multiple categorizations of types.\n",
    "\n",
    "For example, a semi-group type would be useful for a writing generic code (e.g.\n",
    "continuous-time solutions for ODEs and matrix-free methods), but cannot be\n",
    "implemented rigorously since the `Matrix` type is a semi-group as well\n",
    "as an `AbstractArray`, but not all semi-groups are `AbstractArray` s.\n",
    "\n",
    "The main way to implement this in a generic language is with a design approach called “traits”.\n",
    "\n",
    "- See the [original discussion](https://github.com/JuliaLang/julia/issues/2345#issuecomment-54537633) and an [example of a package to facilitate the pattern](https://github.com/mauro3/SimpleTraits.jl).  \n",
    "- A complete description of the traits pattern as the natural evolution of Multiple Dispatch is given in this [blog post](https://white.ucc.asn.au/2018/10/03/Dispatch,-Traits-and-Metaprogramming-Over-Reflection.html).  "
   ]
  },
  {
   "cell_type": "markdown",
   "metadata": {},
   "source": [
    "## Exercises"
   ]
  },
  {
   "cell_type": "markdown",
   "metadata": {},
   "source": [
    "### Exercise 1a\n",
    "\n",
    "In a previous exercise, we discussed the [trapezoidal rule](../getting_started_julia/introduction_to_types.html#intro-types-ex-5) for numerical integration.\n",
    "\n",
    "To summarize, the vector\n",
    "\n",
    "$$\n",
    "\\int_{\\underline{x}}^{\\bar{x}} f(x) \\, dx \\approx \\omega \\cdot \\vec{f}\n",
    "$$\n",
    "\n",
    "where $ \\vec{f} \\equiv \\begin{bmatrix} f(x_1) & \\ldots & f(x_N) \\end{bmatrix}\\in R^N $ and, for a uniform grid spacing\n",
    "of $ \\Delta $,\n",
    "\n",
    "$$\n",
    "\\omega \\equiv \\Delta \\begin{bmatrix} \\frac{1}{2} & 1 & \\ldots & 1 & \\frac{1}{2}\\end{bmatrix} \\in R^N\n",
    "$$\n",
    "\n",
    "The quadrature rule can be implemented easily as"
   ]
  },
  {
   "cell_type": "code",
   "execution_count": 37,
   "metadata": {
    "hide-output": false
   },
   "outputs": [
    {
     "data": {
      "text/plain": [
       "0.3333503384008434"
      ]
     },
     "execution_count": 37,
     "metadata": {},
     "output_type": "execute_result"
    }
   ],
   "source": [
    "using LinearAlgebra\n",
    "function trap_weights(x)\n",
    "    return step(x) * [0.5; ones(length(x) - 2); 0.5]\n",
    "end\n",
    "x = range(0.0, 1.0, length = 100)\n",
    "ω = trap_weights(x)\n",
    "f(x) = x^2\n",
    "dot(f.(x), ω)"
   ]
  },
  {
   "cell_type": "markdown",
   "metadata": {},
   "source": [
    "However, in this case the creation of the `ω` temporary is inefficient as there are no reasons to allocate an entire vector just\n",
    "to iterate through it with the `dot`.  Instead, create an iterable by following the [interface definition for Iteration](https://docs.julialang.org/en/v1/manual/interfaces/#man-interface-iteration-1), and\n",
    "implement the modified `trap_weights` and integration.\n",
    "\n",
    "Hint:  create a type such as"
   ]
  },
  {
   "cell_type": "code",
   "execution_count": 38,
   "metadata": {
    "hide-output": false
   },
   "outputs": [],
   "source": [
    "struct UniformTrapezoidal\n",
    "    count::Int\n",
    "    Δ::Float64\n",
    "end"
   ]
  },
  {
   "cell_type": "markdown",
   "metadata": {},
   "source": [
    "and then implement the function `Base.iterate(S::UniformTrapezoidal, state=1)`."
   ]
  },
  {
   "cell_type": "markdown",
   "metadata": {},
   "source": [
    "### Exercise 1b (Advanced)\n",
    "\n",
    "Make the `UniformTrapezoidal` type operate as an array with [interface definition for AbstractArray](https://docs.julialang.org/en/v1/manual/interfaces/#man-interface-array-1).  With this, you should be able it go `ω[2]` or `length(ω)` to access the quadrature weights."
   ]
  },
  {
   "cell_type": "markdown",
   "metadata": {},
   "source": [
    "### Exercise 2 (Advanced)\n",
    "\n",
    "Implement the same features as Exercise 1a and 1b, but for the  [non-uniform trapezoidal rule](https://en.wikipedia.org/wiki/Trapezoidal_rule#Non-uniform_grid)."
   ]
  }
 ],
 "metadata": {
  "date": 1589950445.8800304,
  "download_nb": 1,
  "download_nb_path": "https://julia.quantecon.org/",
  "filename": "generic_programming.rst",
  "filename_with_path": "more_julia/generic_programming",
  "kernelspec": {
   "display_name": "Julia 1.4.1",
   "language": "julia",
   "name": "julia-1.4"
  },
  "language_info": {
   "file_extension": ".jl",
   "mimetype": "application/julia",
   "name": "julia",
   "version": "1.4.1"
  },
  "title": "Generic Programming"
 },
 "nbformat": 4,
 "nbformat_minor": 2
}
