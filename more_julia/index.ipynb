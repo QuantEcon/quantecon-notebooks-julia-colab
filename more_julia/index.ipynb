{
 "cells": [
  {
   "cell_type": "markdown",
   "metadata": {},
   "source": [
    "\n",
    "<a id='more-julia'></a>\n",
    "<div id=\"qe-notebook-header\" style=\"text-align:right;\">\n",
    "        <a href=\"https://quantecon.org/\" title=\"quantecon.org\">\n",
    "                <img style=\"width:250px;display:inline;\" src=\"https://assets.quantecon.org/img/qe-menubar-logo.svg\" alt=\"QuantEcon\">\n",
    "        </a>\n",
    "</div>"
   ]
  },
  {
   "cell_type": "markdown",
   "metadata": {},
   "source": [
    "# Packages and Software Engineering in Julia\n",
    "\n",
    "This part of the course provides more details on the Julia programming language, its ecosystem, and core software engineering tools."
   ]
  },
  {
   "cell_type": "markdown",
   "metadata": {},
   "source": [
    "## Colab Instructions\n",
    "\n",
    "1. Load the notebook using the launcher at the bottom of the page, and ignore any errors about a missing kernel. \n",
    "\n",
    "2. Run the cell below this one in the notebook. It might take 3 to 5 minutes. \n",
    "\n",
    "3. In the top menu, click \"Edit,\" then \"Notebook Settings,\" and then choose \"Julia 1.4\" as your runtime. Hit \"Save.\"\n",
    "\n",
    "4. To test your setup, run a Julia command in the window (something like `versioninfo()`.) If it doesn't work, try refreshing your browser window in between steps (2) and (3).\n",
    "\n"
   ]
  },
  {
   "cell_type": "code",
   "execution_count": null,
   "metadata": {},
   "outputs": [],
   "source": [
    "%%shell\n",
    "if ! command -v julia 3>&1 > /dev/null\n",
    "then\n",
    "    wget 'https://julialang-s3.julialang.org/bin/linux/x64/1.4/julia-1.4.1-linux-x86_64.tar.gz' \\\n",
    "        -O /tmp/julia.tar.gz\n",
    "    tar -x -f /tmp/julia.tar.gz -C /usr/local --strip-components 1\n",
    "    rm /tmp/julia.tar.gz\n",
    "fi\n",
    "julia -e 'using Pkg; pkg\"add IJulia InstantiateFromURL; precompile;\"'\n",
    "julia -e 'using InstantiateFromURL; github_project(\"QuantEcon/quantecon-notebooks-julia\", instantiate = true, precompile = false)'\n",
    "echo 'Done'\n"
   ]
  },
  {
   "cell_type": "markdown",
   "metadata": {},
   "source": [
    "## Lectures\n",
    "\n",
    "- [Generic Programming](generic_programming.ipynb)\n",
    "  - [Overview](generic_programming.ipynb#overview)\n",
    "  - [Exploring Type Trees](generic_programming.ipynb#exploring-type-trees)\n",
    "  - [Distributions](generic_programming.ipynb#distributions)\n",
    "  - [Numbers and Algebraic Structures](generic_programming.ipynb#numbers-and-algebraic-structures)\n",
    "  - [Reals and Algebraic Structures](generic_programming.ipynb#reals-and-algebraic-structures)\n",
    "  - [Functions, and Function-Like Types](generic_programming.ipynb#functions-and-function-like-types)\n",
    "  - [Limitations of Dispatching on Abstract Types](generic_programming.ipynb#limitations-of-dispatching-on-abstract-types)\n",
    "  - [Exercises](generic_programming.ipynb#exercises)\n",
    "- [General Purpose Packages](general_packages.ipynb)\n",
    "  - [Overview](general_packages.ipynb#overview)\n",
    "  - [Numerical Integration](general_packages.ipynb#numerical-integration)\n",
    "  - [Interpolation](general_packages.ipynb#interpolation)\n",
    "  - [Linear Algebra](general_packages.ipynb#linear-algebra)\n",
    "  - [General Tools](general_packages.ipynb#general-tools)\n",
    "- [Data and Statistics Packages](data_statistical_packages.ipynb)\n",
    "  - [Overview](data_statistical_packages.ipynb#overview)\n",
    "  - [DataFrames](data_statistical_packages.ipynb#dataframes)\n",
    "  - [Statistics and Econometrics](data_statistical_packages.ipynb#statistics-and-econometrics)\n",
    "- [Solvers, Optimizers, and Automatic Differentiation](optimization_solver_packages.ipynb)\n",
    "  - [Overview](optimization_solver_packages.ipynb#overview)\n",
    "  - [Introduction to Differentiable Programming](optimization_solver_packages.ipynb#introduction-to-differentiable-programming)\n",
    "  - [Optimization](optimization_solver_packages.ipynb#optimization)\n",
    "  - [Systems of Equations and Least Squares](optimization_solver_packages.ipynb#systems-of-equations-and-least-squares)\n",
    "  - [LeastSquaresOptim.jl](optimization_solver_packages.ipynb#leastsquaresoptim-jl)\n",
    "  - [Additional Notes](optimization_solver_packages.ipynb#additional-notes)\n",
    "  - [Exercises](optimization_solver_packages.ipynb#exercises)\n",
    "- [Julia Tools and Editors](tools_editors.ipynb)\n",
    "  - [Preliminary Setup](tools_editors.ipynb#preliminary-setup)\n",
    "  - [The REPL](tools_editors.ipynb#the-repl)\n",
    "  - [Atom](tools_editors.ipynb#atom)\n",
    "  - [Package Environments](tools_editors.ipynb#package-environments)\n",
    "- [Git, GitHub, and Version Control](version_control.ipynb)\n",
    "  - [Setup](version_control.ipynb#setup)\n",
    "  - [Basic Objects](version_control.ipynb#basic-objects)\n",
    "  - [Individual Workflow](version_control.ipynb#individual-workflow)\n",
    "  - [Collaborative Work](version_control.ipynb#collaborative-work)\n",
    "  - [Collaboration via Pull Request](version_control.ipynb#collaboration-via-pull-request)\n",
    "  - [Additional Resources and Troubleshooting](version_control.ipynb#additional-resources-and-troubleshooting)\n",
    "  - [Exercises](version_control.ipynb#exercises)\n",
    "- [Packages, Testing, and Continuous Integration](testing.ipynb)\n",
    "  - [Project Setup](testing.ipynb#project-setup)\n",
    "  - [Project Structure](testing.ipynb#project-structure)\n",
    "  - [Project Workflow](testing.ipynb#project-workflow)\n",
    "  - [Unit Testing](testing.ipynb#unit-testing)\n",
    "  - [Continuous Integration with Travis](testing.ipynb#continuous-integration-with-travis)\n",
    "  - [Code Coverage](testing.ipynb#code-coverage)\n",
    "  - [Pull Requests to External Julia Projects](testing.ipynb#pull-requests-to-external-julia-projects)\n",
    "  - [Benchmarking](testing.ipynb#benchmarking)\n",
    "  - [Additional Notes](testing.ipynb#additional-notes)\n",
    "  - [Review](testing.ipynb#review)\n",
    "  - [Exercises](testing.ipynb#exercises)\n",
    "- [The Need for Speed](need_for_speed.ipynb)\n",
    "  - [Overview](need_for_speed.ipynb#overview)\n",
    "  - [Understanding Multiple Dispatch in Julia](need_for_speed.ipynb#understanding-multiple-dispatch-in-julia)\n",
    "  - [Foundations](need_for_speed.ipynb#foundations)\n",
    "  - [JIT Compilation in Julia](need_for_speed.ipynb#jit-compilation-in-julia)\n",
    "  - [Fast and Slow Julia Code](need_for_speed.ipynb#fast-and-slow-julia-code)\n",
    "  - [Further Comments](need_for_speed.ipynb#further-comments)"
   ]
  }
 ],
 "metadata": {
  "date": 1589493422.27949,
  "filename": "index.rst",
  "kernelspec": {
   "display_name": "Julia 1.4.1",
   "language": "julia",
   "name": "julia-1.4"
  },
  "title": "Packages and Software Engineering in Julia"
 },
 "nbformat": 4,
 "nbformat_minor": 4
}
