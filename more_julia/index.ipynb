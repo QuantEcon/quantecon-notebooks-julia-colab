{
 "cells": [
  {
   "cell_type": "markdown",
   "metadata": {},
   "source": [
    "\n",
    "<a id='more-julia'></a>\n",
    "<div id=\"qe-notebook-header\" style=\"text-align:right;\">\n",
    "        <a href=\"https://quantecon.org/\" title=\"quantecon.org\">\n",
    "                <img style=\"width:250px;display:inline;\" src=\"https://assets.quantecon.org/img/qe-menubar-logo.svg\" alt=\"QuantEcon\">\n",
    "        </a>\n",
    "</div>"
   ]
  },
  {
   "cell_type": "markdown",
   "metadata": {},
   "source": [
    "# Packages and Software Engineering in Julia\n",
    "\n",
    "This part of the course provides more details on the Julia programming language, its ecosystem, and core software engineering tools."
   ]
  },
  {
   "cell_type": "markdown",
   "metadata": {},
   "source": [
    "## Colab Instructions\n",
    "\n",
    "Colab does not have direct Julia support, and it must be installed each time you are working on a notebook.  \n",
    "\n",
    "Instructions:\n",
    "\n",
    "1. Ignore any errors about a missing kernel when loading the notebook.  Choose `Run Anyway` when it prompts that the notebook wasn't authored by google.\n",
    "\n",
    "2. Run the cell below this with `Shift+Enter`.\n",
    "    -  It will **5 to 8 minutes** the first time you run it for Julia and key packages to install\n",
    "\n",
    "3. Refresh your browser, and then execute any code as normal.\n",
    "  - Even after installation, there will be more precompiling latency for some packages. "
   ]
  },
  {
   "cell_type": "code",
   "execution_count": null,
   "metadata": {},
   "outputs": [],
   "source": [
    "%%shell\n",
    "if ! command -v julia 3>&1 > /dev/null\n",
    "then\n",
    "    wget 'https://julialang-s3.julialang.org/bin/linux/x64/1.4/julia-1.4.2-linux-x86_64.tar.gz' \\\n",
    "        -O /tmp/julia.tar.gz\n",
    "    tar -x -f /tmp/julia.tar.gz -C /usr/local --strip-components 1\n",
    "    rm /tmp/julia.tar.gz\n",
    "    julia -e 'using Pkg; pkg\"add IJulia InstantiateFromURL; precompile;\"'\n",
    "    julia -e 'using InstantiateFromURL; github_project(\"QuantEcon/quantecon-notebooks-julia\", version = \"0.8.0\", instantiate = true, precompile = false); using Plots, Distributions, Parameters, NLsolve, ForwardDiff, Expectations'\n",
    "    echo 'Done'\n",
    "fi\n"
   ]
  },
  {
   "cell_type": "markdown",
   "metadata": {},
   "source": [
    "## Lectures\n",
    "\n",
    "- [Generic Programming](generic_programming.html)\n",
    "  - [Overview](generic_programming.html#overview)\n",
    "  - [Exploring Type Trees](generic_programming.html#exploring-type-trees)\n",
    "  - [Distributions](generic_programming.html#distributions)\n",
    "  - [Numbers and Algebraic Structures](generic_programming.html#numbers-and-algebraic-structures)\n",
    "  - [Reals and Algebraic Structures](generic_programming.html#reals-and-algebraic-structures)\n",
    "  - [Functions, and Function-Like Types](generic_programming.html#functions-and-function-like-types)\n",
    "  - [Limitations of Dispatching on Abstract Types](generic_programming.html#limitations-of-dispatching-on-abstract-types)\n",
    "  - [Exercises](generic_programming.html#exercises)\n",
    "- [General Purpose Packages](general_packages.html)\n",
    "  - [Overview](general_packages.html#overview)\n",
    "  - [Numerical Integration](general_packages.html#numerical-integration)\n",
    "  - [Interpolation](general_packages.html#interpolation)\n",
    "  - [Linear Algebra](general_packages.html#linear-algebra)\n",
    "  - [General Tools](general_packages.html#general-tools)\n",
    "- [Data and Statistics Packages](data_statistical_packages.html)\n",
    "  - [Overview](data_statistical_packages.html#overview)\n",
    "  - [DataFrames](data_statistical_packages.html#dataframes)\n",
    "  - [Statistics and Econometrics](data_statistical_packages.html#statistics-and-econometrics)\n",
    "- [Solvers, Optimizers, and Automatic Differentiation](optimization_solver_packages.html)\n",
    "  - [Overview](optimization_solver_packages.html#overview)\n",
    "  - [Introduction to Differentiable Programming](optimization_solver_packages.html#introduction-to-differentiable-programming)\n",
    "  - [Optimization](optimization_solver_packages.html#optimization)\n",
    "  - [Systems of Equations and Least Squares](optimization_solver_packages.html#systems-of-equations-and-least-squares)\n",
    "  - [LeastSquaresOptim.jl](optimization_solver_packages.html#leastsquaresoptim-jl)\n",
    "  - [Additional Notes](optimization_solver_packages.html#additional-notes)\n",
    "  - [Exercises](optimization_solver_packages.html#exercises)\n",
    "- [Julia Tools and Editors](tools_editors.html)\n",
    "  - [Preliminary Setup](tools_editors.html#preliminary-setup)\n",
    "  - [The REPL](tools_editors.html#the-repl)\n",
    "  - [Atom](tools_editors.html#atom)\n",
    "  - [Package Environments](tools_editors.html#package-environments)\n",
    "- [Git, GitHub, and Version Control](version_control.html)\n",
    "  - [Setup](version_control.html#setup)\n",
    "  - [Basic Objects](version_control.html#basic-objects)\n",
    "  - [Individual Workflow](version_control.html#individual-workflow)\n",
    "  - [Collaborative Work](version_control.html#collaborative-work)\n",
    "  - [Collaboration via Pull Request](version_control.html#collaboration-via-pull-request)\n",
    "  - [Additional Resources and Troubleshooting](version_control.html#additional-resources-and-troubleshooting)\n",
    "  - [Exercises](version_control.html#exercises)\n",
    "- [Packages, Testing, and Continuous Integration](testing.html)\n",
    "  - [Project Setup](testing.html#project-setup)\n",
    "  - [Project Structure](testing.html#project-structure)\n",
    "  - [Project Workflow](testing.html#project-workflow)\n",
    "  - [Unit Testing](testing.html#unit-testing)\n",
    "  - [Continuous Integration with Travis](testing.html#continuous-integration-with-travis)\n",
    "  - [Code Coverage](testing.html#code-coverage)\n",
    "  - [Pull Requests to External Julia Projects](testing.html#pull-requests-to-external-julia-projects)\n",
    "  - [Benchmarking](testing.html#benchmarking)\n",
    "  - [Additional Notes](testing.html#additional-notes)\n",
    "  - [Review](testing.html#review)\n",
    "  - [Exercises](testing.html#exercises)\n",
    "- [The Need for Speed](need_for_speed.html)\n",
    "  - [Overview](need_for_speed.html#overview)\n",
    "  - [Understanding Multiple Dispatch in Julia](need_for_speed.html#understanding-multiple-dispatch-in-julia)\n",
    "  - [Foundations](need_for_speed.html#foundations)\n",
    "  - [JIT Compilation in Julia](need_for_speed.html#jit-compilation-in-julia)\n",
    "  - [Fast and Slow Julia Code](need_for_speed.html#fast-and-slow-julia-code)\n",
    "  - [Further Comments](need_for_speed.html#further-comments)"
   ]
  }
 ],
 "metadata": {
  "date": 1591310623.0665092,
  "download_nb": 1,
  "download_nb_path": "https://julia.quantecon.org/",
  "filename": "index.rst",
  "filename_with_path": "more_julia/index",
  "kernelspec": {
   "display_name": "Julia 1.4.2",
   "language": "julia",
   "name": "julia-1.4"
  },
  "language_info": {
   "file_extension": ".jl",
   "mimetype": "application/julia",
   "name": "julia",
   "version": "1.4.2"
  },
  "title": "Packages and Software Engineering in Julia"
 },
 "nbformat": 4,
 "nbformat_minor": 2
}
