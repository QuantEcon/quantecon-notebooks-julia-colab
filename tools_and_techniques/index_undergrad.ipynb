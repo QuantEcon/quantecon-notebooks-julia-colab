{
 "cells": [
  {
   "cell_type": "markdown",
   "metadata": {},
   "source": [
    "\n",
    "<a id='tools-and-techniques'></a>\n",
    "<div id=\"qe-notebook-header\" style=\"text-align:right;\">\n",
    "        <a href=\"https://quantecon.org/\" title=\"quantecon.org\">\n",
    "                <img style=\"width:250px;display:inline;\" src=\"https://assets.quantecon.org/img/qe-menubar-logo.svg\" alt=\"QuantEcon\">\n",
    "        </a>\n",
    "</div>"
   ]
  },
  {
   "cell_type": "markdown",
   "metadata": {},
   "source": [
    "# Tools and Techniques\n",
    "\n",
    "This section of the course contains foundational mathematical and statistical\n",
    "tools and techniques."
   ]
  },
  {
   "cell_type": "markdown",
   "metadata": {},
   "source": [
    "## Colab Instructions\n",
    "\n",
    "1. Load the notebook using the launcher at the bottom of the page, and ignore any errors about a missing kernel. \n",
    "\n",
    "2. Run the cell below this one in the notebook. It might take 3 to 5 minutes. \n",
    "\n",
    "3. In the top menu, click \"Edit,\" then \"Notebook Settings,\" and then choose \"Julia 1.4\" as your runtime. Hit \"Save.\"\n",
    "\n",
    "4. To test your setup, run a Julia command in the window (something like `versioninfo()`.) If it doesn't work, try refreshing your browser window in between steps (2) and (3).\n",
    "\n"
   ]
  },
  {
   "cell_type": "code",
   "execution_count": null,
   "metadata": {},
   "outputs": [],
   "source": [
    "%%shell\n",
    "if ! command -v julia 3>&1 > /dev/null\n",
    "then\n",
    "    wget 'https://julialang-s3.julialang.org/bin/linux/x64/1.4/julia-1.4.1-linux-x86_64.tar.gz' \\\n",
    "        -O /tmp/julia.tar.gz\n",
    "    tar -x -f /tmp/julia.tar.gz -C /usr/local --strip-components 1\n",
    "    rm /tmp/julia.tar.gz\n",
    "fi\n",
    "julia -e 'using Pkg; pkg\"add IJulia InstantiateFromURL; precompile;\"'\n",
    "julia -e 'using InstantiateFromURL; github_project(\"QuantEcon/quantecon-notebooks-julia\", instantiate = true, precompile = false)'\n",
    "echo 'Done'\n"
   ]
  },
  {
   "cell_type": "markdown",
   "metadata": {},
   "source": [
    "## Lectures\n",
    "\n",
    "- [Linear Algebra](linear_algebra.ipynb)\n",
    "  - [Overview](linear_algebra.ipynb#overview)\n",
    "  - [Vectors](linear_algebra.ipynb#vectors)\n",
    "  - [Matrices](linear_algebra.ipynb#matrices)\n",
    "  - [Solving Systems of Equations](linear_algebra.ipynb#solving-systems-of-equations)\n",
    "  - [Eigenvalues and Eigenvectors](linear_algebra.ipynb#eigenvalues-and-eigenvectors)\n",
    "  - [Further Topics](linear_algebra.ipynb#further-topics)\n",
    "  - [Exercises](linear_algebra.ipynb#exercises)\n",
    "  - [Solutions](linear_algebra.ipynb#solutions)\n",
    "- [LLN and CLT](lln_clt.ipynb)\n",
    "  - [Overview](lln_clt.ipynb#overview)\n",
    "  - [Relationships](lln_clt.ipynb#relationships)\n",
    "  - [LLN](lln_clt.ipynb#lln)\n",
    "  - [CLT](lln_clt.ipynb#clt)\n",
    "  - [Exercises](lln_clt.ipynb#exercises)\n",
    "  - [Solutions](lln_clt.ipynb#solutions)\n",
    "- [Linear State Space Models](linear_models.ipynb)\n",
    "  - [Overview](linear_models.ipynb#overview)\n",
    "  - [The Linear State Space Model](linear_models.ipynb#the-linear-state-space-model)\n",
    "  - [Distributions and Moments](linear_models.ipynb#distributions-and-moments)\n",
    "  - [Stationarity and Ergodicity](linear_models.ipynb#stationarity-and-ergodicity)\n",
    "  - [Noisy Observations](linear_models.ipynb#noisy-observations)\n",
    "  - [Prediction](linear_models.ipynb#prediction)\n",
    "  - [Code](linear_models.ipynb#code)\n",
    "  - [Exercises](linear_models.ipynb#exercises)\n",
    "  - [Solutions](linear_models.ipynb#solutions)\n",
    "- [Finite Markov Chains](finite_markov.ipynb)\n",
    "  - [Overview](finite_markov.ipynb#overview)\n",
    "  - [Definitions](finite_markov.ipynb#definitions)\n",
    "  - [Simulation](finite_markov.ipynb#simulation)\n",
    "  - [Marginal Distributions](finite_markov.ipynb#marginal-distributions)\n",
    "  - [Irreducibility and Aperiodicity](finite_markov.ipynb#irreducibility-and-aperiodicity)\n",
    "  - [Stationary Distributions](finite_markov.ipynb#stationary-distributions)\n",
    "  - [Ergodicity](finite_markov.ipynb#ergodicity)\n",
    "  - [Computing Expectations](finite_markov.ipynb#computing-expectations)\n",
    "  - [Exercises](finite_markov.ipynb#exercises)\n",
    "  - [Solutions](finite_markov.ipynb#solutions)\n",
    "- [A First Look at the Kalman Filter](kalman.ipynb)\n",
    "  - [Overview](kalman.ipynb#overview)\n",
    "  - [The Basic Idea](kalman.ipynb#the-basic-idea)\n",
    "  - [Convergence](kalman.ipynb#convergence)\n",
    "  - [Implementation](kalman.ipynb#implementation)\n",
    "  - [Exercises](kalman.ipynb#exercises)\n",
    "  - [Solutions](kalman.ipynb#solutions)"
   ]
  }
 ],
 "metadata": {
  "date": 1589493425.826281,
  "filename": "index_undergrad.rst",
  "kernelspec": {
   "display_name": "Julia 1.4.1",
   "language": "julia",
   "name": "julia-1.4"
  },
  "title": "Tools and Techniques"
 },
 "nbformat": 4,
 "nbformat_minor": 4
}
