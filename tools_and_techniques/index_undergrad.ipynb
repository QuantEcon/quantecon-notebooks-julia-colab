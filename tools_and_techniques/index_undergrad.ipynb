{
 "cells": [
  {
   "cell_type": "markdown",
   "metadata": {},
   "source": [
    "\n",
    "<a id='tools-and-techniques'></a>\n",
    "<div id=\"qe-notebook-header\" style=\"text-align:right;\">\n",
    "        <a href=\"https://quantecon.org/\" title=\"quantecon.org\">\n",
    "                <img style=\"width:250px;display:inline;\" src=\"https://assets.quantecon.org/img/qe-menubar-logo.svg\" alt=\"QuantEcon\">\n",
    "        </a>\n",
    "</div>"
   ]
  },
  {
   "cell_type": "markdown",
   "metadata": {},
   "source": [
    "# Tools and Techniques\n",
    "\n",
    "This section of the course contains foundational mathematical and statistical\n",
    "tools and techniques."
   ]
  },
  {
   "cell_type": "markdown",
   "metadata": {},
   "source": [
    "## Colab Instructions\n",
    "\n",
    "Colab does not have direct Julia support, and it must be installed each time you are working on a notebook.  \n",
    "\n",
    "Instructions:\n",
    "\n",
    "1. Ignore any errors about a missing kernel when loading the notebook.  Choose `Run Anyway` when it prompts that the notebook wasn't authored by google.\n",
    "\n",
    "2. Run the cell below this with `Shift+Enter`.\n",
    "    -  It will **5 to 8 minutes** the first time you run it for Julia and key packages to install\n",
    "\n",
    "3. Refresh your browser, and then execute any code as normal.\n",
    "  - Even after installation, there will be more precompiling latency for some packages. "
   ]
  },
  {
   "cell_type": "code",
   "execution_count": null,
   "metadata": {},
   "outputs": [],
   "source": [
    "%%shell\n",
    "if ! command -v julia 3>&1 > /dev/null\n",
    "then\n",
    "    wget 'https://julialang-s3.julialang.org/bin/linux/x64/1.4/julia-1.4.1-linux-x86_64.tar.gz' \\\n",
    "        -O /tmp/julia.tar.gz\n",
    "    tar -x -f /tmp/julia.tar.gz -C /usr/local --strip-components 1\n",
    "    rm /tmp/julia.tar.gz\n",
    "    julia -e 'using Pkg; pkg\"add IJulia InstantiateFromURL; precompile;\"'\n",
    "    julia -e 'using InstantiateFromURL; github_project(\"QuantEcon/quantecon-notebooks-julia\", version = \"0.7.0\", instantiate = true, precompile = false); using Plots, Distributions, Parameters, NLsolve, ForwardDiff, Expectations'\n",
    "    echo 'Done'\n",
    "fi\n"
   ]
  },
  {
   "cell_type": "markdown",
   "metadata": {},
   "source": [
    "## Lectures\n",
    "\n",
    "- [Linear Algebra](linear_algebra.html)\n",
    "  - [Overview](linear_algebra.html#overview)\n",
    "  - [Vectors](linear_algebra.html#vectors)\n",
    "  - [Matrices](linear_algebra.html#matrices)\n",
    "  - [Solving Systems of Equations](linear_algebra.html#solving-systems-of-equations)\n",
    "  - [Eigenvalues and Eigenvectors](linear_algebra.html#eigenvalues-and-eigenvectors)\n",
    "  - [Further Topics](linear_algebra.html#further-topics)\n",
    "  - [Exercises](linear_algebra.html#exercises)\n",
    "  - [Solutions](linear_algebra.html#solutions)\n",
    "- [LLN and CLT](lln_clt.html)\n",
    "  - [Overview](lln_clt.html#overview)\n",
    "  - [Relationships](lln_clt.html#relationships)\n",
    "  - [LLN](lln_clt.html#lln)\n",
    "  - [CLT](lln_clt.html#clt)\n",
    "  - [Exercises](lln_clt.html#exercises)\n",
    "  - [Solutions](lln_clt.html#solutions)\n",
    "- [Linear State Space Models](linear_models.html)\n",
    "  - [Overview](linear_models.html#overview)\n",
    "  - [The Linear State Space Model](linear_models.html#the-linear-state-space-model)\n",
    "  - [Distributions and Moments](linear_models.html#distributions-and-moments)\n",
    "  - [Stationarity and Ergodicity](linear_models.html#stationarity-and-ergodicity)\n",
    "  - [Noisy Observations](linear_models.html#noisy-observations)\n",
    "  - [Prediction](linear_models.html#prediction)\n",
    "  - [Code](linear_models.html#code)\n",
    "  - [Exercises](linear_models.html#exercises)\n",
    "  - [Solutions](linear_models.html#solutions)\n",
    "- [Finite Markov Chains](finite_markov.html)\n",
    "  - [Overview](finite_markov.html#overview)\n",
    "  - [Definitions](finite_markov.html#definitions)\n",
    "  - [Simulation](finite_markov.html#simulation)\n",
    "  - [Marginal Distributions](finite_markov.html#marginal-distributions)\n",
    "  - [Irreducibility and Aperiodicity](finite_markov.html#irreducibility-and-aperiodicity)\n",
    "  - [Stationary Distributions](finite_markov.html#stationary-distributions)\n",
    "  - [Ergodicity](finite_markov.html#ergodicity)\n",
    "  - [Computing Expectations](finite_markov.html#computing-expectations)\n",
    "  - [Exercises](finite_markov.html#exercises)\n",
    "  - [Solutions](finite_markov.html#solutions)\n",
    "- [A First Look at the Kalman Filter](kalman.html)\n",
    "  - [Overview](kalman.html#overview)\n",
    "  - [The Basic Idea](kalman.html#the-basic-idea)\n",
    "  - [Convergence](kalman.html#convergence)\n",
    "  - [Implementation](kalman.html#implementation)\n",
    "  - [Exercises](kalman.html#exercises)\n",
    "  - [Solutions](kalman.html#solutions)"
   ]
  }
 ],
 "metadata": {
  "date": 1590087466.6174698,
  "download_nb": 1,
  "download_nb_path": "https://julia.quantecon.org/",
  "filename": "index_undergrad.rst",
  "filename_with_path": "tools_and_techniques/index_undergrad",
  "kernelspec": {
   "display_name": "Julia 1.4.1",
   "language": "julia",
   "name": "julia-1.4"
  },
  "language_info": {
   "file_extension": ".jl",
   "mimetype": "application/julia",
   "name": "julia",
   "version": "1.4.1"
  },
  "title": "Tools and Techniques"
 },
 "nbformat": 4,
 "nbformat_minor": 2
}
