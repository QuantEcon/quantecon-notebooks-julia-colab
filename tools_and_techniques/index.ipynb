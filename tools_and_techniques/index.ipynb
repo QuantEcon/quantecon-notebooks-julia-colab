{
 "cells": [
  {
   "cell_type": "markdown",
   "metadata": {},
   "source": [
    "\n",
    "<a id='tools-and-techniques'></a>\n",
    "<div id=\"qe-notebook-header\" style=\"text-align:right;\">\n",
    "        <a href=\"https://quantecon.org/\" title=\"quantecon.org\">\n",
    "                <img style=\"width:250px;display:inline;\" src=\"https://assets.quantecon.org/img/qe-menubar-logo.svg\" alt=\"QuantEcon\">\n",
    "        </a>\n",
    "</div>"
   ]
  },
  {
   "cell_type": "markdown",
   "metadata": {},
   "source": [
    "# Tools and Techniques\n",
    "\n",
    "This section of the course contains foundational mathematical and statistical\n",
    "tools and techniques."
   ]
  },
  {
   "cell_type": "markdown",
   "metadata": {},
   "source": [
    "## Colab Instructions\n",
    "Colab does not have direct Julia support, and it must be installed each time you are working on a notebook.  Even after installation, there will be more precompiling latency since we do not compile every package used in the notes in the setup step. \n",
    "\n",
    "Instructions:\n",
    "\n",
    "1. Ignore any errors about a missing kernel when loading the notebook.  Choose `Run Anyway` when it prompts that the notebook wasn't authored by google.\n",
    "\n",
    "2. Run the cell below this with `Shift+Enter`.\n",
    "    -  It will **3 to 8 minutes** the first time you run it for Julia and key packages to install\n",
    "    - Afterwards, the colab container associated with the notebook will be activate for some time, but will likely be recycled after 60-90 minutes after closing the notebook, at which point you would need to install again.\n",
    "    - After julia has been installed, you do not need to run the cell again, and errors may be safely ignored\n",
    "3. Refresh your browser, and then execute any code as normal.\n",
    "  - Even after installation, there will be more precompiling latency since we do not compile every package used in the notes in the setup step. \n"
   ]
  },
  {
   "cell_type": "code",
   "execution_count": null,
   "metadata": {},
   "outputs": [],
   "source": [
    "%%shell\n",
    "if ! command -v julia 3>&1 > /dev/null\n",
    "then\n",
    "    wget 'https://julialang-s3.julialang.org/bin/linux/x64/1.4/julia-1.4.1-linux-x86_64.tar.gz' \\\n",
    "        -O /tmp/julia.tar.gz\n",
    "    tar -x -f /tmp/julia.tar.gz -C /usr/local --strip-components 1\n",
    "    rm /tmp/julia.tar.gz\n",
    "    julia -e 'using Pkg; pkg\"add IJulia InstantiateFromURL; precompile;\"'\n",
    "    julia -e 'using InstantiateFromURL; github_project(\"QuantEcon/quantecon-notebooks-julia\", instantiate = true, precompile = false)'\n",
    "    julia -e 'using Plots, Distributions, Parameters, NLsolve, ForwardDiff, Expectations'\n",
    "    echo 'Done'\n",
    "fi\n"
   ]
  },
  {
   "cell_type": "markdown",
   "metadata": {},
   "source": [
    "## Lectures\n",
    "\n",
    "- [Linear Algebra](linear_algebra.ipynb)\n",
    "  - [Overview](linear_algebra.ipynb#overview)\n",
    "  - [Vectors](linear_algebra.ipynb#vectors)\n",
    "  - [Matrices](linear_algebra.ipynb#matrices)\n",
    "  - [Solving Systems of Equations](linear_algebra.ipynb#solving-systems-of-equations)\n",
    "  - [Eigenvalues and Eigenvectors](linear_algebra.ipynb#eigenvalues-and-eigenvectors)\n",
    "  - [Further Topics](linear_algebra.ipynb#further-topics)\n",
    "  - [Exercises](linear_algebra.ipynb#exercises)\n",
    "  - [Solutions](linear_algebra.ipynb#solutions)\n",
    "- [Orthogonal Projections and Their Applications](orth_proj.ipynb)\n",
    "  - [Overview](orth_proj.ipynb#overview)\n",
    "  - [Key Definitions](orth_proj.ipynb#key-definitions)\n",
    "  - [The Orthogonal Projection Theorem](orth_proj.ipynb#the-orthogonal-projection-theorem)\n",
    "  - [Orthonormal Basis](orth_proj.ipynb#orthonormal-basis)\n",
    "  - [Projection Using Matrix Algebra](orth_proj.ipynb#projection-using-matrix-algebra)\n",
    "  - [Least Squares Regression](orth_proj.ipynb#least-squares-regression)\n",
    "  - [Orthogonalization and Decomposition](orth_proj.ipynb#orthogonalization-and-decomposition)\n",
    "  - [Exercises](orth_proj.ipynb#exercises)\n",
    "  - [Solutions](orth_proj.ipynb#solutions)\n",
    "- [LLN and CLT](lln_clt.ipynb)\n",
    "  - [Overview](lln_clt.ipynb#overview)\n",
    "  - [Relationships](lln_clt.ipynb#relationships)\n",
    "  - [LLN](lln_clt.ipynb#lln)\n",
    "  - [CLT](lln_clt.ipynb#clt)\n",
    "  - [Exercises](lln_clt.ipynb#exercises)\n",
    "  - [Solutions](lln_clt.ipynb#solutions)\n",
    "- [Linear State Space Models](linear_models.ipynb)\n",
    "  - [Overview](linear_models.ipynb#overview)\n",
    "  - [The Linear State Space Model](linear_models.ipynb#the-linear-state-space-model)\n",
    "  - [Distributions and Moments](linear_models.ipynb#distributions-and-moments)\n",
    "  - [Stationarity and Ergodicity](linear_models.ipynb#stationarity-and-ergodicity)\n",
    "  - [Noisy Observations](linear_models.ipynb#noisy-observations)\n",
    "  - [Prediction](linear_models.ipynb#prediction)\n",
    "  - [Code](linear_models.ipynb#code)\n",
    "  - [Exercises](linear_models.ipynb#exercises)\n",
    "  - [Solutions](linear_models.ipynb#solutions)\n",
    "- [Finite Markov Chains](finite_markov.ipynb)\n",
    "  - [Overview](finite_markov.ipynb#overview)\n",
    "  - [Definitions](finite_markov.ipynb#definitions)\n",
    "  - [Simulation](finite_markov.ipynb#simulation)\n",
    "  - [Marginal Distributions](finite_markov.ipynb#marginal-distributions)\n",
    "  - [Irreducibility and Aperiodicity](finite_markov.ipynb#irreducibility-and-aperiodicity)\n",
    "  - [Stationary Distributions](finite_markov.ipynb#stationary-distributions)\n",
    "  - [Ergodicity](finite_markov.ipynb#ergodicity)\n",
    "  - [Computing Expectations](finite_markov.ipynb#computing-expectations)\n",
    "  - [Exercises](finite_markov.ipynb#exercises)\n",
    "  - [Solutions](finite_markov.ipynb#solutions)\n",
    "- [Continuous State Markov Chains](stationary_densities.ipynb)\n",
    "  - [Overview](stationary_densities.ipynb#overview)\n",
    "  - [The Density Case](stationary_densities.ipynb#the-density-case)\n",
    "  - [Beyond Densities](stationary_densities.ipynb#beyond-densities)\n",
    "  - [Stability](stationary_densities.ipynb#stability)\n",
    "  - [Exercises](stationary_densities.ipynb#exercises)\n",
    "  - [Solutions](stationary_densities.ipynb#solutions)\n",
    "  - [Appendix](stationary_densities.ipynb#appendix)\n",
    "- [A First Look at the Kalman Filter](kalman.ipynb)\n",
    "  - [Overview](kalman.ipynb#overview)\n",
    "  - [The Basic Idea](kalman.ipynb#the-basic-idea)\n",
    "  - [Convergence](kalman.ipynb#convergence)\n",
    "  - [Implementation](kalman.ipynb#implementation)\n",
    "  - [Exercises](kalman.ipynb#exercises)\n",
    "  - [Solutions](kalman.ipynb#solutions)"
   ]
  }
 ],
 "metadata": {
  "date": 1589582539.08003,
  "filename": "index.rst",
  "kernelspec": {
   "display_name": "Julia 1.4.1",
   "language": "julia",
   "name": "julia-1.4"
  },
  "title": "Tools and Techniques"
 },
 "nbformat": 4,
 "nbformat_minor": 4
}
