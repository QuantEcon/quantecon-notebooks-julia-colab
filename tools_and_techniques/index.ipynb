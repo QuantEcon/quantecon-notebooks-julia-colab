{
 "cells": [
  {
   "cell_type": "markdown",
   "metadata": {},
   "source": [
    "\n",
    "<a id='tools-and-techniques'></a>\n",
    "<div id=\"qe-notebook-header\" style=\"text-align:right;\">\n",
    "        <a href=\"https://quantecon.org/\" title=\"quantecon.org\">\n",
    "                <img style=\"width:250px;display:inline;\" src=\"https://assets.quantecon.org/img/qe-menubar-logo.svg\" alt=\"QuantEcon\">\n",
    "        </a>\n",
    "</div>"
   ]
  },
  {
   "cell_type": "markdown",
   "metadata": {},
   "source": [
    "# Tools and Techniques\n",
    "\n",
    "This section of the course contains foundational mathematical and statistical\n",
    "tools and techniques."
   ]
  },
  {
   "cell_type": "markdown",
   "metadata": {},
   "source": [
    "## Lectures\n",
    "\n",
    "- [Linear Algebra](linear_algebra.html)\n",
    "  - [Overview](linear_algebra.html#overview)\n",
    "  - [Vectors](linear_algebra.html#vectors)\n",
    "  - [Matrices](linear_algebra.html#matrices)\n",
    "  - [Solving Systems of Equations](linear_algebra.html#solving-systems-of-equations)\n",
    "  - [Eigenvalues and Eigenvectors](linear_algebra.html#eigenvalues-and-eigenvectors)\n",
    "  - [Further Topics](linear_algebra.html#further-topics)\n",
    "  - [Exercises](linear_algebra.html#exercises)\n",
    "  - [Solutions](linear_algebra.html#solutions)\n",
    "- [Orthogonal Projections and Their Applications](orth_proj.html)\n",
    "  - [Overview](orth_proj.html#overview)\n",
    "  - [Key Definitions](orth_proj.html#key-definitions)\n",
    "  - [The Orthogonal Projection Theorem](orth_proj.html#the-orthogonal-projection-theorem)\n",
    "  - [Orthonormal Basis](orth_proj.html#orthonormal-basis)\n",
    "  - [Projection Using Matrix Algebra](orth_proj.html#projection-using-matrix-algebra)\n",
    "  - [Least Squares Regression](orth_proj.html#least-squares-regression)\n",
    "  - [Orthogonalization and Decomposition](orth_proj.html#orthogonalization-and-decomposition)\n",
    "  - [Exercises](orth_proj.html#exercises)\n",
    "  - [Solutions](orth_proj.html#solutions)\n",
    "- [LLN and CLT](lln_clt.html)\n",
    "  - [Overview](lln_clt.html#overview)\n",
    "  - [Relationships](lln_clt.html#relationships)\n",
    "  - [LLN](lln_clt.html#lln)\n",
    "  - [CLT](lln_clt.html#clt)\n",
    "  - [Exercises](lln_clt.html#exercises)\n",
    "  - [Solutions](lln_clt.html#solutions)\n",
    "- [Linear State Space Models](linear_models.html)\n",
    "  - [Overview](linear_models.html#overview)\n",
    "  - [The Linear State Space Model](linear_models.html#the-linear-state-space-model)\n",
    "  - [Distributions and Moments](linear_models.html#distributions-and-moments)\n",
    "  - [Stationarity and Ergodicity](linear_models.html#stationarity-and-ergodicity)\n",
    "  - [Noisy Observations](linear_models.html#noisy-observations)\n",
    "  - [Prediction](linear_models.html#prediction)\n",
    "  - [Code](linear_models.html#code)\n",
    "  - [Exercises](linear_models.html#exercises)\n",
    "  - [Solutions](linear_models.html#solutions)\n",
    "- [Finite Markov Chains](finite_markov.html)\n",
    "  - [Overview](finite_markov.html#overview)\n",
    "  - [Definitions](finite_markov.html#definitions)\n",
    "  - [Simulation](finite_markov.html#simulation)\n",
    "  - [Marginal Distributions](finite_markov.html#marginal-distributions)\n",
    "  - [Irreducibility and Aperiodicity](finite_markov.html#irreducibility-and-aperiodicity)\n",
    "  - [Stationary Distributions](finite_markov.html#stationary-distributions)\n",
    "  - [Ergodicity](finite_markov.html#ergodicity)\n",
    "  - [Computing Expectations](finite_markov.html#computing-expectations)\n",
    "  - [Exercises](finite_markov.html#exercises)\n",
    "  - [Solutions](finite_markov.html#solutions)\n",
    "- [Continuous State Markov Chains](stationary_densities.html)\n",
    "  - [Overview](stationary_densities.html#overview)\n",
    "  - [The Density Case](stationary_densities.html#the-density-case)\n",
    "  - [Beyond Densities](stationary_densities.html#beyond-densities)\n",
    "  - [Stability](stationary_densities.html#stability)\n",
    "  - [Exercises](stationary_densities.html#exercises)\n",
    "  - [Solutions](stationary_densities.html#solutions)\n",
    "  - [Appendix](stationary_densities.html#appendix)\n",
    "- [A First Look at the Kalman Filter](kalman.html)\n",
    "  - [Overview](kalman.html#overview)\n",
    "  - [The Basic Idea](kalman.html#the-basic-idea)\n",
    "  - [Convergence](kalman.html#convergence)\n",
    "  - [Implementation](kalman.html#implementation)\n",
    "  - [Exercises](kalman.html#exercises)\n",
    "  - [Solutions](kalman.html#solutions)"
   ]
  }
 ],
 "metadata": {
  "date": 1589906702.672771,
  "download_nb": true,
  "download_nb_path": "https://julia.quantecon.org/",
  "filename": "index.rst",
  "filename_with_path": "tools_and_techniques/index",
  "kernelspec": {
   "display_name": "Julia 1.4.1",
   "language": "julia",
   "name": "julia-1.4"
  },
  "language_info": {
   "file_extension": ".jl",
   "mimetype": "application/julia",
   "name": "julia",
   "version": "1.4.1"
  },
  "title": "Tools and Techniques"
 },
 "nbformat": 4,
 "nbformat_minor": 4
}
