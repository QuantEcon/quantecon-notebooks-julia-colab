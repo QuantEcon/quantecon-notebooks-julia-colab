{
 "cells": [
  {
   "cell_type": "markdown",
   "metadata": {},
   "source": [
    "\n",
    "<a id='iterative-methods-sparsity'></a>\n",
    "<div id=\"qe-notebook-header\" style=\"text-align:right;\">\n",
    "        <a href=\"https://quantecon.org/\" title=\"quantecon.org\">\n",
    "                <img style=\"width:250px;display:inline;\" src=\"https://assets.quantecon.org/img/qe-menubar-logo.svg\" alt=\"QuantEcon\">\n",
    "        </a>\n",
    "</div>"
   ]
  },
  {
   "cell_type": "markdown",
   "metadata": {},
   "source": [
    "# Krylov Methods and Matrix Conditioning"
   ]
  },
  {
   "cell_type": "markdown",
   "metadata": {},
   "source": [
    "## Colab Instructions\n",
    "\n",
    "Colab does not have direct Julia support, and it must be installed each time you are working on a notebook.  \n",
    "\n",
    "Instructions:\n",
    "\n",
    "1. Ignore any errors about a missing kernel when loading the notebook.  Choose `Run Anyway` when it prompts that the notebook wasn't authored by google.\n",
    "\n",
    "2. Run the cell below this with `Shift+Enter`.\n",
    "    -  It will **5 to 8 minutes** the first time you run it for Julia and key packages to install\n",
    "\n",
    "3. Refresh your browser, and then execute any code as normal.\n",
    "  - Even after installation, there will be more precompiling latency for some packages. "
   ]
  },
  {
   "cell_type": "code",
   "execution_count": null,
   "metadata": {},
   "outputs": [],
   "source": [
    "%%shell\n",
    "if ! command -v julia 3>&1 > /dev/null\n",
    "then\n",
    "    wget 'https://julialang-s3.julialang.org/bin/linux/x64/1.4/julia-1.4.1-linux-x86_64.tar.gz' \\\n",
    "        -O /tmp/julia.tar.gz\n",
    "    tar -x -f /tmp/julia.tar.gz -C /usr/local --strip-components 1\n",
    "    rm /tmp/julia.tar.gz\n",
    "    julia -e 'using Pkg; pkg\"add IJulia InstantiateFromURL; precompile;\"'\n",
    "    julia -e 'using InstantiateFromURL; github_project(\"QuantEcon/quantecon-notebooks-julia\", version = \"0.7.0\", instantiate = true, precompile = false); using Plots, Distributions, Parameters, NLsolve, ForwardDiff, Expectations'\n",
    "    echo 'Done'\n",
    "fi\n"
   ]
  },
  {
   "cell_type": "markdown",
   "metadata": {},
   "source": [
    "## Contents\n",
    "\n",
    "- [Krylov Methods and Matrix Conditioning](#Krylov-Methods-and-Matrix-Conditioning)  \n",
    "  - [Overview](#Overview)  \n",
    "  - [Ill-Conditioned Matrices](#Ill-Conditioned-Matrices)  \n",
    "  - [Stationary Iterative Algorithms for Linear Systems](#Stationary-Iterative-Algorithms-for-Linear-Systems)  \n",
    "  - [Krylov Methods](#Krylov-Methods)  \n",
    "  - [Iterative Methods for Linear-Least Squares](#Iterative-Methods-for-Linear-Least-Squares)  \n",
    "  - [Iterative Methods for Eigensystems](#Iterative-Methods-for-Eigensystems)  \n",
    "  - [Krylov Methods for Markov Chain Dynamics](#Krylov-Methods-for-Markov-Chain-Dynamics)  "
   ]
  },
  {
   "cell_type": "markdown",
   "metadata": {},
   "source": [
    "## Overview\n",
    "\n",
    "This lecture takes the structure of [numerical methods for linear algebra](numerical_linear_algebra.html) and builds further\n",
    "towards working with large, sparse matrices.  In the process, we will examine foundational numerical analysis such as\n",
    "ill-conditioned matrices."
   ]
  },
  {
   "cell_type": "markdown",
   "metadata": {},
   "source": [
    "### Setup"
   ]
  },
  {
   "cell_type": "code",
   "execution_count": 1,
   "metadata": {
    "hide-output": true
   },
   "outputs": [],
   "source": [
    "using InstantiateFromURL\n",
    "# optionally add arguments to force installation: instantiate = true, precompile = true\n",
    "github_project(\"QuantEcon/quantecon-notebooks-julia\", version = \"0.7.0\")"
   ]
  },
  {
   "cell_type": "code",
   "execution_count": 2,
   "metadata": {
    "hide-output": true
   },
   "outputs": [],
   "source": [
    "using LinearAlgebra, Statistics, BenchmarkTools, Random\n",
    "Random.seed!(42);  # seed random numbers for reproducibility"
   ]
  },
  {
   "cell_type": "markdown",
   "metadata": {},
   "source": [
    "### Applications\n",
    "\n",
    "In this section, we will consider variations on classic problems\n",
    "\n",
    "1. Solving a linear system for a square $ A $ where we will maintain throughout there is a unique solution to  \n",
    "  $$\n",
    "  A x = b\n",
    "  $$\n",
    "1. [Linear least-squares](https://en.wikipedia.org/wiki/Linear_least_squares) solution, for a rectangular $ A $  \n",
    "  $$\n",
    "  \\min_x \\| Ax -b \\|^2\n",
    "  $$\n",
    "  From theory, we know that if $ A $ has linearly independent columns that the solution is the [normal equations](https://en.wikipedia.org/wiki/Linear_least_squares#Derivation_of_the_normal_equations)  \n",
    "  $$\n",
    "  x = (A'A)^{-1}A'b\n",
    "  $$\n",
    "1. In the case of a square matrix, $ A $ the  eigenvalue problem of finding $ x $ and $ \\lambda $ such that  \n",
    "  $$\n",
    "  A x = \\lambda x\n",
    "  $$\n",
    "  For the eigenvalue problems.  Keep in mind that that you do not always require all of the $ \\lambda $, and sometimes the largest (or smallest) would be enough.  For example, calculating the spectral radius only requires the maximum eigenvalue in absolute value.  "
   ]
  },
  {
   "cell_type": "markdown",
   "metadata": {},
   "source": [
    "## Ill-Conditioned Matrices\n",
    "\n",
    "An important consideration in numerical linear algebra, and iterative methods in general, is the [condition number](https://en.wikipedia.org/wiki/Condition_number#Matrices).\n",
    "\n",
    "An ill-conditioned matrix is one where the basis of eigenvectors are close to, but not exactly, collinear.  While this poses no problem on pen and paper,\n",
    "or with infinite precision numerical methods, it is an important in practice for two reasons\n",
    "\n",
    "1. Ill-conditioned matrices introduce numerical errors roughly in proportion to the base-10 log of the condition number.  \n",
    "1. The convergence speed of many iterative methods is based on the spectral properties of the matrices (e.g. the basis formed by the eigenvectors), and hence ill-conditioned systems can converge slowly.  \n",
    "\n",
    "\n",
    "The solutions to these problems are to\n",
    "\n",
    "- be careful with operations which introduce error based on the condition number (e.g. matrix inversions when the condition number is high)  \n",
    "- choose, where possible, alternative representations which have less collinearity (e.g. an orthogonal polynomial basis rather than a monomial one)  \n",
    "- use a preconditioner for iterative methods, which changes the spectral properties to increase convergence speed  "
   ]
  },
  {
   "cell_type": "markdown",
   "metadata": {},
   "source": [
    "### Condition Number\n",
    "\n",
    "First, lets define and explore condition number $ \\kappa $\n",
    "\n",
    "$$\n",
    "\\kappa(A) \\equiv \\|A\\| \\|A^{-1}\\|\n",
    "$$\n",
    "\n",
    "where you can use the Cauchy–Schwarz inequality to show that $ \\kappa(A) \\geq 1 $.  While the condition number can be calculated with any norm, but we will focus on the 2-norm.\n",
    "\n",
    "First, a warning on calculations: calculating the condition number for a matrix can be an expensive operation (as would calculating a determinant)\n",
    "and should be thought of as roughly equivalent to doing an eigendecomposition.  So use it for detective work judiciously.\n",
    "\n",
    "Lets look at the condition number of a few matrices using the `cond` function (which allows a choice of the norm, but we stick with the default 2-norm)."
   ]
  },
  {
   "cell_type": "code",
   "execution_count": 3,
   "metadata": {
    "hide-output": false
   },
   "outputs": [
    {
     "data": {
      "text/plain": [
       "1.0"
      ]
     },
     "execution_count": 3,
     "metadata": {},
     "output_type": "execute_result"
    }
   ],
   "source": [
    "A = I(2)\n",
    "cond(A)"
   ]
  },
  {
   "cell_type": "markdown",
   "metadata": {},
   "source": [
    "Here we see an example of the best-conditioned matrix, the identity matrix with its completely orthonormal basis, is 1.\n",
    "\n",
    "On the other hand, notice that"
   ]
  },
  {
   "cell_type": "code",
   "execution_count": 4,
   "metadata": {
    "hide-output": false
   },
   "outputs": [
    {
     "data": {
      "text/plain": [
       "2.0000000000005004e6"
      ]
     },
     "execution_count": 4,
     "metadata": {},
     "output_type": "execute_result"
    }
   ],
   "source": [
    "ϵ = 1E-6\n",
    "A = [1.0 0.0\n",
    "     1.0 ϵ]\n",
    "cond(A)"
   ]
  },
  {
   "cell_type": "markdown",
   "metadata": {},
   "source": [
    "has a condition number of order `10E6` - and hence (taking the base 10 log) you would expect to be introducing numerical errors of around 6 significant digits if you\n",
    "are not careful.  For example, note that the inverse has both extremely large and extremely small negative numbers"
   ]
  },
  {
   "cell_type": "code",
   "execution_count": 5,
   "metadata": {
    "hide-output": false
   },
   "outputs": [
    {
     "data": {
      "text/plain": [
       "2×2 Array{Float64,2}:\n",
       "  1.0    0.0\n",
       " -1.0e6  1.0e6"
      ]
     },
     "execution_count": 5,
     "metadata": {},
     "output_type": "execute_result"
    }
   ],
   "source": [
    "inv(A)"
   ]
  },
  {
   "cell_type": "markdown",
   "metadata": {},
   "source": [
    "Since we know that the determinant of nearly collinear matrices is close to zero, this shows another symptom of poor conditioning"
   ]
  },
  {
   "cell_type": "code",
   "execution_count": 6,
   "metadata": {
    "hide-output": false
   },
   "outputs": [
    {
     "data": {
      "text/plain": [
       "1.0e-6"
      ]
     },
     "execution_count": 6,
     "metadata": {},
     "output_type": "execute_result"
    }
   ],
   "source": [
    "det(A)"
   ]
  },
  {
   "cell_type": "markdown",
   "metadata": {},
   "source": [
    "However, be careful since the determinant has a scale, while the condition number is dimensionless.  That is"
   ]
  },
  {
   "cell_type": "code",
   "execution_count": 7,
   "metadata": {
    "hide-output": false
   },
   "outputs": [
    {
     "name": "stdout",
     "output_type": "stream",
     "text": [
      "det(1000A) = 1.0\n",
      "cond(1000A) = 2.0000000000005001e6\n"
     ]
    }
   ],
   "source": [
    "@show det(1000 * A)\n",
    "@show cond(1000 * A);"
   ]
  },
  {
   "cell_type": "markdown",
   "metadata": {},
   "source": [
    "In that case, the determinant of `A` is 1, while the condition number is unchanged.  This example also provides some\n",
    "intuition that ill-conditioned matrices typically occur when a matrix has radically different scales (e.g. contains both `1` and `1E-6`, or `1000` and `1E-3`).  This can occur frequently with both function approximation and linear-least squares."
   ]
  },
  {
   "cell_type": "markdown",
   "metadata": {},
   "source": [
    "### Condition Numbers and Matrix Operations\n",
    "\n",
    "Multiplying a matrix by a constant does not change the condition number.  What about other operations?\n",
    "\n",
    "For this example, we see that the inverse has the same condition number (though this will not always be the case)."
   ]
  },
  {
   "cell_type": "code",
   "execution_count": 8,
   "metadata": {
    "hide-output": false
   },
   "outputs": [
    {
     "name": "stdout",
     "output_type": "stream",
     "text": [
      "cond(A) = 2.0000000000005004e6\n",
      "cond(inv(A)) = 2.0000000002463197e6\n"
     ]
    }
   ],
   "source": [
    "@show cond(A)\n",
    "@show cond(inv(A));"
   ]
  },
  {
   "cell_type": "markdown",
   "metadata": {},
   "source": [
    "The condition number of the product of two matrices can change radically and lead things to becoming\n",
    "even more ill-conditioned.\n",
    "\n",
    "This comes up frequently when calculating the product of a matrix and its transpose (e.g. forming the covariance matrix).  A classic example is the [Läuchli matrix](https://link.springer.com/article/10.1007%2FBF01386022)."
   ]
  },
  {
   "cell_type": "code",
   "execution_count": 9,
   "metadata": {
    "hide-output": false
   },
   "outputs": [
    {
     "data": {
      "text/plain": [
       "3×4 Array{Float64,2}:\n",
       " 1.0  1.0e-8  0.0     0.0\n",
       " 1.0  0.0     1.0e-8  0.0\n",
       " 1.0  0.0     0.0     1.0e-8"
      ]
     },
     "execution_count": 9,
     "metadata": {},
     "output_type": "execute_result"
    }
   ],
   "source": [
    "lauchli(N, ϵ) = [ones(N)'; ϵ * I(N)]'\n",
    "ϵ = 1E-8\n",
    "L = lauchli(3, ϵ) |> Matrix"
   ]
  },
  {
   "cell_type": "markdown",
   "metadata": {},
   "source": [
    "Note that the condition number increases substantially"
   ]
  },
  {
   "cell_type": "code",
   "execution_count": 10,
   "metadata": {
    "hide-output": false
   },
   "outputs": [
    {
     "name": "stdout",
     "output_type": "stream",
     "text": [
      "cond(L) = 1.732050807568878e8\n",
      "cond(L' * L) = "
     ]
    },
    {
     "name": "stdout",
     "output_type": "stream",
     "text": [
      "5.345191558726545e32\n"
     ]
    }
   ],
   "source": [
    "@show cond(L)\n",
    "@show cond(L' * L);"
   ]
  },
  {
   "cell_type": "markdown",
   "metadata": {},
   "source": [
    "You can show that the analytic eigenvalues of this are $ \\{3 + \\epsilon^2, \\epsilon^2, \\epsilon^2\\} $ but the poor conditioning\n",
    "means it is difficult to distinguish these from $ 0 $.\n",
    "\n",
    "This comes up when conducting [Principle Component Analysis](https://en.wikipedia.org/wiki/Principal_component_analysis#Singular_value_decomposition), which\n",
    "requires calculations of the eigenvalues of the covariance matrix"
   ]
  },
  {
   "cell_type": "code",
   "execution_count": 11,
   "metadata": {
    "hide-output": false
   },
   "outputs": [
    {
     "data": {
      "text/plain": [
       "3-element Array{Complex{Float64},1}:\n",
       "                   0.0 + 4.870456104375987e-9im\n",
       " 4.2146848510894035e-8 + 0.0im\n",
       "    1.7320508075688772 + 0.0im"
      ]
     },
     "execution_count": 11,
     "metadata": {},
     "output_type": "execute_result"
    }
   ],
   "source": [
    "sort(sqrt.(Complex.(eigen(L*L').values)), lt = (x,y) -> abs(x) < abs(y))"
   ]
  },
  {
   "cell_type": "markdown",
   "metadata": {},
   "source": [
    "Note that these are significantly different than the known analytic solution and, in particular, are difficult to distinguish from 0."
   ]
  },
  {
   "cell_type": "code",
   "execution_count": 12,
   "metadata": {
    "hide-output": false
   },
   "outputs": [
    {
     "data": {
      "text/plain": [
       "3-element Array{Float64,1}:\n",
       " 1.0e-8\n",
       " 1.0e-8\n",
       " 1.7320508075688772"
      ]
     },
     "execution_count": 12,
     "metadata": {},
     "output_type": "execute_result"
    }
   ],
   "source": [
    "sqrt.([3 + ϵ^2, ϵ^2, ϵ^2]) |> sort"
   ]
  },
  {
   "cell_type": "markdown",
   "metadata": {},
   "source": [
    "Alternatively, we could calculate these by taking the square of the singular values of $ L $ itself, which is much more accurate\n",
    "and lets us clearly distinguish from zero"
   ]
  },
  {
   "cell_type": "code",
   "execution_count": 13,
   "metadata": {
    "hide-output": false
   },
   "outputs": [
    {
     "data": {
      "text/plain": [
       "3-element Array{Float64,1}:\n",
       " 9.999999999999997e-9\n",
       " 1.0e-8\n",
       " 1.7320508075688774"
      ]
     },
     "execution_count": 13,
     "metadata": {},
     "output_type": "execute_result"
    }
   ],
   "source": [
    "svd(L).S  |> sort"
   ]
  },
  {
   "cell_type": "markdown",
   "metadata": {},
   "source": [
    "Similarly, we are better off calculating least-squares directly rather than forming the normal equation (i.e. $ A' A x = A' b $) ourselves"
   ]
  },
  {
   "cell_type": "code",
   "execution_count": 14,
   "metadata": {
    "hide-output": false
   },
   "outputs": [
    {
     "data": {
      "text/plain": [
       "2502.05373776057"
      ]
     },
     "execution_count": 14,
     "metadata": {},
     "output_type": "execute_result"
    }
   ],
   "source": [
    "N = 3\n",
    "A = lauchli(N, 1E-7)' |> Matrix\n",
    "b = rand(N+1)\n",
    "x_sol_1 = A \\ b  # using a least-square solver\n",
    "x_sol_2 = (A' * A) \\ (A' * b)  # forming the normal equation ourselves\n",
    "norm(x_sol_1 - x_sol_2)"
   ]
  },
  {
   "cell_type": "markdown",
   "metadata": {},
   "source": [
    "### Why Monomial Basis are a Bad Idea\n",
    "\n",
    "A classic example of poorly conditioned matrices is using a monomial basis of a polynomial with interpolation.\n",
    "\n",
    "Take a grid of points, $ x_0, \\ldots x_N $ and values $ y_0, \\ldots y_N $ where we want to calculate the\n",
    "interpolating polynomial.\n",
    "\n",
    "If we were to use the simplest, and most obvious polynomial basis, then the calculation is to calculate the coefficients $ c_1, \\ldots c_n $ where\n",
    "\n",
    "$$\n",
    "P(x) = \\sum_{i=0}^N c_i x^i\n",
    "$$\n",
    "\n",
    "To solve for the coefficients, we notice that this is a simple system of equations\n",
    "\n",
    "$$\n",
    "\\begin{array}\n",
    "    \\,y_0 = c_0 + c_1 x_0 + \\ldots c_N x_0^N\\\\\n",
    "    \\,\\ldots\\\\\n",
    "    \\,y_N = c_0 + c_1 x_N + \\ldots c_N x_N^N\n",
    "\\end{array}\n",
    "$$\n",
    "\n",
    "Or, stacking as matrices and vectors $ c = \\begin{bmatrix} c_0 & \\ldots & c_N\\end{bmatrix}, y = \\begin{bmatrix} y_0 & \\ldots & y_N\\end{bmatrix} $ and\n",
    "\n",
    "$$\n",
    "A = \\begin{bmatrix} 1 & x_0 & x_0^2 & \\ldots &x_0^N\\\\\n",
    "                    \\vdots & \\vdots & \\vdots & \\vdots & \\vdots \\\\\n",
    "                    1 & x_N & x_N^2 & \\ldots & x_N^N\n",
    "    \\end{bmatrix}\n",
    "$$\n",
    "\n",
    "We can then calculate the interpolating coefficients as the solution to\n",
    "\n",
    "$$\n",
    "A c = y\n",
    "$$\n",
    "\n",
    "Implementing this for the interpolation of the $ exp(x) $ function"
   ]
  },
  {
   "cell_type": "code",
   "execution_count": 15,
   "metadata": {
    "hide-output": false
   },
   "outputs": [
    {
     "data": {
      "text/plain": [
       "1.356966095045209e-9"
      ]
     },
     "execution_count": 15,
     "metadata": {},
     "output_type": "execute_result"
    }
   ],
   "source": [
    "N = 5\n",
    "f(x) = exp(x)\n",
    "x = range(0.0, 10.0, length = N+1)\n",
    "y = f.(x)  # generate some data to interpolate\n",
    "\n",
    "A = [x_i^n for x_i in x, n in 0:N]\n",
    "A_inv = inv(A)\n",
    "c = A_inv * y\n",
    "norm(A * c - f.(x), Inf)"
   ]
  },
  {
   "cell_type": "markdown",
   "metadata": {},
   "source": [
    "The final step just checks the interpolation vs. the analytic function at the nodes.  Keep in mind that this should be very close to zero\n",
    "since we are interpolating the function precisely at those nodes.\n",
    "In our example, the Inf-norm (i.e. maximum difference) of the interpolation errors at the nodes is around `1E-9` which\n",
    "is reasonable for many problems.\n",
    "\n",
    "But note that with $ N=5 $ the condition number is already of order `1E6`."
   ]
  },
  {
   "cell_type": "code",
   "execution_count": 16,
   "metadata": {
    "hide-output": false
   },
   "outputs": [
    {
     "data": {
      "text/plain": [
       "564652.3214053963"
      ]
     },
     "execution_count": 16,
     "metadata": {},
     "output_type": "execute_result"
    }
   ],
   "source": [
    "cond(A)"
   ]
  },
  {
   "cell_type": "markdown",
   "metadata": {},
   "source": [
    "What if we increase the degree of the polynomial with the hope of increasing the precision of the\n",
    "interpolation?"
   ]
  },
  {
   "cell_type": "code",
   "execution_count": 17,
   "metadata": {
    "hide-output": false
   },
   "outputs": [
    {
     "data": {
      "text/plain": [
       "8.61171429278329e-7"
      ]
     },
     "execution_count": 17,
     "metadata": {},
     "output_type": "execute_result"
    }
   ],
   "source": [
    "N = 10\n",
    "f(x) = exp(x)\n",
    "x = range(0.0, 10.0, length = N+1)\n",
    "y = f.(x)  # generate some data to interpolate\n",
    "\n",
    "A = [x_i^n for x_i in x, n in 0:N]\n",
    "A_inv = inv(A)\n",
    "c = A_inv * y\n",
    "norm(A * c - f.(x), Inf)"
   ]
  },
  {
   "cell_type": "markdown",
   "metadata": {},
   "source": [
    "Here, we see that hoping to increase the precision between points by adding extra polynomial terms is backfiring.  By going to a 10th order polynomial we have\n",
    "introduced an error of about `1E-5`, even at the interpolation points themselves.\n",
    "\n",
    "This blows up quickly"
   ]
  },
  {
   "cell_type": "code",
   "execution_count": 18,
   "metadata": {
    "hide-output": false
   },
   "outputs": [
    {
     "data": {
      "text/plain": [
       "19978.410967681375"
      ]
     },
     "execution_count": 18,
     "metadata": {},
     "output_type": "execute_result"
    }
   ],
   "source": [
    "N = 20\n",
    "f(x) = exp(x)\n",
    "x = range(0.0, 10.0, length = N+1)\n",
    "y = f.(x)  # generate some data to interpolate\n",
    "\n",
    "A = [x_i^n for x_i in x, n in 0:N]\n",
    "A_inv = inv(A)\n",
    "c = A_inv * y\n",
    "norm(A * c - f.(x), Inf)"
   ]
  },
  {
   "cell_type": "markdown",
   "metadata": {},
   "source": [
    "To see the source of the issue, note that the condition number is astronomical."
   ]
  },
  {
   "cell_type": "code",
   "execution_count": 19,
   "metadata": {
    "hide-output": false
   },
   "outputs": [
    {
     "data": {
      "text/plain": [
       "2.0386741019186427e24"
      ]
     },
     "execution_count": 19,
     "metadata": {},
     "output_type": "execute_result"
    }
   ],
   "source": [
    "cond(A)"
   ]
  },
  {
   "cell_type": "markdown",
   "metadata": {},
   "source": [
    "At this point, you should be suspicious of the use of `inv(A)` since we have considered solving\n",
    "linear systems by taking the inverse as verboten.  Indeed, this made things much worse  the\n",
    "error drop dramatically if we solve it as a linear system"
   ]
  },
  {
   "cell_type": "code",
   "execution_count": 20,
   "metadata": {
    "hide-output": false
   },
   "outputs": [
    {
     "data": {
      "text/plain": [
       "1.864464138634503e-10"
      ]
     },
     "execution_count": 20,
     "metadata": {},
     "output_type": "execute_result"
    }
   ],
   "source": [
    "c = A \\ y\n",
    "norm(A * c - f.(x), Inf)"
   ]
  },
  {
   "cell_type": "markdown",
   "metadata": {},
   "source": [
    "But an error of `1E-10` at the interpolating nodes themselves can be an issue in many applications, and if you increase `N`\n",
    "then the error will become non-trivial eventually - even without taking the inverse.\n",
    "\n",
    "The heart of the issue is that the monomial basis leads to a [Vandermonde matrix](https://en.wikipedia.org/wiki/Vandermonde_matrix) which\n",
    "is especially ill-conditioned."
   ]
  },
  {
   "cell_type": "markdown",
   "metadata": {},
   "source": [
    "#### Aside on Runge’s Phenomena\n",
    "\n",
    "The monomial basis is also a good opportunity to look at a separate type of error due to [Runge’s Phenomena](https://en.wikipedia.org/wiki/Runge%27s_phenomenon).    It is an important\n",
    "issue in approximation theory, albeit not one driven by numerical approximation errors.\n",
    "\n",
    "It turns out that using a uniform grid of points is in general the worst possible choice of interpolation nodes for a polynomial approximation.  This phenomena is can be seen with the interpolation of the seemingly innocuous Runge’s function, $ g(x) = \\frac{1}{1 + 25 x^2} $.\n",
    "\n",
    "Lets calculate the interpolation with a monomial basis to find the $ c_i $ such that\n",
    "\n",
    "$$\n",
    "\\frac{1}{1 + 25 x^2} \\approx \\sum_{i=0}^N c_i x^i,\\, \\text{ for } -1 \\leq x \\leq 1\n",
    "$$\n",
    "\n",
    "First, interpolation with $ N = 5 $ and avoid taking the inverse.  In that case, as long as we avoid taking an inverse, the numerical errors from the ill-conditioned matrix are manageable."
   ]
  },
  {
   "cell_type": "code",
   "execution_count": 21,
   "metadata": {
    "hide-output": false
   },
   "outputs": [
    {
     "data": {
      "image/svg+xml": [
       "<?xml version=\"1.0\" encoding=\"utf-8\"?>\n",
       "<svg xmlns=\"http://www.w3.org/2000/svg\" xmlns:xlink=\"http://www.w3.org/1999/xlink\" width=\"600\" height=\"400\" viewBox=\"0 0 2400 1600\">\n",
       "<defs>\n",
       "  <clipPath id=\"clip690\">\n",
       "    <rect x=\"0\" y=\"0\" width=\"2400\" height=\"1600\"/>\n",
       "  </clipPath>\n",
       "</defs>\n",
       "<path clip-path=\"url(#clip690)\" d=\"\n",
       "M0 1600 L2400 1600 L2400 0 L0 0  Z\n",
       "  \" fill=\"#ffffff\" fill-rule=\"evenodd\" fill-opacity=\"1\"/>\n",
       "<defs>\n",
       "  <clipPath id=\"clip691\">\n",
       "    <rect x=\"480\" y=\"0\" width=\"1681\" height=\"1600\"/>\n",
       "  </clipPath>\n",
       "</defs>\n",
       "<path clip-path=\"url(#clip690)\" d=\"\n",
       "M174.862 1486.45 L2352.76 1486.45 L2352.76 47.2441 L174.862 47.2441  Z\n",
       "  \" fill=\"#ffffff\" fill-rule=\"evenodd\" fill-opacity=\"1\"/>\n",
       "<defs>\n",
       "  <clipPath id=\"clip692\">\n",
       "    <rect x=\"174\" y=\"47\" width=\"2179\" height=\"1440\"/>\n",
       "  </clipPath>\n",
       "</defs>\n",
       "<polyline clip-path=\"url(#clip692)\" style=\"stroke:#000000; stroke-width:2; stroke-opacity:0.1; fill:none\" points=\"\n",
       "  236.501,1486.45 236.501,47.2441 \n",
       "  \"/>\n",
       "<polyline clip-path=\"url(#clip692)\" style=\"stroke:#000000; stroke-width:2; stroke-opacity:0.1; fill:none\" points=\"\n",
       "  750.155,1486.45 750.155,47.2441 \n",
       "  \"/>\n",
       "<polyline clip-path=\"url(#clip692)\" style=\"stroke:#000000; stroke-width:2; stroke-opacity:0.1; fill:none\" points=\"\n",
       "  1263.81,1486.45 1263.81,47.2441 \n",
       "  \"/>\n",
       "<polyline clip-path=\"url(#clip692)\" style=\"stroke:#000000; stroke-width:2; stroke-opacity:0.1; fill:none\" points=\"\n",
       "  1777.46,1486.45 1777.46,47.2441 \n",
       "  \"/>\n",
       "<polyline clip-path=\"url(#clip692)\" style=\"stroke:#000000; stroke-width:2; stroke-opacity:0.1; fill:none\" points=\"\n",
       "  2291.12,1486.45 2291.12,47.2441 \n",
       "  \"/>\n",
       "<polyline clip-path=\"url(#clip692)\" style=\"stroke:#000000; stroke-width:2; stroke-opacity:0.1; fill:none\" points=\"\n",
       "  174.862,1374.25 2352.76,1374.25 \n",
       "  \"/>\n",
       "<polyline clip-path=\"url(#clip692)\" style=\"stroke:#000000; stroke-width:2; stroke-opacity:0.1; fill:none\" points=\"\n",
       "  174.862,1051.86 2352.76,1051.86 \n",
       "  \"/>\n",
       "<polyline clip-path=\"url(#clip692)\" style=\"stroke:#000000; stroke-width:2; stroke-opacity:0.1; fill:none\" points=\"\n",
       "  174.862,729.474 2352.76,729.474 \n",
       "  \"/>\n",
       "<polyline clip-path=\"url(#clip692)\" style=\"stroke:#000000; stroke-width:2; stroke-opacity:0.1; fill:none\" points=\"\n",
       "  174.862,407.084 2352.76,407.084 \n",
       "  \"/>\n",
       "<polyline clip-path=\"url(#clip692)\" style=\"stroke:#000000; stroke-width:2; stroke-opacity:0.1; fill:none\" points=\"\n",
       "  174.862,84.6953 2352.76,84.6953 \n",
       "  \"/>\n",
       "<polyline clip-path=\"url(#clip690)\" style=\"stroke:#000000; stroke-width:4; stroke-opacity:1; fill:none\" points=\"\n",
       "  174.862,1486.45 2352.76,1486.45 \n",
       "  \"/>\n",
       "<polyline clip-path=\"url(#clip690)\" style=\"stroke:#000000; stroke-width:4; stroke-opacity:1; fill:none\" points=\"\n",
       "  174.862,1486.45 174.862,47.2441 \n",
       "  \"/>\n",
       "<polyline clip-path=\"url(#clip690)\" style=\"stroke:#000000; stroke-width:4; stroke-opacity:1; fill:none\" points=\"\n",
       "  236.501,1486.45 236.501,1469.18 \n",
       "  \"/>\n",
       "<polyline clip-path=\"url(#clip690)\" style=\"stroke:#000000; stroke-width:4; stroke-opacity:1; fill:none\" points=\"\n",
       "  750.155,1486.45 750.155,1469.18 \n",
       "  \"/>\n",
       "<polyline clip-path=\"url(#clip690)\" style=\"stroke:#000000; stroke-width:4; stroke-opacity:1; fill:none\" points=\"\n",
       "  1263.81,1486.45 1263.81,1469.18 \n",
       "  \"/>\n",
       "<polyline clip-path=\"url(#clip690)\" style=\"stroke:#000000; stroke-width:4; stroke-opacity:1; fill:none\" points=\"\n",
       "  1777.46,1486.45 1777.46,1469.18 \n",
       "  \"/>\n",
       "<polyline clip-path=\"url(#clip690)\" style=\"stroke:#000000; stroke-width:4; stroke-opacity:1; fill:none\" points=\"\n",
       "  2291.12,1486.45 2291.12,1469.18 \n",
       "  \"/>\n",
       "<polyline clip-path=\"url(#clip690)\" style=\"stroke:#000000; stroke-width:4; stroke-opacity:1; fill:none\" points=\"\n",
       "  174.862,1374.25 200.997,1374.25 \n",
       "  \"/>\n",
       "<polyline clip-path=\"url(#clip690)\" style=\"stroke:#000000; stroke-width:4; stroke-opacity:1; fill:none\" points=\"\n",
       "  174.862,1051.86 200.997,1051.86 \n",
       "  \"/>\n",
       "<polyline clip-path=\"url(#clip690)\" style=\"stroke:#000000; stroke-width:4; stroke-opacity:1; fill:none\" points=\"\n",
       "  174.862,729.474 200.997,729.474 \n",
       "  \"/>\n",
       "<polyline clip-path=\"url(#clip690)\" style=\"stroke:#000000; stroke-width:4; stroke-opacity:1; fill:none\" points=\"\n",
       "  174.862,407.084 200.997,407.084 \n",
       "  \"/>\n",
       "<polyline clip-path=\"url(#clip690)\" style=\"stroke:#000000; stroke-width:4; stroke-opacity:1; fill:none\" points=\"\n",
       "  174.862,84.6953 200.997,84.6953 \n",
       "  \"/>\n",
       "<path clip-path=\"url(#clip690)\" d=\"M 0 0 M198.885 1525.04 L211.362 1525.04 L211.362 1528.83 L198.885 1528.83 L198.885 1525.04 Z\" fill=\"#000000\" fill-rule=\"evenodd\" fill-opacity=\"1\" /><path clip-path=\"url(#clip690)\" d=\"M 0 0 M217.241 1535.98 L224.88 1535.98 L224.88 1509.62 L216.57 1511.29 L216.57 1507.03 L224.834 1505.36 L229.51 1505.36 L229.51 1535.98 L237.149 1535.98 L237.149 1539.92 L217.241 1539.92 L217.241 1535.98 Z\" fill=\"#000000\" fill-rule=\"evenodd\" fill-opacity=\"1\" /><path clip-path=\"url(#clip690)\" d=\"M 0 0 M242.218 1534.04 L247.102 1534.04 L247.102 1539.92 L242.218 1539.92 L242.218 1534.04 Z\" fill=\"#000000\" fill-rule=\"evenodd\" fill-opacity=\"1\" /><path clip-path=\"url(#clip690)\" d=\"M 0 0 M262.172 1508.44 Q258.561 1508.44 256.732 1512 Q254.926 1515.55 254.926 1522.67 Q254.926 1529.78 256.732 1533.35 Q258.561 1536.89 262.172 1536.89 Q265.806 1536.89 267.611 1533.35 Q269.44 1529.78 269.44 1522.67 Q269.44 1515.55 267.611 1512 Q265.806 1508.44 262.172 1508.44 M262.172 1504.73 Q267.982 1504.73 271.037 1509.34 Q274.116 1513.92 274.116 1522.67 Q274.116 1531.4 271.037 1536.01 Q267.982 1540.59 262.172 1540.59 Q256.362 1540.59 253.283 1536.01 Q250.227 1531.4 250.227 1522.67 Q250.227 1513.92 253.283 1509.34 Q256.362 1504.73 262.172 1504.73 Z\" fill=\"#000000\" fill-rule=\"evenodd\" fill-opacity=\"1\" /><path clip-path=\"url(#clip690)\" d=\"M 0 0 M712.423 1525.04 L724.9 1525.04 L724.9 1528.83 L712.423 1528.83 L712.423 1525.04 Z\" fill=\"#000000\" fill-rule=\"evenodd\" fill-opacity=\"1\" /><path clip-path=\"url(#clip690)\" d=\"M 0 0 M739.97 1508.44 Q736.359 1508.44 734.53 1512 Q732.724 1515.55 732.724 1522.67 Q732.724 1529.78 734.53 1533.35 Q736.359 1536.89 739.97 1536.89 Q743.604 1536.89 745.409 1533.35 Q747.238 1529.78 747.238 1522.67 Q747.238 1515.55 745.409 1512 Q743.604 1508.44 739.97 1508.44 M739.97 1504.73 Q745.78 1504.73 748.835 1509.34 Q751.914 1513.92 751.914 1522.67 Q751.914 1531.4 748.835 1536.01 Q745.78 1540.59 739.97 1540.59 Q734.159 1540.59 731.081 1536.01 Q728.025 1531.4 728.025 1522.67 Q728.025 1513.92 731.081 1509.34 Q734.159 1504.73 739.97 1504.73 Z\" fill=\"#000000\" fill-rule=\"evenodd\" fill-opacity=\"1\" /><path clip-path=\"url(#clip690)\" d=\"M 0 0 M756.983 1534.04 L761.868 1534.04 L761.868 1539.92 L756.983 1539.92 L756.983 1534.04 Z\" fill=\"#000000\" fill-rule=\"evenodd\" fill-opacity=\"1\" /><path clip-path=\"url(#clip690)\" d=\"M 0 0 M766.983 1505.36 L785.34 1505.36 L785.34 1509.3 L771.266 1509.3 L771.266 1517.77 Q772.284 1517.42 773.303 1517.26 Q774.321 1517.07 775.34 1517.07 Q781.127 1517.07 784.506 1520.24 Q787.886 1523.42 787.886 1528.83 Q787.886 1534.41 784.414 1537.51 Q780.942 1540.59 774.622 1540.59 Q772.446 1540.59 770.178 1540.22 Q767.932 1539.85 765.525 1539.11 L765.525 1534.41 Q767.608 1535.54 769.831 1536.1 Q772.053 1536.66 774.53 1536.66 Q778.534 1536.66 780.872 1534.55 Q783.21 1532.44 783.21 1528.83 Q783.21 1525.22 780.872 1523.11 Q778.534 1521.01 774.53 1521.01 Q772.655 1521.01 770.78 1521.42 Q768.928 1521.84 766.983 1522.72 L766.983 1505.36 Z\" fill=\"#000000\" fill-rule=\"evenodd\" fill-opacity=\"1\" /><path clip-path=\"url(#clip690)\" d=\"M 0 0 M1245.33 1508.44 Q1241.71 1508.44 1239.89 1512 Q1238.08 1515.55 1238.08 1522.67 Q1238.08 1529.78 1239.89 1533.35 Q1241.71 1536.89 1245.33 1536.89 Q1248.96 1536.89 1250.77 1533.35 Q1252.59 1529.78 1252.59 1522.67 Q1252.59 1515.55 1250.77 1512 Q1248.96 1508.44 1245.33 1508.44 M1245.33 1504.73 Q1251.14 1504.73 1254.19 1509.34 Q1257.27 1513.92 1257.27 1522.67 Q1257.27 1531.4 1254.19 1536.01 Q1251.14 1540.59 1245.33 1540.59 Q1239.52 1540.59 1236.44 1536.01 Q1233.38 1531.4 1233.38 1522.67 Q1233.38 1513.92 1236.44 1509.34 Q1239.52 1504.73 1245.33 1504.73 Z\" fill=\"#000000\" fill-rule=\"evenodd\" fill-opacity=\"1\" /><path clip-path=\"url(#clip690)\" d=\"M 0 0 M1262.34 1534.04 L1267.22 1534.04 L1267.22 1539.92 L1262.34 1539.92 L1262.34 1534.04 Z\" fill=\"#000000\" fill-rule=\"evenodd\" fill-opacity=\"1\" /><path clip-path=\"url(#clip690)\" d=\"M 0 0 M1282.29 1508.44 Q1278.68 1508.44 1276.85 1512 Q1275.05 1515.55 1275.05 1522.67 Q1275.05 1529.78 1276.85 1533.35 Q1278.68 1536.89 1282.29 1536.89 Q1285.93 1536.89 1287.73 1533.35 Q1289.56 1529.78 1289.56 1522.67 Q1289.56 1515.55 1287.73 1512 Q1285.93 1508.44 1282.29 1508.44 M1282.29 1504.73 Q1288.1 1504.73 1291.16 1509.34 Q1294.24 1513.92 1294.24 1522.67 Q1294.24 1531.4 1291.16 1536.01 Q1288.1 1540.59 1282.29 1540.59 Q1276.48 1540.59 1273.4 1536.01 Q1270.35 1531.4 1270.35 1522.67 Q1270.35 1513.92 1273.4 1509.34 Q1276.48 1504.73 1282.29 1504.73 Z\" fill=\"#000000\" fill-rule=\"evenodd\" fill-opacity=\"1\" /><path clip-path=\"url(#clip690)\" d=\"M 0 0 M1759.48 1508.44 Q1755.87 1508.44 1754.04 1512 Q1752.23 1515.55 1752.23 1522.67 Q1752.23 1529.78 1754.04 1533.35 Q1755.87 1536.89 1759.48 1536.89 Q1763.11 1536.89 1764.92 1533.35 Q1766.75 1529.78 1766.75 1522.67 Q1766.75 1515.55 1764.92 1512 Q1763.11 1508.44 1759.48 1508.44 M1759.48 1504.73 Q1765.29 1504.73 1768.34 1509.34 Q1771.42 1513.92 1771.42 1522.67 Q1771.42 1531.4 1768.34 1536.01 Q1765.29 1540.59 1759.48 1540.59 Q1753.67 1540.59 1750.59 1536.01 Q1747.53 1531.4 1747.53 1522.67 Q1747.53 1513.92 1750.59 1509.34 Q1753.67 1504.73 1759.48 1504.73 Z\" fill=\"#000000\" fill-rule=\"evenodd\" fill-opacity=\"1\" /><path clip-path=\"url(#clip690)\" d=\"M 0 0 M1776.49 1534.04 L1781.38 1534.04 L1781.38 1539.92 L1776.49 1539.92 L1776.49 1534.04 Z\" fill=\"#000000\" fill-rule=\"evenodd\" fill-opacity=\"1\" /><path clip-path=\"url(#clip690)\" d=\"M 0 0 M1786.49 1505.36 L1804.85 1505.36 L1804.85 1509.3 L1790.77 1509.3 L1790.77 1517.77 Q1791.79 1517.42 1792.81 1517.26 Q1793.83 1517.07 1794.85 1517.07 Q1800.63 1517.07 1804.01 1520.24 Q1807.39 1523.42 1807.39 1528.83 Q1807.39 1534.41 1803.92 1537.51 Q1800.45 1540.59 1794.13 1540.59 Q1791.95 1540.59 1789.69 1540.22 Q1787.44 1539.85 1785.03 1539.11 L1785.03 1534.41 Q1787.12 1535.54 1789.34 1536.1 Q1791.56 1536.66 1794.04 1536.66 Q1798.04 1536.66 1800.38 1534.55 Q1802.72 1532.44 1802.72 1528.83 Q1802.72 1525.22 1800.38 1523.11 Q1798.04 1521.01 1794.04 1521.01 Q1792.16 1521.01 1790.29 1521.42 Q1788.44 1521.84 1786.49 1522.72 L1786.49 1505.36 Z\" fill=\"#000000\" fill-rule=\"evenodd\" fill-opacity=\"1\" /><path clip-path=\"url(#clip690)\" d=\"M 0 0 M2263.02 1535.98 L2270.65 1535.98 L2270.65 1509.62 L2262.34 1511.29 L2262.34 1507.03 L2270.61 1505.36 L2275.28 1505.36 L2275.28 1535.98 L2282.92 1535.98 L2282.92 1539.92 L2263.02 1539.92 L2263.02 1535.98 Z\" fill=\"#000000\" fill-rule=\"evenodd\" fill-opacity=\"1\" /><path clip-path=\"url(#clip690)\" d=\"M 0 0 M2287.99 1534.04 L2292.88 1534.04 L2292.88 1539.92 L2287.99 1539.92 L2287.99 1534.04 Z\" fill=\"#000000\" fill-rule=\"evenodd\" fill-opacity=\"1\" /><path clip-path=\"url(#clip690)\" d=\"M 0 0 M2307.95 1508.44 Q2304.33 1508.44 2302.51 1512 Q2300.7 1515.55 2300.7 1522.67 Q2300.7 1529.78 2302.51 1533.35 Q2304.33 1536.89 2307.95 1536.89 Q2311.58 1536.89 2313.39 1533.35 Q2315.21 1529.78 2315.21 1522.67 Q2315.21 1515.55 2313.39 1512 Q2311.58 1508.44 2307.95 1508.44 M2307.95 1504.73 Q2313.76 1504.73 2316.81 1509.34 Q2319.89 1513.92 2319.89 1522.67 Q2319.89 1531.4 2316.81 1536.01 Q2313.76 1540.59 2307.95 1540.59 Q2302.14 1540.59 2299.06 1536.01 Q2296 1531.4 2296 1522.67 Q2296 1513.92 2299.06 1509.34 Q2302.14 1504.73 2307.95 1504.73 Z\" fill=\"#000000\" fill-rule=\"evenodd\" fill-opacity=\"1\" /><path clip-path=\"url(#clip690)\" d=\"M 0 0 M74.9365 1360.05 Q71.3254 1360.05 69.4967 1363.62 Q67.6912 1367.16 67.6912 1374.29 Q67.6912 1381.39 69.4967 1384.96 Q71.3254 1388.5 74.9365 1388.5 Q78.5707 1388.5 80.3763 1384.96 Q82.205 1381.39 82.205 1374.29 Q82.205 1367.16 80.3763 1363.62 Q78.5707 1360.05 74.9365 1360.05 M74.9365 1356.35 Q80.7467 1356.35 83.8022 1360.95 Q86.8809 1365.54 86.8809 1374.29 Q86.8809 1383.01 83.8022 1387.62 Q80.7467 1392.2 74.9365 1392.2 Q69.1264 1392.2 66.0477 1387.62 Q62.9921 1383.01 62.9921 1374.29 Q62.9921 1365.54 66.0477 1360.95 Q69.1264 1356.35 74.9365 1356.35 Z\" fill=\"#000000\" fill-rule=\"evenodd\" fill-opacity=\"1\" /><path clip-path=\"url(#clip690)\" d=\"M 0 0 M91.9503 1385.65 L96.8345 1385.65 L96.8345 1391.53 L91.9503 1391.53 L91.9503 1385.65 Z\" fill=\"#000000\" fill-rule=\"evenodd\" fill-opacity=\"1\" /><path clip-path=\"url(#clip690)\" d=\"M 0 0 M111.904 1360.05 Q108.293 1360.05 106.464 1363.62 Q104.659 1367.16 104.659 1374.29 Q104.659 1381.39 106.464 1384.96 Q108.293 1388.5 111.904 1388.5 Q115.538 1388.5 117.344 1384.96 Q119.172 1381.39 119.172 1374.29 Q119.172 1367.16 117.344 1363.62 Q115.538 1360.05 111.904 1360.05 M111.904 1356.35 Q117.714 1356.35 120.77 1360.95 Q123.848 1365.54 123.848 1374.29 Q123.848 1383.01 120.77 1387.62 Q117.714 1392.2 111.904 1392.2 Q106.094 1392.2 103.015 1387.62 Q99.9595 1383.01 99.9595 1374.29 Q99.9595 1365.54 103.015 1360.95 Q106.094 1356.35 111.904 1356.35 Z\" fill=\"#000000\" fill-rule=\"evenodd\" fill-opacity=\"1\" /><path clip-path=\"url(#clip690)\" d=\"M 0 0 M138.918 1360.05 Q135.307 1360.05 133.478 1363.62 Q131.672 1367.16 131.672 1374.29 Q131.672 1381.39 133.478 1384.96 Q135.307 1388.5 138.918 1388.5 Q142.552 1388.5 144.357 1384.96 Q146.186 1381.39 146.186 1374.29 Q146.186 1367.16 144.357 1363.62 Q142.552 1360.05 138.918 1360.05 M138.918 1356.35 Q144.728 1356.35 147.783 1360.95 Q150.862 1365.54 150.862 1374.29 Q150.862 1383.01 147.783 1387.62 Q144.728 1392.2 138.918 1392.2 Q133.107 1392.2 130.029 1387.62 Q126.973 1383.01 126.973 1374.29 Q126.973 1365.54 130.029 1360.95 Q133.107 1356.35 138.918 1356.35 Z\" fill=\"#000000\" fill-rule=\"evenodd\" fill-opacity=\"1\" /><path clip-path=\"url(#clip690)\" d=\"M 0 0 M77.5291 1037.66 Q73.918 1037.66 72.0893 1041.23 Q70.2838 1044.77 70.2838 1051.9 Q70.2838 1059 72.0893 1062.57 Q73.918 1066.11 77.5291 1066.11 Q81.1633 1066.11 82.9689 1062.57 Q84.7976 1059 84.7976 1051.9 Q84.7976 1044.77 82.9689 1041.23 Q81.1633 1037.66 77.5291 1037.66 M77.5291 1033.96 Q83.3392 1033.96 86.3948 1038.56 Q89.4735 1043.15 89.4735 1051.9 Q89.4735 1060.62 86.3948 1065.23 Q83.3392 1069.81 77.5291 1069.81 Q71.7189 1069.81 68.6402 1065.23 Q65.5847 1060.62 65.5847 1051.9 Q65.5847 1043.15 68.6402 1038.56 Q71.7189 1033.96 77.5291 1033.96 Z\" fill=\"#000000\" fill-rule=\"evenodd\" fill-opacity=\"1\" /><path clip-path=\"url(#clip690)\" d=\"M 0 0 M94.5429 1063.26 L99.4271 1063.26 L99.4271 1069.14 L94.5429 1069.14 L94.5429 1063.26 Z\" fill=\"#000000\" fill-rule=\"evenodd\" fill-opacity=\"1\" /><path clip-path=\"url(#clip690)\" d=\"M 0 0 M108.524 1065.21 L124.844 1065.21 L124.844 1069.14 L102.899 1069.14 L102.899 1065.21 Q105.561 1062.45 110.145 1057.82 Q114.751 1053.17 115.932 1051.83 Q118.177 1049.3 119.057 1047.57 Q119.959 1045.81 119.959 1044.12 Q119.959 1041.37 118.015 1039.63 Q116.094 1037.89 112.992 1037.89 Q110.793 1037.89 108.339 1038.66 Q105.909 1039.42 103.131 1040.97 L103.131 1036.25 Q105.955 1035.12 108.409 1034.54 Q110.862 1033.96 112.899 1033.96 Q118.27 1033.96 121.464 1036.64 Q124.658 1039.33 124.658 1043.82 Q124.658 1045.95 123.848 1047.87 Q123.061 1049.77 120.955 1052.36 Q120.376 1053.03 117.274 1056.25 Q114.172 1059.44 108.524 1065.21 Z\" fill=\"#000000\" fill-rule=\"evenodd\" fill-opacity=\"1\" /><path clip-path=\"url(#clip690)\" d=\"M 0 0 M129.959 1034.58 L148.316 1034.58 L148.316 1038.52 L134.242 1038.52 L134.242 1046.99 Q135.26 1046.64 136.279 1046.48 Q137.297 1046.3 138.316 1046.3 Q144.103 1046.3 147.482 1049.47 Q150.862 1052.64 150.862 1058.05 Q150.862 1063.63 147.39 1066.74 Q143.918 1069.81 137.598 1069.81 Q135.422 1069.81 133.154 1069.44 Q130.908 1069.07 128.501 1068.33 L128.501 1063.63 Q130.584 1064.77 132.807 1065.32 Q135.029 1065.88 137.506 1065.88 Q141.51 1065.88 143.848 1063.77 Q146.186 1061.67 146.186 1058.05 Q146.186 1054.44 143.848 1052.34 Q141.51 1050.23 137.506 1050.23 Q135.631 1050.23 133.756 1050.65 Q131.904 1051.06 129.959 1051.94 L129.959 1034.58 Z\" fill=\"#000000\" fill-rule=\"evenodd\" fill-opacity=\"1\" /><path clip-path=\"url(#clip690)\" d=\"M 0 0 M75.9319 715.272 Q72.3208 715.272 70.4921 718.837 Q68.6865 722.379 68.6865 729.508 Q68.6865 736.615 70.4921 740.18 Q72.3208 743.721 75.9319 743.721 Q79.5661 743.721 81.3717 740.18 Q83.2004 736.615 83.2004 729.508 Q83.2004 722.379 81.3717 718.837 Q79.5661 715.272 75.9319 715.272 M75.9319 711.569 Q81.742 711.569 84.7976 716.175 Q87.8763 720.758 87.8763 729.508 Q87.8763 738.235 84.7976 742.842 Q81.742 747.425 75.9319 747.425 Q70.1217 747.425 67.043 742.842 Q63.9875 738.235 63.9875 729.508 Q63.9875 720.758 67.043 716.175 Q70.1217 711.569 75.9319 711.569 Z\" fill=\"#000000\" fill-rule=\"evenodd\" fill-opacity=\"1\" /><path clip-path=\"url(#clip690)\" d=\"M 0 0 M92.9457 740.874 L97.8299 740.874 L97.8299 746.754 L92.9457 746.754 L92.9457 740.874 Z\" fill=\"#000000\" fill-rule=\"evenodd\" fill-opacity=\"1\" /><path clip-path=\"url(#clip690)\" d=\"M 0 0 M102.946 712.194 L121.302 712.194 L121.302 716.129 L107.228 716.129 L107.228 724.601 Q108.247 724.254 109.265 724.092 Q110.284 723.907 111.302 723.907 Q117.089 723.907 120.469 727.078 Q123.848 730.249 123.848 735.666 Q123.848 741.244 120.376 744.346 Q116.904 747.425 110.584 747.425 Q108.409 747.425 106.14 747.055 Q103.895 746.684 101.487 745.943 L101.487 741.244 Q103.571 742.379 105.793 742.934 Q108.015 743.49 110.492 743.49 Q114.496 743.49 116.834 741.383 Q119.172 739.277 119.172 735.666 Q119.172 732.055 116.834 729.948 Q114.496 727.842 110.492 727.842 Q108.617 727.842 106.742 728.258 Q104.89 728.675 102.946 729.555 L102.946 712.194 Z\" fill=\"#000000\" fill-rule=\"evenodd\" fill-opacity=\"1\" /><path clip-path=\"url(#clip690)\" d=\"M 0 0 M138.918 715.272 Q135.307 715.272 133.478 718.837 Q131.672 722.379 131.672 729.508 Q131.672 736.615 133.478 740.18 Q135.307 743.721 138.918 743.721 Q142.552 743.721 144.357 740.18 Q146.186 736.615 146.186 729.508 Q146.186 722.379 144.357 718.837 Q142.552 715.272 138.918 715.272 M138.918 711.569 Q144.728 711.569 147.783 716.175 Q150.862 720.758 150.862 729.508 Q150.862 738.235 147.783 742.842 Q144.728 747.425 138.918 747.425 Q133.107 747.425 130.029 742.842 Q126.973 738.235 126.973 729.508 Q126.973 720.758 130.029 716.175 Q133.107 711.569 138.918 711.569 Z\" fill=\"#000000\" fill-rule=\"evenodd\" fill-opacity=\"1\" /><path clip-path=\"url(#clip690)\" d=\"M 0 0 M76.8346 392.883 Q73.2236 392.883 71.3949 396.448 Q69.5893 399.99 69.5893 407.119 Q69.5893 414.226 71.3949 417.79 Q73.2236 421.332 76.8346 421.332 Q80.4689 421.332 82.2744 417.79 Q84.1031 414.226 84.1031 407.119 Q84.1031 399.99 82.2744 396.448 Q80.4689 392.883 76.8346 392.883 M76.8346 389.179 Q82.6448 389.179 85.7003 393.786 Q88.779 398.369 88.779 407.119 Q88.779 415.846 85.7003 420.452 Q82.6448 425.036 76.8346 425.036 Q71.0245 425.036 67.9458 420.452 Q64.8903 415.846 64.8903 407.119 Q64.8903 398.369 67.9458 393.786 Q71.0245 389.179 76.8346 389.179 Z\" fill=\"#000000\" fill-rule=\"evenodd\" fill-opacity=\"1\" /><path clip-path=\"url(#clip690)\" d=\"M 0 0 M93.8484 418.485 L98.7327 418.485 L98.7327 424.364 L93.8484 424.364 L93.8484 418.485 Z\" fill=\"#000000\" fill-rule=\"evenodd\" fill-opacity=\"1\" /><path clip-path=\"url(#clip690)\" d=\"M 0 0 M102.622 389.804 L124.844 389.804 L124.844 391.795 L112.297 424.364 L107.413 424.364 L119.219 393.74 L102.622 393.74 L102.622 389.804 Z\" fill=\"#000000\" fill-rule=\"evenodd\" fill-opacity=\"1\" /><path clip-path=\"url(#clip690)\" d=\"M 0 0 M129.959 389.804 L148.316 389.804 L148.316 393.74 L134.242 393.74 L134.242 402.212 Q135.26 401.865 136.279 401.703 Q137.297 401.517 138.316 401.517 Q144.103 401.517 147.482 404.689 Q150.862 407.86 150.862 413.277 Q150.862 418.855 147.39 421.957 Q143.918 425.036 137.598 425.036 Q135.422 425.036 133.154 424.665 Q130.908 424.295 128.501 423.554 L128.501 418.855 Q130.584 419.989 132.807 420.545 Q135.029 421.101 137.506 421.101 Q141.51 421.101 143.848 418.994 Q146.186 416.888 146.186 413.277 Q146.186 409.665 143.848 407.559 Q141.51 405.453 137.506 405.453 Q135.631 405.453 133.756 405.869 Q131.904 406.286 129.959 407.165 L129.959 389.804 Z\" fill=\"#000000\" fill-rule=\"evenodd\" fill-opacity=\"1\" /><path clip-path=\"url(#clip690)\" d=\"M 0 0 M66.9736 98.0401 L74.6124 98.0401 L74.6124 71.6745 L66.3023 73.3412 L66.3023 69.082 L74.5661 67.4153 L79.242 67.4153 L79.242 98.0401 L86.8809 98.0401 L86.8809 101.975 L66.9736 101.975 L66.9736 98.0401 Z\" fill=\"#000000\" fill-rule=\"evenodd\" fill-opacity=\"1\" /><path clip-path=\"url(#clip690)\" d=\"M 0 0 M91.9503 96.0957 L96.8345 96.0957 L96.8345 101.975 L91.9503 101.975 L91.9503 96.0957 Z\" fill=\"#000000\" fill-rule=\"evenodd\" fill-opacity=\"1\" /><path clip-path=\"url(#clip690)\" d=\"M 0 0 M111.904 70.494 Q108.293 70.494 106.464 74.0588 Q104.659 77.6004 104.659 84.73 Q104.659 91.8365 106.464 95.4013 Q108.293 98.9429 111.904 98.9429 Q115.538 98.9429 117.344 95.4013 Q119.172 91.8365 119.172 84.73 Q119.172 77.6004 117.344 74.0588 Q115.538 70.494 111.904 70.494 M111.904 66.7903 Q117.714 66.7903 120.77 71.3968 Q123.848 75.9801 123.848 84.73 Q123.848 93.4568 120.77 98.0633 Q117.714 102.647 111.904 102.647 Q106.094 102.647 103.015 98.0633 Q99.9595 93.4568 99.9595 84.73 Q99.9595 75.9801 103.015 71.3968 Q106.094 66.7903 111.904 66.7903 Z\" fill=\"#000000\" fill-rule=\"evenodd\" fill-opacity=\"1\" /><path clip-path=\"url(#clip690)\" d=\"M 0 0 M138.918 70.494 Q135.307 70.494 133.478 74.0588 Q131.672 77.6004 131.672 84.73 Q131.672 91.8365 133.478 95.4013 Q135.307 98.9429 138.918 98.9429 Q142.552 98.9429 144.357 95.4013 Q146.186 91.8365 146.186 84.73 Q146.186 77.6004 144.357 74.0588 Q142.552 70.494 138.918 70.494 M138.918 66.7903 Q144.728 66.7903 147.783 71.3968 Q150.862 75.9801 150.862 84.73 Q150.862 93.4568 147.783 98.0633 Q144.728 102.647 138.918 102.647 Q133.107 102.647 130.029 98.0633 Q126.973 93.4568 126.973 84.73 Q126.973 75.9801 130.029 71.3968 Q133.107 66.7903 138.918 66.7903 Z\" fill=\"#000000\" fill-rule=\"evenodd\" fill-opacity=\"1\" /><polyline clip-path=\"url(#clip692)\" style=\"stroke:#009af9; stroke-width:4; stroke-opacity:1; fill:none\" points=\"\n",
       "  236.501,1324.65 257.254,1356.89 278.008,1383.66 298.762,1405.26 319.515,1421.99 340.269,1434.12 361.023,1441.94 381.776,1445.71 402.53,1445.72 423.284,1442.2 \n",
       "  444.038,1435.43 464.791,1425.65 485.545,1413.1 506.299,1398.01 527.052,1380.61 547.806,1361.13 568.56,1339.79 589.314,1316.79 610.067,1292.34 630.821,1266.63 \n",
       "  651.575,1239.87 672.328,1212.23 693.082,1183.89 713.836,1155.04 734.589,1125.83 755.343,1096.43 776.097,1066.98 796.851,1037.65 817.604,1008.58 838.358,979.887 \n",
       "  859.112,951.717 879.865,924.191 900.619,897.426 921.373,871.533 942.127,846.618 962.88,822.78 983.634,800.113 1004.39,778.701 1025.14,758.627 1045.9,739.965 \n",
       "  1066.65,722.782 1087.4,707.141 1108.16,693.098 1128.91,680.701 1149.66,669.995 1170.42,661.016 1191.17,653.796 1211.92,648.36 1232.68,644.725 1253.43,642.904 \n",
       "  1274.19,642.904 1294.94,644.725 1315.69,648.36 1336.45,653.796 1357.2,661.016 1377.95,669.995 1398.71,680.701 1419.46,693.098 1440.22,707.141 1460.97,722.782 \n",
       "  1481.72,739.965 1502.48,758.627 1523.23,778.701 1543.98,800.113 1564.74,822.78 1585.49,846.618 1606.25,871.533 1627,897.426 1647.75,924.191 1668.51,951.717 \n",
       "  1689.26,979.887 1710.01,1008.58 1730.77,1037.65 1751.52,1066.98 1772.27,1096.43 1793.03,1125.83 1813.78,1155.04 1834.54,1183.89 1855.29,1212.23 1876.04,1239.87 \n",
       "  1896.8,1266.63 1917.55,1292.34 1938.3,1316.79 1959.06,1339.79 1979.81,1361.13 2000.57,1380.61 2021.32,1398.01 2042.07,1413.1 2062.83,1425.65 2083.58,1435.43 \n",
       "  2104.33,1442.2 2125.09,1445.72 2145.84,1445.71 2166.6,1441.94 2187.35,1434.12 2208.1,1421.99 2228.86,1405.26 2249.61,1383.66 2270.36,1356.89 2291.12,1324.65 \n",
       "  \n",
       "  \"/>\n",
       "<polyline clip-path=\"url(#clip692)\" style=\"stroke:#e26f46; stroke-width:12; stroke-opacity:1; fill:none\" points=\"\n",
       "  236.501,1324.65 257.254,1322.67 278.008,1320.57 298.762,1318.33 319.515,1315.96 340.269,1313.44 361.023,1310.75 381.776,1307.88 402.53,1304.82 423.284,1301.54 \n",
       "  444.038,1298.03 464.791,1294.27 485.545,1290.23 506.299,1285.88 527.052,1281.2 547.806,1276.14 568.56,1270.68 589.314,1264.75 610.067,1258.33 630.821,1251.34 \n",
       "  651.575,1243.72 672.328,1235.4 693.082,1226.3 713.836,1216.32 734.589,1205.34 755.343,1193.25 776.097,1179.88 796.851,1165.09 817.604,1148.66 838.358,1130.38 \n",
       "  859.112,1109.98 879.865,1087.17 900.619,1061.61 921.373,1032.9 942.127,1000.61 962.88,964.243 983.634,923.28 1004.39,877.165 1025.14,825.353 1045.9,767.369 \n",
       "  1066.65,702.896 1087.4,631.92 1108.16,554.925 1128.91,473.144 1149.66,388.836 1170.42,305.51 1191.17,227.966 1211.92,161.999 1232.68,113.635 1253.43,87.9763 \n",
       "  1274.19,87.9763 1294.94,113.635 1315.69,161.999 1336.45,227.966 1357.2,305.51 1377.95,388.836 1398.71,473.144 1419.46,554.925 1440.22,631.92 1460.97,702.896 \n",
       "  1481.72,767.369 1502.48,825.353 1523.23,877.165 1543.98,923.28 1564.74,964.243 1585.49,1000.61 1606.25,1032.9 1627,1061.61 1647.75,1087.17 1668.51,1109.98 \n",
       "  1689.26,1130.38 1710.01,1148.66 1730.77,1165.09 1751.52,1179.88 1772.27,1193.25 1793.03,1205.34 1813.78,1216.32 1834.54,1226.3 1855.29,1235.4 1876.04,1243.72 \n",
       "  1896.8,1251.34 1917.55,1258.33 1938.3,1264.75 1959.06,1270.68 1979.81,1276.14 2000.57,1281.2 2021.32,1285.88 2042.07,1290.23 2062.83,1294.27 2083.58,1298.03 \n",
       "  2104.33,1301.54 2125.09,1304.82 2145.84,1307.88 2166.6,1310.75 2187.35,1313.44 2208.1,1315.96 2228.86,1318.33 2249.61,1320.57 2270.36,1322.67 2291.12,1324.65 \n",
       "  \n",
       "  \"/>\n",
       "<path clip-path=\"url(#clip690)\" d=\"\n",
       "M1912.63 312.204 L2280.76 312.204 L2280.76 130.764 L1912.63 130.764  Z\n",
       "  \" fill=\"#ffffff\" fill-rule=\"evenodd\" fill-opacity=\"1\"/>\n",
       "<polyline clip-path=\"url(#clip690)\" style=\"stroke:#000000; stroke-width:4; stroke-opacity:1; fill:none\" points=\"\n",
       "  1912.63,312.204 2280.76,312.204 2280.76,130.764 1912.63,130.764 1912.63,312.204 \n",
       "  \"/>\n",
       "<polyline clip-path=\"url(#clip690)\" style=\"stroke:#009af9; stroke-width:4; stroke-opacity:1; fill:none\" points=\"\n",
       "  1936.63,191.244 2080.63,191.244 \n",
       "  \"/>\n",
       "<path clip-path=\"url(#clip690)\" d=\"M 0 0 M2109.31 177.807 L2109.31 190.793 L2115.19 190.793 Q2118.45 190.793 2120.23 189.103 Q2122.02 187.413 2122.02 184.288 Q2122.02 181.186 2120.23 179.496 Q2118.45 177.807 2115.19 177.807 L2109.31 177.807 M2104.63 173.964 L2115.19 173.964 Q2121 173.964 2123.96 176.603 Q2126.95 179.219 2126.95 184.288 Q2126.95 189.404 2123.96 192.02 Q2121 194.635 2115.19 194.635 L2109.31 194.635 L2109.31 208.524 L2104.63 208.524 L2104.63 173.964 Z\" fill=\"#000000\" fill-rule=\"evenodd\" fill-opacity=\"1\" /><path clip-path=\"url(#clip690)\" d=\"M 0 0 M2151.11 216.394 L2151.11 219.705 L2126.48 219.705 L2126.48 216.394 L2151.11 216.394 Z\" fill=\"#000000\" fill-rule=\"evenodd\" fill-opacity=\"1\" /><path clip-path=\"url(#clip690)\" d=\"M 0 0 M2156.23 173.964 L2174.58 173.964 L2174.58 177.899 L2160.51 177.899 L2160.51 186.371 Q2161.53 186.024 2162.55 185.862 Q2163.57 185.677 2164.58 185.677 Q2170.37 185.677 2173.75 188.848 Q2177.13 192.02 2177.13 197.436 Q2177.13 203.015 2173.66 206.117 Q2170.19 209.195 2163.87 209.195 Q2161.69 209.195 2159.42 208.825 Q2157.18 208.455 2154.77 207.714 L2154.77 203.015 Q2156.85 204.149 2159.08 204.705 Q2161.3 205.26 2163.77 205.26 Q2167.78 205.26 2170.12 203.154 Q2172.46 201.047 2172.46 197.436 Q2172.46 193.825 2170.12 191.719 Q2167.78 189.612 2163.77 189.612 Q2161.9 189.612 2160.02 190.029 Q2158.17 190.445 2156.23 191.325 L2156.23 173.964 Z\" fill=\"#000000\" fill-rule=\"evenodd\" fill-opacity=\"1\" /><path clip-path=\"url(#clip690)\" d=\"M 0 0 M2191.83 172.552 Q2188.73 177.876 2187.22 183.084 Q2185.72 188.293 2185.72 193.64 Q2185.72 198.987 2187.22 204.242 Q2188.75 209.473 2191.83 214.774 L2188.13 214.774 Q2184.65 209.334 2182.92 204.08 Q2181.21 198.825 2181.21 193.64 Q2181.21 188.478 2182.92 183.246 Q2184.63 178.015 2188.13 172.552 L2191.83 172.552 Z\" fill=\"#000000\" fill-rule=\"evenodd\" fill-opacity=\"1\" /><path clip-path=\"url(#clip690)\" d=\"M 0 0 M2217.85 182.598 L2208.47 195.214 L2218.33 208.524 L2213.31 208.524 L2205.77 198.339 L2198.22 208.524 L2193.2 208.524 L2203.27 194.959 L2194.05 182.598 L2199.08 182.598 L2205.95 191.834 L2212.83 182.598 L2217.85 182.598 Z\" fill=\"#000000\" fill-rule=\"evenodd\" fill-opacity=\"1\" /><path clip-path=\"url(#clip690)\" d=\"M 0 0 M2222.13 172.552 L2225.83 172.552 Q2229.31 178.015 2231.02 183.246 Q2232.76 188.478 2232.76 193.64 Q2232.76 198.825 2231.02 204.08 Q2229.31 209.334 2225.83 214.774 L2222.13 214.774 Q2225.21 209.473 2226.71 204.242 Q2228.24 198.987 2228.24 193.64 Q2228.24 188.293 2226.71 183.084 Q2225.21 177.876 2222.13 172.552 Z\" fill=\"#000000\" fill-rule=\"evenodd\" fill-opacity=\"1\" /><polyline clip-path=\"url(#clip690)\" style=\"stroke:#e26f46; stroke-width:4; stroke-opacity:1; fill:none\" points=\"\n",
       "  1936.63,251.724 2080.63,251.724 \n",
       "  \"/>\n",
       "<path clip-path=\"url(#clip690)\" d=\"M 0 0 M2123.54 255.74 Q2123.54 251.111 2121.62 248.564 Q2119.72 246.018 2116.28 246.018 Q2112.85 246.018 2110.93 248.564 Q2109.03 251.111 2109.03 255.74 Q2109.03 260.347 2110.93 262.893 Q2112.85 265.439 2116.28 265.439 Q2119.72 265.439 2121.62 262.893 Q2123.54 260.347 2123.54 255.74 M2127.8 265.787 Q2127.8 272.407 2124.86 275.624 Q2121.92 278.865 2115.86 278.865 Q2113.61 278.865 2111.62 278.518 Q2109.63 278.194 2107.76 277.499 L2107.76 273.356 Q2109.63 274.374 2111.46 274.861 Q2113.29 275.347 2115.19 275.347 Q2119.38 275.347 2121.46 273.148 Q2123.54 270.972 2123.54 266.55 L2123.54 264.444 Q2122.22 266.736 2120.16 267.87 Q2118.1 269.004 2115.23 269.004 Q2110.46 269.004 2107.55 265.37 Q2104.63 261.736 2104.63 255.74 Q2104.63 249.722 2107.55 246.088 Q2110.46 242.453 2115.23 242.453 Q2118.1 242.453 2120.16 243.588 Q2122.22 244.722 2123.54 247.013 L2123.54 243.078 L2127.8 243.078 L2127.8 265.787 Z\" fill=\"#000000\" fill-rule=\"evenodd\" fill-opacity=\"1\" /><path clip-path=\"url(#clip690)\" d=\"M 0 0 M2142.5 233.032 Q2139.4 238.356 2137.9 243.564 Q2136.39 248.773 2136.39 254.12 Q2136.39 259.467 2137.9 264.722 Q2139.42 269.953 2142.5 275.254 L2138.8 275.254 Q2135.33 269.814 2133.59 264.56 Q2131.88 259.305 2131.88 254.12 Q2131.88 248.958 2133.59 243.726 Q2135.3 238.495 2138.8 233.032 L2142.5 233.032 Z\" fill=\"#000000\" fill-rule=\"evenodd\" fill-opacity=\"1\" /><path clip-path=\"url(#clip690)\" d=\"M 0 0 M2168.52 243.078 L2159.15 255.694 L2169.01 269.004 L2163.98 269.004 L2156.44 258.819 L2148.89 269.004 L2143.87 269.004 L2153.94 255.439 L2144.72 243.078 L2149.75 243.078 L2156.62 252.314 L2163.5 243.078 L2168.52 243.078 Z\" fill=\"#000000\" fill-rule=\"evenodd\" fill-opacity=\"1\" /><path clip-path=\"url(#clip690)\" d=\"M 0 0 M2172.8 233.032 L2176.51 233.032 Q2179.98 238.495 2181.69 243.726 Q2183.43 248.958 2183.43 254.12 Q2183.43 259.305 2181.69 264.56 Q2179.98 269.814 2176.51 275.254 L2172.8 275.254 Q2175.88 269.953 2177.39 264.722 Q2178.91 259.467 2178.91 254.12 Q2178.91 248.773 2177.39 243.564 Q2175.88 238.356 2172.8 233.032 Z\" fill=\"#000000\" fill-rule=\"evenodd\" fill-opacity=\"1\" /></svg>\n"
      ]
     },
     "execution_count": 21,
     "metadata": {},
     "output_type": "execute_result"
    }
   ],
   "source": [
    "using Plots\n",
    "N_display = 100\n",
    "g(x) = 1/(1 + 25x^2)\n",
    "x_display = range(-1, 1, length = N_display)\n",
    "y_display = g.(x_display)\n",
    "\n",
    "# interpolation\n",
    "N = 5\n",
    "x = range(-1.0, 1.0, length = N+1)\n",
    "y = g.(x)\n",
    "A_5 = [x_i^n for x_i in x, n in 0:N]\n",
    "c_5 = A_5 \\ y\n",
    "\n",
    "# use the coefficients to evaluate on x_display grid\n",
    "B_5 = [x_i^n for x_i in x_display, n in 0:N]   # calculate monomials for display grid\n",
    "y_5 = B_5 * c_5  # calculates for each in x_display_grid\n",
    "plot(x_display, y_5, label = \"P_5(x)\")\n",
    "plot!(x_display, y_display, w = 3, label = \"g(x)\")"
   ]
  },
  {
   "cell_type": "markdown",
   "metadata": {},
   "source": [
    "Note, that while the function, $ g(x) $ and the approximation with a 5th order polynomial, $ P_5(x) $ coincide at the 6 nodes, the\n",
    "approximation has a great deal of error everywhere else.\n",
    "\n",
    "The oscillations near the boundaries are the hallmarks of Runge’s Phenomena.  You might guess that increasing the number\n",
    "of grid points and order of the polynomial will lead to better approximations:"
   ]
  },
  {
   "cell_type": "code",
   "execution_count": 22,
   "metadata": {
    "hide-output": false
   },
   "outputs": [
    {
     "data": {
      "image/svg+xml": [
       "<?xml version=\"1.0\" encoding=\"utf-8\"?>\n",
       "<svg xmlns=\"http://www.w3.org/2000/svg\" xmlns:xlink=\"http://www.w3.org/1999/xlink\" width=\"600\" height=\"400\" viewBox=\"0 0 2400 1600\">\n",
       "<defs>\n",
       "  <clipPath id=\"clip730\">\n",
       "    <rect x=\"0\" y=\"0\" width=\"2400\" height=\"1600\"/>\n",
       "  </clipPath>\n",
       "</defs>\n",
       "<path clip-path=\"url(#clip730)\" d=\"\n",
       "M0 1600 L2400 1600 L2400 0 L0 0  Z\n",
       "  \" fill=\"#ffffff\" fill-rule=\"evenodd\" fill-opacity=\"1\"/>\n",
       "<defs>\n",
       "  <clipPath id=\"clip731\">\n",
       "    <rect x=\"480\" y=\"0\" width=\"1681\" height=\"1600\"/>\n",
       "  </clipPath>\n",
       "</defs>\n",
       "<path clip-path=\"url(#clip730)\" d=\"\n",
       "M148.01 1486.45 L2352.76 1486.45 L2352.76 47.2441 L148.01 47.2441  Z\n",
       "  \" fill=\"#ffffff\" fill-rule=\"evenodd\" fill-opacity=\"1\"/>\n",
       "<defs>\n",
       "  <clipPath id=\"clip732\">\n",
       "    <rect x=\"148\" y=\"47\" width=\"2206\" height=\"1440\"/>\n",
       "  </clipPath>\n",
       "</defs>\n",
       "<polyline clip-path=\"url(#clip732)\" style=\"stroke:#000000; stroke-width:2; stroke-opacity:0.1; fill:none\" points=\"\n",
       "  210.409,1486.45 210.409,47.2441 \n",
       "  \"/>\n",
       "<polyline clip-path=\"url(#clip732)\" style=\"stroke:#000000; stroke-width:2; stroke-opacity:0.1; fill:none\" points=\"\n",
       "  730.396,1486.45 730.396,47.2441 \n",
       "  \"/>\n",
       "<polyline clip-path=\"url(#clip732)\" style=\"stroke:#000000; stroke-width:2; stroke-opacity:0.1; fill:none\" points=\"\n",
       "  1250.38,1486.45 1250.38,47.2441 \n",
       "  \"/>\n",
       "<polyline clip-path=\"url(#clip732)\" style=\"stroke:#000000; stroke-width:2; stroke-opacity:0.1; fill:none\" points=\"\n",
       "  1770.37,1486.45 1770.37,47.2441 \n",
       "  \"/>\n",
       "<polyline clip-path=\"url(#clip732)\" style=\"stroke:#000000; stroke-width:2; stroke-opacity:0.1; fill:none\" points=\"\n",
       "  2290.36,1486.45 2290.36,47.2441 \n",
       "  \"/>\n",
       "<polyline clip-path=\"url(#clip732)\" style=\"stroke:#000000; stroke-width:2; stroke-opacity:0.1; fill:none\" points=\"\n",
       "  148.01,1171.21 2352.76,1171.21 \n",
       "  \"/>\n",
       "<polyline clip-path=\"url(#clip732)\" style=\"stroke:#000000; stroke-width:2; stroke-opacity:0.1; fill:none\" points=\"\n",
       "  148.01,845.41 2352.76,845.41 \n",
       "  \"/>\n",
       "<polyline clip-path=\"url(#clip732)\" style=\"stroke:#000000; stroke-width:2; stroke-opacity:0.1; fill:none\" points=\"\n",
       "  148.01,519.612 2352.76,519.612 \n",
       "  \"/>\n",
       "<polyline clip-path=\"url(#clip732)\" style=\"stroke:#000000; stroke-width:2; stroke-opacity:0.1; fill:none\" points=\"\n",
       "  148.01,193.813 2352.76,193.813 \n",
       "  \"/>\n",
       "<polyline clip-path=\"url(#clip730)\" style=\"stroke:#000000; stroke-width:4; stroke-opacity:1; fill:none\" points=\"\n",
       "  148.01,1486.45 2352.76,1486.45 \n",
       "  \"/>\n",
       "<polyline clip-path=\"url(#clip730)\" style=\"stroke:#000000; stroke-width:4; stroke-opacity:1; fill:none\" points=\"\n",
       "  148.01,1486.45 148.01,47.2441 \n",
       "  \"/>\n",
       "<polyline clip-path=\"url(#clip730)\" style=\"stroke:#000000; stroke-width:4; stroke-opacity:1; fill:none\" points=\"\n",
       "  210.409,1486.45 210.409,1469.18 \n",
       "  \"/>\n",
       "<polyline clip-path=\"url(#clip730)\" style=\"stroke:#000000; stroke-width:4; stroke-opacity:1; fill:none\" points=\"\n",
       "  730.396,1486.45 730.396,1469.18 \n",
       "  \"/>\n",
       "<polyline clip-path=\"url(#clip730)\" style=\"stroke:#000000; stroke-width:4; stroke-opacity:1; fill:none\" points=\"\n",
       "  1250.38,1486.45 1250.38,1469.18 \n",
       "  \"/>\n",
       "<polyline clip-path=\"url(#clip730)\" style=\"stroke:#000000; stroke-width:4; stroke-opacity:1; fill:none\" points=\"\n",
       "  1770.37,1486.45 1770.37,1469.18 \n",
       "  \"/>\n",
       "<polyline clip-path=\"url(#clip730)\" style=\"stroke:#000000; stroke-width:4; stroke-opacity:1; fill:none\" points=\"\n",
       "  2290.36,1486.45 2290.36,1469.18 \n",
       "  \"/>\n",
       "<polyline clip-path=\"url(#clip730)\" style=\"stroke:#000000; stroke-width:4; stroke-opacity:1; fill:none\" points=\"\n",
       "  148.01,1171.21 174.467,1171.21 \n",
       "  \"/>\n",
       "<polyline clip-path=\"url(#clip730)\" style=\"stroke:#000000; stroke-width:4; stroke-opacity:1; fill:none\" points=\"\n",
       "  148.01,845.41 174.467,845.41 \n",
       "  \"/>\n",
       "<polyline clip-path=\"url(#clip730)\" style=\"stroke:#000000; stroke-width:4; stroke-opacity:1; fill:none\" points=\"\n",
       "  148.01,519.612 174.467,519.612 \n",
       "  \"/>\n",
       "<polyline clip-path=\"url(#clip730)\" style=\"stroke:#000000; stroke-width:4; stroke-opacity:1; fill:none\" points=\"\n",
       "  148.01,193.813 174.467,193.813 \n",
       "  \"/>\n",
       "<path clip-path=\"url(#clip730)\" d=\"M 0 0 M172.793 1525.04 L185.27 1525.04 L185.27 1528.83 L172.793 1528.83 L172.793 1525.04 Z\" fill=\"#000000\" fill-rule=\"evenodd\" fill-opacity=\"1\" /><path clip-path=\"url(#clip730)\" d=\"M 0 0 M191.15 1535.98 L198.788 1535.98 L198.788 1509.62 L190.478 1511.29 L190.478 1507.03 L198.742 1505.36 L203.418 1505.36 L203.418 1535.98 L211.057 1535.98 L211.057 1539.92 L191.15 1539.92 L191.15 1535.98 Z\" fill=\"#000000\" fill-rule=\"evenodd\" fill-opacity=\"1\" /><path clip-path=\"url(#clip730)\" d=\"M 0 0 M216.126 1534.04 L221.011 1534.04 L221.011 1539.92 L216.126 1539.92 L216.126 1534.04 Z\" fill=\"#000000\" fill-rule=\"evenodd\" fill-opacity=\"1\" /><path clip-path=\"url(#clip730)\" d=\"M 0 0 M236.08 1508.44 Q232.469 1508.44 230.64 1512 Q228.835 1515.55 228.835 1522.67 Q228.835 1529.78 230.64 1533.35 Q232.469 1536.89 236.08 1536.89 Q239.714 1536.89 241.52 1533.35 Q243.348 1529.78 243.348 1522.67 Q243.348 1515.55 241.52 1512 Q239.714 1508.44 236.08 1508.44 M236.08 1504.73 Q241.89 1504.73 244.946 1509.34 Q248.024 1513.92 248.024 1522.67 Q248.024 1531.4 244.946 1536.01 Q241.89 1540.59 236.08 1540.59 Q230.27 1540.59 227.191 1536.01 Q224.136 1531.4 224.136 1522.67 Q224.136 1513.92 227.191 1509.34 Q230.27 1504.73 236.08 1504.73 Z\" fill=\"#000000\" fill-rule=\"evenodd\" fill-opacity=\"1\" /><path clip-path=\"url(#clip730)\" d=\"M 0 0 M692.665 1525.04 L705.141 1525.04 L705.141 1528.83 L692.665 1528.83 L692.665 1525.04 Z\" fill=\"#000000\" fill-rule=\"evenodd\" fill-opacity=\"1\" /><path clip-path=\"url(#clip730)\" d=\"M 0 0 M720.211 1508.44 Q716.6 1508.44 714.771 1512 Q712.965 1515.55 712.965 1522.67 Q712.965 1529.78 714.771 1533.35 Q716.6 1536.89 720.211 1536.89 Q723.845 1536.89 725.651 1533.35 Q727.479 1529.78 727.479 1522.67 Q727.479 1515.55 725.651 1512 Q723.845 1508.44 720.211 1508.44 M720.211 1504.73 Q726.021 1504.73 729.077 1509.34 Q732.155 1513.92 732.155 1522.67 Q732.155 1531.4 729.077 1536.01 Q726.021 1540.59 720.211 1540.59 Q714.401 1540.59 711.322 1536.01 Q708.266 1531.4 708.266 1522.67 Q708.266 1513.92 711.322 1509.34 Q714.401 1504.73 720.211 1504.73 Z\" fill=\"#000000\" fill-rule=\"evenodd\" fill-opacity=\"1\" /><path clip-path=\"url(#clip730)\" d=\"M 0 0 M737.225 1534.04 L742.109 1534.04 L742.109 1539.92 L737.225 1539.92 L737.225 1534.04 Z\" fill=\"#000000\" fill-rule=\"evenodd\" fill-opacity=\"1\" /><path clip-path=\"url(#clip730)\" d=\"M 0 0 M747.225 1505.36 L765.581 1505.36 L765.581 1509.3 L751.507 1509.3 L751.507 1517.77 Q752.525 1517.42 753.544 1517.26 Q754.562 1517.07 755.581 1517.07 Q761.368 1517.07 764.748 1520.24 Q768.127 1523.42 768.127 1528.83 Q768.127 1534.41 764.655 1537.51 Q761.183 1540.59 754.863 1540.59 Q752.687 1540.59 750.419 1540.22 Q748.174 1539.85 745.766 1539.11 L745.766 1534.41 Q747.85 1535.54 750.072 1536.1 Q752.294 1536.66 754.771 1536.66 Q758.775 1536.66 761.113 1534.55 Q763.451 1532.44 763.451 1528.83 Q763.451 1525.22 761.113 1523.11 Q758.775 1521.01 754.771 1521.01 Q752.896 1521.01 751.021 1521.42 Q749.169 1521.84 747.225 1522.72 L747.225 1505.36 Z\" fill=\"#000000\" fill-rule=\"evenodd\" fill-opacity=\"1\" /><path clip-path=\"url(#clip730)\" d=\"M 0 0 M1231.9 1508.44 Q1228.29 1508.44 1226.46 1512 Q1224.65 1515.55 1224.65 1522.67 Q1224.65 1529.78 1226.46 1533.35 Q1228.29 1536.89 1231.9 1536.89 Q1235.53 1536.89 1237.34 1533.35 Q1239.17 1529.78 1239.17 1522.67 Q1239.17 1515.55 1237.34 1512 Q1235.53 1508.44 1231.9 1508.44 M1231.9 1504.73 Q1237.71 1504.73 1240.77 1509.34 Q1243.84 1513.92 1243.84 1522.67 Q1243.84 1531.4 1240.77 1536.01 Q1237.71 1540.59 1231.9 1540.59 Q1226.09 1540.59 1223.01 1536.01 Q1219.96 1531.4 1219.96 1522.67 Q1219.96 1513.92 1223.01 1509.34 Q1226.09 1504.73 1231.9 1504.73 Z\" fill=\"#000000\" fill-rule=\"evenodd\" fill-opacity=\"1\" /><path clip-path=\"url(#clip730)\" d=\"M 0 0 M1248.91 1534.04 L1253.8 1534.04 L1253.8 1539.92 L1248.91 1539.92 L1248.91 1534.04 Z\" fill=\"#000000\" fill-rule=\"evenodd\" fill-opacity=\"1\" /><path clip-path=\"url(#clip730)\" d=\"M 0 0 M1268.87 1508.44 Q1265.26 1508.44 1263.43 1512 Q1261.62 1515.55 1261.62 1522.67 Q1261.62 1529.78 1263.43 1533.35 Q1265.26 1536.89 1268.87 1536.89 Q1272.5 1536.89 1274.31 1533.35 Q1276.14 1529.78 1276.14 1522.67 Q1276.14 1515.55 1274.31 1512 Q1272.5 1508.44 1268.87 1508.44 M1268.87 1504.73 Q1274.68 1504.73 1277.73 1509.34 Q1280.81 1513.92 1280.81 1522.67 Q1280.81 1531.4 1277.73 1536.01 Q1274.68 1540.59 1268.87 1540.59 Q1263.06 1540.59 1259.98 1536.01 Q1256.92 1531.4 1256.92 1522.67 Q1256.92 1513.92 1259.98 1509.34 Q1263.06 1504.73 1268.87 1504.73 Z\" fill=\"#000000\" fill-rule=\"evenodd\" fill-opacity=\"1\" /><path clip-path=\"url(#clip730)\" d=\"M 0 0 M1752.38 1508.44 Q1748.77 1508.44 1746.94 1512 Q1745.14 1515.55 1745.14 1522.67 Q1745.14 1529.78 1746.94 1533.35 Q1748.77 1536.89 1752.38 1536.89 Q1756.02 1536.89 1757.82 1533.35 Q1759.65 1529.78 1759.65 1522.67 Q1759.65 1515.55 1757.82 1512 Q1756.02 1508.44 1752.38 1508.44 M1752.38 1504.73 Q1758.19 1504.73 1761.25 1509.34 Q1764.33 1513.92 1764.33 1522.67 Q1764.33 1531.4 1761.25 1536.01 Q1758.19 1540.59 1752.38 1540.59 Q1746.57 1540.59 1743.5 1536.01 Q1740.44 1531.4 1740.44 1522.67 Q1740.44 1513.92 1743.5 1509.34 Q1746.57 1504.73 1752.38 1504.73 Z\" fill=\"#000000\" fill-rule=\"evenodd\" fill-opacity=\"1\" /><path clip-path=\"url(#clip730)\" d=\"M 0 0 M1769.4 1534.04 L1774.28 1534.04 L1774.28 1539.92 L1769.4 1539.92 L1769.4 1534.04 Z\" fill=\"#000000\" fill-rule=\"evenodd\" fill-opacity=\"1\" /><path clip-path=\"url(#clip730)\" d=\"M 0 0 M1779.4 1505.36 L1797.75 1505.36 L1797.75 1509.3 L1783.68 1509.3 L1783.68 1517.77 Q1784.7 1517.42 1785.72 1517.26 Q1786.74 1517.07 1787.75 1517.07 Q1793.54 1517.07 1796.92 1520.24 Q1800.3 1523.42 1800.3 1528.83 Q1800.3 1534.41 1796.83 1537.51 Q1793.36 1540.59 1787.04 1540.59 Q1784.86 1540.59 1782.59 1540.22 Q1780.35 1539.85 1777.94 1539.11 L1777.94 1534.41 Q1780.02 1535.54 1782.25 1536.1 Q1784.47 1536.66 1786.94 1536.66 Q1790.95 1536.66 1793.29 1534.55 Q1795.62 1532.44 1795.62 1528.83 Q1795.62 1525.22 1793.29 1523.11 Q1790.95 1521.01 1786.94 1521.01 Q1785.07 1521.01 1783.19 1521.42 Q1781.34 1521.84 1779.4 1522.72 L1779.4 1505.36 Z\" fill=\"#000000\" fill-rule=\"evenodd\" fill-opacity=\"1\" /><path clip-path=\"url(#clip730)\" d=\"M 0 0 M2262.26 1535.98 L2269.89 1535.98 L2269.89 1509.62 L2261.58 1511.29 L2261.58 1507.03 L2269.85 1505.36 L2274.52 1505.36 L2274.52 1535.98 L2282.16 1535.98 L2282.16 1539.92 L2262.26 1539.92 L2262.26 1535.98 Z\" fill=\"#000000\" fill-rule=\"evenodd\" fill-opacity=\"1\" /><path clip-path=\"url(#clip730)\" d=\"M 0 0 M2287.23 1534.04 L2292.12 1534.04 L2292.12 1539.92 L2287.23 1539.92 L2287.23 1534.04 Z\" fill=\"#000000\" fill-rule=\"evenodd\" fill-opacity=\"1\" /><path clip-path=\"url(#clip730)\" d=\"M 0 0 M2307.19 1508.44 Q2303.57 1508.44 2301.75 1512 Q2299.94 1515.55 2299.94 1522.67 Q2299.94 1529.78 2301.75 1533.35 Q2303.57 1536.89 2307.19 1536.89 Q2310.82 1536.89 2312.63 1533.35 Q2314.45 1529.78 2314.45 1522.67 Q2314.45 1515.55 2312.63 1512 Q2310.82 1508.44 2307.19 1508.44 M2307.19 1504.73 Q2313 1504.73 2316.05 1509.34 Q2319.13 1513.92 2319.13 1522.67 Q2319.13 1531.4 2316.05 1536.01 Q2313 1540.59 2307.19 1540.59 Q2301.38 1540.59 2298.3 1536.01 Q2295.24 1531.4 2295.24 1522.67 Q2295.24 1513.92 2298.3 1509.34 Q2301.38 1504.73 2307.19 1504.73 Z\" fill=\"#000000\" fill-rule=\"evenodd\" fill-opacity=\"1\" /><path clip-path=\"url(#clip730)\" d=\"M 0 0 M75.0985 1157.01 Q71.4875 1157.01 69.6588 1160.57 Q67.8532 1164.11 67.8532 1171.24 Q67.8532 1178.35 69.6588 1181.92 Q71.4875 1185.46 75.0985 1185.46 Q78.7328 1185.46 80.5383 1181.92 Q82.367 1178.35 82.367 1171.24 Q82.367 1164.11 80.5383 1160.57 Q78.7328 1157.01 75.0985 1157.01 M75.0985 1153.3 Q80.9087 1153.3 83.9642 1157.91 Q87.0429 1162.49 87.0429 1171.24 Q87.0429 1179.97 83.9642 1184.58 Q80.9087 1189.16 75.0985 1189.16 Q69.2884 1189.16 66.2097 1184.58 Q63.1542 1179.97 63.1542 1171.24 Q63.1542 1162.49 66.2097 1157.91 Q69.2884 1153.3 75.0985 1153.3 Z\" fill=\"#000000\" fill-rule=\"evenodd\" fill-opacity=\"1\" /><path clip-path=\"url(#clip730)\" d=\"M 0 0 M92.1123 1182.61 L96.9966 1182.61 L96.9966 1188.49 L92.1123 1188.49 L92.1123 1182.61 Z\" fill=\"#000000\" fill-rule=\"evenodd\" fill-opacity=\"1\" /><path clip-path=\"url(#clip730)\" d=\"M 0 0 M112.066 1157.01 Q108.455 1157.01 106.626 1160.57 Q104.821 1164.11 104.821 1171.24 Q104.821 1178.35 106.626 1181.92 Q108.455 1185.46 112.066 1185.46 Q115.7 1185.46 117.506 1181.92 Q119.334 1178.35 119.334 1171.24 Q119.334 1164.11 117.506 1160.57 Q115.7 1157.01 112.066 1157.01 M112.066 1153.3 Q117.876 1153.3 120.932 1157.91 Q124.01 1162.49 124.01 1171.24 Q124.01 1179.97 120.932 1184.58 Q117.876 1189.16 112.066 1189.16 Q106.256 1189.16 103.177 1184.58 Q100.122 1179.97 100.122 1171.24 Q100.122 1162.49 103.177 1157.91 Q106.256 1153.3 112.066 1153.3 Z\" fill=\"#000000\" fill-rule=\"evenodd\" fill-opacity=\"1\" /><path clip-path=\"url(#clip730)\" d=\"M 0 0 M75.7467 831.209 Q72.1356 831.209 70.3069 834.774 Q68.5014 838.316 68.5014 845.445 Q68.5014 852.552 70.3069 856.116 Q72.1356 859.658 75.7467 859.658 Q79.3809 859.658 81.1865 856.116 Q83.0152 852.552 83.0152 845.445 Q83.0152 838.316 81.1865 834.774 Q79.3809 831.209 75.7467 831.209 M75.7467 827.505 Q81.5568 827.505 84.6124 832.112 Q87.6911 836.695 87.6911 845.445 Q87.6911 854.172 84.6124 858.778 Q81.5568 863.362 75.7467 863.362 Q69.9365 863.362 66.8578 858.778 Q63.8023 854.172 63.8023 845.445 Q63.8023 836.695 66.8578 832.112 Q69.9365 827.505 75.7467 827.505 Z\" fill=\"#000000\" fill-rule=\"evenodd\" fill-opacity=\"1\" /><path clip-path=\"url(#clip730)\" d=\"M 0 0 M92.7605 856.811 L97.6447 856.811 L97.6447 862.69 L92.7605 862.69 L92.7605 856.811 Z\" fill=\"#000000\" fill-rule=\"evenodd\" fill-opacity=\"1\" /><path clip-path=\"url(#clip730)\" d=\"M 0 0 M116.881 844.056 Q120.237 844.774 122.112 847.042 Q124.01 849.311 124.01 852.644 Q124.01 857.76 120.492 860.561 Q116.973 863.362 110.492 863.362 Q108.316 863.362 106.001 862.922 Q103.71 862.505 101.256 861.649 L101.256 857.135 Q103.2 858.269 105.515 858.848 Q107.83 859.426 110.353 859.426 Q114.751 859.426 117.043 857.69 Q119.358 855.954 119.358 852.644 Q119.358 849.589 117.205 847.876 Q115.075 846.14 111.256 846.14 L107.228 846.14 L107.228 842.297 L111.441 842.297 Q114.89 842.297 116.719 840.931 Q118.547 839.542 118.547 836.95 Q118.547 834.288 116.649 832.876 Q114.774 831.441 111.256 831.441 Q109.334 831.441 107.135 831.857 Q104.936 832.274 102.297 833.153 L102.297 828.987 Q104.959 828.246 107.274 827.876 Q109.612 827.505 111.672 827.505 Q116.996 827.505 120.098 829.936 Q123.2 832.343 123.2 836.464 Q123.2 839.334 121.557 841.325 Q119.913 843.292 116.881 844.056 Z\" fill=\"#000000\" fill-rule=\"evenodd\" fill-opacity=\"1\" /><path clip-path=\"url(#clip730)\" d=\"M 0 0 M74.9365 505.41 Q71.3254 505.41 69.4967 508.975 Q67.6912 512.517 67.6912 519.646 Q67.6912 526.753 69.4967 530.318 Q71.3254 533.859 74.9365 533.859 Q78.5707 533.859 80.3763 530.318 Q82.205 526.753 82.205 519.646 Q82.205 512.517 80.3763 508.975 Q78.5707 505.41 74.9365 505.41 M74.9365 501.707 Q80.7467 501.707 83.8022 506.313 Q86.8809 510.896 86.8809 519.646 Q86.8809 528.373 83.8022 532.98 Q80.7467 537.563 74.9365 537.563 Q69.1264 537.563 66.0477 532.98 Q62.9921 528.373 62.9921 519.646 Q62.9921 510.896 66.0477 506.313 Q69.1264 501.707 74.9365 501.707 Z\" fill=\"#000000\" fill-rule=\"evenodd\" fill-opacity=\"1\" /><path clip-path=\"url(#clip730)\" d=\"M 0 0 M91.9503 531.012 L96.8345 531.012 L96.8345 536.892 L91.9503 536.892 L91.9503 531.012 Z\" fill=\"#000000\" fill-rule=\"evenodd\" fill-opacity=\"1\" /><path clip-path=\"url(#clip730)\" d=\"M 0 0 M112.483 517.748 Q109.334 517.748 107.483 519.901 Q105.654 522.054 105.654 525.804 Q105.654 529.531 107.483 531.706 Q109.334 533.859 112.483 533.859 Q115.631 533.859 117.459 531.706 Q119.311 529.531 119.311 525.804 Q119.311 522.054 117.459 519.901 Q115.631 517.748 112.483 517.748 M121.765 503.095 L121.765 507.355 Q120.006 506.521 118.2 506.082 Q116.418 505.642 114.659 505.642 Q110.029 505.642 107.575 508.767 Q105.145 511.892 104.797 518.211 Q106.163 516.197 108.223 515.132 Q110.284 514.044 112.76 514.044 Q117.969 514.044 120.978 517.216 Q124.01 520.364 124.01 525.804 Q124.01 531.128 120.862 534.345 Q117.714 537.563 112.483 537.563 Q106.487 537.563 103.316 532.98 Q100.145 528.373 100.145 519.646 Q100.145 511.452 104.034 506.591 Q107.922 501.707 114.473 501.707 Q116.233 501.707 118.015 502.054 Q119.821 502.401 121.765 503.095 Z\" fill=\"#000000\" fill-rule=\"evenodd\" fill-opacity=\"1\" /><path clip-path=\"url(#clip730)\" d=\"M 0 0 M75.2837 179.611 Q71.6726 179.611 69.8439 183.176 Q68.0384 186.718 68.0384 193.848 Q68.0384 200.954 69.8439 204.519 Q71.6726 208.06 75.2837 208.06 Q78.918 208.06 80.7235 204.519 Q82.5522 200.954 82.5522 193.848 Q82.5522 186.718 80.7235 183.176 Q78.918 179.611 75.2837 179.611 M75.2837 175.908 Q81.0939 175.908 84.1494 180.514 Q87.2281 185.098 87.2281 193.848 Q87.2281 202.574 84.1494 207.181 Q81.0939 211.764 75.2837 211.764 Q69.4736 211.764 66.3949 207.181 Q63.3393 202.574 63.3393 193.848 Q63.3393 185.098 66.3949 180.514 Q69.4736 175.908 75.2837 175.908 Z\" fill=\"#000000\" fill-rule=\"evenodd\" fill-opacity=\"1\" /><path clip-path=\"url(#clip730)\" d=\"M 0 0 M92.2975 205.213 L97.1818 205.213 L97.1818 211.093 L92.2975 211.093 L92.2975 205.213 Z\" fill=\"#000000\" fill-rule=\"evenodd\" fill-opacity=\"1\" /><path clip-path=\"url(#clip730)\" d=\"M 0 0 M102.39 210.375 L102.39 206.116 Q104.149 206.949 105.955 207.389 Q107.76 207.829 109.497 207.829 Q114.126 207.829 116.557 204.727 Q119.01 201.602 119.358 195.26 Q118.015 197.25 115.955 198.315 Q113.895 199.38 111.395 199.38 Q106.209 199.38 103.177 196.255 Q100.168 193.107 100.168 187.667 Q100.168 182.343 103.316 179.125 Q106.464 175.908 111.696 175.908 Q117.691 175.908 120.839 180.514 Q124.01 185.098 124.01 193.848 Q124.01 202.019 120.121 206.903 Q116.256 211.764 109.705 211.764 Q107.946 211.764 106.14 211.417 Q104.334 211.07 102.39 210.375 M111.696 195.723 Q114.844 195.723 116.672 193.57 Q118.524 191.417 118.524 187.667 Q118.524 183.94 116.672 181.787 Q114.844 179.611 111.696 179.611 Q108.547 179.611 106.696 181.787 Q104.867 183.94 104.867 187.667 Q104.867 191.417 106.696 193.57 Q108.547 195.723 111.696 195.723 Z\" fill=\"#000000\" fill-rule=\"evenodd\" fill-opacity=\"1\" /><polyline clip-path=\"url(#clip732)\" style=\"stroke:#009af9; stroke-width:4; stroke-opacity:1; fill:none\" points=\"\n",
       "  210.409,1129.44 231.418,1302.52 252.428,1401.28 273.438,1443.95 294.447,1445.72 315.457,1419.13 336.466,1374.37 357.476,1319.54 378.485,1260.95 399.495,1203.37 \n",
       "  420.505,1150.24 441.514,1103.85 462.524,1065.6 483.533,1036.06 504.543,1015.23 525.553,1002.59 546.562,997.265 567.572,998.106 588.581,1003.79 609.591,1012.91 \n",
       "  630.6,1024.02 651.61,1035.7 672.62,1046.61 693.629,1055.53 714.639,1061.36 735.648,1063.18 756.658,1060.26 777.668,1052.03 798.677,1038.13 819.687,1018.4 \n",
       "  840.696,992.823 861.706,961.602 882.715,925.077 903.725,883.74 924.735,838.212 945.744,789.226 966.754,737.602 987.763,684.233 1008.77,630.055 1029.78,576.036 \n",
       "  1050.79,523.144 1071.8,472.336 1092.81,424.532 1113.82,380.602 1134.83,341.344 1155.84,307.474 1176.85,279.606 1197.86,258.25 1218.87,243.792 1239.88,236.497 \n",
       "  1260.89,236.497 1281.9,243.792 1302.91,258.25 1323.92,279.606 1344.93,307.474 1365.94,341.344 1386.95,380.602 1407.95,424.532 1428.96,472.336 1449.97,523.144 \n",
       "  1470.98,576.036 1491.99,630.055 1513,684.233 1534.01,737.602 1555.02,789.226 1576.03,838.212 1597.04,883.74 1618.05,925.077 1639.06,961.602 1660.07,992.823 \n",
       "  1681.08,1018.4 1702.09,1038.13 1723.1,1052.03 1744.11,1060.26 1765.12,1063.18 1786.13,1061.36 1807.14,1055.53 1828.15,1046.61 1849.16,1035.7 1870.17,1024.02 \n",
       "  1891.18,1012.91 1912.18,1003.79 1933.19,998.106 1954.2,997.265 1975.21,1002.59 1996.22,1015.23 2017.23,1036.06 2038.24,1065.6 2059.25,1103.85 2080.26,1150.24 \n",
       "  2101.27,1203.37 2122.28,1260.95 2143.29,1319.54 2164.3,1374.37 2185.31,1419.13 2206.32,1445.72 2227.33,1443.95 2248.34,1401.28 2269.35,1302.52 2290.36,1129.44 \n",
       "  \n",
       "  \"/>\n",
       "<polyline clip-path=\"url(#clip732)\" style=\"stroke:#e26f46; stroke-width:12; stroke-opacity:1; fill:none\" points=\"\n",
       "  210.409,1129.44 231.418,1127.77 252.428,1126 273.438,1124.12 294.447,1122.12 315.457,1119.99 336.466,1117.73 357.476,1115.31 378.485,1112.73 399.495,1109.98 \n",
       "  420.505,1107.02 441.514,1103.85 462.524,1100.45 483.533,1096.79 504.543,1092.85 525.553,1088.59 546.562,1083.98 567.572,1079 588.581,1073.58 609.591,1067.7 \n",
       "  630.6,1061.28 651.61,1054.28 672.62,1046.61 693.629,1038.2 714.639,1028.96 735.648,1018.78 756.658,1007.52 777.668,995.062 798.677,981.229 819.687,965.833 \n",
       "  840.696,948.656 861.706,929.446 882.715,907.917 903.725,883.74 924.735,856.545 945.744,825.921 966.754,791.424 987.763,752.589 1008.77,708.956 1029.78,660.125 \n",
       "  1050.79,605.829 1071.8,546.057 1092.81,481.215 1113.82,412.344 1134.83,341.344 1155.84,271.171 1176.85,205.868 1197.86,150.315 1218.87,109.585 1239.88,87.9763 \n",
       "  1260.89,87.9763 1281.9,109.585 1302.91,150.315 1323.92,205.868 1344.93,271.171 1365.94,341.344 1386.95,412.344 1407.95,481.215 1428.96,546.057 1449.97,605.829 \n",
       "  1470.98,660.125 1491.99,708.956 1513,752.589 1534.01,791.424 1555.02,825.921 1576.03,856.545 1597.04,883.74 1618.05,907.917 1639.06,929.446 1660.07,948.656 \n",
       "  1681.08,965.833 1702.09,981.229 1723.1,995.062 1744.11,1007.52 1765.12,1018.78 1786.13,1028.96 1807.14,1038.2 1828.15,1046.61 1849.16,1054.28 1870.17,1061.28 \n",
       "  1891.18,1067.7 1912.18,1073.58 1933.19,1079 1954.2,1083.98 1975.21,1088.59 1996.22,1092.85 2017.23,1096.79 2038.24,1100.45 2059.25,1103.85 2080.26,1107.02 \n",
       "  2101.27,1109.98 2122.28,1112.73 2143.29,1115.31 2164.3,1117.73 2185.31,1119.99 2206.32,1122.12 2227.33,1124.12 2248.34,1126 2269.35,1127.77 2290.36,1129.44 \n",
       "  \n",
       "  \"/>\n",
       "<path clip-path=\"url(#clip730)\" d=\"\n",
       "M1911.82 312.204 L2280.76 312.204 L2280.76 130.764 L1911.82 130.764  Z\n",
       "  \" fill=\"#ffffff\" fill-rule=\"evenodd\" fill-opacity=\"1\"/>\n",
       "<polyline clip-path=\"url(#clip730)\" style=\"stroke:#000000; stroke-width:4; stroke-opacity:1; fill:none\" points=\"\n",
       "  1911.82,312.204 2280.76,312.204 2280.76,130.764 1911.82,130.764 1911.82,312.204 \n",
       "  \"/>\n",
       "<polyline clip-path=\"url(#clip730)\" style=\"stroke:#009af9; stroke-width:4; stroke-opacity:1; fill:none\" points=\"\n",
       "  1935.82,191.244 2079.82,191.244 \n",
       "  \"/>\n",
       "<path clip-path=\"url(#clip730)\" d=\"M 0 0 M2108.5 177.807 L2108.5 190.793 L2114.38 190.793 Q2117.64 190.793 2119.42 189.103 Q2121.21 187.413 2121.21 184.288 Q2121.21 181.186 2119.42 179.496 Q2117.64 177.807 2114.38 177.807 L2108.5 177.807 M2103.82 173.964 L2114.38 173.964 Q2120.19 173.964 2123.15 176.603 Q2126.14 179.219 2126.14 184.288 Q2126.14 189.404 2123.15 192.02 Q2120.19 194.635 2114.38 194.635 L2108.5 194.635 L2108.5 208.524 L2103.82 208.524 L2103.82 173.964 Z\" fill=\"#000000\" fill-rule=\"evenodd\" fill-opacity=\"1\" /><path clip-path=\"url(#clip730)\" d=\"M 0 0 M2150.3 216.394 L2150.3 219.705 L2125.67 219.705 L2125.67 216.394 L2150.3 216.394 Z\" fill=\"#000000\" fill-rule=\"evenodd\" fill-opacity=\"1\" /><path clip-path=\"url(#clip730)\" d=\"M 0 0 M2155.51 207.807 L2155.51 203.547 Q2157.27 204.381 2159.08 204.82 Q2160.88 205.26 2162.62 205.26 Q2167.25 205.26 2169.68 202.158 Q2172.13 199.033 2172.48 192.691 Q2171.14 194.682 2169.08 195.746 Q2167.02 196.811 2164.52 196.811 Q2159.33 196.811 2156.3 193.686 Q2153.29 190.538 2153.29 185.098 Q2153.29 179.774 2156.44 176.557 Q2159.59 173.339 2164.82 173.339 Q2170.81 173.339 2173.96 177.946 Q2177.13 182.529 2177.13 191.279 Q2177.13 199.45 2173.24 204.334 Q2169.38 209.195 2162.83 209.195 Q2161.07 209.195 2159.26 208.848 Q2157.46 208.501 2155.51 207.807 M2164.82 193.154 Q2167.96 193.154 2169.79 191.001 Q2171.65 188.848 2171.65 185.098 Q2171.65 181.371 2169.79 179.219 Q2167.96 177.043 2164.82 177.043 Q2161.67 177.043 2159.82 179.219 Q2157.99 181.371 2157.99 185.098 Q2157.99 188.848 2159.82 191.001 Q2161.67 193.154 2164.82 193.154 Z\" fill=\"#000000\" fill-rule=\"evenodd\" fill-opacity=\"1\" /><path clip-path=\"url(#clip730)\" d=\"M 0 0 M2191.83 172.552 Q2188.73 177.876 2187.22 183.084 Q2185.72 188.293 2185.72 193.64 Q2185.72 198.987 2187.22 204.242 Q2188.75 209.473 2191.83 214.774 L2188.13 214.774 Q2184.65 209.334 2182.92 204.08 Q2181.21 198.825 2181.21 193.64 Q2181.21 188.478 2182.92 183.246 Q2184.63 178.015 2188.13 172.552 L2191.83 172.552 Z\" fill=\"#000000\" fill-rule=\"evenodd\" fill-opacity=\"1\" /><path clip-path=\"url(#clip730)\" d=\"M 0 0 M2217.85 182.598 L2208.47 195.214 L2218.33 208.524 L2213.31 208.524 L2205.77 198.339 L2198.22 208.524 L2193.2 208.524 L2203.27 194.959 L2194.05 182.598 L2199.08 182.598 L2205.95 191.834 L2212.83 182.598 L2217.85 182.598 Z\" fill=\"#000000\" fill-rule=\"evenodd\" fill-opacity=\"1\" /><path clip-path=\"url(#clip730)\" d=\"M 0 0 M2222.13 172.552 L2225.83 172.552 Q2229.31 178.015 2231.02 183.246 Q2232.76 188.478 2232.76 193.64 Q2232.76 198.825 2231.02 204.08 Q2229.31 209.334 2225.83 214.774 L2222.13 214.774 Q2225.21 209.473 2226.71 204.242 Q2228.24 198.987 2228.24 193.64 Q2228.24 188.293 2226.71 183.084 Q2225.21 177.876 2222.13 172.552 Z\" fill=\"#000000\" fill-rule=\"evenodd\" fill-opacity=\"1\" /><polyline clip-path=\"url(#clip730)\" style=\"stroke:#e26f46; stroke-width:4; stroke-opacity:1; fill:none\" points=\"\n",
       "  1935.82,251.724 2079.82,251.724 \n",
       "  \"/>\n",
       "<path clip-path=\"url(#clip730)\" d=\"M 0 0 M2122.73 255.74 Q2122.73 251.111 2120.81 248.564 Q2118.91 246.018 2115.46 246.018 Q2112.04 246.018 2110.12 248.564 Q2108.22 251.111 2108.22 255.74 Q2108.22 260.347 2110.12 262.893 Q2112.04 265.439 2115.46 265.439 Q2118.91 265.439 2120.81 262.893 Q2122.73 260.347 2122.73 255.74 M2126.99 265.787 Q2126.99 272.407 2124.05 275.624 Q2121.11 278.865 2115.05 278.865 Q2112.8 278.865 2110.81 278.518 Q2108.82 278.194 2106.95 277.499 L2106.95 273.356 Q2108.82 274.374 2110.65 274.861 Q2112.48 275.347 2114.38 275.347 Q2118.57 275.347 2120.65 273.148 Q2122.73 270.972 2122.73 266.55 L2122.73 264.444 Q2121.41 266.736 2119.35 267.87 Q2117.29 269.004 2114.42 269.004 Q2109.65 269.004 2106.74 265.37 Q2103.82 261.736 2103.82 255.74 Q2103.82 249.722 2106.74 246.088 Q2109.65 242.453 2114.42 242.453 Q2117.29 242.453 2119.35 243.588 Q2121.41 244.722 2122.73 247.013 L2122.73 243.078 L2126.99 243.078 L2126.99 265.787 Z\" fill=\"#000000\" fill-rule=\"evenodd\" fill-opacity=\"1\" /><path clip-path=\"url(#clip730)\" d=\"M 0 0 M2141.69 233.032 Q2138.59 238.356 2137.09 243.564 Q2135.58 248.773 2135.58 254.12 Q2135.58 259.467 2137.09 264.722 Q2138.61 269.953 2141.69 275.254 L2137.99 275.254 Q2134.52 269.814 2132.78 264.56 Q2131.07 259.305 2131.07 254.12 Q2131.07 248.958 2132.78 243.726 Q2134.49 238.495 2137.99 233.032 L2141.69 233.032 Z\" fill=\"#000000\" fill-rule=\"evenodd\" fill-opacity=\"1\" /><path clip-path=\"url(#clip730)\" d=\"M 0 0 M2167.71 243.078 L2158.34 255.694 L2168.2 269.004 L2163.17 269.004 L2155.63 258.819 L2148.08 269.004 L2143.06 269.004 L2153.13 255.439 L2143.91 243.078 L2148.94 243.078 L2155.81 252.314 L2162.69 243.078 L2167.71 243.078 Z\" fill=\"#000000\" fill-rule=\"evenodd\" fill-opacity=\"1\" /><path clip-path=\"url(#clip730)\" d=\"M 0 0 M2171.99 233.032 L2175.7 233.032 Q2179.17 238.495 2180.88 243.726 Q2182.62 248.958 2182.62 254.12 Q2182.62 259.305 2180.88 264.56 Q2179.17 269.814 2175.7 275.254 L2171.99 275.254 Q2175.07 269.953 2176.58 264.722 Q2178.1 259.467 2178.1 254.12 Q2178.1 248.773 2176.58 243.564 Q2175.07 238.356 2171.99 233.032 Z\" fill=\"#000000\" fill-rule=\"evenodd\" fill-opacity=\"1\" /></svg>\n"
      ]
     },
     "execution_count": 22,
     "metadata": {},
     "output_type": "execute_result"
    }
   ],
   "source": [
    "N = 9\n",
    "x = range(-1.0, 1.0, length = N+1)\n",
    "y = g.(x)\n",
    "A_9 = [x_i^n for x_i in x, n in 0:N]\n",
    "c_9 = A_9 \\ y\n",
    "\n",
    "# use the coefficients to evaluate on x_display grid\n",
    "B_9 = [x_i^n for x_i in x_display, n in 0:N]   # calculate monomials for display grid\n",
    "y_9 = B_9 * c_9  # calculates for each in x_display_grid\n",
    "plot(x_display, y_9, label = \"P_9(x)\")\n",
    "plot!(x_display, y_display, w = 3, label = \"g(x)\")"
   ]
  },
  {
   "cell_type": "markdown",
   "metadata": {},
   "source": [
    "While the approximation is better near `x=0`, the oscillations near the boundaries have become worse.  Adding on extra polynomial terms will not\n",
    "globally increase the quality of the approximation."
   ]
  },
  {
   "cell_type": "markdown",
   "metadata": {},
   "source": [
    "#### Using an Orthogonal Polynomial Basis\n",
    "\n",
    "We can minimize the numerical issues of an ill-conditioned basis matrix by choosing a different basis for the polynomials.\n",
    "\n",
    "For example, [Chebyshev polynomials](https://en.wikipedia.org/wiki/Chebyshev_polynomials) form an orthonormal basis under an appropriate inner product, and we can form precise high-order approximations, with very little numerical error"
   ]
  },
  {
   "cell_type": "code",
   "execution_count": 23,
   "metadata": {
    "hide-output": false
   },
   "outputs": [
    {
     "name": "stdout",
     "output_type": "stream",
     "text": [
      "norm(g_approx.(x) - g.(x), Inf) = 4.440892098500626e-16\n"
     ]
    },
    {
     "data": {
      "image/svg+xml": [
       "<?xml version=\"1.0\" encoding=\"utf-8\"?>\n",
       "<svg xmlns=\"http://www.w3.org/2000/svg\" xmlns:xlink=\"http://www.w3.org/1999/xlink\" width=\"600\" height=\"400\" viewBox=\"0 0 2400 1600\">\n",
       "<defs>\n",
       "  <clipPath id=\"clip770\">\n",
       "    <rect x=\"0\" y=\"0\" width=\"2400\" height=\"1600\"/>\n",
       "  </clipPath>\n",
       "</defs>\n",
       "<path clip-path=\"url(#clip770)\" d=\"\n",
       "M0 1600 L2400 1600 L2400 0 L0 0  Z\n",
       "  \" fill=\"#ffffff\" fill-rule=\"evenodd\" fill-opacity=\"1\"/>\n",
       "<defs>\n",
       "  <clipPath id=\"clip771\">\n",
       "    <rect x=\"480\" y=\"0\" width=\"1681\" height=\"1600\"/>\n",
       "  </clipPath>\n",
       "</defs>\n",
       "<path clip-path=\"url(#clip770)\" d=\"\n",
       "M148.334 1486.45 L2352.76 1486.45 L2352.76 47.2441 L148.334 47.2441  Z\n",
       "  \" fill=\"#ffffff\" fill-rule=\"evenodd\" fill-opacity=\"1\"/>\n",
       "<defs>\n",
       "  <clipPath id=\"clip772\">\n",
       "    <rect x=\"148\" y=\"47\" width=\"2205\" height=\"1440\"/>\n",
       "  </clipPath>\n",
       "</defs>\n",
       "<polyline clip-path=\"url(#clip772)\" style=\"stroke:#000000; stroke-width:2; stroke-opacity:0.1; fill:none\" points=\"\n",
       "  210.724,1486.45 210.724,47.2441 \n",
       "  \"/>\n",
       "<polyline clip-path=\"url(#clip772)\" style=\"stroke:#000000; stroke-width:2; stroke-opacity:0.1; fill:none\" points=\"\n",
       "  730.634,1486.45 730.634,47.2441 \n",
       "  \"/>\n",
       "<polyline clip-path=\"url(#clip772)\" style=\"stroke:#000000; stroke-width:2; stroke-opacity:0.1; fill:none\" points=\"\n",
       "  1250.55,1486.45 1250.55,47.2441 \n",
       "  \"/>\n",
       "<polyline clip-path=\"url(#clip772)\" style=\"stroke:#000000; stroke-width:2; stroke-opacity:0.1; fill:none\" points=\"\n",
       "  1770.46,1486.45 1770.46,47.2441 \n",
       "  \"/>\n",
       "<polyline clip-path=\"url(#clip772)\" style=\"stroke:#000000; stroke-width:2; stroke-opacity:0.1; fill:none\" points=\"\n",
       "  2290.37,1486.45 2290.37,47.2441 \n",
       "  \"/>\n",
       "<polyline clip-path=\"url(#clip772)\" style=\"stroke:#000000; stroke-width:2; stroke-opacity:0.1; fill:none\" points=\"\n",
       "  148.334,1217.01 2352.76,1217.01 \n",
       "  \"/>\n",
       "<polyline clip-path=\"url(#clip772)\" style=\"stroke:#000000; stroke-width:2; stroke-opacity:0.1; fill:none\" points=\"\n",
       "  148.334,933.851 2352.76,933.851 \n",
       "  \"/>\n",
       "<polyline clip-path=\"url(#clip772)\" style=\"stroke:#000000; stroke-width:2; stroke-opacity:0.1; fill:none\" points=\"\n",
       "  148.334,650.692 2352.76,650.692 \n",
       "  \"/>\n",
       "<polyline clip-path=\"url(#clip772)\" style=\"stroke:#000000; stroke-width:2; stroke-opacity:0.1; fill:none\" points=\"\n",
       "  148.334,367.533 2352.76,367.533 \n",
       "  \"/>\n",
       "<polyline clip-path=\"url(#clip772)\" style=\"stroke:#000000; stroke-width:2; stroke-opacity:0.1; fill:none\" points=\"\n",
       "  148.334,84.3741 2352.76,84.3741 \n",
       "  \"/>\n",
       "<polyline clip-path=\"url(#clip770)\" style=\"stroke:#000000; stroke-width:4; stroke-opacity:1; fill:none\" points=\"\n",
       "  148.334,1486.45 2352.76,1486.45 \n",
       "  \"/>\n",
       "<polyline clip-path=\"url(#clip770)\" style=\"stroke:#000000; stroke-width:4; stroke-opacity:1; fill:none\" points=\"\n",
       "  148.334,1486.45 148.334,47.2441 \n",
       "  \"/>\n",
       "<polyline clip-path=\"url(#clip770)\" style=\"stroke:#000000; stroke-width:4; stroke-opacity:1; fill:none\" points=\"\n",
       "  210.724,1486.45 210.724,1469.18 \n",
       "  \"/>\n",
       "<polyline clip-path=\"url(#clip770)\" style=\"stroke:#000000; stroke-width:4; stroke-opacity:1; fill:none\" points=\"\n",
       "  730.634,1486.45 730.634,1469.18 \n",
       "  \"/>\n",
       "<polyline clip-path=\"url(#clip770)\" style=\"stroke:#000000; stroke-width:4; stroke-opacity:1; fill:none\" points=\"\n",
       "  1250.55,1486.45 1250.55,1469.18 \n",
       "  \"/>\n",
       "<polyline clip-path=\"url(#clip770)\" style=\"stroke:#000000; stroke-width:4; stroke-opacity:1; fill:none\" points=\"\n",
       "  1770.46,1486.45 1770.46,1469.18 \n",
       "  \"/>\n",
       "<polyline clip-path=\"url(#clip770)\" style=\"stroke:#000000; stroke-width:4; stroke-opacity:1; fill:none\" points=\"\n",
       "  2290.37,1486.45 2290.37,1469.18 \n",
       "  \"/>\n",
       "<polyline clip-path=\"url(#clip770)\" style=\"stroke:#000000; stroke-width:4; stroke-opacity:1; fill:none\" points=\"\n",
       "  148.334,1217.01 174.787,1217.01 \n",
       "  \"/>\n",
       "<polyline clip-path=\"url(#clip770)\" style=\"stroke:#000000; stroke-width:4; stroke-opacity:1; fill:none\" points=\"\n",
       "  148.334,933.851 174.787,933.851 \n",
       "  \"/>\n",
       "<polyline clip-path=\"url(#clip770)\" style=\"stroke:#000000; stroke-width:4; stroke-opacity:1; fill:none\" points=\"\n",
       "  148.334,650.692 174.787,650.692 \n",
       "  \"/>\n",
       "<polyline clip-path=\"url(#clip770)\" style=\"stroke:#000000; stroke-width:4; stroke-opacity:1; fill:none\" points=\"\n",
       "  148.334,367.533 174.787,367.533 \n",
       "  \"/>\n",
       "<polyline clip-path=\"url(#clip770)\" style=\"stroke:#000000; stroke-width:4; stroke-opacity:1; fill:none\" points=\"\n",
       "  148.334,84.3741 174.787,84.3741 \n",
       "  \"/>\n",
       "<path clip-path=\"url(#clip770)\" d=\"M 0 0 M173.108 1525.04 L185.585 1525.04 L185.585 1528.83 L173.108 1528.83 L173.108 1525.04 Z\" fill=\"#000000\" fill-rule=\"evenodd\" fill-opacity=\"1\" /><path clip-path=\"url(#clip770)\" d=\"M 0 0 M191.465 1535.98 L199.103 1535.98 L199.103 1509.62 L190.793 1511.29 L190.793 1507.03 L199.057 1505.36 L203.733 1505.36 L203.733 1535.98 L211.372 1535.98 L211.372 1539.92 L191.465 1539.92 L191.465 1535.98 Z\" fill=\"#000000\" fill-rule=\"evenodd\" fill-opacity=\"1\" /><path clip-path=\"url(#clip770)\" d=\"M 0 0 M216.441 1534.04 L221.325 1534.04 L221.325 1539.92 L216.441 1539.92 L216.441 1534.04 Z\" fill=\"#000000\" fill-rule=\"evenodd\" fill-opacity=\"1\" /><path clip-path=\"url(#clip770)\" d=\"M 0 0 M236.395 1508.44 Q232.784 1508.44 230.955 1512 Q229.15 1515.55 229.15 1522.67 Q229.15 1529.78 230.955 1533.35 Q232.784 1536.89 236.395 1536.89 Q240.029 1536.89 241.835 1533.35 Q243.663 1529.78 243.663 1522.67 Q243.663 1515.55 241.835 1512 Q240.029 1508.44 236.395 1508.44 M236.395 1504.73 Q242.205 1504.73 245.261 1509.34 Q248.339 1513.92 248.339 1522.67 Q248.339 1531.4 245.261 1536.01 Q242.205 1540.59 236.395 1540.59 Q230.585 1540.59 227.506 1536.01 Q224.45 1531.4 224.45 1522.67 Q224.45 1513.92 227.506 1509.34 Q230.585 1504.73 236.395 1504.73 Z\" fill=\"#000000\" fill-rule=\"evenodd\" fill-opacity=\"1\" /><path clip-path=\"url(#clip770)\" d=\"M 0 0 M692.903 1525.04 L705.38 1525.04 L705.38 1528.83 L692.903 1528.83 L692.903 1525.04 Z\" fill=\"#000000\" fill-rule=\"evenodd\" fill-opacity=\"1\" /><path clip-path=\"url(#clip770)\" d=\"M 0 0 M720.449 1508.44 Q716.838 1508.44 715.009 1512 Q713.204 1515.55 713.204 1522.67 Q713.204 1529.78 715.009 1533.35 Q716.838 1536.89 720.449 1536.89 Q724.084 1536.89 725.889 1533.35 Q727.718 1529.78 727.718 1522.67 Q727.718 1515.55 725.889 1512 Q724.084 1508.44 720.449 1508.44 M720.449 1504.73 Q726.259 1504.73 729.315 1509.34 Q732.394 1513.92 732.394 1522.67 Q732.394 1531.4 729.315 1536.01 Q726.259 1540.59 720.449 1540.59 Q714.639 1540.59 711.56 1536.01 Q708.505 1531.4 708.505 1522.67 Q708.505 1513.92 711.56 1509.34 Q714.639 1504.73 720.449 1504.73 Z\" fill=\"#000000\" fill-rule=\"evenodd\" fill-opacity=\"1\" /><path clip-path=\"url(#clip770)\" d=\"M 0 0 M737.463 1534.04 L742.347 1534.04 L742.347 1539.92 L737.463 1539.92 L737.463 1534.04 Z\" fill=\"#000000\" fill-rule=\"evenodd\" fill-opacity=\"1\" /><path clip-path=\"url(#clip770)\" d=\"M 0 0 M747.463 1505.36 L765.819 1505.36 L765.819 1509.3 L751.745 1509.3 L751.745 1517.77 Q752.764 1517.42 753.782 1517.26 Q754.801 1517.07 755.819 1517.07 Q761.606 1517.07 764.986 1520.24 Q768.366 1523.42 768.366 1528.83 Q768.366 1534.41 764.893 1537.51 Q761.421 1540.59 755.102 1540.59 Q752.926 1540.59 750.657 1540.22 Q748.412 1539.85 746.005 1539.11 L746.005 1534.41 Q748.088 1535.54 750.31 1536.1 Q752.532 1536.66 755.009 1536.66 Q759.014 1536.66 761.352 1534.55 Q763.69 1532.44 763.69 1528.83 Q763.69 1525.22 761.352 1523.11 Q759.014 1521.01 755.009 1521.01 Q753.134 1521.01 751.259 1521.42 Q749.407 1521.84 747.463 1522.72 L747.463 1505.36 Z\" fill=\"#000000\" fill-rule=\"evenodd\" fill-opacity=\"1\" /><path clip-path=\"url(#clip770)\" d=\"M 0 0 M1232.06 1508.44 Q1228.45 1508.44 1226.62 1512 Q1224.82 1515.55 1224.82 1522.67 Q1224.82 1529.78 1226.62 1533.35 Q1228.45 1536.89 1232.06 1536.89 Q1235.7 1536.89 1237.5 1533.35 Q1239.33 1529.78 1239.33 1522.67 Q1239.33 1515.55 1237.5 1512 Q1235.7 1508.44 1232.06 1508.44 M1232.06 1504.73 Q1237.87 1504.73 1240.93 1509.34 Q1244.01 1513.92 1244.01 1522.67 Q1244.01 1531.4 1240.93 1536.01 Q1237.87 1540.59 1232.06 1540.59 Q1226.25 1540.59 1223.17 1536.01 Q1220.12 1531.4 1220.12 1522.67 Q1220.12 1513.92 1223.17 1509.34 Q1226.25 1504.73 1232.06 1504.73 Z\" fill=\"#000000\" fill-rule=\"evenodd\" fill-opacity=\"1\" /><path clip-path=\"url(#clip770)\" d=\"M 0 0 M1249.08 1534.04 L1253.96 1534.04 L1253.96 1539.92 L1249.08 1539.92 L1249.08 1534.04 Z\" fill=\"#000000\" fill-rule=\"evenodd\" fill-opacity=\"1\" /><path clip-path=\"url(#clip770)\" d=\"M 0 0 M1269.03 1508.44 Q1265.42 1508.44 1263.59 1512 Q1261.78 1515.55 1261.78 1522.67 Q1261.78 1529.78 1263.59 1533.35 Q1265.42 1536.89 1269.03 1536.89 Q1272.66 1536.89 1274.47 1533.35 Q1276.3 1529.78 1276.3 1522.67 Q1276.3 1515.55 1274.47 1512 Q1272.66 1508.44 1269.03 1508.44 M1269.03 1504.73 Q1274.84 1504.73 1277.89 1509.34 Q1280.97 1513.92 1280.97 1522.67 Q1280.97 1531.4 1277.89 1536.01 Q1274.84 1540.59 1269.03 1540.59 Q1263.22 1540.59 1260.14 1536.01 Q1257.08 1531.4 1257.08 1522.67 Q1257.08 1513.92 1260.14 1509.34 Q1263.22 1504.73 1269.03 1504.73 Z\" fill=\"#000000\" fill-rule=\"evenodd\" fill-opacity=\"1\" /><path clip-path=\"url(#clip770)\" d=\"M 0 0 M1752.47 1508.44 Q1748.86 1508.44 1747.03 1512 Q1745.22 1515.55 1745.22 1522.67 Q1745.22 1529.78 1747.03 1533.35 Q1748.86 1536.89 1752.47 1536.89 Q1756.1 1536.89 1757.91 1533.35 Q1759.74 1529.78 1759.74 1522.67 Q1759.74 1515.55 1757.91 1512 Q1756.1 1508.44 1752.47 1508.44 M1752.47 1504.73 Q1758.28 1504.73 1761.34 1509.34 Q1764.41 1513.92 1764.41 1522.67 Q1764.41 1531.4 1761.34 1536.01 Q1758.28 1540.59 1752.47 1540.59 Q1746.66 1540.59 1743.58 1536.01 Q1740.53 1531.4 1740.53 1522.67 Q1740.53 1513.92 1743.58 1509.34 Q1746.66 1504.73 1752.47 1504.73 Z\" fill=\"#000000\" fill-rule=\"evenodd\" fill-opacity=\"1\" /><path clip-path=\"url(#clip770)\" d=\"M 0 0 M1769.48 1534.04 L1774.37 1534.04 L1774.37 1539.92 L1769.48 1539.92 L1769.48 1534.04 Z\" fill=\"#000000\" fill-rule=\"evenodd\" fill-opacity=\"1\" /><path clip-path=\"url(#clip770)\" d=\"M 0 0 M1779.48 1505.36 L1797.84 1505.36 L1797.84 1509.3 L1783.77 1509.3 L1783.77 1517.77 Q1784.78 1517.42 1785.8 1517.26 Q1786.82 1517.07 1787.84 1517.07 Q1793.63 1517.07 1797.01 1520.24 Q1800.39 1523.42 1800.39 1528.83 Q1800.39 1534.41 1796.91 1537.51 Q1793.44 1540.59 1787.12 1540.59 Q1784.95 1540.59 1782.68 1540.22 Q1780.43 1539.85 1778.03 1539.11 L1778.03 1534.41 Q1780.11 1535.54 1782.33 1536.1 Q1784.55 1536.66 1787.03 1536.66 Q1791.03 1536.66 1793.37 1534.55 Q1795.71 1532.44 1795.71 1528.83 Q1795.71 1525.22 1793.37 1523.11 Q1791.03 1521.01 1787.03 1521.01 Q1785.15 1521.01 1783.28 1521.42 Q1781.43 1521.84 1779.48 1522.72 L1779.48 1505.36 Z\" fill=\"#000000\" fill-rule=\"evenodd\" fill-opacity=\"1\" /><path clip-path=\"url(#clip770)\" d=\"M 0 0 M2262.26 1535.98 L2269.9 1535.98 L2269.9 1509.62 L2261.59 1511.29 L2261.59 1507.03 L2269.86 1505.36 L2274.53 1505.36 L2274.53 1535.98 L2282.17 1535.98 L2282.17 1539.92 L2262.26 1539.92 L2262.26 1535.98 Z\" fill=\"#000000\" fill-rule=\"evenodd\" fill-opacity=\"1\" /><path clip-path=\"url(#clip770)\" d=\"M 0 0 M2287.24 1534.04 L2292.13 1534.04 L2292.13 1539.92 L2287.24 1539.92 L2287.24 1534.04 Z\" fill=\"#000000\" fill-rule=\"evenodd\" fill-opacity=\"1\" /><path clip-path=\"url(#clip770)\" d=\"M 0 0 M2307.2 1508.44 Q2303.58 1508.44 2301.76 1512 Q2299.95 1515.55 2299.95 1522.67 Q2299.95 1529.78 2301.76 1533.35 Q2303.58 1536.89 2307.2 1536.89 Q2310.83 1536.89 2312.64 1533.35 Q2314.46 1529.78 2314.46 1522.67 Q2314.46 1515.55 2312.64 1512 Q2310.83 1508.44 2307.2 1508.44 M2307.2 1504.73 Q2313.01 1504.73 2316.06 1509.34 Q2319.14 1513.92 2319.14 1522.67 Q2319.14 1531.4 2316.06 1536.01 Q2313.01 1540.59 2307.2 1540.59 Q2301.39 1540.59 2298.31 1536.01 Q2295.25 1531.4 2295.25 1522.67 Q2295.25 1513.92 2298.31 1509.34 Q2301.39 1504.73 2307.2 1504.73 Z\" fill=\"#000000\" fill-rule=\"evenodd\" fill-opacity=\"1\" /><path clip-path=\"url(#clip770)\" d=\"M 0 0 M77.0198 1202.81 Q73.4087 1202.81 71.58 1206.37 Q69.7745 1209.92 69.7745 1217.05 Q69.7745 1224.15 71.58 1227.72 Q73.4087 1231.26 77.0198 1231.26 Q80.6541 1231.26 82.4596 1227.72 Q84.2883 1224.15 84.2883 1217.05 Q84.2883 1209.92 82.4596 1206.37 Q80.6541 1202.81 77.0198 1202.81 M77.0198 1199.11 Q82.83 1199.11 85.8855 1203.71 Q88.9642 1208.3 88.9642 1217.05 Q88.9642 1225.77 85.8855 1230.38 Q82.83 1234.96 77.0198 1234.96 Q71.2097 1234.96 68.131 1230.38 Q65.0754 1225.77 65.0754 1217.05 Q65.0754 1208.3 68.131 1203.71 Q71.2097 1199.11 77.0198 1199.11 Z\" fill=\"#000000\" fill-rule=\"evenodd\" fill-opacity=\"1\" /><path clip-path=\"url(#clip770)\" d=\"M 0 0 M94.0336 1228.41 L98.9179 1228.41 L98.9179 1234.29 L94.0336 1234.29 L94.0336 1228.41 Z\" fill=\"#000000\" fill-rule=\"evenodd\" fill-opacity=\"1\" /><path clip-path=\"url(#clip770)\" d=\"M 0 0 M108.015 1230.36 L124.334 1230.36 L124.334 1234.29 L102.39 1234.29 L102.39 1230.36 Q105.052 1227.6 109.635 1222.97 Q114.242 1218.32 115.422 1216.98 Q117.668 1214.45 118.547 1212.72 Q119.45 1210.96 119.45 1209.27 Q119.45 1206.51 117.506 1204.78 Q115.584 1203.04 112.483 1203.04 Q110.284 1203.04 107.83 1203.8 Q105.399 1204.57 102.622 1206.12 L102.622 1201.4 Q105.446 1200.26 107.899 1199.68 Q110.353 1199.11 112.39 1199.11 Q117.76 1199.11 120.955 1201.79 Q124.149 1204.48 124.149 1208.97 Q124.149 1211.1 123.339 1213.02 Q122.552 1214.92 120.446 1217.51 Q119.867 1218.18 116.765 1221.4 Q113.663 1224.59 108.015 1230.36 Z\" fill=\"#000000\" fill-rule=\"evenodd\" fill-opacity=\"1\" /><path clip-path=\"url(#clip770)\" d=\"M 0 0 M74.9365 919.65 Q71.3254 919.65 69.4967 923.215 Q67.6912 926.756 67.6912 933.886 Q67.6912 940.992 69.4967 944.557 Q71.3254 948.099 74.9365 948.099 Q78.5707 948.099 80.3763 944.557 Q82.205 940.992 82.205 933.886 Q82.205 926.756 80.3763 923.215 Q78.5707 919.65 74.9365 919.65 M74.9365 915.946 Q80.7467 915.946 83.8022 920.553 Q86.8809 925.136 86.8809 933.886 Q86.8809 942.613 83.8022 947.219 Q80.7467 951.803 74.9365 951.803 Q69.1264 951.803 66.0477 947.219 Q62.9921 942.613 62.9921 933.886 Q62.9921 925.136 66.0477 920.553 Q69.1264 915.946 74.9365 915.946 Z\" fill=\"#000000\" fill-rule=\"evenodd\" fill-opacity=\"1\" /><path clip-path=\"url(#clip770)\" d=\"M 0 0 M91.9503 945.252 L96.8345 945.252 L96.8345 951.131 L91.9503 951.131 L91.9503 945.252 Z\" fill=\"#000000\" fill-rule=\"evenodd\" fill-opacity=\"1\" /><path clip-path=\"url(#clip770)\" d=\"M 0 0 M114.751 920.645 L102.946 939.094 L114.751 939.094 L114.751 920.645 M113.524 916.571 L119.404 916.571 L119.404 939.094 L124.334 939.094 L124.334 942.983 L119.404 942.983 L119.404 951.131 L114.751 951.131 L114.751 942.983 L99.1493 942.983 L99.1493 938.469 L113.524 916.571 Z\" fill=\"#000000\" fill-rule=\"evenodd\" fill-opacity=\"1\" /><path clip-path=\"url(#clip770)\" d=\"M 0 0 M75.2606 636.491 Q71.6495 636.491 69.8208 640.056 Q68.0152 643.597 68.0152 650.727 Q68.0152 657.833 69.8208 661.398 Q71.6495 664.94 75.2606 664.94 Q78.8948 664.94 80.7004 661.398 Q82.5291 657.833 82.5291 650.727 Q82.5291 643.597 80.7004 640.056 Q78.8948 636.491 75.2606 636.491 M75.2606 632.787 Q81.0707 632.787 84.1263 637.394 Q87.205 641.977 87.205 650.727 Q87.205 659.454 84.1263 664.06 Q81.0707 668.644 75.2606 668.644 Q69.4504 668.644 66.3717 664.06 Q63.3162 659.454 63.3162 650.727 Q63.3162 641.977 66.3717 637.394 Q69.4504 632.787 75.2606 632.787 Z\" fill=\"#000000\" fill-rule=\"evenodd\" fill-opacity=\"1\" /><path clip-path=\"url(#clip770)\" d=\"M 0 0 M92.2744 662.093 L97.1586 662.093 L97.1586 667.972 L92.2744 667.972 L92.2744 662.093 Z\" fill=\"#000000\" fill-rule=\"evenodd\" fill-opacity=\"1\" /><path clip-path=\"url(#clip770)\" d=\"M 0 0 M112.807 648.829 Q109.659 648.829 107.807 650.982 Q105.978 653.134 105.978 656.884 Q105.978 660.611 107.807 662.787 Q109.659 664.94 112.807 664.94 Q115.955 664.94 117.783 662.787 Q119.635 660.611 119.635 656.884 Q119.635 653.134 117.783 650.982 Q115.955 648.829 112.807 648.829 M122.089 634.176 L122.089 638.435 Q120.33 637.602 118.524 637.162 Q116.742 636.722 114.983 636.722 Q110.353 636.722 107.899 639.847 Q105.469 642.972 105.122 649.292 Q106.487 647.278 108.547 646.213 Q110.608 645.125 113.084 645.125 Q118.293 645.125 121.302 648.296 Q124.334 651.445 124.334 656.884 Q124.334 662.208 121.186 665.426 Q118.038 668.644 112.807 668.644 Q106.811 668.644 103.64 664.06 Q100.469 659.454 100.469 650.727 Q100.469 642.533 104.358 637.671 Q108.247 632.787 114.797 632.787 Q116.557 632.787 118.339 633.134 Q120.145 633.482 122.089 634.176 Z\" fill=\"#000000\" fill-rule=\"evenodd\" fill-opacity=\"1\" /><path clip-path=\"url(#clip770)\" d=\"M 0 0 M75.5152 353.332 Q71.9041 353.332 70.0754 356.897 Q68.2699 360.438 68.2699 367.568 Q68.2699 374.674 70.0754 378.239 Q71.9041 381.781 75.5152 381.781 Q79.1494 381.781 80.955 378.239 Q82.7837 374.674 82.7837 367.568 Q82.7837 360.438 80.955 356.897 Q79.1494 353.332 75.5152 353.332 M75.5152 349.628 Q81.3254 349.628 84.3809 354.235 Q87.4596 358.818 87.4596 367.568 Q87.4596 376.295 84.3809 380.901 Q81.3254 385.484 75.5152 385.484 Q69.7051 385.484 66.6264 380.901 Q63.5708 376.295 63.5708 367.568 Q63.5708 358.818 66.6264 354.235 Q69.7051 349.628 75.5152 349.628 Z\" fill=\"#000000\" fill-rule=\"evenodd\" fill-opacity=\"1\" /><path clip-path=\"url(#clip770)\" d=\"M 0 0 M92.529 378.934 L97.4132 378.934 L97.4132 384.813 L92.529 384.813 L92.529 378.934 Z\" fill=\"#000000\" fill-rule=\"evenodd\" fill-opacity=\"1\" /><path clip-path=\"url(#clip770)\" d=\"M 0 0 M112.483 368.401 Q109.149 368.401 107.228 370.184 Q105.33 371.966 105.33 375.091 Q105.33 378.216 107.228 379.998 Q109.149 381.781 112.483 381.781 Q115.816 381.781 117.737 379.998 Q119.658 378.193 119.658 375.091 Q119.658 371.966 117.737 370.184 Q115.839 368.401 112.483 368.401 M107.807 366.41 Q104.797 365.67 103.108 363.61 Q101.441 361.549 101.441 358.586 Q101.441 354.443 104.381 352.036 Q107.344 349.628 112.483 349.628 Q117.645 349.628 120.584 352.036 Q123.524 354.443 123.524 358.586 Q123.524 361.549 121.834 363.61 Q120.168 365.67 117.182 366.41 Q120.561 367.198 122.436 369.489 Q124.334 371.781 124.334 375.091 Q124.334 380.114 121.256 382.799 Q118.2 385.484 112.483 385.484 Q106.765 385.484 103.686 382.799 Q100.631 380.114 100.631 375.091 Q100.631 371.781 102.529 369.489 Q104.427 367.198 107.807 366.41 M106.094 359.026 Q106.094 361.711 107.76 363.216 Q109.45 364.721 112.483 364.721 Q115.492 364.721 117.182 363.216 Q118.895 361.711 118.895 359.026 Q118.895 356.341 117.182 354.836 Q115.492 353.332 112.483 353.332 Q109.45 353.332 107.76 354.836 Q106.094 356.341 106.094 359.026 Z\" fill=\"#000000\" fill-rule=\"evenodd\" fill-opacity=\"1\" /><path clip-path=\"url(#clip770)\" d=\"M 0 0 M67.4597 97.7189 L75.0985 97.7189 L75.0985 71.3533 L66.7884 73.02 L66.7884 68.7608 L75.0522 67.0941 L79.7281 67.0941 L79.7281 97.7189 L87.367 97.7189 L87.367 101.654 L67.4597 101.654 L67.4597 97.7189 Z\" fill=\"#000000\" fill-rule=\"evenodd\" fill-opacity=\"1\" /><path clip-path=\"url(#clip770)\" d=\"M 0 0 M92.4364 95.7745 L97.3206 95.7745 L97.3206 101.654 L92.4364 101.654 L92.4364 95.7745 Z\" fill=\"#000000\" fill-rule=\"evenodd\" fill-opacity=\"1\" /><path clip-path=\"url(#clip770)\" d=\"M 0 0 M112.39 70.1728 Q108.779 70.1728 106.95 73.7376 Q105.145 77.2792 105.145 84.4088 Q105.145 91.5153 106.95 95.0801 Q108.779 98.6217 112.39 98.6217 Q116.024 98.6217 117.83 95.0801 Q119.658 91.5153 119.658 84.4088 Q119.658 77.2792 117.83 73.7376 Q116.024 70.1728 112.39 70.1728 M112.39 66.4691 Q118.2 66.4691 121.256 71.0756 Q124.334 75.6589 124.334 84.4088 Q124.334 93.1356 121.256 97.7421 Q118.2 102.325 112.39 102.325 Q106.58 102.325 103.501 97.7421 Q100.446 93.1356 100.446 84.4088 Q100.446 75.6589 103.501 71.0756 Q106.58 66.4691 112.39 66.4691 Z\" fill=\"#000000\" fill-rule=\"evenodd\" fill-opacity=\"1\" /><polyline clip-path=\"url(#clip772)\" style=\"stroke:#009af9; stroke-width:4; stroke-opacity:1; fill:none\" points=\"\n",
       "  210.724,1445.72 231.73,1443.54 252.737,1441.23 273.743,1438.78 294.75,1436.17 315.756,1433.4 336.763,1430.45 357.769,1427.3 378.776,1423.94 399.782,1420.34 \n",
       "  420.789,1416.49 441.795,1412.36 462.802,1407.92 483.808,1403.15 504.815,1398.01 525.821,1392.46 546.828,1386.45 567.834,1379.95 588.841,1372.9 609.847,1365.22 \n",
       "  630.854,1356.86 651.86,1347.73 672.867,1337.73 693.873,1326.77 714.88,1314.72 735.886,1301.44 756.893,1286.77 777.899,1270.53 798.906,1252.49 819.912,1232.42 \n",
       "  840.919,1210.03 861.925,1184.99 882.931,1156.92 903.938,1125.4 924.944,1089.95 945.951,1050.02 966.957,1005.05 987.964,954.421 1008.97,897.537 1029.98,833.877 \n",
       "  1050.98,763.092 1071.99,685.168 1093,600.636 1114,510.849 1135.01,418.288 1156.02,326.805 1177.02,241.67 1198.03,169.246 1219.04,116.147 1240.04,87.9763 \n",
       "  1261.05,87.9763 1282.05,116.147 1303.06,169.246 1324.07,241.67 1345.07,326.805 1366.08,418.288 1387.09,510.849 1408.09,600.636 1429.1,685.168 1450.11,763.092 \n",
       "  1471.11,833.877 1492.12,897.537 1513.13,954.421 1534.13,1005.05 1555.14,1050.02 1576.15,1089.95 1597.15,1125.4 1618.16,1156.92 1639.17,1184.99 1660.17,1210.03 \n",
       "  1681.18,1232.42 1702.18,1252.49 1723.19,1270.53 1744.2,1286.77 1765.2,1301.44 1786.21,1314.72 1807.22,1326.77 1828.22,1337.73 1849.23,1347.73 1870.24,1356.86 \n",
       "  1891.24,1365.22 1912.25,1372.9 1933.26,1379.95 1954.26,1386.45 1975.27,1392.46 1996.28,1398.01 2017.28,1403.15 2038.29,1407.92 2059.3,1412.36 2080.3,1416.49 \n",
       "  2101.31,1420.34 2122.31,1423.94 2143.32,1427.3 2164.33,1430.45 2185.33,1433.4 2206.34,1436.17 2227.35,1438.78 2248.35,1441.23 2269.36,1443.54 2290.37,1445.72 \n",
       "  \n",
       "  \"/>\n",
       "<polyline clip-path=\"url(#clip772)\" style=\"stroke:#e26f46; stroke-width:12; stroke-opacity:1; fill:none\" points=\"\n",
       "  210.724,1445.72 231.73,1443.54 252.737,1441.23 273.743,1438.78 294.75,1436.17 315.756,1433.4 336.763,1430.45 357.769,1427.3 378.776,1423.94 399.782,1420.34 \n",
       "  420.789,1416.49 441.795,1412.36 462.802,1407.92 483.808,1403.15 504.815,1398.01 525.821,1392.46 546.828,1386.45 567.834,1379.95 588.841,1372.9 609.847,1365.22 \n",
       "  630.854,1356.86 651.86,1347.73 672.867,1337.73 693.873,1326.77 714.88,1314.72 735.886,1301.44 756.893,1286.77 777.899,1270.53 798.906,1252.49 819.912,1232.42 \n",
       "  840.919,1210.03 861.925,1184.99 882.931,1156.92 903.938,1125.4 924.944,1089.95 945.951,1050.02 966.957,1005.05 987.964,954.421 1008.97,897.537 1029.98,833.877 \n",
       "  1050.98,763.092 1071.99,685.168 1093,600.636 1114,510.849 1135.01,418.288 1156.02,326.805 1177.02,241.67 1198.03,169.246 1219.04,116.147 1240.04,87.9763 \n",
       "  1261.05,87.9763 1282.05,116.147 1303.06,169.246 1324.07,241.67 1345.07,326.805 1366.08,418.288 1387.09,510.849 1408.09,600.636 1429.1,685.168 1450.11,763.092 \n",
       "  1471.11,833.877 1492.12,897.537 1513.13,954.421 1534.13,1005.05 1555.14,1050.02 1576.15,1089.95 1597.15,1125.4 1618.16,1156.92 1639.17,1184.99 1660.17,1210.03 \n",
       "  1681.18,1232.42 1702.18,1252.49 1723.19,1270.53 1744.2,1286.77 1765.2,1301.44 1786.21,1314.72 1807.22,1326.77 1828.22,1337.73 1849.23,1347.73 1870.24,1356.86 \n",
       "  1891.24,1365.22 1912.25,1372.9 1933.26,1379.95 1954.26,1386.45 1975.27,1392.46 1996.28,1398.01 2017.28,1403.15 2038.29,1407.92 2059.3,1412.36 2080.3,1416.49 \n",
       "  2101.31,1420.34 2122.31,1423.94 2143.32,1427.3 2164.33,1430.45 2185.33,1433.4 2206.34,1436.17 2227.35,1438.78 2248.35,1441.23 2269.36,1443.54 2290.37,1445.72 \n",
       "  \n",
       "  \"/>\n",
       "<path clip-path=\"url(#clip770)\" d=\"\n",
       "M1804.81 312.204 L2280.76 312.204 L2280.76 130.764 L1804.81 130.764  Z\n",
       "  \" fill=\"#ffffff\" fill-rule=\"evenodd\" fill-opacity=\"1\"/>\n",
       "<polyline clip-path=\"url(#clip770)\" style=\"stroke:#000000; stroke-width:4; stroke-opacity:1; fill:none\" points=\"\n",
       "  1804.81,312.204 2280.76,312.204 2280.76,130.764 1804.81,130.764 1804.81,312.204 \n",
       "  \"/>\n",
       "<polyline clip-path=\"url(#clip770)\" style=\"stroke:#009af9; stroke-width:4; stroke-opacity:1; fill:none\" points=\"\n",
       "  1828.81,191.244 1972.81,191.244 \n",
       "  \"/>\n",
       "<path clip-path=\"url(#clip770)\" d=\"M 0 0 M2001.48 177.807 L2001.48 190.793 L2007.36 190.793 Q2010.63 190.793 2012.41 189.103 Q2014.19 187.413 2014.19 184.288 Q2014.19 181.186 2012.41 179.496 Q2010.63 177.807 2007.36 177.807 L2001.48 177.807 M1996.81 173.964 L2007.36 173.964 Q2013.17 173.964 2016.14 176.603 Q2019.12 179.219 2019.12 184.288 Q2019.12 189.404 2016.14 192.02 Q2013.17 194.635 2007.36 194.635 L2001.48 194.635 L2001.48 208.524 L1996.81 208.524 L1996.81 173.964 Z\" fill=\"#000000\" fill-rule=\"evenodd\" fill-opacity=\"1\" /><path clip-path=\"url(#clip770)\" d=\"M 0 0 M2043.29 216.394 L2043.29 219.705 L2018.66 219.705 L2018.66 216.394 L2043.29 216.394 Z\" fill=\"#000000\" fill-rule=\"evenodd\" fill-opacity=\"1\" /><path clip-path=\"url(#clip770)\" d=\"M 0 0 M2049.17 204.589 L2056.81 204.589 L2056.81 178.223 L2048.5 179.89 L2048.5 175.631 L2056.76 173.964 L2061.44 173.964 L2061.44 204.589 L2069.08 204.589 L2069.08 208.524 L2049.17 208.524 L2049.17 204.589 Z\" fill=\"#000000\" fill-rule=\"evenodd\" fill-opacity=\"1\" /><path clip-path=\"url(#clip770)\" d=\"M 0 0 M2084.15 177.043 Q2080.53 177.043 2078.71 180.608 Q2076.9 184.149 2076.9 191.279 Q2076.9 198.385 2078.71 201.95 Q2080.53 205.492 2084.15 205.492 Q2087.78 205.492 2089.59 201.95 Q2091.41 198.385 2091.41 191.279 Q2091.41 184.149 2089.59 180.608 Q2087.78 177.043 2084.15 177.043 M2084.15 173.339 Q2089.96 173.339 2093.01 177.946 Q2096.09 182.529 2096.09 191.279 Q2096.09 200.006 2093.01 204.612 Q2089.96 209.195 2084.15 209.195 Q2078.34 209.195 2075.26 204.612 Q2072.2 200.006 2072.2 191.279 Q2072.2 182.529 2075.26 177.946 Q2078.34 173.339 2084.15 173.339 Z\" fill=\"#000000\" fill-rule=\"evenodd\" fill-opacity=\"1\" /><path clip-path=\"url(#clip770)\" d=\"M 0 0 M2111.16 177.043 Q2107.55 177.043 2105.72 180.608 Q2103.91 184.149 2103.91 191.279 Q2103.91 198.385 2105.72 201.95 Q2107.55 205.492 2111.16 205.492 Q2114.79 205.492 2116.6 201.95 Q2118.43 198.385 2118.43 191.279 Q2118.43 184.149 2116.6 180.608 Q2114.79 177.043 2111.16 177.043 M2111.16 173.339 Q2116.97 173.339 2120.03 177.946 Q2123.1 182.529 2123.1 191.279 Q2123.1 200.006 2120.03 204.612 Q2116.97 209.195 2111.16 209.195 Q2105.35 209.195 2102.27 204.612 Q2099.21 200.006 2099.21 191.279 Q2099.21 182.529 2102.27 177.946 Q2105.35 173.339 2111.16 173.339 Z\" fill=\"#000000\" fill-rule=\"evenodd\" fill-opacity=\"1\" /><path clip-path=\"url(#clip770)\" d=\"M 0 0 M2138.17 177.043 Q2134.56 177.043 2132.73 180.608 Q2130.93 184.149 2130.93 191.279 Q2130.93 198.385 2132.73 201.95 Q2134.56 205.492 2138.17 205.492 Q2141.81 205.492 2143.61 201.95 Q2145.44 198.385 2145.44 191.279 Q2145.44 184.149 2143.61 180.608 Q2141.81 177.043 2138.17 177.043 M2138.17 173.339 Q2143.98 173.339 2147.04 177.946 Q2150.12 182.529 2150.12 191.279 Q2150.12 200.006 2147.04 204.612 Q2143.98 209.195 2138.17 209.195 Q2132.36 209.195 2129.28 204.612 Q2126.23 200.006 2126.23 191.279 Q2126.23 182.529 2129.28 177.946 Q2132.36 173.339 2138.17 173.339 Z\" fill=\"#000000\" fill-rule=\"evenodd\" fill-opacity=\"1\" /><path clip-path=\"url(#clip770)\" d=\"M 0 0 M2165.19 177.043 Q2161.58 177.043 2159.75 180.608 Q2157.94 184.149 2157.94 191.279 Q2157.94 198.385 2159.75 201.95 Q2161.58 205.492 2165.19 205.492 Q2168.82 205.492 2170.63 201.95 Q2172.46 198.385 2172.46 191.279 Q2172.46 184.149 2170.63 180.608 Q2168.82 177.043 2165.19 177.043 M2165.19 173.339 Q2171 173.339 2174.05 177.946 Q2177.13 182.529 2177.13 191.279 Q2177.13 200.006 2174.05 204.612 Q2171 209.195 2165.19 209.195 Q2159.38 209.195 2156.3 204.612 Q2153.24 200.006 2153.24 191.279 Q2153.24 182.529 2156.3 177.946 Q2159.38 173.339 2165.19 173.339 Z\" fill=\"#000000\" fill-rule=\"evenodd\" fill-opacity=\"1\" /><path clip-path=\"url(#clip770)\" d=\"M 0 0 M2191.83 172.552 Q2188.73 177.876 2187.22 183.084 Q2185.72 188.293 2185.72 193.64 Q2185.72 198.987 2187.22 204.242 Q2188.75 209.473 2191.83 214.774 L2188.13 214.774 Q2184.65 209.334 2182.92 204.08 Q2181.21 198.825 2181.21 193.64 Q2181.21 188.478 2182.92 183.246 Q2184.63 178.015 2188.13 172.552 L2191.83 172.552 Z\" fill=\"#000000\" fill-rule=\"evenodd\" fill-opacity=\"1\" /><path clip-path=\"url(#clip770)\" d=\"M 0 0 M2217.85 182.598 L2208.47 195.214 L2218.33 208.524 L2213.31 208.524 L2205.77 198.339 L2198.22 208.524 L2193.2 208.524 L2203.27 194.959 L2194.05 182.598 L2199.08 182.598 L2205.95 191.834 L2212.83 182.598 L2217.85 182.598 Z\" fill=\"#000000\" fill-rule=\"evenodd\" fill-opacity=\"1\" /><path clip-path=\"url(#clip770)\" d=\"M 0 0 M2222.13 172.552 L2225.83 172.552 Q2229.31 178.015 2231.02 183.246 Q2232.76 188.478 2232.76 193.64 Q2232.76 198.825 2231.02 204.08 Q2229.31 209.334 2225.83 214.774 L2222.13 214.774 Q2225.21 209.473 2226.71 204.242 Q2228.24 198.987 2228.24 193.64 Q2228.24 188.293 2226.71 183.084 Q2225.21 177.876 2222.13 172.552 Z\" fill=\"#000000\" fill-rule=\"evenodd\" fill-opacity=\"1\" /><polyline clip-path=\"url(#clip770)\" style=\"stroke:#e26f46; stroke-width:4; stroke-opacity:1; fill:none\" points=\"\n",
       "  1828.81,251.724 1972.81,251.724 \n",
       "  \"/>\n",
       "<path clip-path=\"url(#clip770)\" d=\"M 0 0 M2015.72 255.74 Q2015.72 251.111 2013.8 248.564 Q2011.9 246.018 2008.45 246.018 Q2005.03 246.018 2003.1 248.564 Q2001.21 251.111 2001.21 255.74 Q2001.21 260.347 2003.1 262.893 Q2005.03 265.439 2008.45 265.439 Q2011.9 265.439 2013.8 262.893 Q2015.72 260.347 2015.72 255.74 M2019.98 265.787 Q2019.98 272.407 2017.04 275.624 Q2014.1 278.865 2008.03 278.865 Q2005.79 278.865 2003.8 278.518 Q2001.81 278.194 1999.93 277.499 L1999.93 273.356 Q2001.81 274.374 2003.64 274.861 Q2005.47 275.347 2007.36 275.347 Q2011.55 275.347 2013.64 273.148 Q2015.72 270.972 2015.72 266.55 L2015.72 264.444 Q2014.4 266.736 2012.34 267.87 Q2010.28 269.004 2007.41 269.004 Q2002.64 269.004 1999.72 265.37 Q1996.81 261.736 1996.81 255.74 Q1996.81 249.722 1999.72 246.088 Q2002.64 242.453 2007.41 242.453 Q2010.28 242.453 2012.34 243.588 Q2014.4 244.722 2015.72 247.013 L2015.72 243.078 L2019.98 243.078 L2019.98 265.787 Z\" fill=\"#000000\" fill-rule=\"evenodd\" fill-opacity=\"1\" /><path clip-path=\"url(#clip770)\" d=\"M 0 0 M2034.68 233.032 Q2031.58 238.356 2030.07 243.564 Q2028.57 248.773 2028.57 254.12 Q2028.57 259.467 2030.07 264.722 Q2031.6 269.953 2034.68 275.254 L2030.97 275.254 Q2027.5 269.814 2025.77 264.56 Q2024.05 259.305 2024.05 254.12 Q2024.05 248.958 2025.77 243.726 Q2027.48 238.495 2030.97 233.032 L2034.68 233.032 Z\" fill=\"#000000\" fill-rule=\"evenodd\" fill-opacity=\"1\" /><path clip-path=\"url(#clip770)\" d=\"M 0 0 M2060.7 243.078 L2051.32 255.694 L2061.18 269.004 L2056.16 269.004 L2048.61 258.819 L2041.07 269.004 L2036.04 269.004 L2046.11 255.439 L2036.9 243.078 L2041.92 243.078 L2048.8 252.314 L2055.67 243.078 L2060.7 243.078 Z\" fill=\"#000000\" fill-rule=\"evenodd\" fill-opacity=\"1\" /><path clip-path=\"url(#clip770)\" d=\"M 0 0 M2064.98 233.032 L2068.68 233.032 Q2072.15 238.495 2073.87 243.726 Q2075.6 248.958 2075.6 254.12 Q2075.6 259.305 2073.87 264.56 Q2072.15 269.814 2068.68 275.254 L2064.98 275.254 Q2068.06 269.953 2069.56 264.722 Q2071.09 259.467 2071.09 254.12 Q2071.09 248.773 2069.56 243.564 Q2068.06 238.356 2064.98 233.032 Z\" fill=\"#000000\" fill-rule=\"evenodd\" fill-opacity=\"1\" /></svg>\n"
      ]
     },
     "execution_count": 23,
     "metadata": {},
     "output_type": "execute_result"
    }
   ],
   "source": [
    "using ApproxFun\n",
    "N = 10000\n",
    "S = Chebyshev(-1.0..1.0)  # form chebyshev basis\n",
    "x = points(S, N)  # chooses chebyshev nodes\n",
    "y = g.(x)\n",
    "g_approx = Fun(S,ApproxFun.transform(S,y))  # transform fits the polynomial\n",
    "@show norm(g_approx.(x) - g.(x), Inf)\n",
    "plot(x_display, g_approx.(x_display), label = \"P_10000(x)\")\n",
    "plot!(x_display, g.(x_display), w = 3, label = \"g(x)\")"
   ]
  },
  {
   "cell_type": "markdown",
   "metadata": {},
   "source": [
    "Besides the use of a different polynomial basis, we are approximating at different nodes (i.e. [Chebyshev nodes](https://en.wikipedia.org/wiki/Chebyshev_nodes)).  Interpolation with Chebyshev polynomials at the Chebyshev nodes ends up minimizing (but not eliminating) Runge’s Phenomena."
   ]
  },
  {
   "cell_type": "markdown",
   "metadata": {},
   "source": [
    "#### Lessons for Approximation and Interpolation\n",
    "\n",
    "To summarize\n",
    "\n",
    "1. Check the condition number on systems you suspect might be ill-conditioned (based on intuition of collinearity).  \n",
    "1. If you are working with ill-conditioned matrices, be especially careful not to take inverse or multiply by the transpose  \n",
    "1. Avoid a monomial polynomial basis.  Instead, use polynomials (e.g. Chebyshev or Lagrange) orthogonal under an appropriate inner product, or use a non-global basis such as cubic-splines.  \n",
    "1. If possible, avoid using a uniform grid for interpolation and approximation and choose nodes appropriate for the basis.  \n",
    "\n",
    "\n",
    "However, sometimes you can’t avoid ill-conditioned matrices. This is especially common with discretization of PDEs and with linear-least squares."
   ]
  },
  {
   "cell_type": "markdown",
   "metadata": {},
   "source": [
    "## Stationary Iterative Algorithms for Linear Systems\n",
    "\n",
    "As before, consider solving the equation\n",
    "\n",
    "$$\n",
    "A x = b\n",
    "$$\n",
    "\n",
    "We will now\n",
    "focus on cases where $ A $ is both massive (e.g. potentially millions of equations), sparse, and sometimes ill-conditioned - but where there is always a unique solution.\n",
    "\n",
    "While this may seem excessive, it occurs in practice due to the curse of dimensionality, discretizations\n",
    "of PDEs, and when working with big data.\n",
    "\n",
    "The methods in the previous lectures (e.g. factorization and approaches similar to Gaussian elimination) are called direct methods, and able\n",
    "in theory to converge to the exact solution in a finite number of steps while directly working with the matrix in memory.\n",
    "\n",
    "Instead, iterative solutions start with a guess on a solution and iterate until convergence.  The benefit will be that\n",
    "each iteration uses a lower order operation (e.g. an $ O(N^2) $ matrix-vector product) which will make it possible to\n",
    "\n",
    "1. solve much larger systems, even if done less precisely.  \n",
    "1. define linear operators in terms of the matrix-vector products, rather than storing as a matrix.  \n",
    "1. get approximate solutions in progress prior to the completion of all algorithm steps, unlike the direct methods which only provide a solution at the end.  \n",
    "\n",
    "\n",
    "Of course, there is no free lunch and the computational order of the iterations themselves would be comparable to the direct methods for a given level of tolerance (e.g. $ O(N^3) $ operations may be required to solve a dense unstructured system).\n",
    "\n",
    "There are two types of iterative methods we will consider:  first are stationary methods which iterate on a map in a similar way to fixed point problems, and the second are [Krylov](https://en.wikipedia.org/wiki/Krylov_subspace) methods which iteratively solve using left-multiplications of the linear operator.\n",
    "\n",
    "For our main examples, we will use the valuation of the continuous time markov Chain from the [numerical methods for linear algebra](numerical_linear_algebra.html) lecture.  That is, given a payoff vector $ r $, a\n",
    "discount rate $ \\rho $, and the infinitesimal generator of the markov chain $ Q $, solve the equation\n",
    "\n",
    "$$\n",
    "\\rho v = r + Q v\n",
    "$$\n",
    "\n",
    "With the sizes and types of matrices here, iterative methods are inappropriate in practice, but it will help us understand\n",
    "the characteristics of convergence, and how they relate to matrix conditioning."
   ]
  },
  {
   "cell_type": "markdown",
   "metadata": {},
   "source": [
    "### Stationary Methods\n",
    "\n",
    "First, we will solve with a direct methods, which will give the solution to machine precision."
   ]
  },
  {
   "cell_type": "code",
   "execution_count": 24,
   "metadata": {
    "hide-output": false
   },
   "outputs": [
    {
     "data": {
      "text/plain": [
       "100.00000000000004"
      ]
     },
     "execution_count": 24,
     "metadata": {},
     "output_type": "execute_result"
    }
   ],
   "source": [
    "using LinearAlgebra, IterativeSolvers, Statistics\n",
    "α = 0.1\n",
    "N = 100\n",
    "Q = Tridiagonal(fill(α, N-1), [-α; fill(-2α, N-2); -α], fill(α, N-1))\n",
    "\n",
    "r = range(0.0, 10.0, length=N)\n",
    "ρ = 0.05\n",
    "\n",
    "A = ρ * I - Q\n",
    "v_direct = A \\ r\n",
    "mean(v_direct)"
   ]
  },
  {
   "cell_type": "markdown",
   "metadata": {},
   "source": [
    "Without proof, consider given the discount rate of $ \\rho > 0 $ this problem could be setup as a contraction for solving the Bellman\n",
    "equation through methods like value function iteration.\n",
    "\n",
    "The condition we will examine here is called [**diagonal dominance**](https://en.wikipedia.org/wiki/Diagonally_dominant_matrix).\n",
    "\n",
    "$$\n",
    "|A_{ii}| \\geq \\sum_{j\\neq i} |A_{ij}| \\quad\\text{for all } i = 1\\ldots N\n",
    "$$\n",
    "\n",
    "That is, for every row, the diagonal is weakly greater in absolute value than the sum of all of the other elements in the row.  In cases\n",
    "where it is strictly greater, we say that the matrix is strictly diagonally dominant.\n",
    "\n",
    "With our example, given that $ Q $ is the infinitesimal generator of a markov chain, we know that each row sums to 0, and hence\n",
    "it is weakly diagonally dominant.\n",
    "\n",
    "However, notice that when $ \\rho > 0 $, since the diagonal of $ Q $ is negative,  $ A = ρ I - Q $ makes the matrix strictly diagonally dominant."
   ]
  },
  {
   "cell_type": "markdown",
   "metadata": {},
   "source": [
    "### Jacobi Iteration\n",
    "\n",
    "For matrices that are **strictly diagonally dominant**, you can prove that a simple decomposition and iteration procedure\n",
    "will converge.\n",
    "\n",
    "To solve a system $ A x = b $, split the matrix $ A $ into its diagonal and off-diagonals.  That is,\n",
    "\n",
    "$$\n",
    "A = D + R\n",
    "$$\n",
    "\n",
    "where\n",
    "\n",
    "$$\n",
    "D = \\begin{bmatrix} A_{11} & 0 & \\ldots & 0\\\\\n",
    "                    0    & A_{22} & \\ldots & 0\\\\\n",
    "                    \\vdots & \\vdots & \\vdots & \\vdots\\\\\n",
    "                    0 & 0 &  \\ldots & A_{NN}\n",
    "    \\end{bmatrix}\n",
    "$$\n",
    "\n",
    "and\n",
    "\n",
    "$$\n",
    "R = \\begin{bmatrix} 0 & A_{12}  & \\ldots & A_{1N} \\\\\n",
    "                    A_{21}    & 0 & \\ldots & A_{2N} \\\\\n",
    "                    \\vdots & \\vdots & \\vdots & \\vdots\\\\\n",
    "                    A_{N1}  & A_{N2}  &  \\ldots & 0\n",
    "    \\end{bmatrix}\n",
    "$$\n",
    "\n",
    "Rearrange the $ (D + R)x = b $ as\n",
    "\n",
    "$$\n",
    "\\begin{align}\n",
    "D x &= b - R x\\\\\n",
    "x &= D^{-1} (b - R x)\n",
    "\\end{align}\n",
    "$$\n",
    "\n",
    "Where, since $ D $ is diagonal, its inverse is trivial to calculate with $ O(N) $ complexity.\n",
    "\n",
    "To solve, take an iteration $ x^k $, starting from $ x^0 $, and then form a new guess with\n",
    "\n",
    "$$\n",
    "x^{k+1} = D^{-1}(b - R x^k)\n",
    "$$\n",
    "\n",
    "The complexity here is a $ O(N^2) $ for the matrix-vector product, and an $ O(N) $ for the vector subtraction and division.\n",
    "\n",
    "The package [IterativeSolvers.jl](https://github.com/JuliaMath/IterativeSolvers.jl) package implements this method.\n",
    "\n",
    "For our example, we start with a guess and solve for the value function and iterate"
   ]
  },
  {
   "cell_type": "code",
   "execution_count": 25,
   "metadata": {
    "hide-output": false
   },
   "outputs": [
    {
     "name": "stdout",
     "output_type": "stream",
     "text": [
      "norm(v - v_direct, Inf) = 0.022858373200932647\n"
     ]
    },
    {
     "data": {
      "text/plain": [
       "0.022858373200932647"
      ]
     },
     "execution_count": 25,
     "metadata": {},
     "output_type": "execute_result"
    }
   ],
   "source": [
    "using IterativeSolvers, LinearAlgebra, SparseArrays\n",
    "v = zeros(N)\n",
    "jacobi!(v, A, r, maxiter = 40)\n",
    "@show norm(v - v_direct, Inf)"
   ]
  },
  {
   "cell_type": "markdown",
   "metadata": {},
   "source": [
    "With this, after 40 iterations you see the error is in the order of `1E-2`"
   ]
  },
  {
   "cell_type": "markdown",
   "metadata": {},
   "source": [
    "### Other Stationary Methods\n",
    "\n",
    "In practice there are many better methods than Jacobi iteration, for example [Gauss-Siedel](https://en.wikipedia.org/wiki/Gauss%E2%80%93Seidel_method). which\n",
    "splits the matrix $ A = L + U $ into an lower triangular matrix $ L $ and an upper triangular $ U $ without the diagonal.\n",
    "\n",
    "The iteration becomes\n",
    "\n",
    "$$\n",
    "L x^{k+1} = b - U x^k\n",
    "$$\n",
    "\n",
    "In that case, since the $ L $ matrix is triangular, the system can be solved in $ O(N^2) $ operations after $ b - U x^k $ is formed"
   ]
  },
  {
   "cell_type": "code",
   "execution_count": 26,
   "metadata": {
    "hide-output": false
   },
   "outputs": [
    {
     "name": "stdout",
     "output_type": "stream",
     "text": [
      "norm(v - v_direct, Inf) = 1.5616376089155892e-5\n"
     ]
    }
   ],
   "source": [
    "v = zeros(N)\n",
    "gauss_seidel!(v, A, r, maxiter = 40)\n",
    "@show norm(v - v_direct, Inf);"
   ]
  },
  {
   "cell_type": "markdown",
   "metadata": {},
   "source": [
    "The accuracy increases substantially, after 40 iterations you see the error is in the order of `1E-5`\n",
    "\n",
    "Another example is [Successive Over-relaxation (SOR)](https://en.wikipedia.org/wiki/Successive_over-relaxation), which takes a relaxation parameter $ \\omega > 1 $ and decomposes the matrix as $ A = L + D + U $ with $ L, U $ are strictly upper and lower diagonal matrices, and $ D $ is a diagonal.\n",
    "\n",
    "Decompose the $ A $ matrix, multiply the system by $ \\omega $, and rearrange to find\n",
    "\n",
    "$$\n",
    "(D + \\omega L) x^{k+1} = \\omega b - \\left(\\omega U +(\\omega - 1)D \\right)x^k\n",
    "$$\n",
    "\n",
    "In that case, $ D + \\omega L $ is a triangular matrix, and hence the linear solve is of $ O(N^2) $."
   ]
  },
  {
   "cell_type": "code",
   "execution_count": 27,
   "metadata": {
    "hide-output": false
   },
   "outputs": [
    {
     "name": "stdout",
     "output_type": "stream",
     "text": [
      "norm(v - v_direct, Inf) = 3.745356593753968e-7\n"
     ]
    }
   ],
   "source": [
    "v = zeros(N)\n",
    "sor!(v, A, r, 1.1, maxiter = 40)\n",
    "@show norm(v - v_direct, Inf);"
   ]
  },
  {
   "cell_type": "markdown",
   "metadata": {},
   "source": [
    "The accuracy is now `1E-7`.  If you change the parameter to $ \\omega = 1.2 $, the accuracy further increases to `1E-9`.\n",
    "\n",
    "This technique is a common with iterative methods:  frequently adding a dampening or relaxation parameter will counterintuitively speed up the convergence process.\n",
    "\n",
    "**Note:** the stationary iterative methods are not always used directly, but are sometimes used as a “smoothing” step (e.g. running 5-10 times) prior to using other Krylov methods."
   ]
  },
  {
   "cell_type": "markdown",
   "metadata": {},
   "source": [
    "## Krylov Methods\n",
    "\n",
    "A more commonly used set of iterative methods are based on [Krylov subspaces](https://en.wikipedia.org/wiki/Krylov_subspace) which involve iterating the $ A^k x $ matrix-vector product, and orthogonalize to ensure the resulting iteration is not too collinear.\n",
    "\n",
    "The prototypical Krylov method is [Conjugate Gradient](https://en.wikipedia.org/wiki/Conjugate_gradient_method), which requires the $ A $ matrix to be\n",
    "symmetric and positive definite.\n",
    "\n",
    "Solving an example"
   ]
  },
  {
   "cell_type": "code",
   "execution_count": 28,
   "metadata": {
    "hide-output": false
   },
   "outputs": [
    {
     "name": "stdout",
     "output_type": "stream",
     "text": [
      "isposdef(A) = true\n"
     ]
    },
    {
     "data": {
      "text/plain": [
       "3.5791585364800934e10"
      ]
     },
     "execution_count": 28,
     "metadata": {},
     "output_type": "execute_result"
    }
   ],
   "source": [
    "N = 100\n",
    "A = sprand(100, 100, 0.1)   # 10 percent non-zeros\n",
    "A = A * A'  # easy way to generate a symmetric positive definite matrix\n",
    "@show isposdef(A)\n",
    "b = rand(N)\n",
    "x_direct = A \\ b  # sparse direct solver more appropriate Here\n",
    "cond(Matrix(A * A'))"
   ]
  },
  {
   "cell_type": "markdown",
   "metadata": {},
   "source": [
    "Notice that the condition numbers tend to be large for big, random matrices.\n",
    "\n",
    "Solving this system with the conjugate gradient method"
   ]
  },
  {
   "cell_type": "code",
   "execution_count": 29,
   "metadata": {
    "hide-output": false
   },
   "outputs": [
    {
     "data": {
      "text/plain": [
       "Converged after 174 iterations."
      ]
     },
     "execution_count": 29,
     "metadata": {},
     "output_type": "execute_result"
    }
   ],
   "source": [
    "x = zeros(N)\n",
    "sol = cg!(x, A, b, log=true, maxiter = 1000)\n",
    "sol[end]"
   ]
  },
  {
   "cell_type": "markdown",
   "metadata": {},
   "source": [
    "### Introduction to Preconditioning\n",
    "\n",
    "If you tell a numerical analyst you are using direct methods, their first question may be “which factorization?” - but if you tell them you\n",
    "are using an iterative method, they may ask “which preconditioner?”.\n",
    "\n",
    "As discussed at the beginning of the lecture, the spectral properties of matrices determine the rate of convergence\n",
    "of iterative matrices.  In particular, ill-conditioned matrices can converge slowly with iterative methods for the same\n",
    "reasons that naive value-function iteration will converge slowly if the discount rate is close to `1`.\n",
    "\n",
    "Preconditioning solves this issue by adjusting the spectral properties of the matrix, at the cost of some extra computational\n",
    "operations.\n",
    "\n",
    "To see an example of a right-preconditioner, consider a matrix $ P $ which has a convenient and numerically stable inverse.  Then,\n",
    "\n",
    "$$\n",
    "\\begin{align}\n",
    "A x &= b\\\\\n",
    "A P^{-1} P x &= b\\\\\n",
    "A P^{-1} y &= b\\\\\n",
    "P x &= y\n",
    "\\end{align}\n",
    "$$\n",
    "\n",
    "That is, solve $ (A P^{-1})y = b $ for $ y $, and then solve $ P x = y $ for $ x $.\n",
    "\n",
    "There are all sorts of preconditioners specific to each problem, the key features are that they have convenient (and lower order!) ways to solve the\n",
    "resulting system and lower the condition number of the matrix.  To see this in action, we can look at a simple preconditioner.\n",
    "\n",
    "The diagonal precondition is simply `P = Diagonal(A)`.  Depending on the matrix, this can change the condition number a little or a lot."
   ]
  },
  {
   "cell_type": "code",
   "execution_count": 30,
   "metadata": {
    "hide-output": false
   },
   "outputs": [
    {
     "name": "stdout",
     "output_type": "stream",
     "text": [
      "cond(Matrix(A)) = 189186.6473381337\n",
      "cond(Matrix(AP)) = 175174.59095330362\n"
     ]
    }
   ],
   "source": [
    "AP = A * inv(Diagonal(A))\n",
    "@show cond(Matrix(A))\n",
    "@show cond(Matrix(AP));"
   ]
  },
  {
   "cell_type": "markdown",
   "metadata": {},
   "source": [
    "But it may or may not decrease the number of iterations"
   ]
  },
  {
   "cell_type": "code",
   "execution_count": 31,
   "metadata": {
    "hide-output": false
   },
   "outputs": [
    {
     "data": {
      "text/plain": [
       "Converged after 174 iterations."
      ]
     },
     "execution_count": 31,
     "metadata": {},
     "output_type": "execute_result"
    }
   ],
   "source": [
    "using Preconditioners\n",
    "x = zeros(N)\n",
    "P = DiagonalPreconditioner(A)\n",
    "sol = cg!(x, A, b, log=true, maxiter = 1000)\n",
    "sol[end]"
   ]
  },
  {
   "cell_type": "markdown",
   "metadata": {},
   "source": [
    "Another classic preconditioner is the Incomplete LU decomposition"
   ]
  },
  {
   "cell_type": "code",
   "execution_count": 32,
   "metadata": {
    "hide-output": false
   },
   "outputs": [
    {
     "data": {
      "text/plain": [
       "Converged after 86 iterations."
      ]
     },
     "execution_count": 32,
     "metadata": {},
     "output_type": "execute_result"
    }
   ],
   "source": [
    "using IncompleteLU\n",
    "x = zeros(N)\n",
    "P = ilu(A, τ = 0.1)\n",
    "sol = cg!(x, A, b, Pl = P, log=true, maxiter = 1000)\n",
    "sol[end]"
   ]
  },
  {
   "cell_type": "markdown",
   "metadata": {},
   "source": [
    "The `τ` parameter determines the degree of the LU decomposition to conduct, providing a tradeoff in preconditioner vs. solve speed.\n",
    "\n",
    "A good rule of thumb is that you should almost always be using a preconditioner with iterative methods, and you should experiment to find ones appropriate for your problem.\n",
    "\n",
    "Finally, naively trying another preconditioning approach (called [Algebraic Multigrid](https://en.wikipedia.org/wiki/Multigrid_method#Algebraic_MultiGrid_%28AMG%29)) gives us a further drop in the number of iterations."
   ]
  },
  {
   "cell_type": "code",
   "execution_count": 33,
   "metadata": {
    "hide-output": false
   },
   "outputs": [
    {
     "data": {
      "text/plain": [
       "Converged after 59 iterations."
      ]
     },
     "execution_count": 33,
     "metadata": {},
     "output_type": "execute_result"
    }
   ],
   "source": [
    "x = zeros(N)\n",
    "P = AMGPreconditioner{RugeStuben}(A)\n",
    "sol = cg!(x, A, b, Pl = P, log=true, maxiter = 1000)\n",
    "sol[end]"
   ]
  },
  {
   "cell_type": "markdown",
   "metadata": {},
   "source": [
    "*Note:* Preconditioning is also available for stationary, iterative methods (see [this example](https://en.wikipedia.org/wiki/Preconditioner#Preconditioned_iterative_methods)), but\n",
    "is frequently not implemented since they are not often used for the complete solution."
   ]
  },
  {
   "cell_type": "markdown",
   "metadata": {},
   "source": [
    "### Methods for General Matrices\n",
    "\n",
    "There are many algorithms which exploit matrix structure (e.g. the conjugate gradient method for positive definite, and  MINRES for matrices that are only symmetric/hermitian).\n",
    "\n",
    "On the other hand, if you do not have any structure to your sparse matrix, then GMRES is a good approach.\n",
    "\n",
    "To experiment with these methods, we will use our ill-conditioned interpolation problem with a monomial basis."
   ]
  },
  {
   "cell_type": "code",
   "execution_count": 34,
   "metadata": {
    "hide-output": false
   },
   "outputs": [
    {
     "name": "stdout",
     "output_type": "stream",
     "text": [
      "cond(A) = 4.462833495403007e12, Converged after 11 iterations. Norm error 7.62520357966423e-8\n"
     ]
    }
   ],
   "source": [
    "using IterativeSolvers\n",
    "\n",
    "N = 10\n",
    "f(x) = exp(x)\n",
    "x = range(0.0, 10.0, length = N+1)\n",
    "y = f.(x)  # generate some data to interpolate\n",
    "A = sparse([x_i^n for x_i in x, n in 0:N])\n",
    "c = zeros(N+1)  # initial guess required for iterative solutions\n",
    "results = gmres!(c, A, y, log=true, maxiter = 1000)\n",
    "println(\"cond(A) = $(cond(Matrix(A))), $(results[end]) Norm error $(norm(A*c - y, Inf))\")"
   ]
  },
  {
   "cell_type": "markdown",
   "metadata": {},
   "source": [
    "That method converged in 11 iterations.  Now try it with an Incomplete LU preconditioner, we see it converges immediately."
   ]
  },
  {
   "cell_type": "code",
   "execution_count": 35,
   "metadata": {
    "hide-output": false
   },
   "outputs": [
    {
     "name": "stdout",
     "output_type": "stream",
     "text": [
      "Converged after 1 iterations. Norm error 4.5034175855107605e-7\n"
     ]
    }
   ],
   "source": [
    "N = 10\n",
    "f(x) = exp(x)\n",
    "x = range(0.0, 10.0, length = N+1)\n",
    "y = f.(x)  # generate some data to interpolate\n",
    "A = [x_i^n for x_i in x, n in 0:N]\n",
    "P = ilu(sparse(A), τ = 0.1)\n",
    "c = zeros(N+1)  # initial guess required for iterative solutions\n",
    "results = gmres!(c, A, y, Pl = P,log=true, maxiter = 1000)\n",
    "println(\"$(results[end]) Norm error $(norm(A*c - y, Inf))\")"
   ]
  },
  {
   "cell_type": "markdown",
   "metadata": {},
   "source": [
    "While other preconditioners (e.g. `DiagonalPreconditioner`) may only save an iteration or two.  Keep in mind,\n",
    "however, to consider the cost of the preconditioning process in your problem."
   ]
  },
  {
   "cell_type": "markdown",
   "metadata": {},
   "source": [
    "### Matrix-Free Methods\n",
    "\n",
    "First, lets use a Krylov method to solve our simple valuation problem"
   ]
  },
  {
   "cell_type": "code",
   "execution_count": 36,
   "metadata": {
    "hide-output": false
   },
   "outputs": [
    {
     "name": "stdout",
     "output_type": "stream",
     "text": [
      "Converged after 20 iterations.\n"
     ]
    }
   ],
   "source": [
    "α = 0.1\n",
    "N = 100\n",
    "Q = Tridiagonal(fill(α, N-1), [-α; fill(-2α, N-2); -α], fill(α, N-1))\n",
    "\n",
    "r = range(0.0, 10.0, length=N)\n",
    "ρ = 0.05\n",
    "\n",
    "A = ρ * I - Q\n",
    "v = zeros(N)\n",
    "results = gmres!(v, A, r, log=true)\n",
    "v_sol = results[1]\n",
    "println(\"$(results[end])\")"
   ]
  },
  {
   "cell_type": "markdown",
   "metadata": {},
   "source": [
    "While the `A` matrix was important to be kept in memory for direct methods, Krylov methods such as GMRES are built on matrix-vector products, i.e. $ A x $ for iterations on the $ x $.\n",
    "\n",
    "This product can be written directly for a given $ x $,\n",
    "\n",
    "$$\n",
    "A x = \\begin{bmatrix} (\\rho + \\alpha) x_1 - \\alpha x_2\\\\\n",
    "                    - \\alpha x_1 + (\\rho + 2 \\alpha) x_2 - \\alpha x_3\\\\\n",
    "                    \\vdots\\\\\n",
    "                    - \\alpha x_{N-2} + (\\rho + 2 \\alpha) x_{N-1} - \\alpha x_{N}\\\\\n",
    "                    - \\alpha x_{N-1} + (\\rho + \\alpha) x_N\n",
    "    \\end{bmatrix}\n",
    "$$\n",
    "\n",
    "This can be implemented as a function (either in-place or out-of-place) which calculates $ y = A x $"
   ]
  },
  {
   "cell_type": "code",
   "execution_count": 37,
   "metadata": {
    "hide-output": false
   },
   "outputs": [
    {
     "name": "stdout",
     "output_type": "stream",
     "text": [
      "norm(A * x - A_mul(x)) = 0.0\n"
     ]
    }
   ],
   "source": [
    "A_mul(x) = [ (ρ + α) * x[1] - α * x[2];\n",
    "             [-α * x[i-1] + (ρ + 2*α) * x[i] - α * x[i+1] for i in 2:N-1];  # comprehension\n",
    "             - α * x[end-1] + (ρ + α) * x[end]]\n",
    "\n",
    "x = rand(N)\n",
    "@show norm(A * x - A_mul(x))  # compare to matrix;"
   ]
  },
  {
   "cell_type": "markdown",
   "metadata": {},
   "source": [
    "The final line verifies that the `A_mul` function provides the same result as the matrix multiplication with our original `A` for a random vector.\n",
    "\n",
    "In abstract mathematics, a finite-dimensional [linear operator](https://en.wikipedia.org/wiki/Linear_map) is a mapping $ A : R^N \\to R^N $\n",
    "fulfilling a number of criteria such as $ A (c_1 x_1 + c_2 x_2) = c_1 A x_1 + c_2 A x_2 $ for scalars $ c_i $ and vectors $ x_i $.\n",
    "\n",
    "Moving from abstract mathematics to [generic programming](../more_julia/generic_programming.html), we can think of a linear operator\n",
    "as a map fulfilling a number of requirements (e.g. it has a left-multiply to apply the map `*`, an in-place left-multiply `mul!`, an associated `size`, etc.).  A Julia matrix\n",
    "is just one possible implementation of the abstract concept of a linear operator.\n",
    "\n",
    "Convenience wrappers can provide some of the boilerplate which turn the `A_mul` function into something which behaves like a matrix.  One\n",
    "package is [LinearMaps.jl](https://github.com/Jutho/LinearMaps.jl) and another is [LinearOperators.jl](https://github.com/JuliaSmoothOptimizers/LinearOperators.jl)"
   ]
  },
  {
   "cell_type": "code",
   "execution_count": 38,
   "metadata": {
    "hide-output": false
   },
   "outputs": [
    {
     "data": {
      "text/plain": [
       "LinearMaps.FunctionMap{Float64}(A_mul, 100, 100; ismutating=false, issymmetric=false, ishermitian=false, isposdef=false)"
      ]
     },
     "execution_count": 38,
     "metadata": {},
     "output_type": "execute_result"
    }
   ],
   "source": [
    "using LinearMaps\n",
    "A_map = LinearMap(A_mul, N)  # map uses the A_mul function"
   ]
  },
  {
   "cell_type": "markdown",
   "metadata": {},
   "source": [
    "Now, with the `A_map` object, we can fulfill many of the operations we would expect from a matrix"
   ]
  },
  {
   "cell_type": "code",
   "execution_count": 39,
   "metadata": {
    "hide-output": false
   },
   "outputs": [
    {
     "name": "stdout",
     "output_type": "stream",
     "text": [
      "norm(A_map * x - A * x) = 0.0\n",
      "norm(y - A * x) = "
     ]
    },
    {
     "name": "stdout",
     "output_type": "stream",
     "text": [
      "0.0\n",
      "size(A_map) = (100, 100)\n",
      "norm(Matrix(A_map) - A) = "
     ]
    },
    {
     "name": "stdout",
     "output_type": "stream",
     "text": [
      "0.0\n"
     ]
    },
    {
     "name": "stdout",
     "output_type": "stream",
     "text": [
      "nnz(sparse(A_map)) = 298\n"
     ]
    }
   ],
   "source": [
    "x = rand(N)\n",
    "@show norm(A_map * x  - A * x)\n",
    "y = similar(x)\n",
    "mul!(y, A_map, x) # in-place multiplication\n",
    "@show norm(y - A * x)\n",
    "@show size(A_map)\n",
    "@show norm(Matrix(A_map) - A)\n",
    "@show nnz(sparse(A_map));"
   ]
  },
  {
   "cell_type": "markdown",
   "metadata": {},
   "source": [
    "**Note:**  In the case of the `sparse(A_map)` and `Matrix(A_map)`, the code is using the left multiplication operator with `N` standard basis vectors to construct\n",
    "the full matrix.  This should only be used for testing purposes.\n",
    "\n",
    "But notice that, as the linear operator does not have indexing operations it is not an array or matrix."
   ]
  },
  {
   "cell_type": "code",
   "execution_count": 40,
   "metadata": {
    "hide-output": false
   },
   "outputs": [
    {
     "data": {
      "text/plain": [
       "false"
      ]
     },
     "execution_count": 40,
     "metadata": {},
     "output_type": "execute_result"
    }
   ],
   "source": [
    "typeof(A_map) <: AbstractArray"
   ]
  },
  {
   "cell_type": "markdown",
   "metadata": {},
   "source": [
    "As long as algorithms using linear operators are written generically (e.g. using the matrix-vector `*` or `mul!` functions, etc.) and the types of functions are not\n",
    "unnecessarily constrained to be `Matrix` or `AbstractArray` when it isn’t strictly necessary, then the `A_map` type can work in places which would otherwise require a matrix.\n",
    "\n",
    "For example, the Krylov methods in `IterativeSolvers.jl` are written for generic left-multiplication"
   ]
  },
  {
   "cell_type": "code",
   "execution_count": 41,
   "metadata": {
    "hide-output": false
   },
   "outputs": [
    {
     "name": "stdout",
     "output_type": "stream",
     "text": [
      "Converged after 20 iterations.\n"
     ]
    }
   ],
   "source": [
    "results = gmres(A_map, r, log = true)  # Krylov method using the matrix-free type\n",
    "println(\"$(results[end])\")"
   ]
  },
  {
   "cell_type": "markdown",
   "metadata": {},
   "source": [
    "These methods are typically not competitive with sparse, direct methods unless the problems become very large.  In that case,\n",
    "you will often want to work with pre-allocated vectors.  Instead of using `y = A * x` for matrix-vector products\n",
    "you would use in-place `mul!(y, A, x)` function.  The wrappers for linear operators all support in-place non-allocating versions for this purpose."
   ]
  },
  {
   "cell_type": "code",
   "execution_count": 42,
   "metadata": {
    "hide-output": false
   },
   "outputs": [
    {
     "name": "stdout",
     "output_type": "stream",
     "text": [
      "norm(A_map_2 * v - A * v) = 0.0\n",
      "Converged after 20 iterations."
     ]
    },
    {
     "name": "stdout",
     "output_type": "stream",
     "text": [
      "\n"
     ]
    }
   ],
   "source": [
    "function A_mul!(y, x)  # inplace version\n",
    "    y[1] = (ρ + α) * x[1] - α * x[2]\n",
    "    for i in 2:N-1\n",
    "        y[i] = -α * x[i-1] + (ρ + 2α) * x[i] -α * x[i+1]\n",
    "    end\n",
    "    y[end] = - α * x[end-1] + (ρ + α) * x[end]\n",
    "    return y\n",
    "end\n",
    "A_map_2 = LinearMap(A_mul!, N, ismutating = true)  # ismutating == in-place\n",
    "\n",
    "v = zeros(N)\n",
    "@show norm(A_map_2 * v - A * v)  # can still call with * and have it allocate\n",
    "results = gmres!(v, A_map_2, r, log=true)  # in-place gmres\n",
    "println(\"$(results[end])\")"
   ]
  },
  {
   "cell_type": "markdown",
   "metadata": {},
   "source": [
    "Finally, keep in mind that the linear operators can compose, so that $ A (c_1 x) + B (c_2 x) + x  = (c_1 A + c_2 B + I) x $ is well-defined for any linear operators - just as\n",
    "it would be for matrices $ A, B $ and scalars $ c_1, c_2 $.\n",
    "\n",
    "For example, take $ 2 A x + x = (2 A + I) x \\equiv B x $ as a new linear map,"
   ]
  },
  {
   "cell_type": "code",
   "execution_count": 43,
   "metadata": {
    "hide-output": false
   },
   "outputs": [
    {
     "data": {
      "text/plain": [
       "LinearMaps.LinearCombination{Float64,Tuple{LinearMaps.CompositeMap{Float64,Tuple{LinearMaps.FunctionMap{Float64,typeof(A_mul),Nothing},LinearMaps.UniformScalingMap{Float64}}},LinearMaps.UniformScalingMap{Bool}}}"
      ]
     },
     "execution_count": 43,
     "metadata": {},
     "output_type": "execute_result"
    }
   ],
   "source": [
    "B = 2.0 * A_map  + I  # composite linear operator\n",
    "B * rand(N)  # left-multiply works with the composition\n",
    "typeof(B)"
   ]
  },
  {
   "cell_type": "markdown",
   "metadata": {},
   "source": [
    "The wrappers, such as `LinearMap` wrappers make this composition possible by keeping of the composition\n",
    "graph of the expression (i.e. `LinearCombination`), and implementing the left-multiply recursively using the rules of linearity.\n",
    "\n",
    "Another example is to solve the $ \\rho v = r + Q v $ equation for $ v $ with composition of matrix-free methods for $ L $\n",
    "rather than as creating the full $ A = \\rho - Q $ operator, which we implemented as `A_mul`"
   ]
  },
  {
   "cell_type": "code",
   "execution_count": 44,
   "metadata": {
    "hide-output": false
   },
   "outputs": [
    {
     "name": "stdout",
     "output_type": "stream",
     "text": [
      "norm(A - sparse(A_composed)) = 0.0\n"
     ]
    },
    {
     "data": {
      "text/plain": [
       "Converged after 20 iterations."
      ]
     },
     "execution_count": 44,
     "metadata": {},
     "output_type": "execute_result"
    }
   ],
   "source": [
    "Q_mul(x) = [ -α * x[1] +     α * x[2];\n",
    "            [α * x[i-1] - 2*α * x[i] + α*x[i+1] for i in 2:N-1];  # comprehension\n",
    "            α * x[end-1] - α * x[end];]\n",
    "Q_map = LinearMap(Q_mul, N)\n",
    "A_composed = ρ * I - Q_map   # map composition, performs no calculations\n",
    "@show norm(A - sparse(A_composed))  # test produces the same matrix\n",
    "gmres(A_composed, r, log=true)[2]"
   ]
  },
  {
   "cell_type": "markdown",
   "metadata": {},
   "source": [
    "In this example, the left-multiply of the `A_composed` used by `gmres` uses the left-multiply of `Q_map` and `I` with the rules\n",
    "of linearity.  The `A_composed = ρ * I - Q_map` operation simply creates the `LinearMaps.LinearCombination` type, and doesn’t perform any calculations on its own."
   ]
  },
  {
   "cell_type": "markdown",
   "metadata": {},
   "source": [
    "## Iterative Methods for Linear-Least Squares\n",
    "\n",
    "In theory, the solution to the least-squares problem, $ \\min_x \\| Ax -b \\|^2 $ is simply the solution to the normal equations $ (A'A) x  = A'b $.\n",
    "\n",
    "We saw, however, that in practice direct methods use a QR decomposition - in part because ill-conditioned $ A $ become even worse when $ A' A $ is formed.\n",
    "\n",
    "For large problems, we can also consider Krylov methods for solving the linear-least squares problem.  One formulation is the [LSMR](https://stanford.edu/group/SOL/software/lsmr/LSMR-SISC-2011.pdf) algorithm\n",
    "which can solve the regularized\n",
    "\n",
    "$$\n",
    "\\min_x \\| Ax -b \\|^2 + \\| \\lambda x\\|^2\n",
    "$$\n",
    "\n",
    "The purpose of the $ \\lambda \\geq 0 $ parameter is to dampen the iteration process and/or regularize the solution.  This isn’t required, but can help convergence for ill-conditioned $ A $ matrices.  With the\n",
    "dampening parameter, the normalized equations would become $ (A'A + \\lambda^2 I) x  = A'b $.\n",
    "\n",
    "We can compare solving the least-squares problem with LSMR and direct methods"
   ]
  },
  {
   "cell_type": "code",
   "execution_count": 45,
   "metadata": {
    "hide-output": false
   },
   "outputs": [
    {
     "name": "stdout",
     "output_type": "stream",
     "text": [
      "norm(β_direct - β_lsmr) = 9.139228893911292e-6\n",
      "Converged after 14 iterations.\n"
     ]
    }
   ],
   "source": [
    "M = 1000\n",
    "N = 10000\n",
    "σ = 0.1\n",
    "β = rand(M)\n",
    "# simulate data\n",
    "X = sprand(N, M, 0.1)\n",
    "y = X * β + σ * randn(N)\n",
    "β_direct = X \\ y\n",
    "results = lsmr(X, y, log = true)\n",
    "β_lsmr = results[1]\n",
    "@show norm(β_direct - β_lsmr)\n",
    "println(\"$(results[end])\")"
   ]
  },
  {
   "cell_type": "markdown",
   "metadata": {},
   "source": [
    "Note that rather than forming this version of the normal equations, the LSMR algorithm uses the $ A x $ and $ A' y $ (i.e. the matrix-vector product, and the matrix-transpose vector product) to implement an iterative\n",
    "solution.  Unlike the previous versions, the left-multiplies is insufficient since the least squares also deals with the transpose of the operators.  For this reason, to use\n",
    "matrix-free methods you need to define the `A * x` and `transpose(A) * y` functions separately."
   ]
  },
  {
   "cell_type": "code",
   "execution_count": 46,
   "metadata": {
    "hide-output": false
   },
   "outputs": [
    {
     "name": "stdout",
     "output_type": "stream",
     "text": [
      "Converged after 14 iterations.\n"
     ]
    }
   ],
   "source": [
    "# Could implement as matrix-free functions.\n",
    "X_func(u) = X * u  # matrix-vector product\n",
    "X_T_func(v) = X' * v  # i.e. adjoint-vector product\n",
    "\n",
    "X_map = LinearMap(X_func, X_T_func, N, M)\n",
    "results = lsmr(X_map, y, log = true)\n",
    "println(\"$(results[end])\")"
   ]
  },
  {
   "cell_type": "markdown",
   "metadata": {},
   "source": [
    "## Iterative Methods for Eigensystems\n",
    "\n",
    "When you use `eigen` on a dense matrix, it calculates an eigendecomposition and provides all of the eigenvalues and eigenvectors.\n",
    "\n",
    "While sometimes this is necessary, a spectral decomposition of a dense, unstructured matrix is one of the costliest $ O(N^3) $ operations (i.e., it has\n",
    "one of the largest constants).  For large matrices it is often infeasible.\n",
    "\n",
    "Luckily, you frequently only need a few or even a single eigenvector/eigenvalue, which enables a different set of algorithms.\n",
    "\n",
    "For example, in the case of a discrete time markov chain, to find the stationary distribution we are looking for the\n",
    "eigenvector associated with the eigenvalue of 1.  As usual, a little linear algebra goes a long way.\n",
    "\n",
    "From the [Perron-Frobenius theorem](https://en.wikipedia.org/wiki/Perron%E2%80%93Frobenius_theorem#Stochastic_matrices), the largest eigenvalue of an irreducible stochastic matrix is 1 - the same eigenvalue we are looking for.\n",
    "\n",
    "Iterative methods for solving eigensystems allow targeting the smallest magnitude, largest magnitude, and many others.  The easiest library\n",
    "to use is [Arpack.jl](https://julialinearalgebra.github.io/Arpack.jl/latest/).\n",
    "\n",
    "As an example,"
   ]
  },
  {
   "cell_type": "code",
   "execution_count": 47,
   "metadata": {
    "hide-output": false
   },
   "outputs": [
    {
     "name": "stdout",
     "output_type": "stream",
     "text": [
      "λ = Complex{Float64}[1.0000000000000189 + 0.0im]\n",
      "mean(ϕ) = 0.0010000000000000002\n"
     ]
    }
   ],
   "source": [
    "using Arpack, LinearAlgebra\n",
    "N = 1000\n",
    "A = Tridiagonal([fill(0.1, N-2); 0.2], fill(0.8, N), [0.2; fill(0.1, N-2);])\n",
    "A_adjoint = A'\n",
    "\n",
    "λ, ϕ = eigs(A_adjoint, nev=1, which=:LM, maxiter=1000)  # Find 1 of the largest magnitude eigenvalue\n",
    "ϕ = real(ϕ) ./ sum(real(ϕ))\n",
    "@show λ\n",
    "@show mean(ϕ);"
   ]
  },
  {
   "cell_type": "markdown",
   "metadata": {},
   "source": [
    "Indeed, the `λ` is equal to `1`.  If you choose `nev = 2` then it would provide the eigenpairs with the largest two eigenvalues in absolute magnitude.\n",
    "\n",
    "*Hint*: if you get errors using `Arpack`, increase `maxiter` parameter for your problems.\n",
    "\n",
    "Iterative methods for eigensystems rely on matrix-vector products rather than decompositions, and are amenable to matrix-free approaches.  For example,\n",
    "take the Markov-chain for a simple counting process\n",
    "\n",
    "1. The count starts at $ 1 $ and has a maximum of $ N $.  \n",
    "1. With probability $ \\theta \\geq 0 $ and an existing count is lost with probability $ \\zeta \\geq 0 $ such that $ \\theta + \\zeta \\leq 1 $.  \n",
    "1. If the count is at $ 1 $ then the only transition is to add a count with probability $ \\theta $  \n",
    "1. If the current count is $ N $ then the only transition is to lose the count with probability $ \\zeta $  \n",
    "\n",
    "\n",
    "First finding the transition matrix $ P $ and its adjoint directly as a check"
   ]
  },
  {
   "cell_type": "code",
   "execution_count": 48,
   "metadata": {
    "hide-output": false
   },
   "outputs": [
    {
     "data": {
      "text/plain": [
       "5×5 Tridiagonal{Float64,Array{Float64,1}}:\n",
       " 0.9  0.05   ⋅     ⋅     ⋅ \n",
       " 0.1  0.85  0.05   ⋅     ⋅ \n",
       "  ⋅   0.1   0.85  0.05   ⋅ \n",
       "  ⋅    ⋅    0.1   0.85  0.05\n",
       "  ⋅    ⋅     ⋅    0.1   0.95"
      ]
     },
     "execution_count": 48,
     "metadata": {},
     "output_type": "execute_result"
    }
   ],
   "source": [
    "θ = 0.1\n",
    "ζ = 0.05\n",
    "N = 5\n",
    "P = Tridiagonal(fill(ζ, N-1), [1-θ; fill(1-θ-ζ, N-2); 1-ζ], fill(θ, N-1))\n",
    "P'"
   ]
  },
  {
   "cell_type": "markdown",
   "metadata": {},
   "source": [
    "Implementing the adjoint-vector product directly, and verifying that it gives the same matrix as the adjoint"
   ]
  },
  {
   "cell_type": "code",
   "execution_count": 49,
   "metadata": {
    "hide-output": false
   },
   "outputs": [
    {
     "name": "stdout",
     "output_type": "stream",
     "text": [
      "norm(P' - sparse(P_adj_map)) = 0.0\n"
     ]
    },
    {
     "data": {
      "text/plain": [
       "0.0"
      ]
     },
     "execution_count": 49,
     "metadata": {},
     "output_type": "execute_result"
    }
   ],
   "source": [
    "P_adj_mul(x) = [ (1-θ) * x[1] + ζ * x[2];\n",
    "                [θ * x[i-1] + (1-θ-ζ) * x[i] + ζ * x[i+1] for i in 2:N-1];  # comprehension\n",
    "            θ * x[end-1] + (1-ζ) * x[end];]\n",
    "P_adj_map = LinearMap(P_adj_mul, N)\n",
    "@show norm(P' - sparse(P_adj_map))"
   ]
  },
  {
   "cell_type": "markdown",
   "metadata": {},
   "source": [
    "Finally, solving for the stationary distribution using the matrix-free method (which could be verified against the decomposition approach of $ P' $)"
   ]
  },
  {
   "cell_type": "code",
   "execution_count": 50,
   "metadata": {
    "hide-output": false
   },
   "outputs": [
    {
     "name": "stdout",
     "output_type": "stream",
     "text": [
      "λ = Complex{Float64}[1.0 + 0.0im]\n",
      "ϕ = "
     ]
    },
    {
     "name": "stdout",
     "output_type": "stream",
     "text": [
      "[0.03225806451612657; 0.06451612903225695; 0.1290322580645172; 0.25806451612903425; 0.516129032258065]\n"
     ]
    },
    {
     "data": {
      "text/plain": [
       "5×1 Array{Float64,2}:\n",
       " 0.03225806451612657\n",
       " 0.06451612903225695\n",
       " 0.1290322580645172\n",
       " 0.25806451612903425\n",
       " 0.516129032258065"
      ]
     },
     "execution_count": 50,
     "metadata": {},
     "output_type": "execute_result"
    }
   ],
   "source": [
    "λ, ϕ = eigs(P_adj_map, nev=1, which=:LM, maxiter=1000)\n",
    "ϕ = real(ϕ) ./ sum(real(ϕ))\n",
    "@show λ\n",
    "@show ϕ"
   ]
  },
  {
   "cell_type": "markdown",
   "metadata": {},
   "source": [
    "Of course, for this simple of a problem the direct eigendecomposition will be significantly faster.  Only use matrix-free iterative methods for large systems where\n",
    "you do not need all of the eigenvalues."
   ]
  },
  {
   "cell_type": "markdown",
   "metadata": {},
   "source": [
    "## Krylov Methods for Markov Chain Dynamics\n",
    "\n",
    "This example applies the methods in this lecture to a large continuous time Markov chain, and provides some practice working with arrays of arbitrary dimensions.\n",
    "\n",
    "Consider a version of the Markov-chain dynamics in [[Per19]](../zreferences.html#perla2019), where a firm has a discrete number of customers of different types.  To keep things as simple as possible, assume that there are $ m=1, \\ldots M $ types of consumers and that the firm may have $ n = 1, \\ldots N $ consumers of each type.\n",
    "\n",
    "To set notation, let $ n_m \\in \\{1, \\ldots N\\} $ be the number of consumers of type $ m $, so that the state of a firm is $ \\{n_1, \\ldots n_m \\ldots, n_M\\} $.  The cardinality of possible states is then $ \\mathbf{N}\\equiv N^M $ which can blow up quickly as the number of types increases.\n",
    "\n",
    "The stochastic process is a simple counting/forgetting process as follows.\n",
    "\n",
    "1. For every $ 1 \\leq n_m(t) < N $ there is a $ \\theta $ intensity of a new customer increasing $ n_m(t+\\Delta) = n_m(t) + 1 $  \n",
    "1. For every $ 1 < n_m(t) \\leq N $ there is a $ \\zeta $ intensity of losing a customer, so that $ n_m(t+\\Delta) = n_m(t) - 1 $  "
   ]
  },
  {
   "cell_type": "markdown",
   "metadata": {},
   "source": [
    "### Matrix-free Infinitesimal Generator\n",
    "\n",
    "In order to define an intensity matrix $ Q $ of size $ \\mathbf{N}\\times \\mathcal{N} $, we need to choose a consistent ordering of the states.  But,\n",
    "before we enumerate them linearly, take a $ v\\in R^{\\mathbf{N}} $ interpreted as a multidimensional array and look at the left product of the linear operator product $ Q v \\to R^{\\mathbf{N}} $.\n",
    "\n",
    "For example, if we were implementing the product at the row of $ Q $ corresponding to the $ (n_1, \\ldots, n_M) $ state, then\n",
    "\n",
    "$$\n",
    "\\begin{align}\n",
    "    Q_{(n_1, \\ldots n_M)} \\cdot v &=\n",
    "\\theta \\sum_{m=1}^M (n_m < N)  v(n_1, \\ldots, n_m + 1, \\ldots, n_M)\\\\\n",
    "                                        &+ \\zeta \\sum_{m=1}^M (1 < n_m)  v(n_1, \\ldots, n_m - 1, \\ldots, n_M)\\\\\n",
    "                                        &-\\left(\\theta\\, \\text{Count}(n_m < N) + \\zeta\\, \\text{Count}( n_m > 1)\\right)v(n_1, \\ldots, n_M)\n",
    "\\end{align}\n",
    "$$\n",
    "\n",
    "Here:\n",
    "\n",
    "- the first term includes all of the arrivals of new customers into the various $ m $  \n",
    "- the second term is the loss of a customer for the various $ m $  \n",
    "- the last term is the intensity of all exits from this state (i.e. counting the intensity of all other transitions to ensure the row would sum to $ 0 $)  \n",
    "\n",
    "\n",
    "In practice, rather than working with the $ f $ as a multidimensional type, we will need to enumerate the discrete states linearly so we can iterate $ f $ between $ 1 $ and $ \\mathbf{N} $.  An especially convenient\n",
    "approach is to enumerate them in the same order as the $ K $ dimensional cartesian product of the $ N $ states as a multi-dimensional array above.\n",
    "\n",
    "This can be done with the `CartesianIndices` function, which is used internally in Julia for the `eachindex` function.  For example,"
   ]
  },
  {
   "cell_type": "code",
   "execution_count": 51,
   "metadata": {
    "hide-output": false
   },
   "outputs": [
    {
     "name": "stdout",
     "output_type": "stream",
     "text": [
      "typeof(v) = Array{Float64,3}\n",
      "v(1, 1, 1) = 0.639089412234831"
     ]
    },
    {
     "name": "stdout",
     "output_type": "stream",
     "text": [
      "\n",
      "v(2, 1, 1) = 0.4302368488000152\n",
      "v(1, 2, 1) = 0.21490768283644002\n",
      "v(2, 2, 1) = 0.7542051014748841\n",
      "v(1, 1, 2) = 0.4330861190374067\n",
      "v(2, 1, 2) = 0.07556766967902084\n",
      "v(1, 2, 2) = 0.2143739072351467\n",
      "v(2, 2, 2) = 0.43231874437572815\n"
     ]
    }
   ],
   "source": [
    "N = 2\n",
    "M = 3\n",
    "shape = Tuple(fill(N, M))\n",
    "v = rand(shape...)\n",
    "@show typeof(v)\n",
    "for ind in CartesianIndices(v)\n",
    "    println(\"v$(ind.I) = $(v[ind])\")  # .I gets the tuple to display\n",
    "end"
   ]
  },
  {
   "cell_type": "markdown",
   "metadata": {},
   "source": [
    "The added benefit of this approach is that it will be the most efficient way to iterate through vectors in the implementation.\n",
    "\n",
    "For the counting process with the arbitrary dimensions, we will frequently be incrementing or decrementing the $ m $ unit vectors of the `CartesianIndex` type with"
   ]
  },
  {
   "cell_type": "code",
   "execution_count": 52,
   "metadata": {
    "hide-output": false
   },
   "outputs": [
    {
     "data": {
      "text/plain": [
       "3-element Array{CartesianIndex{3},1}:\n",
       " CartesianIndex(1, 0, 0)\n",
       " CartesianIndex(0, 1, 0)\n",
       " CartesianIndex(0, 0, 1)"
      ]
     },
     "execution_count": 52,
     "metadata": {},
     "output_type": "execute_result"
    }
   ],
   "source": [
    "e_m = [CartesianIndex((1:M .== i)*1...)  for i in 1:M]"
   ]
  },
  {
   "cell_type": "markdown",
   "metadata": {},
   "source": [
    "And then use the vector to increment.  For example, if the current count is `(1, 2, 2)` and we want to add a count of `1` to the 1st index or remove a count\n",
    "from the 3rd, then"
   ]
  },
  {
   "cell_type": "code",
   "execution_count": 53,
   "metadata": {
    "hide-output": false
   },
   "outputs": [
    {
     "name": "stdout",
     "output_type": "stream",
     "text": [
      "ind + e_m[1] = CartesianIndex(2, 2, 2)\n",
      "ind - e_m[3] = CartesianIndex(1, 2, 1)\n"
     ]
    }
   ],
   "source": [
    "ind = CartesianIndex(1, 2, 2)  # example counts coming from CartesianIndices\n",
    "@show ind + e_m[1]  # increment 1st index\n",
    "@show ind - e_m[3];  # decrement the 3rd index"
   ]
  },
  {
   "cell_type": "markdown",
   "metadata": {},
   "source": [
    "This works, of course, because the `CartesianIndex` type is written to support efficient addition and subtraction.  Finally, to implement the operator we need to count of indices in the states where increment and decrement occurs."
   ]
  },
  {
   "cell_type": "code",
   "execution_count": 54,
   "metadata": {
    "hide-output": false
   },
   "outputs": [
    {
     "name": "stdout",
     "output_type": "stream",
     "text": [
      "ind = CartesianIndex(1, 2, 2)\n",
      "count(ind.I .> 1) = 2\n",
      "count(ind.I .< N) = 1\n"
     ]
    }
   ],
   "source": [
    "@show ind\n",
    "@show count(ind.I .> 1)\n",
    "@show count(ind.I .< N);"
   ]
  },
  {
   "cell_type": "markdown",
   "metadata": {},
   "source": [
    "With this, we are now able to write the $ Q $ operator on the $ f $ vector, which is enumerated by the cartesian indices.  First, collect the\n",
    "parameters in a named tuple generator"
   ]
  },
  {
   "cell_type": "code",
   "execution_count": 55,
   "metadata": {
    "hide-output": false
   },
   "outputs": [
    {
     "data": {
      "text/plain": [
       "##NamedTuple_kw#256 (generic function with 2 methods)"
      ]
     },
     "execution_count": 55,
     "metadata": {},
     "output_type": "execute_result"
    }
   ],
   "source": [
    "using Parameters, BenchmarkTools\n",
    "default_params = @with_kw (θ = 0.1, ζ = 0.05, ρ = 0.03, N = 10, M = 6,\n",
    "                           shape = Tuple(fill(N, M)),  # for reshaping vector to M-d array\n",
    "                           e_m = ([CartesianIndex((1:M .== i)*1...)  for i in 1:M]))"
   ]
  },
  {
   "cell_type": "markdown",
   "metadata": {},
   "source": [
    "Next, implement the in-place matrix-free product"
   ]
  },
  {
   "cell_type": "code",
   "execution_count": 56,
   "metadata": {
    "hide-output": false
   },
   "outputs": [
    {
     "name": "stdout",
     "output_type": "stream",
     "text": [
      "  53.929 ms (0 allocations: 0 bytes)\n"
     ]
    }
   ],
   "source": [
    "function Q_mul!(dv, v, p)\n",
    "    @unpack θ, ζ, N, M, shape, e_m = p\n",
    "    v = reshape(v, shape)  # now can access v, dv as M-dim arrays\n",
    "    dv = reshape(dv, shape)\n",
    "\n",
    "    @inbounds for ind in CartesianIndices(v)\n",
    "        dv[ind] = 0.0\n",
    "        for m in 1:M\n",
    "            n_m = ind[m]\n",
    "            if(n_m < N)\n",
    "                dv[ind] += θ * v[ind + e_m[m]]\n",
    "            end\n",
    "            if(n_m > 1)\n",
    "                dv[ind] += ζ *v[ind - e_m[m]]\n",
    "            end\n",
    "        end\n",
    "        dv[ind] -= (θ * count(ind.I .< N) + ζ * count(ind.I .> 1)) * v[ind]\n",
    "    end\n",
    "end\n",
    "\n",
    "p = default_params()\n",
    "v = zeros(p.shape)\n",
    "dv = similar(v)\n",
    "@btime Q_mul!($dv, $v, $p)"
   ]
  },
  {
   "cell_type": "markdown",
   "metadata": {},
   "source": [
    "From the output of the benchmarking, note that the implementation of the left-multiplication takes less than a 100 milliseconds, and allocates little or no memory even though the Markov chain has one million possible states (i.e. $ N^M = 10^6 $)."
   ]
  },
  {
   "cell_type": "markdown",
   "metadata": {},
   "source": [
    "### Solving a Valuation Problem\n",
    "\n",
    "As before, we could use this Markov Chain to solve a Bellman equations.  Assume that the firm discounts at rate $ \\rho > 0 $ and gets a flow payoff of a different $ z_m $ per\n",
    "customer of type $ m $.  For example, if the state of the firm is $ (n_1, n_2, n_3) = (2,3,2) $ then it gets $ \\begin{bmatrix}2 & 3 & 2\\end{bmatrix} \\cdot \\begin{bmatrix}z_1& z_2 & z_3\\end{bmatrix} $ in flow profits.\n",
    "\n",
    "Given this profit function, we can write the simple Bellman equation in our standard form of $ \\rho v = r + Q v $ defining the appropriate payoff $ r $.  For example, if $ z_m = m^2 $ then"
   ]
  },
  {
   "cell_type": "code",
   "execution_count": 57,
   "metadata": {
    "hide-output": false
   },
   "outputs": [
    {
     "name": "stdout",
     "output_type": "stream",
     "text": [
      "typeof(r_vec(p)) = Array{Float64,1}\n"
     ]
    },
    {
     "data": {
      "text/plain": [
       "250.25"
      ]
     },
     "execution_count": 57,
     "metadata": {},
     "output_type": "execute_result"
    }
   ],
   "source": [
    "function r_vec(p)\n",
    "    z = (1:p.M).^2  # payoffs per type m\n",
    "    r = [0.5 * dot(ind.I, z)  for ind in CartesianIndices(p.shape)]\n",
    "    return reshape(r, p.N^p.M)  # return as a vector\n",
    "end\n",
    "@show typeof(r_vec(p))\n",
    "r_vec(p) |> mean"
   ]
  },
  {
   "cell_type": "markdown",
   "metadata": {},
   "source": [
    "Note that the returned $ r $ is a vector, enumerated in the same order as the $ n_m $ states.\n",
    "\n",
    "Since the ordering of $ r $ is consistent with that that of $ Q $, we can solve $ (\\rho - Q) v = r $ as a linear system.\n",
    "\n",
    "Below, we create a linear operator and compare the algorithm for a few different iterative methods [(GMRES, BiCGStab(l), IDR(s), etc.)](https://juliamath.github.io/IterativeSolvers.jl/dev/#What-method-should-I-use-for-linear-systems?-1) with a small problem\n",
    "of only ten-thousand possible states."
   ]
  },
  {
   "cell_type": "code",
   "execution_count": 58,
   "metadata": {
    "hide-output": false
   },
   "outputs": [
    {
     "name": "stdout",
     "output_type": "stream",
     "text": [
      "  739.077 ms (75 allocations: 181.85 MiB)\n"
     ]
    },
    {
     "name": "stdout",
     "output_type": "stream",
     "text": [
      "norm(gmres(A, r) - v_direct) = 2.390837794373907e-5\n",
      "  "
     ]
    },
    {
     "name": "stdout",
     "output_type": "stream",
     "text": [
      "5.513 ms (226 allocations: 3.37 MiB)\n",
      "norm(bicgstabl(A, r) - v_direct) = "
     ]
    },
    {
     "name": "stdout",
     "output_type": "stream",
     "text": [
      "1.108634674599104e-5\n"
     ]
    },
    {
     "name": "stdout",
     "output_type": "stream",
     "text": [
      "  25.488 ms (432 allocations: 9.86 MiB)\n"
     ]
    },
    {
     "name": "stdout",
     "output_type": "stream",
     "text": [
      "norm(idrs(A, r) - v_direct) = 2.4896370277336188e-8\n",
      "  "
     ]
    },
    {
     "name": "stdout",
     "output_type": "stream",
     "text": [
      "8.615 ms (312 allocations: 4.91 MiB)\n"
     ]
    }
   ],
   "source": [
    "p = default_params(N=10, M=4)\n",
    "Q = LinearMap((df, f) -> Q_mul!(df, f, p), p.N^p.M, ismutating = true)\n",
    "A = p.ρ * I - Q\n",
    "A_sparse = sparse(A)  # expensive: only use in tests\n",
    "r = r_vec(p)\n",
    "v_direct = A_sparse \\ r\n",
    "iv = zero(r)\n",
    "\n",
    "@btime $A_sparse \\ $r  # direct\n",
    "@show norm(gmres(A, r) - v_direct)\n",
    "@btime gmres!(iv, $A, $r) setup = (iv = zero(r))\n",
    "\n",
    "@show norm(bicgstabl(A, r) - v_direct)\n",
    "@btime bicgstabl!(iv, $A, $r) setup = (iv = zero(r))\n",
    "\n",
    "@show norm(idrs(A, r) - v_direct)\n",
    "@btime idrs($A, $r);"
   ]
  },
  {
   "cell_type": "markdown",
   "metadata": {},
   "source": [
    "Here, we see that even if the $ A $ matrix has been created, the direct sparse solvers (which uses a sparse LU or QR) is at least an order of magnitude slower and allocating over an order of magnitude more memory.  This is in addition to the allocation for the `A_sparse` matrix itself, which is not needed for iterative methods.\n",
    "\n",
    "The different iterative methods have tradeoffs when it comes to speed of accuracy, convergence speed, memory requirements, and usefulness of preconditioning.  Going much above this $ \\mathbf{N} = 10^4 $, the direct methods quickly become infeasible.\n",
    "\n",
    "Putting everything together to solving much larger systems with GMRES as our linear solvers"
   ]
  },
  {
   "cell_type": "code",
   "execution_count": 59,
   "metadata": {
    "hide-output": false
   },
   "outputs": [
    {
     "name": "stdout",
     "output_type": "stream",
     "text": [
      "  1.659 s (270 allocations: 366.23 MiB)\n"
     ]
    }
   ],
   "source": [
    "function solve_bellman(p; iv = zeros(p.N^p.M))\n",
    "    @unpack ρ, N, M = p\n",
    "    Q = LinearMap((df, f) -> Q_mul!(df, f, p), N^M, ismutating = true)\n",
    "    A = ρ * I - Q\n",
    "    r = r_vec(p)\n",
    "\n",
    "    sol = gmres!(iv, A, r, log = false)  # iterative solver, matrix-free\n",
    "    return sol\n",
    "end\n",
    "p = default_params(N=10, M=6)\n",
    "@btime solve_bellman($p);"
   ]
  },
  {
   "cell_type": "markdown",
   "metadata": {},
   "source": [
    "This solves a value function with a Markov chain of one-million states in a little over a second!  This general approach seems to scale roughly linearly.  For example, try $ N=10, M=8 $\n",
    "to solve an equation with a Markov chain with one-hundred million possible states, which can be solved in around 3-4 minutes.  Above that order of magnitude, you may need to tinker with the linear solver parameters to ensure that you are not memory-limited (e.g. change the `restart` parameter of GMRES)."
   ]
  },
  {
   "cell_type": "markdown",
   "metadata": {},
   "source": [
    "### Markov Chain Steady State and Dynamics\n",
    "\n",
    "Recall that given an $ N $ dimensional intensity matrix $ Q $ of a CTMC, the evolution of the PDF from an initial condition $ \\psi(0) $ is the system of linear differential equations\n",
    "\n",
    "$$\n",
    "\\dot{\\psi}(t) = Q^T \\psi(t)\n",
    "$$\n",
    "\n",
    "If $ Q $ was a matrix, we could just take its transpose to find the adoint.  However, with matrix-free methods we need to implement the\n",
    "adjoint-vector product directly.\n",
    "\n",
    "The logic for the adjoint is that for a given $ n = (n_1,\\ldots, n_m, \\ldots n_M) $, the $ Q^T $ product for that row has terms enter when\n",
    "\n",
    "1. $ 1 < n_m \\leq N $, entering into identical $ n $ except with one less customer in the $ m $ th position  \n",
    "1. $ 1 \\leq n_m < N $ entering into identical $ n $ except with one more customer in the $ m $ th position  \n",
    "\n",
    "\n",
    "Implementing this logic first in math, and then in code,\n",
    "\n",
    "$$\n",
    "\\begin{align}\n",
    "    Q^T_{(n_1, \\ldots, n_M)} \\cdot \\psi &=\n",
    "\\theta \\sum_{m=1}^M (n_m > 1)  \\psi(n_1, \\ldots, n_m - 1, \\ldots, n_M)\\\\\n",
    "                                        &+ \\zeta \\sum_{m=1}^M (n_m < N)  \\psi(n_1, \\ldots, n_m + 1, \\ldots, n_M)\\\\\n",
    "                                        &-\\left(\\theta\\, \\text{Count}(n_m < N) + \\zeta\\, \\text{Count}( n_m > 1)\\right)\\psi(n_1, \\ldots, n_M)\n",
    "\\end{align}\n",
    "$$"
   ]
  },
  {
   "cell_type": "code",
   "execution_count": 60,
   "metadata": {
    "hide-output": false
   },
   "outputs": [
    {
     "data": {
      "text/plain": [
       "Q_T_mul! (generic function with 1 method)"
      ]
     },
     "execution_count": 60,
     "metadata": {},
     "output_type": "execute_result"
    }
   ],
   "source": [
    "function Q_T_mul!(dψ, ψ, p)\n",
    "    @unpack θ, ζ, N, M, shape, e_m = p\n",
    "    ψ = reshape(ψ, shape)\n",
    "    dψ = reshape(dψ, shape)\n",
    "\n",
    "    @inbounds for ind in CartesianIndices(ψ)\n",
    "        dψ[ind] = 0.0\n",
    "        for m in 1:M\n",
    "            n_m = ind[m]\n",
    "            if(n_m > 1)\n",
    "                dψ[ind] += θ * ψ[ind - e_m[m]]\n",
    "            end\n",
    "            if(n_m < N)\n",
    "                dψ[ind] += ζ *ψ[ind + e_m[m]]\n",
    "            end\n",
    "        end\n",
    "        dψ[ind] -= (θ * count(ind.I .< N) + ζ * count(ind.I .> 1)) * ψ[ind]\n",
    "    end\n",
    "end"
   ]
  },
  {
   "cell_type": "markdown",
   "metadata": {},
   "source": [
    "The `sparse` function for the operator is useful to test that the function is correct, and is the adjoint of\n",
    "our `Q` operator."
   ]
  },
  {
   "cell_type": "code",
   "execution_count": 61,
   "metadata": {
    "hide-output": false
   },
   "outputs": [
    {
     "name": "stdout",
     "output_type": "stream",
     "text": [
      "norm((sparse(Q))' - sparse(Q_T)) = 0.0\n"
     ]
    }
   ],
   "source": [
    "p = default_params(N=5, M=4)  # sparse is too slow for the full matrix\n",
    "Q = LinearMap((df, f) -> Q_mul!(df, f, p), p.N^p.M, ismutating = true)\n",
    "Q_T = LinearMap((dψ, ψ) -> Q_T_mul!(dψ, ψ, p), p.N^p.M, ismutating = true)\n",
    "@show norm(sparse(Q)' - sparse(Q_T));  # reminder: use sparse only for testing!"
   ]
  },
  {
   "cell_type": "markdown",
   "metadata": {},
   "source": [
    "As discussed previously, the steady-state can be found as the eigenvector associated with the zero-eigenvalue (i.e. solves $ Q^T \\psi = 0 \\psi $).  We could\n",
    "do this with a dense eigenvalue solution for relatively small matrices"
   ]
  },
  {
   "cell_type": "code",
   "execution_count": 62,
   "metadata": {
    "hide-output": false
   },
   "outputs": [
    {
     "name": "stdout",
     "output_type": "stream",
     "text": [
      "eig_Q_T.values[end] = -4.163336342344337e-16 + 0.0im\n"
     ]
    }
   ],
   "source": [
    "p = default_params(N=5, M=4)\n",
    "eig_Q_T = eigen(Matrix(Q_T))\n",
    "vec = real(eig_Q_T.vectors[:,end])\n",
    "direct_ψ = vec ./ sum(vec)\n",
    "@show eig_Q_T.values[end];"
   ]
  },
  {
   "cell_type": "markdown",
   "metadata": {},
   "source": [
    "This approach relies on a full factorization of the underlying matrix, delivering the entire spectrum.  For our purposes, this is not necessary.\n",
    "\n",
    "Instead, we could use the `Arpack.jl` package to target the smallest absolute magnitude eigenvalue, which relies on an iterative method.\n",
    "\n",
    "A final approach in this case is to notice that the $ \\mathbf{N}\\times\\mathbf{N} $ matrix is of\n",
    "rank $ \\mathbf{N} - 1 $ when the Markov-chain is irreducible.  The stationary solutio is is a vector in the $ 1 $ dimensional nullspace\n",
    "of the matrix.\n",
    "\n",
    "Solving a linear system with the right-hand side all $ 0 $ s using Krylov methods will converge to a point in the nullspace.  That is, $ \\min_x ||A x - 0||_2 $ solved\n",
    "iteratively from a non-zero initial condition will converge to a point in the nullspace.\n",
    "\n",
    "We can use various Krylov methods for this trick (e.g. if the matrix is symmetric and positive definite, you could use Conjugate Gradient) but in our case we will\n",
    "use GMRES since we do not have any structure."
   ]
  },
  {
   "cell_type": "code",
   "execution_count": 63,
   "metadata": {
    "hide-output": false
   },
   "outputs": [
    {
     "name": "stdout",
     "output_type": "stream",
     "text": [
      "norm(ψ - direct_ψ) = 6.098250476301026e-11\n"
     ]
    }
   ],
   "source": [
    "p = default_params(N=5, M=4)  # sparse is too slow for the full matrix\n",
    "Q_T = LinearMap((dψ, ψ) -> Q_T_mul!(dψ, ψ, p), p.N^p.M, ismutating = true)\n",
    "ψ = fill(1/(p.N^p.M), p.N^p.M) # can't use 0 as initial guess\n",
    "sol = gmres!(ψ, Q_T, zeros(p.N^p.M))  # i.e. solve Ax = 0 iteratively\n",
    "ψ = ψ / sum(ψ)\n",
    "@show norm(ψ - direct_ψ);"
   ]
  },
  {
   "cell_type": "markdown",
   "metadata": {},
   "source": [
    "The speed and memory differences between this methods can be orders of magnitude."
   ]
  },
  {
   "cell_type": "code",
   "execution_count": 64,
   "metadata": {
    "hide-output": false
   },
   "outputs": [
    {
     "name": "stdout",
     "output_type": "stream",
     "text": [
      "  43.655 ms (270 allocations: 2.28 MiB)\n"
     ]
    },
    {
     "name": "stdout",
     "output_type": "stream",
     "text": [
      "  4.919 ms (341 allocations: 1.21 MiB)\n"
     ]
    },
    {
     "name": "stdout",
     "output_type": "stream",
     "text": [
      "  202.131 μs (359 allocations: 66.03 KiB)\n"
     ]
    }
   ],
   "source": [
    "p = default_params(N=4, M=4)  # Dense and sparse matrices are too slow for the full dataset.\n",
    "Q_T = LinearMap((dψ, ψ) -> Q_T_mul!(dψ, ψ, p), p.N^p.M, ismutating = true)\n",
    "Q_T_dense = Matrix(Q_T)\n",
    "Q_T_sparse = sparse(Q_T)\n",
    "b = zeros(p.N^p.M)\n",
    "@btime eigen($Q_T_dense)\n",
    "@btime eigs($Q_T_sparse, nev=1, which=:SM, v0 = iv) setup = (iv = fill(1/(p.N^p.M), p.N^p.M))\n",
    "@btime gmres!(iv, $Q_T, $b) setup = (iv = fill(1/(p.N^p.M), p.N^p.M));"
   ]
  },
  {
   "cell_type": "markdown",
   "metadata": {},
   "source": [
    "The differences become even more stark as the matrix grows.  With `default_params(N=5, M=5)` the `gmres` solution is at least 3 orders of magnitude faster, and uses close to 3 orders of magnitude less memory than the dense solver.  In addition, the `gmres` is about an order of magnitude faster than the iterative sparse eigenvalue solver\n",
    "\n",
    "The algorithm can solve for the steady state of $ 10^5 $ states in a few seconds"
   ]
  },
  {
   "cell_type": "code",
   "execution_count": 65,
   "metadata": {
    "hide-output": false
   },
   "outputs": [
    {
     "name": "stdout",
     "output_type": "stream",
     "text": [
      "  3.377 s (4880 allocations: 19.32 MiB)\n"
     ]
    }
   ],
   "source": [
    "function stationary_ψ(p)\n",
    "    Q_T = LinearMap((dψ, ψ) -> Q_T_mul!(dψ, ψ, p), p.N^p.M, ismutating = true)\n",
    "    ψ = fill(1/(p.N^p.M), p.N^p.M) # can't use 0 as initial guess\n",
    "    sol = gmres!(ψ, Q_T, zeros(p.N^p.M))  # i.e. solve Ax = 0 iteratively\n",
    "    return ψ / sum(ψ)\n",
    "end\n",
    "p = default_params(N=10, M=5)\n",
    "@btime stationary_ψ($p);"
   ]
  },
  {
   "cell_type": "markdown",
   "metadata": {},
   "source": [
    "As a final demonstration, consider calculating the full evolution of the $ ψ(t) $ Markov chain.  For the constant\n",
    "$ Q' $ matrix, the solution to this system of equations is $ \\psi(t) = \\exp(Q') \\psi(0) $\n",
    "\n",
    "Matrix-free Krylov methods using a technique called [exponential integration](https://en.wikipedia.org/wiki/Exponential_integrator) can solve this for high dimensional problems.\n",
    "\n",
    "For this, we can setup a `MatrixFreeOperator` for our `Q_T_mul!` function (equivalent to the `LinearMap`, but with some additional requirements for the ODE solver) and use the [LinearExponential](http://docs.juliadiffeq.org/latest/solvers/ode_solve.html#Exponential-Methods-for-Linear-and-Affine-Problems-1) time-stepping method."
   ]
  },
  {
   "cell_type": "code",
   "execution_count": 66,
   "metadata": {
    "hide-output": false
   },
   "outputs": [
    {
     "data": {
      "image/svg+xml": [
       "<?xml version=\"1.0\" encoding=\"utf-8\"?>\n",
       "<svg xmlns=\"http://www.w3.org/2000/svg\" xmlns:xlink=\"http://www.w3.org/1999/xlink\" width=\"600\" height=\"400\" viewBox=\"0 0 2400 1600\">\n",
       "<defs>\n",
       "  <clipPath id=\"clip810\">\n",
       "    <rect x=\"0\" y=\"0\" width=\"2400\" height=\"1600\"/>\n",
       "  </clipPath>\n",
       "</defs>\n",
       "<path clip-path=\"url(#clip810)\" d=\"\n",
       "M0 1600 L2400 1600 L2400 0 L0 0  Z\n",
       "  \" fill=\"#ffffff\" fill-rule=\"evenodd\" fill-opacity=\"1\"/>\n",
       "<defs>\n",
       "  <clipPath id=\"clip811\">\n",
       "    <rect x=\"480\" y=\"0\" width=\"1681\" height=\"1600\"/>\n",
       "  </clipPath>\n",
       "</defs>\n",
       "<path clip-path=\"url(#clip810)\" d=\"\n",
       "M215.626 1423.18 L2352.76 1423.18 L2352.76 47.2441 L215.626 47.2441  Z\n",
       "  \" fill=\"#ffffff\" fill-rule=\"evenodd\" fill-opacity=\"1\"/>\n",
       "<defs>\n",
       "  <clipPath id=\"clip812\">\n",
       "    <rect x=\"215\" y=\"47\" width=\"2138\" height=\"1377\"/>\n",
       "  </clipPath>\n",
       "</defs>\n",
       "<polyline clip-path=\"url(#clip812)\" style=\"stroke:#000000; stroke-width:2; stroke-opacity:0.1; fill:none\" points=\"\n",
       "  276.111,1423.18 276.111,47.2441 \n",
       "  \"/>\n",
       "<polyline clip-path=\"url(#clip812)\" style=\"stroke:#000000; stroke-width:2; stroke-opacity:0.1; fill:none\" points=\"\n",
       "  780.151,1423.18 780.151,47.2441 \n",
       "  \"/>\n",
       "<polyline clip-path=\"url(#clip812)\" style=\"stroke:#000000; stroke-width:2; stroke-opacity:0.1; fill:none\" points=\"\n",
       "  1284.19,1423.18 1284.19,47.2441 \n",
       "  \"/>\n",
       "<polyline clip-path=\"url(#clip812)\" style=\"stroke:#000000; stroke-width:2; stroke-opacity:0.1; fill:none\" points=\"\n",
       "  1788.23,1423.18 1788.23,47.2441 \n",
       "  \"/>\n",
       "<polyline clip-path=\"url(#clip812)\" style=\"stroke:#000000; stroke-width:2; stroke-opacity:0.1; fill:none\" points=\"\n",
       "  2292.27,1423.18 2292.27,47.2441 \n",
       "  \"/>\n",
       "<polyline clip-path=\"url(#clip812)\" style=\"stroke:#000000; stroke-width:2; stroke-opacity:0.1; fill:none\" points=\"\n",
       "  215.626,1323.98 2352.76,1323.98 \n",
       "  \"/>\n",
       "<polyline clip-path=\"url(#clip812)\" style=\"stroke:#000000; stroke-width:2; stroke-opacity:0.1; fill:none\" points=\"\n",
       "  215.626,1118.86 2352.76,1118.86 \n",
       "  \"/>\n",
       "<polyline clip-path=\"url(#clip812)\" style=\"stroke:#000000; stroke-width:2; stroke-opacity:0.1; fill:none\" points=\"\n",
       "  215.626,913.737 2352.76,913.737 \n",
       "  \"/>\n",
       "<polyline clip-path=\"url(#clip812)\" style=\"stroke:#000000; stroke-width:2; stroke-opacity:0.1; fill:none\" points=\"\n",
       "  215.626,708.613 2352.76,708.613 \n",
       "  \"/>\n",
       "<polyline clip-path=\"url(#clip812)\" style=\"stroke:#000000; stroke-width:2; stroke-opacity:0.1; fill:none\" points=\"\n",
       "  215.626,503.489 2352.76,503.489 \n",
       "  \"/>\n",
       "<polyline clip-path=\"url(#clip812)\" style=\"stroke:#000000; stroke-width:2; stroke-opacity:0.1; fill:none\" points=\"\n",
       "  215.626,298.365 2352.76,298.365 \n",
       "  \"/>\n",
       "<polyline clip-path=\"url(#clip812)\" style=\"stroke:#000000; stroke-width:2; stroke-opacity:0.1; fill:none\" points=\"\n",
       "  215.626,93.2408 2352.76,93.2408 \n",
       "  \"/>\n",
       "<polyline clip-path=\"url(#clip810)\" style=\"stroke:#000000; stroke-width:4; stroke-opacity:1; fill:none\" points=\"\n",
       "  215.626,1423.18 2352.76,1423.18 \n",
       "  \"/>\n",
       "<polyline clip-path=\"url(#clip810)\" style=\"stroke:#000000; stroke-width:4; stroke-opacity:1; fill:none\" points=\"\n",
       "  215.626,1423.18 215.626,47.2441 \n",
       "  \"/>\n",
       "<polyline clip-path=\"url(#clip810)\" style=\"stroke:#000000; stroke-width:4; stroke-opacity:1; fill:none\" points=\"\n",
       "  276.111,1423.18 276.111,1406.67 \n",
       "  \"/>\n",
       "<polyline clip-path=\"url(#clip810)\" style=\"stroke:#000000; stroke-width:4; stroke-opacity:1; fill:none\" points=\"\n",
       "  780.151,1423.18 780.151,1406.67 \n",
       "  \"/>\n",
       "<polyline clip-path=\"url(#clip810)\" style=\"stroke:#000000; stroke-width:4; stroke-opacity:1; fill:none\" points=\"\n",
       "  1284.19,1423.18 1284.19,1406.67 \n",
       "  \"/>\n",
       "<polyline clip-path=\"url(#clip810)\" style=\"stroke:#000000; stroke-width:4; stroke-opacity:1; fill:none\" points=\"\n",
       "  1788.23,1423.18 1788.23,1406.67 \n",
       "  \"/>\n",
       "<polyline clip-path=\"url(#clip810)\" style=\"stroke:#000000; stroke-width:4; stroke-opacity:1; fill:none\" points=\"\n",
       "  2292.27,1423.18 2292.27,1406.67 \n",
       "  \"/>\n",
       "<polyline clip-path=\"url(#clip810)\" style=\"stroke:#000000; stroke-width:4; stroke-opacity:1; fill:none\" points=\"\n",
       "  215.626,1323.98 241.271,1323.98 \n",
       "  \"/>\n",
       "<polyline clip-path=\"url(#clip810)\" style=\"stroke:#000000; stroke-width:4; stroke-opacity:1; fill:none\" points=\"\n",
       "  215.626,1118.86 241.271,1118.86 \n",
       "  \"/>\n",
       "<polyline clip-path=\"url(#clip810)\" style=\"stroke:#000000; stroke-width:4; stroke-opacity:1; fill:none\" points=\"\n",
       "  215.626,913.737 241.271,913.737 \n",
       "  \"/>\n",
       "<polyline clip-path=\"url(#clip810)\" style=\"stroke:#000000; stroke-width:4; stroke-opacity:1; fill:none\" points=\"\n",
       "  215.626,708.613 241.271,708.613 \n",
       "  \"/>\n",
       "<polyline clip-path=\"url(#clip810)\" style=\"stroke:#000000; stroke-width:4; stroke-opacity:1; fill:none\" points=\"\n",
       "  215.626,503.489 241.271,503.489 \n",
       "  \"/>\n",
       "<polyline clip-path=\"url(#clip810)\" style=\"stroke:#000000; stroke-width:4; stroke-opacity:1; fill:none\" points=\"\n",
       "  215.626,298.365 241.271,298.365 \n",
       "  \"/>\n",
       "<polyline clip-path=\"url(#clip810)\" style=\"stroke:#000000; stroke-width:4; stroke-opacity:1; fill:none\" points=\"\n",
       "  215.626,93.2408 241.271,93.2408 \n",
       "  \"/>\n",
       "<path clip-path=\"url(#clip810)\" d=\"M 0 0 M276.111 1445.17 Q272.499 1445.17 270.671 1448.74 Q268.865 1452.28 268.865 1459.41 Q268.865 1466.51 270.671 1470.08 Q272.499 1473.62 276.111 1473.62 Q279.745 1473.62 281.55 1470.08 Q283.379 1466.51 283.379 1459.41 Q283.379 1452.28 281.55 1448.74 Q279.745 1445.17 276.111 1445.17 M276.111 1441.47 Q281.921 1441.47 284.976 1446.07 Q288.055 1450.66 288.055 1459.41 Q288.055 1468.13 284.976 1472.74 Q281.921 1477.32 276.111 1477.32 Q270.3 1477.32 267.222 1472.74 Q264.166 1468.13 264.166 1459.41 Q264.166 1450.66 267.222 1446.07 Q270.3 1441.47 276.111 1441.47 Z\" fill=\"#000000\" fill-rule=\"evenodd\" fill-opacity=\"1\" /><path clip-path=\"url(#clip810)\" d=\"M 0 0 M761.794 1472.72 L778.114 1472.72 L778.114 1476.65 L756.169 1476.65 L756.169 1472.72 Q758.831 1469.96 763.415 1465.33 Q768.021 1460.68 769.202 1459.34 Q771.447 1456.81 772.327 1455.08 Q773.229 1453.32 773.229 1451.63 Q773.229 1448.87 771.285 1447.14 Q769.364 1445.4 766.262 1445.4 Q764.063 1445.4 761.609 1446.17 Q759.179 1446.93 756.401 1448.48 L756.401 1443.76 Q759.225 1442.62 761.679 1442.05 Q764.132 1441.47 766.169 1441.47 Q771.54 1441.47 774.734 1444.15 Q777.928 1446.84 777.928 1451.33 Q777.928 1453.46 777.118 1455.38 Q776.331 1457.28 774.225 1459.87 Q773.646 1460.54 770.544 1463.76 Q767.442 1466.95 761.794 1472.72 Z\" fill=\"#000000\" fill-rule=\"evenodd\" fill-opacity=\"1\" /><path clip-path=\"url(#clip810)\" d=\"M 0 0 M783.229 1442.09 L801.586 1442.09 L801.586 1446.03 L787.512 1446.03 L787.512 1454.5 Q788.53 1454.15 789.549 1453.99 Q790.567 1453.8 791.586 1453.8 Q797.373 1453.8 800.752 1456.98 Q804.132 1460.15 804.132 1465.56 Q804.132 1471.14 800.66 1474.24 Q797.188 1477.32 790.868 1477.32 Q788.692 1477.32 786.424 1476.95 Q784.178 1476.58 781.771 1475.84 L781.771 1471.14 Q783.854 1472.28 786.077 1472.83 Q788.299 1473.39 790.776 1473.39 Q794.78 1473.39 797.118 1471.28 Q799.456 1469.18 799.456 1465.56 Q799.456 1461.95 797.118 1459.85 Q794.78 1457.74 790.776 1457.74 Q788.901 1457.74 787.026 1458.16 Q785.174 1458.57 783.229 1459.45 L783.229 1442.09 Z\" fill=\"#000000\" fill-rule=\"evenodd\" fill-opacity=\"1\" /><path clip-path=\"url(#clip810)\" d=\"M 0 0 M1260.96 1442.09 L1279.32 1442.09 L1279.32 1446.03 L1265.24 1446.03 L1265.24 1454.5 Q1266.26 1454.15 1267.28 1453.99 Q1268.3 1453.8 1269.32 1453.8 Q1275.11 1453.8 1278.48 1456.98 Q1281.86 1460.15 1281.86 1465.56 Q1281.86 1471.14 1278.39 1474.24 Q1274.92 1477.32 1268.6 1477.32 Q1266.42 1477.32 1264.16 1476.95 Q1261.91 1476.58 1259.5 1475.84 L1259.5 1471.14 Q1261.59 1472.28 1263.81 1472.83 Q1266.03 1473.39 1268.51 1473.39 Q1272.51 1473.39 1274.85 1471.28 Q1277.19 1469.18 1277.19 1465.56 Q1277.19 1461.95 1274.85 1459.85 Q1272.51 1457.74 1268.51 1457.74 Q1266.63 1457.74 1264.76 1458.16 Q1262.91 1458.57 1260.96 1459.45 L1260.96 1442.09 Z\" fill=\"#000000\" fill-rule=\"evenodd\" fill-opacity=\"1\" /><path clip-path=\"url(#clip810)\" d=\"M 0 0 M1296.93 1445.17 Q1293.32 1445.17 1291.49 1448.74 Q1289.69 1452.28 1289.69 1459.41 Q1289.69 1466.51 1291.49 1470.08 Q1293.32 1473.62 1296.93 1473.62 Q1300.57 1473.62 1302.37 1470.08 Q1304.2 1466.51 1304.2 1459.41 Q1304.2 1452.28 1302.37 1448.74 Q1300.57 1445.17 1296.93 1445.17 M1296.93 1441.47 Q1302.74 1441.47 1305.8 1446.07 Q1308.88 1450.66 1308.88 1459.41 Q1308.88 1468.13 1305.8 1472.74 Q1302.74 1477.32 1296.93 1477.32 Q1291.12 1477.32 1288.04 1472.74 Q1284.99 1468.13 1284.99 1459.41 Q1284.99 1450.66 1288.04 1446.07 Q1291.12 1441.47 1296.93 1441.47 Z\" fill=\"#000000\" fill-rule=\"evenodd\" fill-opacity=\"1\" /><path clip-path=\"url(#clip810)\" d=\"M 0 0 M1764.11 1442.09 L1786.33 1442.09 L1786.33 1444.08 L1773.79 1476.65 L1768.9 1476.65 L1780.71 1446.03 L1764.11 1446.03 L1764.11 1442.09 Z\" fill=\"#000000\" fill-rule=\"evenodd\" fill-opacity=\"1\" /><path clip-path=\"url(#clip810)\" d=\"M 0 0 M1791.45 1442.09 L1809.8 1442.09 L1809.8 1446.03 L1795.73 1446.03 L1795.73 1454.5 Q1796.75 1454.15 1797.77 1453.99 Q1798.79 1453.8 1799.8 1453.8 Q1805.59 1453.8 1808.97 1456.98 Q1812.35 1460.15 1812.35 1465.56 Q1812.35 1471.14 1808.88 1474.24 Q1805.41 1477.32 1799.09 1477.32 Q1796.91 1477.32 1794.64 1476.95 Q1792.4 1476.58 1789.99 1475.84 L1789.99 1471.14 Q1792.07 1472.28 1794.3 1472.83 Q1796.52 1473.39 1798.99 1473.39 Q1803 1473.39 1805.34 1471.28 Q1807.68 1469.18 1807.68 1465.56 Q1807.68 1461.95 1805.34 1459.85 Q1803 1457.74 1798.99 1457.74 Q1797.12 1457.74 1795.24 1458.16 Q1793.39 1458.57 1791.45 1459.45 L1791.45 1442.09 Z\" fill=\"#000000\" fill-rule=\"evenodd\" fill-opacity=\"1\" /><path clip-path=\"url(#clip810)\" d=\"M 0 0 M2255.64 1472.72 L2263.28 1472.72 L2263.28 1446.35 L2254.97 1448.02 L2254.97 1443.76 L2263.23 1442.09 L2267.91 1442.09 L2267.91 1472.72 L2275.55 1472.72 L2275.55 1476.65 L2255.64 1476.65 L2255.64 1472.72 Z\" fill=\"#000000\" fill-rule=\"evenodd\" fill-opacity=\"1\" /><path clip-path=\"url(#clip810)\" d=\"M 0 0 M2290.62 1445.17 Q2287 1445.17 2285.18 1448.74 Q2283.37 1452.28 2283.37 1459.41 Q2283.37 1466.51 2285.18 1470.08 Q2287 1473.62 2290.62 1473.62 Q2294.25 1473.62 2296.06 1470.08 Q2297.88 1466.51 2297.88 1459.41 Q2297.88 1452.28 2296.06 1448.74 Q2294.25 1445.17 2290.62 1445.17 M2290.62 1441.47 Q2296.43 1441.47 2299.48 1446.07 Q2302.56 1450.66 2302.56 1459.41 Q2302.56 1468.13 2299.48 1472.74 Q2296.43 1477.32 2290.62 1477.32 Q2284.81 1477.32 2281.73 1472.74 Q2278.67 1468.13 2278.67 1459.41 Q2278.67 1450.66 2281.73 1446.07 Q2284.81 1441.47 2290.62 1441.47 Z\" fill=\"#000000\" fill-rule=\"evenodd\" fill-opacity=\"1\" /><path clip-path=\"url(#clip810)\" d=\"M 0 0 M2317.63 1445.17 Q2314.02 1445.17 2312.19 1448.74 Q2310.38 1452.28 2310.38 1459.41 Q2310.38 1466.51 2312.19 1470.08 Q2314.02 1473.62 2317.63 1473.62 Q2321.26 1473.62 2323.07 1470.08 Q2324.9 1466.51 2324.9 1459.41 Q2324.9 1452.28 2323.07 1448.74 Q2321.26 1445.17 2317.63 1445.17 M2317.63 1441.47 Q2323.44 1441.47 2326.5 1446.07 Q2329.57 1450.66 2329.57 1459.41 Q2329.57 1468.13 2326.5 1472.74 Q2323.44 1477.32 2317.63 1477.32 Q2311.82 1477.32 2308.74 1472.74 Q2305.69 1468.13 2305.69 1459.41 Q2305.69 1450.66 2308.74 1446.07 Q2311.82 1441.47 2317.63 1441.47 Z\" fill=\"#000000\" fill-rule=\"evenodd\" fill-opacity=\"1\" /><path clip-path=\"url(#clip810)\" d=\"M 0 0 M89.6818 1306.7 L108.038 1306.7 L108.038 1310.64 L93.9642 1310.64 L93.9642 1319.11 Q94.9827 1318.76 96.0012 1318.6 Q97.0197 1318.42 98.0382 1318.42 Q103.825 1318.42 107.205 1321.59 Q110.584 1324.76 110.584 1330.18 Q110.584 1335.76 107.112 1338.86 Q103.64 1341.94 97.3206 1341.94 Q95.1447 1341.94 92.8762 1341.57 Q90.6309 1341.2 88.2235 1340.45 L88.2235 1335.76 Q90.3068 1336.89 92.529 1337.45 Q94.7512 1338 97.2281 1338 Q101.233 1338 103.571 1335.89 Q105.909 1333.79 105.909 1330.18 Q105.909 1326.57 103.571 1324.46 Q101.233 1322.35 97.2281 1322.35 Q95.3531 1322.35 93.4781 1322.77 Q91.6262 1323.19 89.6818 1324.07 L89.6818 1306.7 Z\" fill=\"#000000\" fill-rule=\"evenodd\" fill-opacity=\"1\" /><path clip-path=\"url(#clip810)\" d=\"M 0 0 M125.654 1309.78 Q122.043 1309.78 120.214 1313.35 Q118.408 1316.89 118.408 1324.02 Q118.408 1331.13 120.214 1334.69 Q122.043 1338.23 125.654 1338.23 Q129.288 1338.23 131.094 1334.69 Q132.922 1331.13 132.922 1324.02 Q132.922 1316.89 131.094 1313.35 Q129.288 1309.78 125.654 1309.78 M125.654 1306.08 Q131.464 1306.08 134.52 1310.69 Q137.598 1315.27 137.598 1324.02 Q137.598 1332.75 134.52 1337.35 Q131.464 1341.94 125.654 1341.94 Q119.844 1341.94 116.765 1337.35 Q113.709 1332.75 113.709 1324.02 Q113.709 1315.27 116.765 1310.69 Q119.844 1306.08 125.654 1306.08 Z\" fill=\"#000000\" fill-rule=\"evenodd\" fill-opacity=\"1\" /><path clip-path=\"url(#clip810)\" d=\"M 0 0 M152.668 1309.78 Q149.056 1309.78 147.228 1313.35 Q145.422 1316.89 145.422 1324.02 Q145.422 1331.13 147.228 1334.69 Q149.056 1338.23 152.668 1338.23 Q156.302 1338.23 158.107 1334.69 Q159.936 1331.13 159.936 1324.02 Q159.936 1316.89 158.107 1313.35 Q156.302 1309.78 152.668 1309.78 M152.668 1306.08 Q158.478 1306.08 161.533 1310.69 Q164.612 1315.27 164.612 1324.02 Q164.612 1332.75 161.533 1337.35 Q158.478 1341.94 152.668 1341.94 Q146.857 1341.94 143.779 1337.35 Q140.723 1332.75 140.723 1324.02 Q140.723 1315.27 143.779 1310.69 Q146.857 1306.08 152.668 1306.08 Z\" fill=\"#000000\" fill-rule=\"evenodd\" fill-opacity=\"1\" /><path clip-path=\"url(#clip810)\" d=\"M 0 0 M179.681 1309.78 Q176.07 1309.78 174.242 1313.35 Q172.436 1316.89 172.436 1324.02 Q172.436 1331.13 174.242 1334.69 Q176.07 1338.23 179.681 1338.23 Q183.316 1338.23 185.121 1334.69 Q186.95 1331.13 186.95 1324.02 Q186.95 1316.89 185.121 1313.35 Q183.316 1309.78 179.681 1309.78 M179.681 1306.08 Q185.491 1306.08 188.547 1310.69 Q191.626 1315.27 191.626 1324.02 Q191.626 1332.75 188.547 1337.35 Q185.491 1341.94 179.681 1341.94 Q173.871 1341.94 170.792 1337.35 Q167.737 1332.75 167.737 1324.02 Q167.737 1315.27 170.792 1310.69 Q173.871 1306.08 179.681 1306.08 Z\" fill=\"#000000\" fill-rule=\"evenodd\" fill-opacity=\"1\" /><path clip-path=\"url(#clip810)\" d=\"M 0 0 M99.0567 1117 Q95.9086 1117 94.0568 1119.15 Q92.2281 1121.3 92.2281 1125.05 Q92.2281 1128.78 94.0568 1130.96 Q95.9086 1133.11 99.0567 1133.11 Q102.205 1133.11 104.034 1130.96 Q105.885 1128.78 105.885 1125.05 Q105.885 1121.3 104.034 1119.15 Q102.205 1117 99.0567 1117 M108.339 1102.34 L108.339 1106.6 Q106.58 1105.77 104.774 1105.33 Q102.992 1104.89 101.233 1104.89 Q96.6031 1104.89 94.1494 1108.02 Q91.7188 1111.14 91.3716 1117.46 Q92.7373 1115.45 94.7975 1114.38 Q96.8577 1113.29 99.3345 1113.29 Q104.543 1113.29 107.552 1116.46 Q110.584 1119.61 110.584 1125.05 Q110.584 1130.38 107.436 1133.59 Q104.288 1136.81 99.0567 1136.81 Q93.0614 1136.81 89.8901 1132.23 Q86.7189 1127.62 86.7189 1118.9 Q86.7189 1110.7 90.6077 1105.84 Q94.4966 1100.96 101.047 1100.96 Q102.807 1100.96 104.589 1101.3 Q106.395 1101.65 108.339 1102.34 Z\" fill=\"#000000\" fill-rule=\"evenodd\" fill-opacity=\"1\" /><path clip-path=\"url(#clip810)\" d=\"M 0 0 M125.654 1104.66 Q122.043 1104.66 120.214 1108.22 Q118.408 1111.77 118.408 1118.9 Q118.408 1126 120.214 1129.57 Q122.043 1133.11 125.654 1133.11 Q129.288 1133.11 131.094 1129.57 Q132.922 1126 132.922 1118.9 Q132.922 1111.77 131.094 1108.22 Q129.288 1104.66 125.654 1104.66 M125.654 1100.96 Q131.464 1100.96 134.52 1105.56 Q137.598 1110.15 137.598 1118.9 Q137.598 1127.62 134.52 1132.23 Q131.464 1136.81 125.654 1136.81 Q119.844 1136.81 116.765 1132.23 Q113.709 1127.62 113.709 1118.9 Q113.709 1110.15 116.765 1105.56 Q119.844 1100.96 125.654 1100.96 Z\" fill=\"#000000\" fill-rule=\"evenodd\" fill-opacity=\"1\" /><path clip-path=\"url(#clip810)\" d=\"M 0 0 M152.668 1104.66 Q149.056 1104.66 147.228 1108.22 Q145.422 1111.77 145.422 1118.9 Q145.422 1126 147.228 1129.57 Q149.056 1133.11 152.668 1133.11 Q156.302 1133.11 158.107 1129.57 Q159.936 1126 159.936 1118.9 Q159.936 1111.77 158.107 1108.22 Q156.302 1104.66 152.668 1104.66 M152.668 1100.96 Q158.478 1100.96 161.533 1105.56 Q164.612 1110.15 164.612 1118.9 Q164.612 1127.62 161.533 1132.23 Q158.478 1136.81 152.668 1136.81 Q146.857 1136.81 143.779 1132.23 Q140.723 1127.62 140.723 1118.9 Q140.723 1110.15 143.779 1105.56 Q146.857 1100.96 152.668 1100.96 Z\" fill=\"#000000\" fill-rule=\"evenodd\" fill-opacity=\"1\" /><path clip-path=\"url(#clip810)\" d=\"M 0 0 M179.681 1104.66 Q176.07 1104.66 174.242 1108.22 Q172.436 1111.77 172.436 1118.9 Q172.436 1126 174.242 1129.57 Q176.07 1133.11 179.681 1133.11 Q183.316 1133.11 185.121 1129.57 Q186.95 1126 186.95 1118.9 Q186.95 1111.77 185.121 1108.22 Q183.316 1104.66 179.681 1104.66 M179.681 1100.96 Q185.491 1100.96 188.547 1105.56 Q191.626 1110.15 191.626 1118.9 Q191.626 1127.62 188.547 1132.23 Q185.491 1136.81 179.681 1136.81 Q173.871 1136.81 170.792 1132.23 Q167.737 1127.62 167.737 1118.9 Q167.737 1110.15 170.792 1105.56 Q173.871 1100.96 179.681 1100.96 Z\" fill=\"#000000\" fill-rule=\"evenodd\" fill-opacity=\"1\" /><path clip-path=\"url(#clip810)\" d=\"M 0 0 M88.3624 896.457 L110.584 896.457 L110.584 898.447 L98.0382 931.017 L93.154 931.017 L104.959 900.392 L88.3624 900.392 L88.3624 896.457 Z\" fill=\"#000000\" fill-rule=\"evenodd\" fill-opacity=\"1\" /><path clip-path=\"url(#clip810)\" d=\"M 0 0 M125.654 899.535 Q122.043 899.535 120.214 903.1 Q118.408 906.642 118.408 913.771 Q118.408 920.878 120.214 924.443 Q122.043 927.984 125.654 927.984 Q129.288 927.984 131.094 924.443 Q132.922 920.878 132.922 913.771 Q132.922 906.642 131.094 903.1 Q129.288 899.535 125.654 899.535 M125.654 895.832 Q131.464 895.832 134.52 900.438 Q137.598 905.021 137.598 913.771 Q137.598 922.498 134.52 927.105 Q131.464 931.688 125.654 931.688 Q119.844 931.688 116.765 927.105 Q113.709 922.498 113.709 913.771 Q113.709 905.021 116.765 900.438 Q119.844 895.832 125.654 895.832 Z\" fill=\"#000000\" fill-rule=\"evenodd\" fill-opacity=\"1\" /><path clip-path=\"url(#clip810)\" d=\"M 0 0 M152.668 899.535 Q149.056 899.535 147.228 903.1 Q145.422 906.642 145.422 913.771 Q145.422 920.878 147.228 924.443 Q149.056 927.984 152.668 927.984 Q156.302 927.984 158.107 924.443 Q159.936 920.878 159.936 913.771 Q159.936 906.642 158.107 903.1 Q156.302 899.535 152.668 899.535 M152.668 895.832 Q158.478 895.832 161.533 900.438 Q164.612 905.021 164.612 913.771 Q164.612 922.498 161.533 927.105 Q158.478 931.688 152.668 931.688 Q146.857 931.688 143.779 927.105 Q140.723 922.498 140.723 913.771 Q140.723 905.021 143.779 900.438 Q146.857 895.832 152.668 895.832 Z\" fill=\"#000000\" fill-rule=\"evenodd\" fill-opacity=\"1\" /><path clip-path=\"url(#clip810)\" d=\"M 0 0 M179.681 899.535 Q176.07 899.535 174.242 903.1 Q172.436 906.642 172.436 913.771 Q172.436 920.878 174.242 924.443 Q176.07 927.984 179.681 927.984 Q183.316 927.984 185.121 924.443 Q186.95 920.878 186.95 913.771 Q186.95 906.642 185.121 903.1 Q183.316 899.535 179.681 899.535 M179.681 895.832 Q185.491 895.832 188.547 900.438 Q191.626 905.021 191.626 913.771 Q191.626 922.498 188.547 927.105 Q185.491 931.688 179.681 931.688 Q173.871 931.688 170.792 927.105 Q167.737 922.498 167.737 913.771 Q167.737 905.021 170.792 900.438 Q173.871 895.832 179.681 895.832 Z\" fill=\"#000000\" fill-rule=\"evenodd\" fill-opacity=\"1\" /><path clip-path=\"url(#clip810)\" d=\"M 0 0 M98.7327 709.481 Q95.3994 709.481 93.4781 711.263 Q91.5799 713.045 91.5799 716.17 Q91.5799 719.295 93.4781 721.078 Q95.3994 722.86 98.7327 722.86 Q102.066 722.86 103.987 721.078 Q105.909 719.272 105.909 716.17 Q105.909 713.045 103.987 711.263 Q102.089 709.481 98.7327 709.481 M94.0568 707.49 Q91.0475 706.749 89.3577 704.689 Q87.6911 702.629 87.6911 699.666 Q87.6911 695.522 90.6309 693.115 Q93.5938 690.708 98.7327 690.708 Q103.895 690.708 106.834 693.115 Q109.774 695.522 109.774 699.666 Q109.774 702.629 108.084 704.689 Q106.418 706.749 103.432 707.49 Q106.811 708.277 108.686 710.569 Q110.584 712.86 110.584 716.17 Q110.584 721.194 107.506 723.879 Q104.45 726.564 98.7327 726.564 Q93.0151 726.564 89.9364 723.879 Q86.8809 721.194 86.8809 716.17 Q86.8809 712.86 88.779 710.569 Q90.6772 708.277 94.0568 707.49 M92.3438 700.106 Q92.3438 702.791 94.0105 704.296 Q95.7003 705.8 98.7327 705.8 Q101.742 705.8 103.432 704.296 Q105.145 702.791 105.145 700.106 Q105.145 697.421 103.432 695.916 Q101.742 694.411 98.7327 694.411 Q95.7003 694.411 94.0105 695.916 Q92.3438 697.421 92.3438 700.106 Z\" fill=\"#000000\" fill-rule=\"evenodd\" fill-opacity=\"1\" /><path clip-path=\"url(#clip810)\" d=\"M 0 0 M125.654 694.411 Q122.043 694.411 120.214 697.976 Q118.408 701.518 118.408 708.647 Q118.408 715.754 120.214 719.319 Q122.043 722.86 125.654 722.86 Q129.288 722.86 131.094 719.319 Q132.922 715.754 132.922 708.647 Q132.922 701.518 131.094 697.976 Q129.288 694.411 125.654 694.411 M125.654 690.708 Q131.464 690.708 134.52 695.314 Q137.598 699.897 137.598 708.647 Q137.598 717.374 134.52 721.981 Q131.464 726.564 125.654 726.564 Q119.844 726.564 116.765 721.981 Q113.709 717.374 113.709 708.647 Q113.709 699.897 116.765 695.314 Q119.844 690.708 125.654 690.708 Z\" fill=\"#000000\" fill-rule=\"evenodd\" fill-opacity=\"1\" /><path clip-path=\"url(#clip810)\" d=\"M 0 0 M152.668 694.411 Q149.056 694.411 147.228 697.976 Q145.422 701.518 145.422 708.647 Q145.422 715.754 147.228 719.319 Q149.056 722.86 152.668 722.86 Q156.302 722.86 158.107 719.319 Q159.936 715.754 159.936 708.647 Q159.936 701.518 158.107 697.976 Q156.302 694.411 152.668 694.411 M152.668 690.708 Q158.478 690.708 161.533 695.314 Q164.612 699.897 164.612 708.647 Q164.612 717.374 161.533 721.981 Q158.478 726.564 152.668 726.564 Q146.857 726.564 143.779 721.981 Q140.723 717.374 140.723 708.647 Q140.723 699.897 143.779 695.314 Q146.857 690.708 152.668 690.708 Z\" fill=\"#000000\" fill-rule=\"evenodd\" fill-opacity=\"1\" /><path clip-path=\"url(#clip810)\" d=\"M 0 0 M179.681 694.411 Q176.07 694.411 174.242 697.976 Q172.436 701.518 172.436 708.647 Q172.436 715.754 174.242 719.319 Q176.07 722.86 179.681 722.86 Q183.316 722.86 185.121 719.319 Q186.95 715.754 186.95 708.647 Q186.95 701.518 185.121 697.976 Q183.316 694.411 179.681 694.411 M179.681 690.708 Q185.491 690.708 188.547 695.314 Q191.626 699.897 191.626 708.647 Q191.626 717.374 188.547 721.981 Q185.491 726.564 179.681 726.564 Q173.871 726.564 170.792 721.981 Q167.737 717.374 167.737 708.647 Q167.737 699.897 170.792 695.314 Q173.871 690.708 179.681 690.708 Z\" fill=\"#000000\" fill-rule=\"evenodd\" fill-opacity=\"1\" /><path clip-path=\"url(#clip810)\" d=\"M 0 0 M88.9642 520.051 L88.9642 515.792 Q90.7235 516.625 92.529 517.065 Q94.3346 517.505 96.0707 517.505 Q100.7 517.505 103.131 514.403 Q105.584 511.278 105.932 504.935 Q104.589 506.926 102.529 507.991 Q100.469 509.056 97.9688 509.056 Q92.7836 509.056 89.7512 505.931 Q86.742 502.783 86.742 497.343 Q86.742 492.019 89.8901 488.801 Q93.0383 485.584 98.2697 485.584 Q104.265 485.584 107.413 490.19 Q110.584 494.773 110.584 503.523 Q110.584 511.695 106.696 516.579 Q102.83 521.44 96.279 521.44 Q94.5197 521.44 92.7142 521.093 Q90.9086 520.746 88.9642 520.051 M98.2697 505.398 Q101.418 505.398 103.247 503.246 Q105.098 501.093 105.098 497.343 Q105.098 493.616 103.247 491.463 Q101.418 489.287 98.2697 489.287 Q95.1216 489.287 93.2697 491.463 Q91.441 493.616 91.441 497.343 Q91.441 501.093 93.2697 503.246 Q95.1216 505.398 98.2697 505.398 Z\" fill=\"#000000\" fill-rule=\"evenodd\" fill-opacity=\"1\" /><path clip-path=\"url(#clip810)\" d=\"M 0 0 M125.654 489.287 Q122.043 489.287 120.214 492.852 Q118.408 496.394 118.408 503.523 Q118.408 510.63 120.214 514.195 Q122.043 517.736 125.654 517.736 Q129.288 517.736 131.094 514.195 Q132.922 510.63 132.922 503.523 Q132.922 496.394 131.094 492.852 Q129.288 489.287 125.654 489.287 M125.654 485.584 Q131.464 485.584 134.52 490.19 Q137.598 494.773 137.598 503.523 Q137.598 512.25 134.52 516.857 Q131.464 521.44 125.654 521.44 Q119.844 521.44 116.765 516.857 Q113.709 512.25 113.709 503.523 Q113.709 494.773 116.765 490.19 Q119.844 485.584 125.654 485.584 Z\" fill=\"#000000\" fill-rule=\"evenodd\" fill-opacity=\"1\" /><path clip-path=\"url(#clip810)\" d=\"M 0 0 M152.668 489.287 Q149.056 489.287 147.228 492.852 Q145.422 496.394 145.422 503.523 Q145.422 510.63 147.228 514.195 Q149.056 517.736 152.668 517.736 Q156.302 517.736 158.107 514.195 Q159.936 510.63 159.936 503.523 Q159.936 496.394 158.107 492.852 Q156.302 489.287 152.668 489.287 M152.668 485.584 Q158.478 485.584 161.533 490.19 Q164.612 494.773 164.612 503.523 Q164.612 512.25 161.533 516.857 Q158.478 521.44 152.668 521.44 Q146.857 521.44 143.779 516.857 Q140.723 512.25 140.723 503.523 Q140.723 494.773 143.779 490.19 Q146.857 485.584 152.668 485.584 Z\" fill=\"#000000\" fill-rule=\"evenodd\" fill-opacity=\"1\" /><path clip-path=\"url(#clip810)\" d=\"M 0 0 M179.681 489.287 Q176.07 489.287 174.242 492.852 Q172.436 496.394 172.436 503.523 Q172.436 510.63 174.242 514.195 Q176.07 517.736 179.681 517.736 Q183.316 517.736 185.121 514.195 Q186.95 510.63 186.95 503.523 Q186.95 496.394 185.121 492.852 Q183.316 489.287 179.681 489.287 M179.681 485.584 Q185.491 485.584 188.547 490.19 Q191.626 494.773 191.626 503.523 Q191.626 512.25 188.547 516.857 Q185.491 521.44 179.681 521.44 Q173.871 521.44 170.792 516.857 Q167.737 512.25 167.737 503.523 Q167.737 494.773 170.792 490.19 Q173.871 485.584 179.681 485.584 Z\" fill=\"#000000\" fill-rule=\"evenodd\" fill-opacity=\"1\" /><path clip-path=\"url(#clip810)\" d=\"M 0 0 M63.6634 311.71 L71.3023 311.71 L71.3023 285.344 L62.9921 287.011 L62.9921 282.751 L71.256 281.085 L75.9319 281.085 L75.9319 311.71 L83.5707 311.71 L83.5707 315.645 L63.6634 315.645 L63.6634 311.71 Z\" fill=\"#000000\" fill-rule=\"evenodd\" fill-opacity=\"1\" /><path clip-path=\"url(#clip810)\" d=\"M 0 0 M98.6401 284.163 Q95.029 284.163 93.2003 287.728 Q91.3948 291.27 91.3948 298.399 Q91.3948 305.506 93.2003 309.071 Q95.029 312.612 98.6401 312.612 Q102.274 312.612 104.08 309.071 Q105.909 305.506 105.909 298.399 Q105.909 291.27 104.08 287.728 Q102.274 284.163 98.6401 284.163 M98.6401 280.46 Q104.45 280.46 107.506 285.066 Q110.584 289.65 110.584 298.399 Q110.584 307.126 107.506 311.733 Q104.45 316.316 98.6401 316.316 Q92.8299 316.316 89.7512 311.733 Q86.6957 307.126 86.6957 298.399 Q86.6957 289.65 89.7512 285.066 Q92.8299 280.46 98.6401 280.46 Z\" fill=\"#000000\" fill-rule=\"evenodd\" fill-opacity=\"1\" /><path clip-path=\"url(#clip810)\" d=\"M 0 0 M125.654 284.163 Q122.043 284.163 120.214 287.728 Q118.408 291.27 118.408 298.399 Q118.408 305.506 120.214 309.071 Q122.043 312.612 125.654 312.612 Q129.288 312.612 131.094 309.071 Q132.922 305.506 132.922 298.399 Q132.922 291.27 131.094 287.728 Q129.288 284.163 125.654 284.163 M125.654 280.46 Q131.464 280.46 134.52 285.066 Q137.598 289.65 137.598 298.399 Q137.598 307.126 134.52 311.733 Q131.464 316.316 125.654 316.316 Q119.844 316.316 116.765 311.733 Q113.709 307.126 113.709 298.399 Q113.709 289.65 116.765 285.066 Q119.844 280.46 125.654 280.46 Z\" fill=\"#000000\" fill-rule=\"evenodd\" fill-opacity=\"1\" /><path clip-path=\"url(#clip810)\" d=\"M 0 0 M152.668 284.163 Q149.056 284.163 147.228 287.728 Q145.422 291.27 145.422 298.399 Q145.422 305.506 147.228 309.071 Q149.056 312.612 152.668 312.612 Q156.302 312.612 158.107 309.071 Q159.936 305.506 159.936 298.399 Q159.936 291.27 158.107 287.728 Q156.302 284.163 152.668 284.163 M152.668 280.46 Q158.478 280.46 161.533 285.066 Q164.612 289.65 164.612 298.399 Q164.612 307.126 161.533 311.733 Q158.478 316.316 152.668 316.316 Q146.857 316.316 143.779 311.733 Q140.723 307.126 140.723 298.399 Q140.723 289.65 143.779 285.066 Q146.857 280.46 152.668 280.46 Z\" fill=\"#000000\" fill-rule=\"evenodd\" fill-opacity=\"1\" /><path clip-path=\"url(#clip810)\" d=\"M 0 0 M179.681 284.163 Q176.07 284.163 174.242 287.728 Q172.436 291.27 172.436 298.399 Q172.436 305.506 174.242 309.071 Q176.07 312.612 179.681 312.612 Q183.316 312.612 185.121 309.071 Q186.95 305.506 186.95 298.399 Q186.95 291.27 185.121 287.728 Q183.316 284.163 179.681 284.163 M179.681 280.46 Q185.491 280.46 188.547 285.066 Q191.626 289.65 191.626 298.399 Q191.626 307.126 188.547 311.733 Q185.491 316.316 179.681 316.316 Q173.871 316.316 170.792 311.733 Q167.737 307.126 167.737 298.399 Q167.737 289.65 170.792 285.066 Q173.871 280.46 179.681 280.46 Z\" fill=\"#000000\" fill-rule=\"evenodd\" fill-opacity=\"1\" /><path clip-path=\"url(#clip810)\" d=\"M 0 0 M64.8903 106.586 L72.5291 106.586 L72.5291 80.22 L64.219 81.8867 L64.219 77.6275 L72.4828 75.9608 L77.1587 75.9608 L77.1587 106.586 L84.7976 106.586 L84.7976 110.521 L64.8903 110.521 L64.8903 106.586 Z\" fill=\"#000000\" fill-rule=\"evenodd\" fill-opacity=\"1\" /><path clip-path=\"url(#clip810)\" d=\"M 0 0 M90.6772 106.586 L98.316 106.586 L98.316 80.22 L90.0059 81.8867 L90.0059 77.6275 L98.2697 75.9608 L102.946 75.9608 L102.946 106.586 L110.584 106.586 L110.584 110.521 L90.6772 110.521 L90.6772 106.586 Z\" fill=\"#000000\" fill-rule=\"evenodd\" fill-opacity=\"1\" /><path clip-path=\"url(#clip810)\" d=\"M 0 0 M125.654 79.0395 Q122.043 79.0395 120.214 82.6043 Q118.408 86.1459 118.408 93.2755 Q118.408 100.382 120.214 103.947 Q122.043 107.488 125.654 107.488 Q129.288 107.488 131.094 103.947 Q132.922 100.382 132.922 93.2755 Q132.922 86.1459 131.094 82.6043 Q129.288 79.0395 125.654 79.0395 M125.654 75.3358 Q131.464 75.3358 134.52 79.9423 Q137.598 84.5256 137.598 93.2755 Q137.598 102.002 134.52 106.609 Q131.464 111.192 125.654 111.192 Q119.844 111.192 116.765 106.609 Q113.709 102.002 113.709 93.2755 Q113.709 84.5256 116.765 79.9423 Q119.844 75.3358 125.654 75.3358 Z\" fill=\"#000000\" fill-rule=\"evenodd\" fill-opacity=\"1\" /><path clip-path=\"url(#clip810)\" d=\"M 0 0 M152.668 79.0395 Q149.056 79.0395 147.228 82.6043 Q145.422 86.1459 145.422 93.2755 Q145.422 100.382 147.228 103.947 Q149.056 107.488 152.668 107.488 Q156.302 107.488 158.107 103.947 Q159.936 100.382 159.936 93.2755 Q159.936 86.1459 158.107 82.6043 Q156.302 79.0395 152.668 79.0395 M152.668 75.3358 Q158.478 75.3358 161.533 79.9423 Q164.612 84.5256 164.612 93.2755 Q164.612 102.002 161.533 106.609 Q158.478 111.192 152.668 111.192 Q146.857 111.192 143.779 106.609 Q140.723 102.002 140.723 93.2755 Q140.723 84.5256 143.779 79.9423 Q146.857 75.3358 152.668 75.3358 Z\" fill=\"#000000\" fill-rule=\"evenodd\" fill-opacity=\"1\" /><path clip-path=\"url(#clip810)\" d=\"M 0 0 M179.681 79.0395 Q176.07 79.0395 174.242 82.6043 Q172.436 86.1459 172.436 93.2755 Q172.436 100.382 174.242 103.947 Q176.07 107.488 179.681 107.488 Q183.316 107.488 185.121 103.947 Q186.95 100.382 186.95 93.2755 Q186.95 86.1459 185.121 82.6043 Q183.316 79.0395 179.681 79.0395 M179.681 75.3358 Q185.491 75.3358 188.547 79.9423 Q191.626 84.5256 191.626 93.2755 Q191.626 102.002 188.547 106.609 Q185.491 111.192 179.681 111.192 Q173.871 111.192 170.792 106.609 Q167.737 102.002 167.737 93.2755 Q167.737 84.5256 170.792 79.9423 Q173.871 75.3358 179.681 75.3358 Z\" fill=\"#000000\" fill-rule=\"evenodd\" fill-opacity=\"1\" /><path clip-path=\"url(#clip810)\" d=\"M 0 0 M1283.25 1510.27 L1283.25 1520.4 L1295.31 1520.4 L1295.31 1524.95 L1283.25 1524.95 L1283.25 1544.3 Q1283.25 1548.66 1284.43 1549.9 Q1285.64 1551.14 1289.3 1551.14 L1295.31 1551.14 L1295.31 1556.04 L1289.3 1556.04 Q1282.52 1556.04 1279.94 1553.53 Q1277.36 1550.98 1277.36 1544.3 L1277.36 1524.95 L1273.07 1524.95 L1273.07 1520.4 L1277.36 1520.4 L1277.36 1510.27 L1283.25 1510.27 Z\" fill=\"#000000\" fill-rule=\"evenodd\" fill-opacity=\"1\" /><polyline clip-path=\"url(#clip812)\" style=\"stroke:#009af9; stroke-width:4; stroke-opacity:1; fill:none\" points=\"\n",
       "  276.111,1384.24 376.919,1290.91 477.727,1202.23 578.535,1117.46 679.343,1035.86 780.151,957.019 880.959,880.732 981.767,806.92 1082.57,735.578 1183.38,666.747 \n",
       "  1284.19,600.487 1385,536.862 1485.81,475.927 1586.61,417.724 1687.42,362.276 1788.23,309.583 1889.04,259.627 1989.85,212.371 2090.66,167.76 2191.46,125.725 \n",
       "  2292.27,86.1857 \n",
       "  \"/>\n",
       "<path clip-path=\"url(#clip810)\" d=\"\n",
       "M1857.72 251.724 L2280.76 251.724 L2280.76 130.764 L1857.72 130.764  Z\n",
       "  \" fill=\"#ffffff\" fill-rule=\"evenodd\" fill-opacity=\"1\"/>\n",
       "<polyline clip-path=\"url(#clip810)\" style=\"stroke:#000000; stroke-width:4; stroke-opacity:1; fill:none\" points=\"\n",
       "  1857.72,251.724 2280.76,251.724 2280.76,130.764 1857.72,130.764 1857.72,251.724 \n",
       "  \"/>\n",
       "<polyline clip-path=\"url(#clip810)\" style=\"stroke:#009af9; stroke-width:4; stroke-opacity:1; fill:none\" points=\"\n",
       "  1881.72,191.244 2025.72,191.244 \n",
       "  \"/>\n",
       "<path clip-path=\"url(#clip810)\" d=\"M 0 0 M2049.72 172.506 L2059.54 172.506 L2059.54 175.816 L2053.98 175.816 L2053.98 211.464 L2059.54 211.464 L2059.54 214.774 L2049.72 214.774 L2049.72 172.506 Z\" fill=\"#000000\" fill-rule=\"evenodd\" fill-opacity=\"1\" /><path clip-path=\"url(#clip810)\" d=\"M 0 0 M2068.03 173.964 L2068.03 186.811 L2064.1 186.811 L2064.1 173.964 L2068.03 173.964 M2076.78 173.964 L2076.78 186.811 L2072.85 186.811 L2072.85 173.964 L2076.78 173.964 Z\" fill=\"#000000\" fill-rule=\"evenodd\" fill-opacity=\"1\" /><path clip-path=\"url(#clip810)\" d=\"M 0 0 M2081.44 173.964 L2103.29 173.964 L2103.29 177.899 L2086.11 177.899 L2086.11 188.131 L2102.57 188.131 L2102.57 192.066 L2086.11 192.066 L2086.11 204.589 L2103.71 204.589 L2103.71 208.524 L2081.44 208.524 L2081.44 173.964 Z\" fill=\"#000000\" fill-rule=\"evenodd\" fill-opacity=\"1\" /><path clip-path=\"url(#clip810)\" d=\"M 0 0 M2127.87 216.394 L2127.87 219.705 L2103.24 219.705 L2103.24 216.394 L2127.87 216.394 Z\" fill=\"#000000\" fill-rule=\"evenodd\" fill-opacity=\"1\" /><path clip-path=\"url(#clip810)\" d=\"M 0 0 M2136.55 175.237 L2136.55 182.598 L2145.33 182.598 L2145.33 185.908 L2136.55 185.908 L2136.55 199.982 Q2136.55 203.154 2137.41 204.057 Q2138.29 204.959 2140.95 204.959 L2145.33 204.959 L2145.33 208.524 L2140.95 208.524 Q2136.02 208.524 2134.15 206.695 Q2132.27 204.844 2132.27 199.982 L2132.27 185.908 L2129.15 185.908 L2129.15 182.598 L2132.27 182.598 L2132.27 175.237 L2136.55 175.237 Z\" fill=\"#000000\" fill-rule=\"evenodd\" fill-opacity=\"1\" /><path clip-path=\"url(#clip810)\" d=\"M 0 0 M2160.02 172.552 Q2156.92 177.876 2155.42 183.084 Q2153.91 188.293 2153.91 193.64 Q2153.91 198.987 2155.42 204.242 Q2156.95 209.473 2160.02 214.774 L2156.32 214.774 Q2152.85 209.334 2151.11 204.08 Q2149.4 198.825 2149.4 193.64 Q2149.4 188.478 2151.11 183.246 Q2152.83 178.015 2156.32 172.552 L2160.02 172.552 Z\" fill=\"#000000\" fill-rule=\"evenodd\" fill-opacity=\"1\" /><path clip-path=\"url(#clip810)\" d=\"M 0 0 M2161.44 182.598 L2165.95 182.598 L2174.05 204.357 L2182.15 182.598 L2186.67 182.598 L2176.95 208.524 L2171.16 208.524 L2161.44 182.598 Z\" fill=\"#000000\" fill-rule=\"evenodd\" fill-opacity=\"1\" /><path clip-path=\"url(#clip810)\" d=\"M 0 0 M2190.46 172.552 L2194.17 172.552 Q2197.64 178.015 2199.35 183.246 Q2201.09 188.478 2201.09 193.64 Q2201.09 198.825 2199.35 204.08 Q2197.64 209.334 2194.17 214.774 L2190.46 214.774 Q2193.54 209.473 2195.05 204.242 Q2196.58 198.987 2196.58 193.64 Q2196.58 188.293 2195.05 183.084 Q2193.54 177.876 2190.46 172.552 Z\" fill=\"#000000\" fill-rule=\"evenodd\" fill-opacity=\"1\" /><path clip-path=\"url(#clip810)\" d=\"M 0 0 M2209.58 173.964 L2209.58 186.811 L2205.65 186.811 L2205.65 173.964 L2209.58 173.964 M2218.33 173.964 L2218.33 186.811 L2214.4 186.811 L2214.4 173.964 L2218.33 173.964 Z\" fill=\"#000000\" fill-rule=\"evenodd\" fill-opacity=\"1\" /><path clip-path=\"url(#clip810)\" d=\"M 0 0 M2232.76 172.506 L2232.76 214.774 L2222.94 214.774 L2222.94 211.464 L2228.47 211.464 L2228.47 175.816 L2222.94 175.816 L2222.94 172.506 L2232.76 172.506 Z\" fill=\"#000000\" fill-rule=\"evenodd\" fill-opacity=\"1\" /></svg>\n"
      ]
     },
     "execution_count": 66,
     "metadata": {},
     "output_type": "execute_result"
    }
   ],
   "source": [
    "using OrdinaryDiffEq, DiffEqOperators\n",
    "\n",
    "function solve_transition_dynamics(p, t)\n",
    "    @unpack N, M = p\n",
    "\n",
    "    ψ_0 = [1.0; fill(0.0, N^M - 1)]\n",
    "    O! = MatrixFreeOperator((dψ, ψ, p, t) -> Q_T_mul!(dψ, ψ, p), (p, 0.0), size=(N^M,N^M), opnorm=(p)->1.25)\n",
    "\n",
    "    # define the corresponding ODE problem\n",
    "    prob = ODEProblem(O!,ψ_0,(0.0,t[end]), p)\n",
    "    return solve(prob, LinearExponential(krylov=:simple), tstops = t)\n",
    "end\n",
    "t = 0.0:5.0:100.0\n",
    "p = default_params(N=10, M=6)\n",
    "sol = solve_transition_dynamics(p, t)\n",
    "v = solve_bellman(p)\n",
    "plot(t, [dot(sol(tval), v) for tval in t], xlabel = \"t\", label = [\"E_t(v)\"])"
   ]
  },
  {
   "cell_type": "markdown",
   "metadata": {},
   "source": [
    "The above plot (1) calculates the full dynamics of the Markov chain from the $ n_m = 1 $ for all $ m $ initial condition; (2) solves the dynamics of a system of one-million ODEs; and; (3) uses the calculation of the Bellman equation to find the expected valuation during that transition.  The entire process takes less than 30 seconds."
   ]
  }
 ],
 "metadata": {
  "date": 1589950451.1361196,
  "download_nb": 1,
  "download_nb_path": "https://julia.quantecon.org/",
  "filename": "iterative_methods_sparsity.rst",
  "filename_with_path": "tools_and_techniques/iterative_methods_sparsity",
  "kernelspec": {
   "display_name": "Julia 1.4.1",
   "language": "julia",
   "name": "julia-1.4"
  },
  "language_info": {
   "file_extension": ".jl",
   "mimetype": "application/julia",
   "name": "julia",
   "version": "1.4.1"
  },
  "title": "Krylov Methods and Matrix Conditioning"
 },
 "nbformat": 4,
 "nbformat_minor": 2
}
