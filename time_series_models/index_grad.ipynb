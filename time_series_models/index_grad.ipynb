{
 "cells": [
  {
   "cell_type": "markdown",
   "metadata": {},
   "source": [
    "<div id=\"qe-notebook-header\" style=\"text-align:right;\">\n",
    "        <a href=\"https://quantecon.org/\" title=\"quantecon.org\">\n",
    "                <img style=\"width:250px;display:inline;\" src=\"https://assets.quantecon.org/img/qe-menubar-logo.svg\" alt=\"QuantEcon\">\n",
    "        </a>\n",
    "</div>"
   ]
  },
  {
   "cell_type": "markdown",
   "metadata": {},
   "source": [
    "# Time Series Models\n",
    "\n",
    "These lectures look at important concepts in time series that are used in economics."
   ]
  },
  {
   "cell_type": "markdown",
   "metadata": {},
   "source": [
    "## Colab Instructions\n",
    "\n",
    "Colab does not have direct Julia support, and it must be installed each time you are working on a notebook.  \n",
    "\n",
    "Instructions:\n",
    "\n",
    "1. Ignore any errors about a missing kernel when loading the notebook.  Choose `Run Anyway` when it prompts that the notebook wasn't authored by google.\n",
    "\n",
    "2. Run the cell below this with `Shift+Enter`.\n",
    "    -  It will **5 to 8 minutes** the first time you run it for Julia and key packages to install\n",
    "\n",
    "3. Refresh your browser, and then execute any code as normal.\n",
    "  - Even after installation, there will be more precompiling latency for some packages. "
   ]
  },
  {
   "cell_type": "code",
   "execution_count": null,
   "metadata": {},
   "outputs": [],
   "source": [
    "%%shell\n",
    "if ! command -v julia 3>&1 > /dev/null\n",
    "then\n",
    "    wget 'https://julialang-s3.julialang.org/bin/linux/x64/1.4/julia-1.4.1-linux-x86_64.tar.gz' \\\n",
    "        -O /tmp/julia.tar.gz\n",
    "    tar -x -f /tmp/julia.tar.gz -C /usr/local --strip-components 1\n",
    "    rm /tmp/julia.tar.gz\n",
    "    julia -e 'using Pkg; pkg\"add IJulia InstantiateFromURL; precompile;\"'\n",
    "    julia -e 'using InstantiateFromURL; github_project(\"QuantEcon/quantecon-notebooks-julia\", version = \"0.7.0\", instantiate = true, precompile = false); using Plots, Distributions, Parameters, NLsolve, ForwardDiff, Expectations'\n",
    "    echo 'Done'\n",
    "fi\n"
   ]
  },
  {
   "cell_type": "markdown",
   "metadata": {},
   "source": [
    "## Lectures\n",
    "\n",
    "- [Covariance Stationary Processes](arma.html)\n",
    "  - [Overview](arma.html#overview)\n",
    "  - [Introduction](arma.html#introduction)\n",
    "  - [Spectral Analysis](arma.html#id12)\n",
    "  - [Implementation](arma.html#implementation)\n",
    "- [Estimation of Spectra](estspec.html)\n",
    "  - [Overview](estspec.html#overview)\n",
    "  - [Periodograms](estspec.html#periodograms)\n",
    "  - [Smoothing](estspec.html#smoothing)\n",
    "  - [Exercises](estspec.html#exercises)\n",
    "  - [Solutions](estspec.html#solutions)\n",
    "- [Additive Functionals](additive_functionals.html)\n",
    "  - [Overview](additive_functionals.html#overview)\n",
    "  - [A Particular Additive Functional](additive_functionals.html#a-particular-additive-functional)\n",
    "  - [Dynamics](additive_functionals.html#dynamics)\n",
    "  - [Code](additive_functionals.html#code)\n",
    "- [Multiplicative Functionals](multiplicative_functionals.html)\n",
    "  - [Overview](multiplicative_functionals.html#overview)\n",
    "  - [A Log-Likelihood Process](multiplicative_functionals.html#a-log-likelihood-process)\n",
    "  - [Benefits from Reduced Aggregate Fluctuations](multiplicative_functionals.html#benefits-from-reduced-aggregate-fluctuations)\n",
    "- [Classical Control with Linear Algebra](lu_tricks.html)\n",
    "  - [Overview](lu_tricks.html#overview)\n",
    "  - [A Control Problem](lu_tricks.html#a-control-problem)\n",
    "  - [Finite Horizon Theory](lu_tricks.html#finite-horizon-theory)\n",
    "  - [The Infinite Horizon Limit](lu_tricks.html#the-infinite-horizon-limit)\n",
    "  - [Undiscounted Problems](lu_tricks.html#undiscounted-problems)\n",
    "  - [Implementation](lu_tricks.html#implementation)\n",
    "  - [Exercises](lu_tricks.html#exercises)\n",
    "- [Classical Filtering With Linear Algebra](classical_filtering.html)\n",
    "  - [Overview](classical_filtering.html#overview)\n",
    "  - [Infinite Horizon Prediction and Filtering Problems](classical_filtering.html#infinite-horizon-prediction-and-filtering-problems)\n",
    "  - [Finite Dimensional Prediction](classical_filtering.html#finite-dimensional-prediction)\n",
    "  - [Combined Finite Dimensional Control and Prediction](classical_filtering.html#combined-finite-dimensional-control-and-prediction)\n",
    "  - [Exercises](classical_filtering.html#exercises)"
   ]
  }
 ],
 "metadata": {
  "date": 1589950449.860991,
  "download_nb": 1,
  "download_nb_path": "https://julia.quantecon.org/",
  "filename": "index_grad.rst",
  "filename_with_path": "time_series_models/index_grad",
  "kernelspec": {
   "display_name": "Julia 1.4.1",
   "language": "julia",
   "name": "julia-1.4"
  },
  "language_info": {
   "file_extension": ".jl",
   "mimetype": "application/julia",
   "name": "julia",
   "version": "1.4.1"
  },
  "title": "Time Series Models"
 },
 "nbformat": 4,
 "nbformat_minor": 2
}
