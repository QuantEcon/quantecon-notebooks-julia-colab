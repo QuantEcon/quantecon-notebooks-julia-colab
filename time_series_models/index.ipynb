{
 "cells": [
  {
   "cell_type": "markdown",
   "metadata": {},
   "source": [
    "<div id=\"qe-notebook-header\" style=\"text-align:right;\">\n",
    "        <a href=\"https://quantecon.org/\" title=\"quantecon.org\">\n",
    "                <img style=\"width:250px;display:inline;\" src=\"https://assets.quantecon.org/img/qe-menubar-logo.svg\" alt=\"QuantEcon\">\n",
    "        </a>\n",
    "</div>"
   ]
  },
  {
   "cell_type": "markdown",
   "metadata": {},
   "source": [
    "# Time Series Models\n",
    "\n",
    "These lectures look at important concepts in time series that are used in economics."
   ]
  },
  {
   "cell_type": "markdown",
   "metadata": {},
   "source": [
    "## Lectures\n",
    "\n",
    "- [Covariance Stationary Processes](arma.html)\n",
    "  - [Overview](arma.html#overview)\n",
    "  - [Introduction](arma.html#introduction)\n",
    "  - [Spectral Analysis](arma.html#id12)\n",
    "  - [Implementation](arma.html#implementation)\n",
    "- [Estimation of Spectra](estspec.html)\n",
    "  - [Overview](estspec.html#overview)\n",
    "  - [Periodograms](estspec.html#periodograms)\n",
    "  - [Smoothing](estspec.html#smoothing)\n",
    "  - [Exercises](estspec.html#exercises)\n",
    "  - [Solutions](estspec.html#solutions)\n",
    "- [Additive Functionals](additive_functionals.html)\n",
    "  - [Overview](additive_functionals.html#overview)\n",
    "  - [A Particular Additive Functional](additive_functionals.html#a-particular-additive-functional)\n",
    "  - [Dynamics](additive_functionals.html#dynamics)\n",
    "  - [Code](additive_functionals.html#code)\n",
    "- [Multiplicative Functionals](multiplicative_functionals.html)\n",
    "  - [Overview](multiplicative_functionals.html#overview)\n",
    "  - [A Log-Likelihood Process](multiplicative_functionals.html#a-log-likelihood-process)\n",
    "  - [Benefits from Reduced Aggregate Fluctuations](multiplicative_functionals.html#benefits-from-reduced-aggregate-fluctuations)\n",
    "- [Classical Control with Linear Algebra](lu_tricks.html)\n",
    "  - [Overview](lu_tricks.html#overview)\n",
    "  - [A Control Problem](lu_tricks.html#a-control-problem)\n",
    "  - [Finite Horizon Theory](lu_tricks.html#finite-horizon-theory)\n",
    "  - [The Infinite Horizon Limit](lu_tricks.html#the-infinite-horizon-limit)\n",
    "  - [Undiscounted Problems](lu_tricks.html#undiscounted-problems)\n",
    "  - [Implementation](lu_tricks.html#implementation)\n",
    "  - [Exercises](lu_tricks.html#exercises)\n",
    "- [Classical Filtering With Linear Algebra](classical_filtering.html)\n",
    "  - [Overview](classical_filtering.html#overview)\n",
    "  - [Infinite Horizon Prediction and Filtering Problems](classical_filtering.html#infinite-horizon-prediction-and-filtering-problems)\n",
    "  - [Finite Dimensional Prediction](classical_filtering.html#finite-dimensional-prediction)\n",
    "  - [Combined Finite Dimensional Control and Prediction](classical_filtering.html#combined-finite-dimensional-control-and-prediction)\n",
    "  - [Exercises](classical_filtering.html#exercises)"
   ]
  }
 ],
 "metadata": {
  "date": 1589950449.8332407,
  "download_nb": 1,
  "download_nb_path": "https://julia.quantecon.org/",
  "filename": "index.rst",
  "filename_with_path": "time_series_models/index",
  "kernelspec": {
   "display_name": "Julia 1.4.1",
   "language": "julia",
   "name": "julia-1.4"
  },
  "language_info": {
   "file_extension": ".jl",
   "mimetype": "application/julia",
   "name": "julia",
   "version": "1.4.1"
  },
  "title": "Time Series Models"
 },
 "nbformat": 4,
 "nbformat_minor": 2
}
