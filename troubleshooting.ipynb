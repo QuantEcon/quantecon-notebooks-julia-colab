{
 "cells": [
  {
   "cell_type": "markdown",
   "metadata": {},
   "source": [
    "\n",
    "<a id='troubleshooting'></a>\n",
    "<div id=\"qe-notebook-header\" style=\"text-align:right;\">\n",
    "        <a href=\"https://quantecon.org/\" title=\"quantecon.org\">\n",
    "                <img style=\"width:250px;display:inline;\" src=\"https://assets.quantecon.org/img/qe-menubar-logo.svg\" alt=\"QuantEcon\">\n",
    "        </a>\n",
    "</div>"
   ]
  },
  {
   "cell_type": "markdown",
   "metadata": {},
   "source": [
    "# Troubleshooting"
   ]
  },
  {
   "cell_type": "markdown",
   "metadata": {},
   "source": [
    "## Contents\n",
    "\n",
    "- [Troubleshooting](#Troubleshooting)  \n",
    "  - [Fixing Your Local Environment](#Fixing-Your-Local-Environment)  \n",
    "  - [Upgrading Julia](#Upgrading-Julia)  \n",
    "  - [Fixing Atom](#Fixing-Atom)  \n",
    "  - [Resetting a JupyterHub Lecture Set](#Resetting-a-JupyterHub-Lecture-Set)  \n",
    "  - [Reporting an Issue](#Reporting-an-Issue)  "
   ]
  },
  {
   "cell_type": "markdown",
   "metadata": {},
   "source": [
    "This troubleshooting page is to help ensure you software environment is setup correctly\n",
    "to run this lecture set locally on your machine."
   ]
  },
  {
   "cell_type": "markdown",
   "metadata": {},
   "source": [
    "## Fixing Your Local Environment\n",
    "\n",
    "To set up a standard desktop environment, you can run the instructions in our [local setup lecture](https://julia.quantecon.org/getting_started_julia/getting_started.html#Desktop-Installation-of-Julia-and-Jupyter).\n",
    "\n",
    "If you already have, make sure to try deleting your `.julia` directory (the “user depot,” where packages are stored) and re-running the lectures (after running `] add InstantiateFromURL`!).\n",
    "\n",
    "You can find this directory by running `DEPOT_PATH[1]` in a Julia REPL."
   ]
  },
  {
   "cell_type": "markdown",
   "metadata": {},
   "source": [
    "## Upgrading Julia\n",
    "\n",
    "See the [lecture section](more_julia/tools_editors.html#upgrading-julia) on getting Atom and Jupyter working with a new version."
   ]
  },
  {
   "cell_type": "markdown",
   "metadata": {},
   "source": [
    "## Fixing Atom\n",
    "\n",
    "See the [lecture section](more_julia/tools_editors.html#atom-troubleshooting) on troubleshooting Atom."
   ]
  },
  {
   "cell_type": "markdown",
   "metadata": {},
   "source": [
    "## Resetting a JupyterHub Lecture Set\n",
    "\n",
    "The lectures are delivered to JupyterHubs using `nbgitpuller`.\n",
    "\n",
    "To reset a single notebook, simply delete it and click the relevant link again.\n",
    "\n",
    "To reset your whole lecture set, run `rm -rf quantecon-notebooks-julia` in the Terminal (after `cd`-ing to where they’re downloaded, which is usually the root) and click any lecture’s link again."
   ]
  },
  {
   "cell_type": "markdown",
   "metadata": {},
   "source": [
    "## Reporting an Issue\n",
    "\n",
    "One way to give feedback is to raise an issue through our [issue tracker](https://github.com/QuantEcon/lecture-source-py/issues).\n",
    "\n",
    "Please be as specific as possible.  Tell us where the problem is and as much\n",
    "detail about your local set up as you can provide.\n",
    "\n",
    "Another feedback option is to use our [discourse forum](https://discourse.quantecon.org/).\n",
    "\n",
    "Finally, you can provide direct feedback to [contact@quantecon.org](mailto:contact@quantecon.org)"
   ]
  }
 ],
 "metadata": {
  "date": 1591310629.8242235,
  "download_nb": 1,
  "download_nb_path": "https://julia.quantecon.org/",
  "filename": "troubleshooting.rst",
  "filename_with_path": "troubleshooting",
  "kernelspec": {
   "display_name": "Julia 1.4.2",
   "language": "julia",
   "name": "julia-1.4"
  },
  "language_info": {
   "file_extension": ".jl",
   "mimetype": "application/julia",
   "name": "julia",
   "version": "1.4.2"
  },
  "title": "Troubleshooting"
 },
 "nbformat": 4,
 "nbformat_minor": 2
}
