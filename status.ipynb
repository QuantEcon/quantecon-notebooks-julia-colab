{
 "cells": [
  {
   "cell_type": "markdown",
   "metadata": {},
   "source": [
    "\n",
    "<a id='status'></a>"
   ]
  },
  {
   "cell_type": "markdown",
   "metadata": {},
   "source": [
    "# Lecture Status\n",
    "\n",
    "<style type=\"text/css\">.lecture-options{display:none;}</style>\n",
    "<p>The badges below show which lectures are currently passing their execution test (i.e., executing without errors).</p>\n",
    "<p>The lecture code checker was last run: <strong id=\"last_test_time\">N/A</strong></p>\n",
    "<div class=\"status-table-container\">\n",
    "    <table id=\"status_table\" class=\"status-table\"></table>\n",
    "</div>\n",
    "<p>The code checker is run on a <code class=\"docutils literal notranslate\"><span class=\"pre\">t2.small</span></code> Amazon EC2 instance. This is an instance with a single CPU and 2 GiB of Memory.</p>\n",
    "<p>You should achieve faster run times on many common laptops and desktops.</p>"
   ]
  }
 ],
 "metadata": {
  "date": 1590087465.1625068,
  "download_nb": 1,
  "download_nb_path": "https://julia.quantecon.org/",
  "filename": "status.rst",
  "filename_with_path": "status",
  "kernelspec": {
   "display_name": "Julia 1.4.1",
   "language": "julia",
   "name": "julia-1.4"
  },
  "language_info": {
   "file_extension": ".jl",
   "mimetype": "application/julia",
   "name": "julia",
   "version": "1.4.1"
  },
  "title": "Lecture Status"
 },
 "nbformat": 4,
 "nbformat_minor": 2
}
